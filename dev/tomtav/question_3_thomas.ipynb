{
 "nbformat": 4,
 "nbformat_minor": 2,
 "metadata": {
  "language_info": {
   "name": "python",
   "codemirror_mode": {
    "name": "ipython",
    "version": 3
   },
   "version": "3.7.6-final"
  },
  "orig_nbformat": 2,
  "file_extension": ".py",
  "mimetype": "text/x-python",
  "name": "python",
  "npconvert_exporter": "python",
  "pygments_lexer": "ipython3",
  "version": 3,
  "kernelspec": {
   "name": "python3",
   "display_name": "Python 3"
  }
 },
 "cells": [
  {
   "cell_type": "markdown",
   "metadata": {},
   "source": [
    "### Question 3:\n",
    "Program types and hours correlated with performance/scores.\n",
    "\n",
    "Author: Thomas\n",
    "\n",
    "Updates:\n",
    "* Last updated on March 24, 2020\n",
    "* Updated on March 23, 2020\n",
    "* Updated on March 21, 2020\n"
   ],
   "execution_count": null,
   "outputs": []
  },
  {
   "cell_type": "code",
   "execution_count": 1,
   "metadata": {},
   "outputs": [],
   "source": [
    "# import dependencies\n",
    "import os\n",
    "import pandas as pd\n",
    "import numpy as np\n",
    "import json"
   ]
  },
  {
   "cell_type": "code",
   "execution_count": 2,
   "metadata": {},
   "outputs": [],
   "source": [
    "# CSV Files\n",
    "math_results = 'data/2013-2019_school_math_results.csv'\n",
    "ela_results = 'data/2013-2019_school_ela_results.csv'\n",
    "arts_2017 = 'data/2016-2017_Arts_Survey_Data.csv'\n",
    "arts_2018 = 'data/2017-2018_Arts_Survey_Data.csv'\n",
    "arts_2019 = 'data/2018-2019_Arts_Survey_Data.csv'"
   ]
  },
  {
   "cell_type": "code",
   "execution_count": 3,
   "metadata": {},
   "outputs": [
    {
     "output_type": "stream",
     "name": "stdout",
     "text": "Math Results Rows: (32606, 18)\n['Unnamed: 0', 'DBN', 'School Name', 'Grade', 'Year', 'Category', 'Number Tested', 'Mean Scale Score', '# Level 1', '% Level 1', '# Level 2', '% Level 2', '# Level 3', '% Level 3', '# Level 4', '% Level 4', '# Level 3+4', '% Level 3+4']\n\n[2013 2014 2015 2016 2017 2018 2019]\n"
    }
   ],
   "source": [
    "math_df = pd.read_csv(math_results, encoding='utf-8', low_memory=False)\n",
    "math_df.head()\n",
    "print(f'Math Results Rows: {math_df.shape}')\n",
    "print(list(math_df.columns))\n",
    "print()\n",
    "print(math_df['Year'].unique())"
   ]
  },
  {
   "cell_type": "code",
   "execution_count": 4,
   "metadata": {},
   "outputs": [],
   "source": [
    "# drop unneeded columns\n",
    "math_df = math_df.drop(labels='Unnamed: 0', axis=1)"
   ]
  },
  {
   "cell_type": "code",
   "execution_count": 5,
   "metadata": {},
   "outputs": [
    {
     "output_type": "execute_result",
     "data": {
      "text/plain": "      DBN                School Name Grade  Year      Category  Number Tested  \\\n0  01M015  P.S. 015 ROBERTO CLEMENTE     3  2013  All Students             27   \n\n  Mean Scale Score # Level 1    % Level 1 # Level 2    % Level 2 # Level 3  \\\n0       277.777771        16  59.25925827        11  40.74074173         0   \n\n  % Level 3 # Level 4 % Level 4 # Level 3+4 % Level 3+4  \n0         0         0         0           0           0  ",
      "text/html": "<div>\n<style scoped>\n    .dataframe tbody tr th:only-of-type {\n        vertical-align: middle;\n    }\n\n    .dataframe tbody tr th {\n        vertical-align: top;\n    }\n\n    .dataframe thead th {\n        text-align: right;\n    }\n</style>\n<table border=\"1\" class=\"dataframe\">\n  <thead>\n    <tr style=\"text-align: right;\">\n      <th></th>\n      <th>DBN</th>\n      <th>School Name</th>\n      <th>Grade</th>\n      <th>Year</th>\n      <th>Category</th>\n      <th>Number Tested</th>\n      <th>Mean Scale Score</th>\n      <th># Level 1</th>\n      <th>% Level 1</th>\n      <th># Level 2</th>\n      <th>% Level 2</th>\n      <th># Level 3</th>\n      <th>% Level 3</th>\n      <th># Level 4</th>\n      <th>% Level 4</th>\n      <th># Level 3+4</th>\n      <th>% Level 3+4</th>\n    </tr>\n  </thead>\n  <tbody>\n    <tr>\n      <th>0</th>\n      <td>01M015</td>\n      <td>P.S. 015 ROBERTO CLEMENTE</td>\n      <td>3</td>\n      <td>2013</td>\n      <td>All Students</td>\n      <td>27</td>\n      <td>277.777771</td>\n      <td>16</td>\n      <td>59.25925827</td>\n      <td>11</td>\n      <td>40.74074173</td>\n      <td>0</td>\n      <td>0</td>\n      <td>0</td>\n      <td>0</td>\n      <td>0</td>\n      <td>0</td>\n    </tr>\n  </tbody>\n</table>\n</div>"
     },
     "metadata": {},
     "execution_count": 5
    }
   ],
   "source": [
    "math_df.head(1)"
   ]
  },
  {
   "cell_type": "code",
   "execution_count": 6,
   "metadata": {},
   "outputs": [
    {
     "output_type": "stream",
     "name": "stdout",
     "text": "ELA Results Rows: (32826, 18)\n['Unnamed: 0', 'DBN', 'School Name', 'Grade', 'Year', 'Category', 'Number Tested', 'Mean Scale Score', '# Level 1', '% Level 1', '# Level 2', '% Level 2', '# Level 3', '% Level 3', '# Level 4', '% Level 4', '# Level 3+4', '% Level 3+4']\n\n[2013 2014 2015 2016 2017 2018 2019]\n"
    }
   ],
   "source": [
    "ela_df = pd.read_csv(ela_results, encoding='utf-8', low_memory=False)\n",
    "ela_df.head()\n",
    "print(f'ELA Results Rows: {ela_df.shape}')\n",
    "print(list(ela_df.columns))\n",
    "print()\n",
    "print(ela_df['Year'].unique())"
   ]
  },
  {
   "cell_type": "code",
   "execution_count": 7,
   "metadata": {},
   "outputs": [],
   "source": [
    "# drop unneeded columns\n",
    "ela_df = ela_df.drop(labels='Unnamed: 0', axis=1)"
   ]
  },
  {
   "cell_type": "code",
   "execution_count": 8,
   "metadata": {},
   "outputs": [
    {
     "output_type": "execute_result",
     "data": {
      "text/plain": "      DBN                School Name Grade  Year      Category  Number Tested  \\\n0  01M015  P.S. 015 ROBERTO CLEMENTE     3  2013  All Students             27   \n\n  Mean Scale Score # Level 1    % Level 1 # Level 2    % Level 2 # Level 3  \\\n0      289.2962952        14  51.85185242        11  40.74074173         2   \n\n     % Level 3 # Level 4 % Level 4 # Level 3+4  % Level 3+4  \n0  7.407407284         0         0           2  7.407407284  ",
      "text/html": "<div>\n<style scoped>\n    .dataframe tbody tr th:only-of-type {\n        vertical-align: middle;\n    }\n\n    .dataframe tbody tr th {\n        vertical-align: top;\n    }\n\n    .dataframe thead th {\n        text-align: right;\n    }\n</style>\n<table border=\"1\" class=\"dataframe\">\n  <thead>\n    <tr style=\"text-align: right;\">\n      <th></th>\n      <th>DBN</th>\n      <th>School Name</th>\n      <th>Grade</th>\n      <th>Year</th>\n      <th>Category</th>\n      <th>Number Tested</th>\n      <th>Mean Scale Score</th>\n      <th># Level 1</th>\n      <th>% Level 1</th>\n      <th># Level 2</th>\n      <th>% Level 2</th>\n      <th># Level 3</th>\n      <th>% Level 3</th>\n      <th># Level 4</th>\n      <th>% Level 4</th>\n      <th># Level 3+4</th>\n      <th>% Level 3+4</th>\n    </tr>\n  </thead>\n  <tbody>\n    <tr>\n      <th>0</th>\n      <td>01M015</td>\n      <td>P.S. 015 ROBERTO CLEMENTE</td>\n      <td>3</td>\n      <td>2013</td>\n      <td>All Students</td>\n      <td>27</td>\n      <td>289.2962952</td>\n      <td>14</td>\n      <td>51.85185242</td>\n      <td>11</td>\n      <td>40.74074173</td>\n      <td>2</td>\n      <td>7.407407284</td>\n      <td>0</td>\n      <td>0</td>\n      <td>2</td>\n      <td>7.407407284</td>\n    </tr>\n  </tbody>\n</table>\n</div>"
     },
     "metadata": {},
     "execution_count": 8
    }
   ],
   "source": [
    "ela_df.head(1)"
   ]
  },
  {
   "cell_type": "code",
   "execution_count": 9,
   "metadata": {},
   "outputs": [],
   "source": [
    "# create dictionary of all dataframes for each year's art survey \n",
    "arts_dfs = {\n",
    "    '2017': pd.read_csv(arts_2017, encoding='utf-8', low_memory=False),\n",
    "    '2018': pd.read_csv(arts_2018, encoding='utf-8', low_memory=False),\n",
    "    '2019': pd.read_csv(arts_2019, encoding='utf-8', low_memory=False)\n",
    "}"
   ]
  },
  {
   "cell_type": "code",
   "execution_count": 10,
   "metadata": {},
   "outputs": [],
   "source": [
    "# clean up arts data\n",
    "for (year, df) in arts_dfs.items():\n",
    "    # rename DBN column to match the test scores data\n",
    "    df = df.rename(columns={ 'Q0_DBN': 'DBN' })\n",
    "    # add missing data - `Year`\n",
    "    df['Year'] = int(year)\n",
    "    # store updated dataframe\n",
    "    arts_dfs[year] = df\n"
   ]
  },
  {
   "cell_type": "code",
   "execution_count": 13,
   "metadata": {},
   "outputs": [
    {
     "output_type": "execute_result",
     "data": {
      "text/plain": "      DBN  Year  Dance  Music  Theater  Visual Arts\n0  01M015  2017  162.0  252.0    145.0        120.0\n1  01M019  2017  682.0  222.0      0.0        190.0\n2  01M020  2017   24.0   24.0      4.0         25.0\n3  01M034  2017    0.0   20.0      2.0          6.0\n4  01M515  2017    0.0    0.0      0.0          0.0",
      "text/html": "<div>\n<style scoped>\n    .dataframe tbody tr th:only-of-type {\n        vertical-align: middle;\n    }\n\n    .dataframe tbody tr th {\n        vertical-align: top;\n    }\n\n    .dataframe thead th {\n        text-align: right;\n    }\n</style>\n<table border=\"1\" class=\"dataframe\">\n  <thead>\n    <tr style=\"text-align: right;\">\n      <th></th>\n      <th>DBN</th>\n      <th>Year</th>\n      <th>Dance</th>\n      <th>Music</th>\n      <th>Theater</th>\n      <th>Visual Arts</th>\n    </tr>\n  </thead>\n  <tbody>\n    <tr>\n      <th>0</th>\n      <td>01M015</td>\n      <td>2017</td>\n      <td>162.0</td>\n      <td>252.0</td>\n      <td>145.0</td>\n      <td>120.0</td>\n    </tr>\n    <tr>\n      <th>1</th>\n      <td>01M019</td>\n      <td>2017</td>\n      <td>682.0</td>\n      <td>222.0</td>\n      <td>0.0</td>\n      <td>190.0</td>\n    </tr>\n    <tr>\n      <th>2</th>\n      <td>01M020</td>\n      <td>2017</td>\n      <td>24.0</td>\n      <td>24.0</td>\n      <td>4.0</td>\n      <td>25.0</td>\n    </tr>\n    <tr>\n      <th>3</th>\n      <td>01M034</td>\n      <td>2017</td>\n      <td>0.0</td>\n      <td>20.0</td>\n      <td>2.0</td>\n      <td>6.0</td>\n    </tr>\n    <tr>\n      <th>4</th>\n      <td>01M515</td>\n      <td>2017</td>\n      <td>0.0</td>\n      <td>0.0</td>\n      <td>0.0</td>\n      <td>0.0</td>\n    </tr>\n  </tbody>\n</table>\n</div>"
     },
     "metadata": {},
     "execution_count": 13
    }
   ],
   "source": [
    "# calculate all hours by art type for each school\n",
    "df_columns = ['DBN','Year','Dance','Music','Theater','Visual Arts']\n",
    "hours_df = pd.DataFrame(columns=df_columns)\n",
    "\n",
    "for (year, df) in arts_dfs.items():\n",
    "\n",
    "    temp_df = pd.DataFrame(columns=df_columns)\n",
    "\n",
    "    grades = {\n",
    "        'Q12': 'GK',\n",
    "        'Q13': 'G1',\n",
    "        'Q14': 'G2',\n",
    "        'Q15': 'G3',\n",
    "        'Q16': 'G4',\n",
    "        'Q17': 'G5',\n",
    "        'Q19': 'G6'\n",
    "    }\n",
    "    types = {\n",
    "        'Dance': 'R1',\n",
    "        'Music': 'R2',\n",
    "        'Theater': 'R3',\n",
    "        'Visual Arts': 'R4'\n",
    "    }\n",
    "    cols = { \n",
    "        'Dance': ['DBN'],\n",
    "        'Music': ['DBN'],\n",
    "        'Theater': ['DBN'],\n",
    "        'Visual Arts': ['DBN']\n",
    "    }\n",
    "\n",
    "    for col in df.columns:\n",
    "        for (question, grade) in grades.items():\n",
    "            for (art, values) in cols.items(): \n",
    "                if (question in col) & (types[art] in col):\n",
    "                    cols[art].append(col)\n",
    "            \n",
    "    for (art,values) in cols.items():\n",
    "        temp_df[art] = df[values].fillna(0).sum(axis=1)\n",
    "    \n",
    "    temp_df[['DBN','Year']] = df[['DBN','Year']]\n",
    "\n",
    "    hours_df = pd.concat([hours_df, temp_df])\n",
    "\n",
    "hours_df.head()"
   ]
  },
  {
   "cell_type": "code",
   "execution_count": 15,
   "metadata": {},
   "outputs": [
    {
     "output_type": "execute_result",
     "data": {
      "text/plain": "(4513, 6)"
     },
     "metadata": {},
     "execution_count": 15
    }
   ],
   "source": [
    "hours_df.shape"
   ]
  },
  {
   "cell_type": "code",
   "execution_count": null,
   "metadata": {},
   "outputs": [],
   "source": []
  }
 ]
}