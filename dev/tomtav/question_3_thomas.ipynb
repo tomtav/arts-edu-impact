{
 "nbformat": 4,
 "nbformat_minor": 2,
 "metadata": {
  "language_info": {
   "name": "python",
   "codemirror_mode": {
    "name": "ipython",
    "version": 3
   },
   "version": "3.7.6-final"
  },
  "orig_nbformat": 2,
  "file_extension": ".py",
  "mimetype": "text/x-python",
  "name": "python",
  "npconvert_exporter": "python",
  "pygments_lexer": "ipython3",
  "version": 3,
  "kernelspec": {
   "name": "python3",
   "display_name": "Python 3"
  }
 },
 "cells": [
  {
   "cell_type": "markdown",
   "metadata": {},
   "source": [
    "### Question 3:\n",
    "Program types and hours correlated with performance/scores.\n",
    "\n",
    "Author: Thomas\n",
    "\n",
    "Updates:\n",
    "* Last updated on March 23, 2020\n",
    "* Updated on March 21, 2020\n"
   ],
   "execution_count": null,
   "outputs": []
  },
  {
   "cell_type": "code",
   "execution_count": 1,
   "metadata": {},
   "outputs": [],
   "source": [
    "# import dependencies\n",
    "import os\n",
    "import pandas as pd\n",
    "import numpy as np\n",
    "import json"
   ]
  },
  {
   "cell_type": "code",
   "execution_count": 2,
   "metadata": {},
   "outputs": [],
   "source": [
    "# CSV Files\n",
    "math_results = 'data/2013-2019_school_math_results.csv'\n",
    "ela_results = 'data/2013-2019_school_ela_results.csv'\n",
    "arts_2017 = 'data/2016-2017_Arts_Survey_Data.csv'\n",
    "arts_2018 = 'data/2017-2018_Arts_Survey_Data.csv'\n",
    "arts_2019 = 'data/2018-2019_Arts_Survey_Data.csv'"
   ]
  },
  {
   "cell_type": "code",
   "execution_count": 3,
   "metadata": {},
   "outputs": [
    {
     "output_type": "stream",
     "name": "stdout",
     "text": "Math Results Rows: (32606, 18)\n['Unnamed: 0', 'DBN', 'School Name', 'Grade', 'Year', 'Category', 'Number Tested', 'Mean Scale Score', '# Level 1', '% Level 1', '# Level 2', '% Level 2', '# Level 3', '% Level 3', '# Level 4', '% Level 4', '# Level 3+4', '% Level 3+4']\n\n[2013 2014 2015 2016 2017 2018 2019]\n"
    }
   ],
   "source": [
    "math_df = pd.read_csv(math_results, encoding='utf-8', low_memory=False)\n",
    "math_df.head()\n",
    "print(f'Math Results Rows: {math_df.shape}')\n",
    "print(list(math_df.columns))\n",
    "print()\n",
    "print(math_df['Year'].unique())"
   ]
  },
  {
   "cell_type": "code",
   "execution_count": 4,
   "metadata": {},
   "outputs": [],
   "source": [
    "# drop unneeded columns\n",
    "math_df = math_df.drop(labels='Unnamed: 0', axis=1)"
   ]
  },
  {
   "cell_type": "code",
   "execution_count": 5,
   "metadata": {},
   "outputs": [
    {
     "output_type": "execute_result",
     "data": {
      "text/plain": "      DBN                School Name Grade  Year      Category  Number Tested  \\\n0  01M015  P.S. 015 ROBERTO CLEMENTE     3  2013  All Students             27   \n\n  Mean Scale Score # Level 1    % Level 1 # Level 2    % Level 2 # Level 3  \\\n0       277.777771        16  59.25925827        11  40.74074173         0   \n\n  % Level 3 # Level 4 % Level 4 # Level 3+4 % Level 3+4  \n0         0         0         0           0           0  ",
      "text/html": "<div>\n<style scoped>\n    .dataframe tbody tr th:only-of-type {\n        vertical-align: middle;\n    }\n\n    .dataframe tbody tr th {\n        vertical-align: top;\n    }\n\n    .dataframe thead th {\n        text-align: right;\n    }\n</style>\n<table border=\"1\" class=\"dataframe\">\n  <thead>\n    <tr style=\"text-align: right;\">\n      <th></th>\n      <th>DBN</th>\n      <th>School Name</th>\n      <th>Grade</th>\n      <th>Year</th>\n      <th>Category</th>\n      <th>Number Tested</th>\n      <th>Mean Scale Score</th>\n      <th># Level 1</th>\n      <th>% Level 1</th>\n      <th># Level 2</th>\n      <th>% Level 2</th>\n      <th># Level 3</th>\n      <th>% Level 3</th>\n      <th># Level 4</th>\n      <th>% Level 4</th>\n      <th># Level 3+4</th>\n      <th>% Level 3+4</th>\n    </tr>\n  </thead>\n  <tbody>\n    <tr>\n      <th>0</th>\n      <td>01M015</td>\n      <td>P.S. 015 ROBERTO CLEMENTE</td>\n      <td>3</td>\n      <td>2013</td>\n      <td>All Students</td>\n      <td>27</td>\n      <td>277.777771</td>\n      <td>16</td>\n      <td>59.25925827</td>\n      <td>11</td>\n      <td>40.74074173</td>\n      <td>0</td>\n      <td>0</td>\n      <td>0</td>\n      <td>0</td>\n      <td>0</td>\n      <td>0</td>\n    </tr>\n  </tbody>\n</table>\n</div>"
     },
     "metadata": {},
     "execution_count": 5
    }
   ],
   "source": [
    "math_df.head(1)"
   ]
  },
  {
   "cell_type": "code",
   "execution_count": 6,
   "metadata": {},
   "outputs": [
    {
     "output_type": "stream",
     "name": "stdout",
     "text": "ELA Results Rows: (32826, 18)\n['Unnamed: 0', 'DBN', 'School Name', 'Grade', 'Year', 'Category', 'Number Tested', 'Mean Scale Score', '# Level 1', '% Level 1', '# Level 2', '% Level 2', '# Level 3', '% Level 3', '# Level 4', '% Level 4', '# Level 3+4', '% Level 3+4']\n\n[2013 2014 2015 2016 2017 2018 2019]\n"
    }
   ],
   "source": [
    "ela_df = pd.read_csv(ela_results, encoding='utf-8', low_memory=False)\n",
    "ela_df.head()\n",
    "print(f'ELA Results Rows: {ela_df.shape}')\n",
    "print(list(ela_df.columns))\n",
    "print()\n",
    "print(ela_df['Year'].unique())"
   ]
  },
  {
   "cell_type": "code",
   "execution_count": 7,
   "metadata": {},
   "outputs": [],
   "source": [
    "# drop unneeded columns\n",
    "ela_df = ela_df.drop(labels='Unnamed: 0', axis=1)"
   ]
  },
  {
   "cell_type": "code",
   "execution_count": 8,
   "metadata": {},
   "outputs": [
    {
     "output_type": "execute_result",
     "data": {
      "text/plain": "      DBN                School Name Grade  Year      Category  Number Tested  \\\n0  01M015  P.S. 015 ROBERTO CLEMENTE     3  2013  All Students             27   \n\n  Mean Scale Score # Level 1    % Level 1 # Level 2    % Level 2 # Level 3  \\\n0      289.2962952        14  51.85185242        11  40.74074173         2   \n\n     % Level 3 # Level 4 % Level 4 # Level 3+4  % Level 3+4  \n0  7.407407284         0         0           2  7.407407284  ",
      "text/html": "<div>\n<style scoped>\n    .dataframe tbody tr th:only-of-type {\n        vertical-align: middle;\n    }\n\n    .dataframe tbody tr th {\n        vertical-align: top;\n    }\n\n    .dataframe thead th {\n        text-align: right;\n    }\n</style>\n<table border=\"1\" class=\"dataframe\">\n  <thead>\n    <tr style=\"text-align: right;\">\n      <th></th>\n      <th>DBN</th>\n      <th>School Name</th>\n      <th>Grade</th>\n      <th>Year</th>\n      <th>Category</th>\n      <th>Number Tested</th>\n      <th>Mean Scale Score</th>\n      <th># Level 1</th>\n      <th>% Level 1</th>\n      <th># Level 2</th>\n      <th>% Level 2</th>\n      <th># Level 3</th>\n      <th>% Level 3</th>\n      <th># Level 4</th>\n      <th>% Level 4</th>\n      <th># Level 3+4</th>\n      <th>% Level 3+4</th>\n    </tr>\n  </thead>\n  <tbody>\n    <tr>\n      <th>0</th>\n      <td>01M015</td>\n      <td>P.S. 015 ROBERTO CLEMENTE</td>\n      <td>3</td>\n      <td>2013</td>\n      <td>All Students</td>\n      <td>27</td>\n      <td>289.2962952</td>\n      <td>14</td>\n      <td>51.85185242</td>\n      <td>11</td>\n      <td>40.74074173</td>\n      <td>2</td>\n      <td>7.407407284</td>\n      <td>0</td>\n      <td>0</td>\n      <td>2</td>\n      <td>7.407407284</td>\n    </tr>\n  </tbody>\n</table>\n</div>"
     },
     "metadata": {},
     "execution_count": 8
    }
   ],
   "source": [
    "ela_df.head(1)"
   ]
  },
  {
   "cell_type": "code",
   "execution_count": 9,
   "metadata": {},
   "outputs": [],
   "source": [
    "arts17_df = pd.read_csv(arts_2017, encoding='utf-8', low_memory=False)\n",
    "arts18_df = pd.read_csv(arts_2018, encoding='utf-8', low_memory=False)\n",
    "arts19_df = pd.read_csv(arts_2019, encoding='utf-8', low_memory=False)"
   ]
  },
  {
   "cell_type": "code",
   "execution_count": 10,
   "metadata": {},
   "outputs": [],
   "source": [
    "# Add missing column `Year` to survey files\n",
    "arts17_df['Year'] = 2017\n",
    "arts18_df['Year'] = 2018\n",
    "arts19_df['Year'] = 2019"
   ]
  },
  {
   "cell_type": "code",
   "execution_count": 11,
   "metadata": {},
   "outputs": [],
   "source": [
    "# rename the school DBN column to match in all dataframes\n",
    "updCol = { 'Q0_DBN': 'DBN' }\n",
    "arts17_df = arts17_df.rename(columns=updCol)\n",
    "arts18_df = arts18_df.rename(columns=updCol)\n",
    "arts19_df = arts19_df.rename(columns=updCol)"
   ]
  },
  {
   "cell_type": "code",
   "execution_count": 38,
   "metadata": {},
   "outputs": [
    {
     "output_type": "execute_result",
     "data": {
      "text/plain": "(1546, 1182)"
     },
     "metadata": {},
     "execution_count": 38
    }
   ],
   "source": [
    "#list(arts19_df.columns)\n",
    "#arts19_df['Q3'].head(5)\n",
    "arts19_df.shape"
   ]
  },
  {
   "cell_type": "code",
   "execution_count": null,
   "metadata": {},
   "outputs": [],
   "source": [
    "### 2018-2019 Arts Survey Questions\n",
    "\n",
    "### Arts Supervisors\n",
    "print({\n",
    "    'Q3_1': 'FT_Arts_Only',\n",
    "    'Q3_2': 'FT_Arts_Plus',\n",
    "    'Q3_3': 'PT_Arts_Plus',\n",
    "    'Q3_4': 'No_Supervisor',\n",
    "})\n",
    "#    'Q4': 'IsSuperArtsCert',\n",
    "print({\n",
    "    'Q4_1': 'Certified',\n",
    "    'Q4_2': 'NotCertified',\n",
    "})\n",
    "#    'Q5': 'IsSuperAdminCert'\n",
    "print({\n",
    "    'Q5_1': 'Certified',\n",
    "    'Q5_2': 'NotCertified',\n",
    "})\n",
    "\n",
    "### Number of Part-Time Certified Art Teachers\n",
    "print({ \n",
    "    'Q6_1': 'NumDanceTchr',\n",
    "    'Q6_2': 'NumMusicTchr',\n",
    "    'Q6_3': 'NumThetrTchr',\n",
    "    'Q6_4': 'NumVArtsTchr',\n",
    " })\n",
    "\n",
    " ### Arts Offered (District 75)\n",
    " print({\n",
    "     'Q10_1': 'Dance',\n",
    "     'Q10_2': 'Film',\n",
    "     'Q10_3': 'Music',\n",
    "     'Q10_4': 'Theater',\n",
    "     'Q10_5': 'VisualArts'\n",
    " })\n",
    "\n",
    " ### Pre-K Arts\n",
    " print({\n",
    "     'Q11_1': 'Dance',\n",
    "     'Q11_2': 'Music',\n",
    "     'Q11_3': 'Theater',\n",
    "     'Q11_4': 'VisualArts'\n",
    " })\n",
    "\n",
    " ### Pre-K Arts Hours (by Cultural Arts Organizations)\n",
    "  print({\n",
    "     'Q12_1': 'Dance',\n",
    "     'Q12_2': 'Music',\n",
    "     'Q12_3': 'Theater',\n",
    "     'Q12_4': 'VisualArts'\n",
    " })\n",
    "\n",
    " ### First Grade Arts Hours (by Cultural Arts Organizations)\n",
    "  print({\n",
    "     'Q13_1': 'Dance',\n",
    "     'Q13_2': 'Music',\n",
    "     'Q13_3': 'Theater',\n",
    "     'Q13_4': 'VisualArts'\n",
    " })\n",
    "\n",
    "  ### Second Grade Arts Hours (by Cultural Arts Organizations)\n",
    "  print({\n",
    "     'Q14_1': 'Dance',\n",
    "     'Q14_2': 'Music',\n",
    "     'Q14_3': 'Theater',\n",
    "     'Q14_4': 'VisualArts'\n",
    " })\n",
    "\n",
    "  ### Third Grade Arts Hours (by Cultural Arts Organizations)\n",
    "  print({\n",
    "     'Q15_1': 'Dance',\n",
    "     'Q15_2': 'Music',\n",
    "     'Q15_3': 'Theater',\n",
    "     'Q15_4': 'VisualArts'\n",
    " })\n",
    "  ### Fourth Grade Arts Hours (by Cultural Arts Organizations)\n",
    "  print({\n",
    "     'Q16_1': 'Dance',\n",
    "     'Q16_2': 'Music',\n",
    "     'Q16_3': 'Theater',\n",
    "     'Q16_4': 'VisualArts'\n",
    " })\n",
    "  ### Fifth Grade Arts Hours (by Cultural Arts Organizations)\n",
    "  print({\n",
    "     'Q17_1': 'Dance',\n",
    "     'Q17_2': 'Music',\n",
    "     'Q17_3': 'Theater',\n",
    "     'Q17_4': 'VisualArts'\n",
    " })\n",
    "\n",
    " ### Sixth Grade Arts Hours (by Cultural Arts Organizations)\n",
    "  print({\n",
    "     'Q19_1': 'Dance',\n",
    "     'Q19_2': 'Music',\n",
    "     'Q19_3': 'Theater',\n",
    "     'Q19_4': 'VisualArts'\n",
    " })\n",
    "  \n",
    "  ### Parental Involvement\n",
    "  ### ['Attending School Events', 'Volunterring in Classrooms', 'Donating Materials', 'Other']\n",
    "  print({\n",
    "      'Q35': 'ParentalInvolve'\n",
    "  })\n",
    "\n",
    "  ### Student Participation\n",
    "  ### Site: ['School', 'Outside']\n",
    "  print({\n",
    "      'Q36_1': 'ArtExibits'\n",
    "      'Q36_2': 'Concerts',\n",
    "      'Q36_3': 'Dance Performances',\n",
    "      'Q36_4': 'Films',\n",
    "      'Q36_5': 'Theater Performances',\n",
    "      'Q36_6': 'Other'\n",
    "  })\n",
    "\n",
    "  ### Arts/Cultural Organizations\n",
    "  ### Question 40\n",
    "\n",
    "  ### Arts Education Quality Goals\n",
    "  ### Question 41"
   ]
  },
  {
   "cell_type": "code",
   "execution_count": 56,
   "metadata": {},
   "outputs": [
    {
     "output_type": "execute_result",
     "data": {
      "text/plain": "      DBN  GK_Dance_Hrs  GK_Music_Hrs  GK_Theater_Hrs  GK_Visual_Hrs\n0  01M015          18.0          30.0             0.0           29.0\n1  01M019          63.0          13.0            60.0           63.0",
      "text/html": "<div>\n<style scoped>\n    .dataframe tbody tr th:only-of-type {\n        vertical-align: middle;\n    }\n\n    .dataframe tbody tr th {\n        vertical-align: top;\n    }\n\n    .dataframe thead th {\n        text-align: right;\n    }\n</style>\n<table border=\"1\" class=\"dataframe\">\n  <thead>\n    <tr style=\"text-align: right;\">\n      <th></th>\n      <th>DBN</th>\n      <th>GK_Dance_Hrs</th>\n      <th>GK_Music_Hrs</th>\n      <th>GK_Theater_Hrs</th>\n      <th>GK_Visual_Hrs</th>\n    </tr>\n  </thead>\n  <tbody>\n    <tr>\n      <th>0</th>\n      <td>01M015</td>\n      <td>18.0</td>\n      <td>30.0</td>\n      <td>0.0</td>\n      <td>29.0</td>\n    </tr>\n    <tr>\n      <th>1</th>\n      <td>01M019</td>\n      <td>63.0</td>\n      <td>13.0</td>\n      <td>60.0</td>\n      <td>63.0</td>\n    </tr>\n  </tbody>\n</table>\n</div>"
     },
     "metadata": {},
     "execution_count": 56
    }
   ],
   "source": [
    "# sum up all Kindergarten Hours\n",
    "gk = { \n",
    "    'dance': ['DBN'],\n",
    "    'music': ['DBN'],\n",
    "    'theater': ['DBN'],\n",
    "    'visual': ['DBN']\n",
    "}\n",
    "\n",
    "for col in arts19_df.columns:\n",
    "    if ('Q12' in col) & ('R1' in col):\n",
    "        gk['dance'].append(col)\n",
    "    elif ('Q12' in col) & ('R2' in col):\n",
    "        gk['music'].append(col)\n",
    "    elif ('Q12' in col) & ('R3' in col):\n",
    "        gk['theater'].append(col)\n",
    "    elif ('Q12' in col) & ('R4' in col):\n",
    "        gk['visual'].append(col)\n",
    "\n",
    "arts19_df['GK_Dance_Hrs'] = arts19_df[gk['dance']].fillna(0).sum(axis=1)\n",
    "arts19_df['GK_Music_Hrs'] = arts19_df[gk['music']].fillna(0).sum(axis=1)\n",
    "arts19_df['GK_Theater_Hrs'] = arts19_df[gk['theater']].fillna(0).sum(axis=1)\n",
    "arts19_df['GK_Visual_Hrs'] = arts19_df[gk['visual']].fillna(0).sum(axis=1)\n",
    "\n",
    "arts19_df[['DBN','GK_Dance_Hrs','GK_Music_Hrs','GK_Theater_Hrs','GK_Visual_Hrs']].head(2)"
   ]
  },
  {
   "cell_type": "code",
   "execution_count": 40,
   "metadata": {},
   "outputs": [
    {
     "output_type": "execute_result",
     "data": {
      "text/plain": "      DBN  G1_Dance_Hrs  G1_Music_Hrs  G1_Theater_Hrs  G1_Visual_Hrs\n0  01M015          36.0          60.0             0.0           58.0\n1  01M019         204.0          69.0            60.0          204.0",
      "text/html": "<div>\n<style scoped>\n    .dataframe tbody tr th:only-of-type {\n        vertical-align: middle;\n    }\n\n    .dataframe tbody tr th {\n        vertical-align: top;\n    }\n\n    .dataframe thead th {\n        text-align: right;\n    }\n</style>\n<table border=\"1\" class=\"dataframe\">\n  <thead>\n    <tr style=\"text-align: right;\">\n      <th></th>\n      <th>DBN</th>\n      <th>G1_Dance_Hrs</th>\n      <th>G1_Music_Hrs</th>\n      <th>G1_Theater_Hrs</th>\n      <th>G1_Visual_Hrs</th>\n    </tr>\n  </thead>\n  <tbody>\n    <tr>\n      <th>0</th>\n      <td>01M015</td>\n      <td>36.0</td>\n      <td>60.0</td>\n      <td>0.0</td>\n      <td>58.0</td>\n    </tr>\n    <tr>\n      <th>1</th>\n      <td>01M019</td>\n      <td>204.0</td>\n      <td>69.0</td>\n      <td>60.0</td>\n      <td>204.0</td>\n    </tr>\n  </tbody>\n</table>\n</div>"
     },
     "metadata": {},
     "execution_count": 40
    }
   ],
   "source": [
    "# sum up all First Grade Hours\n",
    "g1 = { \n",
    "    'dance': ['DBN'],\n",
    "    'music': ['DBN'],\n",
    "    'theater': ['DBN'],\n",
    "    'visual': ['DBN']\n",
    "}\n",
    "\n",
    "for col in arts19_df.columns:\n",
    "    if ('Q13' in col) & ('R1' in col):\n",
    "        g1['dance'].append(col)\n",
    "    elif ('Q13' in col) & ('R2' in col):\n",
    "        g1['music'].append(col)\n",
    "    elif ('Q13' in col) & ('R3' in col):\n",
    "        g1['theater'].append(col)\n",
    "    elif ('Q13' in col) & ('R4' in col):\n",
    "        g1['visual'].append(col)\n",
    "        \n",
    "arts19_df['G1_Dance_Hrs'] = arts19_df[g1['dance']].fillna(0).sum(axis=1)\n",
    "arts19_df['G1_Music_Hrs'] = arts19_df[g1['music']].fillna(0).sum(axis=1)\n",
    "arts19_df['G1_Theater_Hrs'] = arts19_df[g1['theater']].fillna(0).sum(axis=1)\n",
    "arts19_df['G1_Visual_Hrs'] = arts19_df[g1['visual']].fillna(0).sum(axis=1)\n",
    "\n",
    "arts19_df[['DBN','G1_Dance_Hrs','G1_Music_Hrs','G1_Theater_Hrs','G1_Visual_Hrs']].head(2)"
   ]
  },
  {
   "cell_type": "code",
   "execution_count": 43,
   "metadata": {},
   "outputs": [
    {
     "output_type": "execute_result",
     "data": {
      "text/plain": "      DBN  G2_Dance_Hrs  G2_Music_Hrs  G2_Theater_Hrs  G2_Visual_Hrs\n0  01M015           0.0          60.0            22.0           58.0\n1  01M019         204.0          69.0           120.0          204.0",
      "text/html": "<div>\n<style scoped>\n    .dataframe tbody tr th:only-of-type {\n        vertical-align: middle;\n    }\n\n    .dataframe tbody tr th {\n        vertical-align: top;\n    }\n\n    .dataframe thead th {\n        text-align: right;\n    }\n</style>\n<table border=\"1\" class=\"dataframe\">\n  <thead>\n    <tr style=\"text-align: right;\">\n      <th></th>\n      <th>DBN</th>\n      <th>G2_Dance_Hrs</th>\n      <th>G2_Music_Hrs</th>\n      <th>G2_Theater_Hrs</th>\n      <th>G2_Visual_Hrs</th>\n    </tr>\n  </thead>\n  <tbody>\n    <tr>\n      <th>0</th>\n      <td>01M015</td>\n      <td>0.0</td>\n      <td>60.0</td>\n      <td>22.0</td>\n      <td>58.0</td>\n    </tr>\n    <tr>\n      <th>1</th>\n      <td>01M019</td>\n      <td>204.0</td>\n      <td>69.0</td>\n      <td>120.0</td>\n      <td>204.0</td>\n    </tr>\n  </tbody>\n</table>\n</div>"
     },
     "metadata": {},
     "execution_count": 43
    }
   ],
   "source": [
    "# sum up all Second Grade Hours\n",
    "g2 = { \n",
    "    'dance': ['DBN'],\n",
    "    'music': ['DBN'],\n",
    "    'theater': ['DBN'],\n",
    "    'visual': ['DBN']\n",
    "}\n",
    "\n",
    "for col in arts19_df.columns:\n",
    "    if ('Q14' in col) & ('R1' in col):\n",
    "        g2['dance'].append(col)\n",
    "    elif ('Q14' in col) & ('R2' in col):\n",
    "        g2['music'].append(col)\n",
    "    elif ('Q14' in col) & ('R3' in col):\n",
    "        g2['theater'].append(col)\n",
    "    elif ('Q14' in col) & ('R4' in col):\n",
    "        g2['visual'].append(col)\n",
    "        \n",
    "arts19_df['G2_Dance_Hrs'] = arts19_df[g2['dance']].fillna(0).sum(axis=1)\n",
    "arts19_df['G2_Music_Hrs'] = arts19_df[g2['music']].fillna(0).sum(axis=1)\n",
    "arts19_df['G2_Theater_Hrs'] = arts19_df[g2['theater']].fillna(0).sum(axis=1)\n",
    "arts19_df['G2_Visual_Hrs'] = arts19_df[g2['visual']].fillna(0).sum(axis=1)\n",
    "\n",
    "arts19_df[['DBN','G2_Dance_Hrs','G2_Music_Hrs','G2_Theater_Hrs','G2_Visual_Hrs']].head(2)"
   ]
  },
  {
   "cell_type": "code",
   "execution_count": 44,
   "metadata": {},
   "outputs": [
    {
     "output_type": "execute_result",
     "data": {
      "text/plain": "      DBN  G3_Dance_Hrs  G3_Music_Hrs  G3_Theater_Hrs  G3_Visual_Hrs\n0  01M015           0.0          60.0            22.0            0.0\n1  01M019         115.0         135.0            90.0          115.0",
      "text/html": "<div>\n<style scoped>\n    .dataframe tbody tr th:only-of-type {\n        vertical-align: middle;\n    }\n\n    .dataframe tbody tr th {\n        vertical-align: top;\n    }\n\n    .dataframe thead th {\n        text-align: right;\n    }\n</style>\n<table border=\"1\" class=\"dataframe\">\n  <thead>\n    <tr style=\"text-align: right;\">\n      <th></th>\n      <th>DBN</th>\n      <th>G3_Dance_Hrs</th>\n      <th>G3_Music_Hrs</th>\n      <th>G3_Theater_Hrs</th>\n      <th>G3_Visual_Hrs</th>\n    </tr>\n  </thead>\n  <tbody>\n    <tr>\n      <th>0</th>\n      <td>01M015</td>\n      <td>0.0</td>\n      <td>60.0</td>\n      <td>22.0</td>\n      <td>0.0</td>\n    </tr>\n    <tr>\n      <th>1</th>\n      <td>01M019</td>\n      <td>115.0</td>\n      <td>135.0</td>\n      <td>90.0</td>\n      <td>115.0</td>\n    </tr>\n  </tbody>\n</table>\n</div>"
     },
     "metadata": {},
     "execution_count": 44
    }
   ],
   "source": [
    "# sum up all Third Grade Hours\n",
    "g3 = { \n",
    "    'dance': ['DBN'],\n",
    "    'music': ['DBN'],\n",
    "    'theater': ['DBN'],\n",
    "    'visual': ['DBN']\n",
    "}\n",
    "\n",
    "for col in arts19_df.columns:\n",
    "    if ('Q15' in col) & ('R1' in col):\n",
    "        g3['dance'].append(col)\n",
    "    elif ('Q15' in col) & ('R2' in col):\n",
    "        g3['music'].append(col)\n",
    "    elif ('Q15' in col) & ('R3' in col):\n",
    "        g3['theater'].append(col)\n",
    "    elif ('Q15' in col) & ('R4' in col):\n",
    "        g3['visual'].append(col)\n",
    "        \n",
    "arts19_df['G3_Dance_Hrs'] = arts19_df[g3['dance']].fillna(0).sum(axis=1)\n",
    "arts19_df['G3_Music_Hrs'] = arts19_df[g3['music']].fillna(0).sum(axis=1)\n",
    "arts19_df['G3_Theater_Hrs'] = arts19_df[g3['theater']].fillna(0).sum(axis=1)\n",
    "arts19_df['G3_Visual_Hrs'] = arts19_df[g3['visual']].fillna(0).sum(axis=1)\n",
    "\n",
    "arts19_df[['DBN','G3_Dance_Hrs','G3_Music_Hrs','G3_Theater_Hrs','G3_Visual_Hrs']].head(2)"
   ]
  },
  {
   "cell_type": "code",
   "execution_count": 45,
   "metadata": {},
   "outputs": [
    {
     "output_type": "execute_result",
     "data": {
      "text/plain": "      DBN  G4_Dance_Hrs  G4_Music_Hrs  G4_Theater_Hrs  G4_Visual_Hrs\n0  01M015           0.0          60.0            22.0            0.0\n1  01M019          93.0         113.0           120.0           93.0",
      "text/html": "<div>\n<style scoped>\n    .dataframe tbody tr th:only-of-type {\n        vertical-align: middle;\n    }\n\n    .dataframe tbody tr th {\n        vertical-align: top;\n    }\n\n    .dataframe thead th {\n        text-align: right;\n    }\n</style>\n<table border=\"1\" class=\"dataframe\">\n  <thead>\n    <tr style=\"text-align: right;\">\n      <th></th>\n      <th>DBN</th>\n      <th>G4_Dance_Hrs</th>\n      <th>G4_Music_Hrs</th>\n      <th>G4_Theater_Hrs</th>\n      <th>G4_Visual_Hrs</th>\n    </tr>\n  </thead>\n  <tbody>\n    <tr>\n      <th>0</th>\n      <td>01M015</td>\n      <td>0.0</td>\n      <td>60.0</td>\n      <td>22.0</td>\n      <td>0.0</td>\n    </tr>\n    <tr>\n      <th>1</th>\n      <td>01M019</td>\n      <td>93.0</td>\n      <td>113.0</td>\n      <td>120.0</td>\n      <td>93.0</td>\n    </tr>\n  </tbody>\n</table>\n</div>"
     },
     "metadata": {},
     "execution_count": 45
    }
   ],
   "source": [
    "# sum up all Fourth Grade Hours\n",
    "g4 = { \n",
    "    'dance': ['DBN'],\n",
    "    'music': ['DBN'],\n",
    "    'theater': ['DBN'],\n",
    "    'visual': ['DBN']\n",
    "}\n",
    "\n",
    "for col in arts19_df.columns:\n",
    "    if ('Q16' in col) & ('R1' in col):\n",
    "        g4['dance'].append(col)\n",
    "    elif ('Q16' in col) & ('R2' in col):\n",
    "        g4['music'].append(col)\n",
    "    elif ('Q16' in col) & ('R3' in col):\n",
    "        g4['theater'].append(col)\n",
    "    elif ('Q16' in col) & ('R4' in col):\n",
    "        g4['visual'].append(col)\n",
    "        \n",
    "arts19_df['G4_Dance_Hrs'] = arts19_df[g4['dance']].fillna(0).sum(axis=1)\n",
    "arts19_df['G4_Music_Hrs'] = arts19_df[g4['music']].fillna(0).sum(axis=1)\n",
    "arts19_df['G4_Theater_Hrs'] = arts19_df[g4['theater']].fillna(0).sum(axis=1)\n",
    "arts19_df['G4_Visual_Hrs'] = arts19_df[g4['visual']].fillna(0).sum(axis=1)\n",
    "\n",
    "arts19_df[['DBN','G4_Dance_Hrs','G4_Music_Hrs','G4_Theater_Hrs','G4_Visual_Hrs']].head(2)"
   ]
  },
  {
   "cell_type": "code",
   "execution_count": 46,
   "metadata": {},
   "outputs": [
    {
     "output_type": "execute_result",
     "data": {
      "text/plain": "      DBN  G5_Dance_Hrs  G5_Music_Hrs  G5_Theater_Hrs  G5_Visual_Hrs\n0  01M015           0.0          60.0            36.0            0.0\n1  01M019          73.0         173.0           120.0           73.0",
      "text/html": "<div>\n<style scoped>\n    .dataframe tbody tr th:only-of-type {\n        vertical-align: middle;\n    }\n\n    .dataframe tbody tr th {\n        vertical-align: top;\n    }\n\n    .dataframe thead th {\n        text-align: right;\n    }\n</style>\n<table border=\"1\" class=\"dataframe\">\n  <thead>\n    <tr style=\"text-align: right;\">\n      <th></th>\n      <th>DBN</th>\n      <th>G5_Dance_Hrs</th>\n      <th>G5_Music_Hrs</th>\n      <th>G5_Theater_Hrs</th>\n      <th>G5_Visual_Hrs</th>\n    </tr>\n  </thead>\n  <tbody>\n    <tr>\n      <th>0</th>\n      <td>01M015</td>\n      <td>0.0</td>\n      <td>60.0</td>\n      <td>36.0</td>\n      <td>0.0</td>\n    </tr>\n    <tr>\n      <th>1</th>\n      <td>01M019</td>\n      <td>73.0</td>\n      <td>173.0</td>\n      <td>120.0</td>\n      <td>73.0</td>\n    </tr>\n  </tbody>\n</table>\n</div>"
     },
     "metadata": {},
     "execution_count": 46
    }
   ],
   "source": [
    "# sum up all Fifth Grade Hours\n",
    "g5 = { \n",
    "    'dance': ['DBN'],\n",
    "    'music': ['DBN'],\n",
    "    'theater': ['DBN'],\n",
    "    'visual': ['DBN']\n",
    "}\n",
    "\n",
    "for col in arts19_df.columns:\n",
    "    if ('Q17' in col) & ('R1' in col):\n",
    "        g5['dance'].append(col)\n",
    "    elif ('Q17' in col) & ('R2' in col):\n",
    "        g5['music'].append(col)\n",
    "    elif ('Q17' in col) & ('R3' in col):\n",
    "        g5['theater'].append(col)\n",
    "    elif ('Q17' in col) & ('R4' in col):\n",
    "        g5['visual'].append(col)\n",
    "        \n",
    "arts19_df['G5_Dance_Hrs'] = arts19_df[g5['dance']].fillna(0).sum(axis=1)\n",
    "arts19_df['G5_Music_Hrs'] = arts19_df[g5['music']].fillna(0).sum(axis=1)\n",
    "arts19_df['G5_Theater_Hrs'] = arts19_df[g5['theater']].fillna(0).sum(axis=1)\n",
    "arts19_df['G5_Visual_Hrs'] = arts19_df[g5['visual']].fillna(0).sum(axis=1)\n",
    "\n",
    "arts19_df[['DBN','G5_Dance_Hrs','G5_Music_Hrs','G5_Theater_Hrs','G5_Visual_Hrs']].head(2)"
   ]
  },
  {
   "cell_type": "code",
   "execution_count": 58,
   "metadata": {},
   "outputs": [
    {
     "output_type": "execute_result",
     "data": {
      "text/plain": "      DBN  G6_Dance_Hrs  G6_Music_Hrs  G6_Theater_Hrs  G6_Visual_Hrs\n0  01M015           0.0           0.0             0.0            0.0\n1  01M019           0.0           0.0             0.0            0.0",
      "text/html": "<div>\n<style scoped>\n    .dataframe tbody tr th:only-of-type {\n        vertical-align: middle;\n    }\n\n    .dataframe tbody tr th {\n        vertical-align: top;\n    }\n\n    .dataframe thead th {\n        text-align: right;\n    }\n</style>\n<table border=\"1\" class=\"dataframe\">\n  <thead>\n    <tr style=\"text-align: right;\">\n      <th></th>\n      <th>DBN</th>\n      <th>G6_Dance_Hrs</th>\n      <th>G6_Music_Hrs</th>\n      <th>G6_Theater_Hrs</th>\n      <th>G6_Visual_Hrs</th>\n    </tr>\n  </thead>\n  <tbody>\n    <tr>\n      <th>0</th>\n      <td>01M015</td>\n      <td>0.0</td>\n      <td>0.0</td>\n      <td>0.0</td>\n      <td>0.0</td>\n    </tr>\n    <tr>\n      <th>1</th>\n      <td>01M019</td>\n      <td>0.0</td>\n      <td>0.0</td>\n      <td>0.0</td>\n      <td>0.0</td>\n    </tr>\n  </tbody>\n</table>\n</div>"
     },
     "metadata": {},
     "execution_count": 58
    }
   ],
   "source": [
    "# sum up all Sixth Grade Hours\n",
    "g6 = { \n",
    "    'dance': ['DBN'],\n",
    "    'music': ['DBN'],\n",
    "    'theater': ['DBN'],\n",
    "    'visual': ['DBN']\n",
    "}\n",
    "\n",
    "for col in arts19_df.columns:\n",
    "    if ('Q19' in col) & ('R1' in col):\n",
    "        g6['dance'].append(col)\n",
    "    elif ('Q19' in col) & ('R2' in col):\n",
    "        g6['music'].append(col)\n",
    "    elif ('Q19' in col) & ('R3' in col):\n",
    "        g6['theater'].append(col)\n",
    "    elif ('Q19' in col) & ('R4' in col):\n",
    "        g6['visual'].append(col)\n",
    "        \n",
    "arts19_df['G6_Dance_Hrs'] = arts19_df[g6['dance']].fillna(0).sum(axis=1)\n",
    "arts19_df['G6_Music_Hrs'] = arts19_df[g6['music']].fillna(0).sum(axis=1)\n",
    "arts19_df['G6_Theater_Hrs'] = arts19_df[g6['theater']].fillna(0).sum(axis=1)\n",
    "arts19_df['G6_Visual_Hrs'] = arts19_df[g6['visual']].fillna(0).sum(axis=1)\n",
    "\n",
    "arts19_df[['DBN','G6_Dance_Hrs','G6_Music_Hrs','G6_Theater_Hrs','G6_Visual_Hrs']].head(2)"
   ]
  },
  {
   "cell_type": "code",
   "execution_count": null,
   "metadata": {},
   "outputs": [],
   "source": [
    "# Todo: Create single loop for all grades\n",
    "hours_df = pd.DataFrame()\n",
    "grades = {\n",
    "    'Q12': 'K',\n",
    "    'Q13': '1',\n",
    "    'Q14': '2',\n",
    "    'Q15': '3',\n",
    "    'Q16': '4',\n",
    "    'Q17': '5',\n",
    "    'Q19': '6'\n",
    "}\n",
    "types = {\n",
    "    'R1': 'Dance',\n",
    "    'R2': 'Music',\n",
    "    'R3': 'Theater',\n",
    "    'R4': 'VisualArts'\n",
    "}\n",
    "\n",
    "cols = { \n",
    "    'dance': ['DBN'],\n",
    "    'music': ['DBN'],\n",
    "    'theater': ['DBN'],\n",
    "    'visual': ['DBN']\n",
    "}\n",
    "\n",
    "for col in arts19_df.columns:\n",
    "    if ('Q19' in col) & ('R1' in col):\n",
    "        g6['dance'].append(col)\n",
    "    elif ('Q19' in col) & ('R2' in col):\n",
    "        g6['music'].append(col)\n",
    "    elif ('Q19' in col) & ('R3' in col):\n",
    "        g6['theater'].append(col)\n",
    "    elif ('Q19' in col) & ('R4' in col):\n",
    "        g6['visual'].append(col)\n",
    "        \n",
    "arts19_df['G6_Dance_Hrs'] = arts19_df[g6['dance']].fillna(0).sum(axis=1)\n",
    "arts19_df['G6_Music_Hrs'] = arts19_df[g6['music']].fillna(0).sum(axis=1)\n",
    "arts19_df['G6_Theater_Hrs'] = arts19_df[g6['theater']].fillna(0).sum(axis=1)\n",
    "arts19_df['G6_Visual_Hrs'] = arts19_df[g6['visual']].fillna(0).sum(axis=1)\n",
    "\n",
    "arts19_df[['DBN','G6_Dance_Hrs','G6_Music_Hrs','G6_Theater_Hrs','G6_Visual_Hrs']].head(2)"
   ]
  },
  {
   "cell_type": "code",
   "execution_count": 55,
   "metadata": {},
   "outputs": [
    {
     "output_type": "execute_result",
     "data": {
      "text/plain": "         DBN   Q19_C1_R1   Q19_C1_R2   Q19_C1_R3   Q19_C1_R4\n0     01M015         0.0         0.0         0.0         0.0\n1     01M019         0.0         0.0         0.0         0.0\n2     01M020         0.0         0.0         0.0         0.0\n3     01M034         0.0         0.0         0.0         0.0\n4     01M063         0.0         0.0         0.0         0.0\n...      ...         ...         ...         ...         ...\n1541  75X596         0.0         0.0         0.0         0.0\n1542  75X721         0.0         0.0         0.0         0.0\n1543  75X723        15.0        15.0         0.0         0.0\n1544  75X754         0.0         0.0         0.0         0.0\n1545  75X811         0.0         0.0         0.0         0.0\n\n[1546 rows x 5 columns]",
      "text/html": "<div>\n<style scoped>\n    .dataframe tbody tr th:only-of-type {\n        vertical-align: middle;\n    }\n\n    .dataframe tbody tr th {\n        vertical-align: top;\n    }\n\n    .dataframe thead th {\n        text-align: right;\n    }\n</style>\n<table border=\"1\" class=\"dataframe\">\n  <thead>\n    <tr style=\"text-align: right;\">\n      <th></th>\n      <th>DBN</th>\n      <th>Q19_C1_R1</th>\n      <th>Q19_C1_R2</th>\n      <th>Q19_C1_R3</th>\n      <th>Q19_C1_R4</th>\n    </tr>\n  </thead>\n  <tbody>\n    <tr>\n      <th>0</th>\n      <td>01M015</td>\n      <td>0.0</td>\n      <td>0.0</td>\n      <td>0.0</td>\n      <td>0.0</td>\n    </tr>\n    <tr>\n      <th>1</th>\n      <td>01M019</td>\n      <td>0.0</td>\n      <td>0.0</td>\n      <td>0.0</td>\n      <td>0.0</td>\n    </tr>\n    <tr>\n      <th>2</th>\n      <td>01M020</td>\n      <td>0.0</td>\n      <td>0.0</td>\n      <td>0.0</td>\n      <td>0.0</td>\n    </tr>\n    <tr>\n      <th>3</th>\n      <td>01M034</td>\n      <td>0.0</td>\n      <td>0.0</td>\n      <td>0.0</td>\n      <td>0.0</td>\n    </tr>\n    <tr>\n      <th>4</th>\n      <td>01M063</td>\n      <td>0.0</td>\n      <td>0.0</td>\n      <td>0.0</td>\n      <td>0.0</td>\n    </tr>\n    <tr>\n      <th>...</th>\n      <td>...</td>\n      <td>...</td>\n      <td>...</td>\n      <td>...</td>\n      <td>...</td>\n    </tr>\n    <tr>\n      <th>1541</th>\n      <td>75X596</td>\n      <td>0.0</td>\n      <td>0.0</td>\n      <td>0.0</td>\n      <td>0.0</td>\n    </tr>\n    <tr>\n      <th>1542</th>\n      <td>75X721</td>\n      <td>0.0</td>\n      <td>0.0</td>\n      <td>0.0</td>\n      <td>0.0</td>\n    </tr>\n    <tr>\n      <th>1543</th>\n      <td>75X723</td>\n      <td>15.0</td>\n      <td>15.0</td>\n      <td>0.0</td>\n      <td>0.0</td>\n    </tr>\n    <tr>\n      <th>1544</th>\n      <td>75X754</td>\n      <td>0.0</td>\n      <td>0.0</td>\n      <td>0.0</td>\n      <td>0.0</td>\n    </tr>\n    <tr>\n      <th>1545</th>\n      <td>75X811</td>\n      <td>0.0</td>\n      <td>0.0</td>\n      <td>0.0</td>\n      <td>0.0</td>\n    </tr>\n  </tbody>\n</table>\n<p>1546 rows × 5 columns</p>\n</div>"
     },
     "metadata": {},
     "execution_count": 55
    }
   ],
   "source": [
    "cols = ['DBN']\n",
    "for col in arts19_df.columns:\n",
    "    if ('Q19' in col):\n",
    "        cols.append(col)\n",
    "arts19_df[cols].fillna(0)\n",
    ""
   ]
  },
  {
   "cell_type": "code",
   "execution_count": 18,
   "metadata": {},
   "outputs": [
    {
     "output_type": "execute_result",
     "data": {
      "text/plain": "'R2'"
     },
     "metadata": {},
     "execution_count": 18
    }
   ],
   "source": [
    "sample = 'Q13_C1_R2'\n",
    "sample[-2:]"
   ]
  },
  {
   "cell_type": "markdown",
   "metadata": {},
   "source": [
    "# load csv files in the data directories\n",
    "file_dir = '../../mvp/data'\n",
    "csvFiles = []\n",
    "[ [csvFiles.append({ 'year': f.split('_')[0].split('-')[1], 'type': dir, 'df': pd.read_csv(os.path.join(file_dir, dir, f), encoding='utf-8') }) for f in os.listdir(os.path.join(file_dir, dir)) if f.endswith('.csv')] for dir in os.listdir('../../mvp/data') if os.path.isdir(os.path.join(file_dir, dir)) ]\n"
   ]
  },
  {
   "cell_type": "markdown",
   "metadata": {
    "tags": [
     "outputPrepend"
    ]
   },
   "source": [
    "arts = {}\n",
    "test = {}\n",
    "\n",
    "for o in csvFiles:\n",
    "    type = o['type']\n",
    "    year = o['year']\n",
    "    df = o['df']\n",
    "    if ( type == 'arts' ):\n",
    "        df['Year'] = year\n",
    "        df = df.rename(columns={'Q0_DBN': 'DBN'})\n",
    "        arts[year] = df\n",
    "    elif ( type == 'tests' ):\n",
    "        test[year] = df\n",
    "    print(f'{year} ({type}) has shape {df.shape}')\n",
    "    \n",
    "\n",
    "        \n",
    "\n"
   ]
  },
  {
   "cell_type": "code",
   "execution_count": null,
   "metadata": {},
   "outputs": [],
   "source": []
  }
 ]
}