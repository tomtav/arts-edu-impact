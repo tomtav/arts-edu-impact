{
 "nbformat": 4,
 "nbformat_minor": 2,
 "metadata": {
  "language_info": {
   "name": "python",
   "codemirror_mode": {
    "name": "ipython",
    "version": 3
   },
   "version": "3.7.6-final"
  },
  "orig_nbformat": 2,
  "file_extension": ".py",
  "mimetype": "text/x-python",
  "name": "python",
  "npconvert_exporter": "python",
  "pygments_lexer": "ipython3",
  "version": 3,
  "kernelspec": {
   "name": "python3",
   "display_name": "Python 3"
  }
 },
 "cells": [
  {
   "cell_type": "markdown",
   "metadata": {},
   "source": [
    "# Question 1: \n",
    "Thomas\n",
    "Last updated on March 21, 2020"
   ]
  },
  {
   "cell_type": "code",
   "execution_count": 1,
   "metadata": {},
   "outputs": [],
   "source": [
    "# import dependencies\n",
    "import pandas as pd\n",
    "import numpy as np\n",
    "import requests\n",
    "import json"
   ]
  },
  {
   "cell_type": "code",
   "execution_count": 12,
   "metadata": {},
   "outputs": [],
   "source": [
    "# define API URLs\n",
    "math_url = 'https://data.cityofnewyork.us/resource/m27t-ht3h.json'\n",
    "ela_url = 'https://data.cityofnewyork.us/resource/qkpp-pbi8.json'\n",
    "\n",
    "\n",
    "arts_urls = {\n",
    "    '2015': 'https://data.cityofnewyork.us/resource/budf-qanm.json',\n",
    "    '2016': 'https://data.cityofnewyork.us/resource/c4vk-jvzy.json',\n",
    "    '2017': 'https://data.cityofnewyork.us/resource/f33j-ecpr.json',\n",
    "}"
   ]
  },
  {
   "cell_type": "code",
   "execution_count": 3,
   "metadata": {},
   "outputs": [],
   "source": [
    "# retrieve 2013-2018 School Math Results\n",
    "math_results = requests.get(math_url).json()"
   ]
  },
  {
   "cell_type": "code",
   "execution_count": 4,
   "metadata": {},
   "outputs": [
    {
     "output_type": "stream",
     "name": "stdout",
     "text": "Math Results Rows: 1000\n['dbn', 'school_name', 'grade', 'year', 'category', 'number_tested', 'mean_scale_score', 'level_1', 'level_1_1', 'level_2', 'level_2_1', 'level_3', 'level_3_1', 'level_4', 'level_4_1', 'level_3_4', 'level_3_4_1']\n"
    }
   ],
   "source": [
    "math_df = pd.DataFrame(math_results)\n",
    "math_df.head()\n",
    "print(f'Math Results Rows: {len(math_df)}')\n",
    "print(list(math_df.columns))"
   ]
  },
  {
   "cell_type": "code",
   "execution_count": 5,
   "metadata": {},
   "outputs": [],
   "source": [
    "# retrieve 2013-2018 School ELA Results\n",
    "ela_results = requests.get(ela_url).json()"
   ]
  },
  {
   "cell_type": "code",
   "execution_count": 7,
   "metadata": {},
   "outputs": [
    {
     "output_type": "stream",
     "name": "stdout",
     "text": "ELA Results Rows: 1000\n['dbn', 'school_name', 'grade', 'year', 'category', 'number_tested', 'mean_scale_score', 'level_1', 'level_1_1', 'level_2', 'level_2_1', 'level_3', 'level_3_1', 'level_4', 'level_4_1', 'level_3_4', 'level_3_4_1']\n['2013' '2014' '2015' '2016' '2017' '2018']\n"
    }
   ],
   "source": [
    "ela_df = pd.DataFrame(ela_results)\n",
    "ela_df.head()\n",
    "print(f'ELA Results Rows: {len(ela_df)}')\n",
    "print(list(ela_df.columns))\n",
    "print(ela_df['year'].unique())"
   ]
  },
  {
   "cell_type": "code",
   "execution_count": 29,
   "metadata": {},
   "outputs": [],
   "source": [
    "# retrieve 2014-2017 arts_survey_data\n",
    "arts_dfs = { year: pd.DataFrame(requests.get(url).json()) for (year, url) in arts_urls.items() }"
   ]
  },
  {
   "cell_type": "code",
   "execution_count": 32,
   "metadata": {},
   "outputs": [],
   "source": [
    "# explore and clean the arts survey data\n",
    "for year in arts_dfs.keys():\n",
    "    df = arts_dfs[year]\n",
    "    df['year'] = year\n",
    "    arts_dfs[year] = df"
   ]
  },
  {
   "cell_type": "code",
   "execution_count": 36,
   "metadata": {},
   "outputs": [],
   "source": [
    "questions = {}\n",
    "for year in arts_dfs.keys():\n",
    "    questions[year] = list(arts_dfs[year].columns)\n",
    ""
   ]
  },
  {
   "cell_type": "code",
   "execution_count": 38,
   "metadata": {},
   "outputs": [
    {
     "output_type": "execute_result",
     "data": {
      "text/plain": "['dbn',\n 'q1_1',\n 'q1_2',\n 'q1_3',\n 'q2_1',\n 'q3_1',\n 'q3_2',\n 'q3_3',\n 'q3_4',\n 'q4_1',\n 'q4_2',\n 'q5_1',\n 'q5_2',\n 'q6_1',\n 'q6_2',\n 'q7_1',\n 'q7_2',\n 'q7_3',\n 'q7_4',\n 'q9_r1_c1',\n 'q9_r1_c2',\n 'q9_r2_c1',\n 'q9_r2_c2',\n 'q9_r3_c1',\n 'q9_r3_c2',\n 'q9_r4_c1',\n 'q9_r4_c2',\n 'q9_r5_c1',\n 'q9_r5_c2',\n 'q9_r6_c1',\n 'q9_r6_c2',\n 'q10_1',\n 'q10_2',\n 'q10_3',\n 'q10_4',\n 'q10_5',\n 'q10_6',\n 'q10_7',\n 'q10_8',\n 'q10_9',\n 'q10_10',\n 'q10_11',\n 'q10_12',\n 'q10_13',\n 'q10_14',\n 'q10_15',\n 'q10_16',\n 'q10_17',\n 'q10_18',\n 'q11_r1_c1',\n 'q11_r1_c2',\n 'q11_r2_c1',\n 'q11_r2_c2',\n 'q11_r3_c1',\n 'q11_r3_c2',\n 'q11_r4_c1',\n 'q11_r4_c2',\n 'q11_r5_c1',\n 'q11_r5_c2',\n 'q12_r1_c1',\n 'q12_r1_c2',\n 'q12_r1_c3',\n 'q12_r1_c4',\n 'q12_r2_c1',\n 'q12_r2_c2',\n 'q12_r2_c3',\n 'q12_r2_c4',\n 'q12_r3_c1',\n 'q12_r3_c2',\n 'q12_r3_c3',\n 'q12_r3_c4',\n 'q12_r4_c1',\n 'q12_r4_c2',\n 'q12_r4_c3',\n 'q12_r4_c4',\n 'q13_c1_r1',\n 'q13_c1_r2',\n 'q13_c1_r3',\n 'q13_c1_r4',\n 'q14_c1_r1',\n 'q14_c1_r2',\n 'q14_c1_r3',\n 'q14_c1_r4',\n 'q14_c2_r1',\n 'q14_c2_r2',\n 'q14_c2_r3',\n 'q14_c2_r4',\n 'q14_c3_r1',\n 'q14_c3_r2',\n 'q14_c3_r3',\n 'q14_c3_r4',\n 'q15_c1_r1',\n 'q15_c1_r2',\n 'q15_c1_r3',\n 'q15_c1_r4',\n 'q16_c1_r1',\n 'q16_c1_r2',\n 'q16_c1_r3',\n 'q16_c1_r4',\n 'q17_c1_r1',\n 'q17_c1_r2',\n 'q17_c1_r3',\n 'q17_c1_r4',\n 'q14_c4_r1',\n 'q14_c4_r2',\n 'q14_c4_r3',\n 'q14_c4_r4',\n 'q15_c2_r1',\n 'q15_c2_r2',\n 'q15_c2_r3',\n 'q15_c2_r4',\n 'q15_c3_r1',\n 'q15_c3_r2',\n 'q15_c3_r3',\n 'q15_c3_r4',\n 'q16_c2_r1',\n 'q16_c2_r2',\n 'q16_c2_r3',\n 'q16_c2_r4',\n 'q16_c3_r1',\n 'q16_c3_r2',\n 'q16_c3_r3',\n 'q16_c3_r4',\n 'q16_c4_r1',\n 'q16_c4_r2',\n 'q16_c4_r3',\n 'q16_c4_r4',\n 'q17_c2_r1',\n 'q17_c2_r2',\n 'q17_c2_r3',\n 'q17_c2_r4',\n 'q17_c3_r1',\n 'q17_c3_r2',\n 'q17_c3_r3',\n 'q17_c3_r4',\n 'q17_c4_r1',\n 'q17_c4_r2',\n 'q17_c4_r3',\n 'q17_c4_r4',\n 'q14_c5_r1',\n 'q14_c5_r2',\n 'q14_c5_r3',\n 'q14_c5_r4',\n 'q14_c6_r1',\n 'q14_c6_r2',\n 'q14_c6_r3',\n 'q14_c6_r4',\n 'q15_c4_r1',\n 'q15_c4_r2',\n 'q15_c4_r3',\n 'q15_c4_r4',\n 'q15_c5_r1',\n 'q15_c5_r2',\n 'q15_c5_r3',\n 'q15_c5_r4',\n 'q15_c6_r1',\n 'q15_c6_r2',\n 'q15_c6_r3',\n 'q15_c6_r4',\n 'q15_c7_r1',\n 'q15_c7_r2',\n 'q15_c7_r3',\n 'q15_c7_r4',\n 'q16_c5_r1',\n 'q16_c5_r2',\n 'q16_c5_r3',\n 'q16_c5_r4',\n 'q17_c5_r1',\n 'q17_c5_r2',\n 'q17_c5_r3',\n 'q17_c5_r4',\n 'q17_c6_r1',\n 'q17_c6_r2',\n 'q17_c6_r3',\n 'q17_c6_r4',\n 'q8_1',\n 'q8_2',\n 'q8_3',\n 'q8_4',\n 'q16_c6_r1',\n 'q16_c6_r2',\n 'q16_c6_r3',\n 'q16_c6_r4',\n 'q16_c7_r1',\n 'q16_c7_r2',\n 'q16_c7_r3',\n 'q16_c7_r4',\n 'q17_c7_r1',\n 'q17_c7_r2',\n 'q17_c7_r3',\n 'q17_c7_r4',\n 'q14_c7_r1',\n 'q14_c7_r2',\n 'q14_c7_r3',\n 'q14_c7_r4',\n 'q15_c8_r1',\n 'q15_c8_r2',\n 'q15_c8_r3',\n 'q15_c8_r4',\n 'q15_c9_r1',\n 'q15_c9_r2',\n 'q15_c9_r3',\n 'q15_c9_r4',\n 'q16_c8_r1',\n 'q16_c8_r2',\n 'q16_c8_r3',\n 'q16_c8_r4',\n 'q16_c9_r1',\n 'q16_c9_r2',\n 'q16_c9_r3',\n 'q16_c9_r4',\n 'q16_c10_r1',\n 'q16_c10_r2',\n 'q16_c10_r3',\n 'q16_c10_r4',\n 'q17_c8_r1',\n 'q17_c8_r2',\n 'q17_c8_r3',\n 'q17_c8_r4',\n 'q14_c8_r1',\n 'q14_c8_r2',\n 'q14_c8_r3',\n 'q14_c8_r4',\n 'q17_c9_r1',\n 'q17_c9_r2',\n 'q17_c9_r3',\n 'q17_c9_r4',\n 'q17_c10_r1',\n 'q17_c10_r2',\n 'q17_c10_r3',\n 'q17_c10_r4',\n 'q14_c9_r1',\n 'q14_c9_r2',\n 'q14_c9_r3',\n 'q14_c9_r4',\n 'q14_c10_r1',\n 'q14_c10_r2',\n 'q14_c10_r3',\n 'q14_c10_r4',\n 'q15_c10_r1',\n 'q15_c10_r2',\n 'q15_c10_r3',\n 'q15_c10_r4',\n 'q16_c11_r1',\n 'q16_c11_r2',\n 'q16_c11_r3',\n 'q16_c11_r4',\n 'q16_c12_r1',\n 'q16_c12_r2',\n 'q16_c12_r3',\n 'q16_c12_r4',\n 'q14_c11_r1',\n 'q14_c11_r2',\n 'q14_c11_r3',\n 'q14_c11_r4',\n 'q15_c11_r1',\n 'q15_c11_r2',\n 'q15_c11_r3',\n 'q15_c11_r4',\n 'q15_c12_r1',\n 'q15_c12_r2',\n 'q15_c12_r3',\n 'q15_c12_r4',\n 'year']"
     },
     "metadata": {},
     "execution_count": 38
    }
   ],
   "source": []
  }
 ]
}