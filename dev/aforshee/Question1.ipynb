{
 "cells": [
  {
   "cell_type": "markdown",
   "metadata": {},
   "source": [
    "# Question 1: Performance of schools with art programs versus no art programs\n",
    "\n",
    "Questions associated with art programs vs. no art programs\n",
    "2018-2019 Q10 \"Which of the following art disciplines did you offer at your school this year (check all that apply)?\"\n",
    "2017-2018 Q10 \"Which of the following art disciplines did you offer at your school this year (check all that apply)?\"\n",
    "2016-2017 Q10 \"Which of the following art disciplines did you offer at your school this year (check all that apply)?\""
   ]
  },
  {
   "cell_type": "code",
   "execution_count": 77,
   "metadata": {},
   "outputs": [],
   "source": [
    "#import dependencies\n",
    "import matplotlib.pyplot as plt\n",
    "import pandas as pd\n",
    "import numpy as np\n",
    "import scipy.stats as stats"
   ]
  },
  {
   "cell_type": "code",
   "execution_count": 78,
   "metadata": {},
   "outputs": [],
   "source": [
    "#load data \n",
    "#resource for converting:https://medium.com/better-programming/using-python-to-convert-worksheets-in-an-excel-file-to-separate-csv-files-7dd406b652d7\n",
    "\n",
    "#survey_2014_2015 = \"2014-2015_Arts_Survey_Data.csv\"\n",
    "#survey_2015_2016 = \"2015-2016_Arts_Survey_Data.csv\"\n",
    "survey_2016_2017 = \"2016_-_2017_Arts_Survey_data.csv\"\n",
    "survey_2017_2018 = \"2017-2018_Arts_Data_Report (1).csv\"\n",
    "survey_2018_2019 = \"Copy of 2018 -2019 Arts Data Report.csv\"\n",
    "ELA_2013_2019 = \"2013-2019 ELA State Test Results.csv\"\n",
    "Math_2013_2019 = \"2013-2019 Math State Test Results.csv\"\n",
    "\n",
    "#survey_2014_2015_df = pd.read_csv(survey_2014_2015, encoding='utf-8', dtype = 'unicode')\n",
    "#survey_2015_2016_df = pd.read_csv(survey_2015_2016, encoding='utf-8', dtype = 'unicode')\n",
    "survey_2016_2017_df = pd.read_csv(survey_2016_2017, encoding='utf-8', dtype = 'unicode')\n",
    "survey_2017_2018_df = pd.read_csv(survey_2017_2018, encoding='utf-8', dtype = 'unicode')\n",
    "survey_2018_2019_df = pd.read_csv(survey_2018_2019, encoding='utf-8', dtype = 'unicode')\n",
    "ELA_2013_2019_df = pd.read_csv(ELA_2013_2019, encoding='utf-8', dtype = 'unicode')\n",
    "Math_2013_2019_df = pd.read_csv(Math_2013_2019, encoding='utf-8', dtype = 'unicode')"
   ]
  },
  {
   "cell_type": "code",
   "execution_count": 79,
   "metadata": {},
   "outputs": [],
   "source": [
    "#Merge data by DBN and SchoolYear\n",
    "\n",
    "\n",
    "#Add SchoolYear columns and SchoolYear to each survey file\n",
    "survey_2016_2017_df[\"Year\"] = '2017'\n",
    "survey_2017_2018_df[\"Year\"] = '2018'\n",
    "survey_2018_2019_df[\"Year\"] = '2019'\n",
    "\n",
    "#Add subject to state test score files\n",
    "ELA_2013_2019_df[\"Subject\"] = 'ELA'\n",
    "Math_2013_2019_df[\"Subject\"] = 'Math'\n",
    "\n",
    "#Change Q0_DBN column to just DBN in survey data\n",
    "survey_2016_2017_dbn = survey_2016_2017_df.rename(columns = {'Q0_DBN':'DBN'})\n",
    "survey_2016_2017_dbn\n",
    "survey_2017_2018_dbn = survey_2017_2018_df.rename(columns = {'Q0_DBN':'DBN'})\n",
    "survey_2017_2018_dbn\n",
    "survey_2018_2019_dbn = survey_2018_2019_df.rename(columns = {'Q0_DBN':'DBN'})\n",
    "survey_2018_2019_dbn\n",
    "\n",
    "#Append survey results\n",
    "survey_2016_2018 = survey_2016_2017_dbn.append(survey_2017_2018_dbn)\n",
    "survey_2016_2019 = survey_2016_2018.append(survey_2018_2019_dbn)\n",
    "survey_2016_2019\n",
    "#append state test files\n",
    "TestResults_2013_2019 = ELA_2013_2019_df.append(Math_2013_2019_df)\n",
    "TestResults_2013_2019\n",
    "\n",
    "#Merge survey and state test results files on Year and DBN\n",
    "combined_df = pd.merge(TestResults_2013_2019, survey_2016_2019, how='inner', on=['Year', 'DBN'])\n",
    "#combined_df.head(1)\n"
   ]
  },
  {
   "cell_type": "code",
   "execution_count": 80,
   "metadata": {},
   "outputs": [
    {
     "data": {
      "text/plain": [
       "(27175, 1840)"
      ]
     },
     "execution_count": 80,
     "metadata": {},
     "output_type": "execute_result"
    }
   ],
   "source": [
    "#explore combined_df should have 27175 rows and 1840 columns\n",
    "combined_df.shape\n",
    "\n"
   ]
  },
  {
   "cell_type": "code",
   "execution_count": 81,
   "metadata": {},
   "outputs": [
    {
     "data": {
      "text/plain": [
       "['DBN',\n",
       " 'School Name',\n",
       " 'Grade',\n",
       " 'Year',\n",
       " 'Subject',\n",
       " '# Level 3+4',\n",
       " '% Level 3+4',\n",
       " 'Full Time',\n",
       " 'Full Time Plus',\n",
       " 'Part Time',\n",
       " 'None']"
      ]
     },
     "execution_count": 81,
     "metadata": {},
     "output_type": "execute_result"
    }
   ],
   "source": [
    "#explore column headers\n",
    "list(renamed_df.columns)"
   ]
  },
  {
   "cell_type": "code",
   "execution_count": 82,
   "metadata": {},
   "outputs": [
    {
     "data": {
      "text/html": [
       "<div>\n",
       "<style scoped>\n",
       "    .dataframe tbody tr th:only-of-type {\n",
       "        vertical-align: middle;\n",
       "    }\n",
       "\n",
       "    .dataframe tbody tr th {\n",
       "        vertical-align: top;\n",
       "    }\n",
       "\n",
       "    .dataframe thead th {\n",
       "        text-align: right;\n",
       "    }\n",
       "</style>\n",
       "<table border=\"1\" class=\"dataframe\">\n",
       "  <thead>\n",
       "    <tr style=\"text-align: right;\">\n",
       "      <th></th>\n",
       "      <th>DBN</th>\n",
       "      <th>School Name</th>\n",
       "      <th>Grade</th>\n",
       "      <th>Year</th>\n",
       "      <th>Subject</th>\n",
       "      <th># Level 3+4</th>\n",
       "      <th>% Level 3+4</th>\n",
       "      <th>Q3_1</th>\n",
       "      <th>Q3_2</th>\n",
       "      <th>Q3_3</th>\n",
       "      <th>Q3_4</th>\n",
       "    </tr>\n",
       "  </thead>\n",
       "  <tbody>\n",
       "    <tr>\n",
       "      <td>0</td>\n",
       "      <td>01M015</td>\n",
       "      <td>P.S. 015 ROBERTO CLEMENTE</td>\n",
       "      <td>3</td>\n",
       "      <td>2017</td>\n",
       "      <td>ELA</td>\n",
       "      <td>9</td>\n",
       "      <td>33.3</td>\n",
       "      <td>0</td>\n",
       "      <td>1</td>\n",
       "      <td>0</td>\n",
       "      <td>0</td>\n",
       "    </tr>\n",
       "  </tbody>\n",
       "</table>\n",
       "</div>"
      ],
      "text/plain": [
       "      DBN                School Name Grade  Year Subject # Level 3+4  \\\n",
       "0  01M015  P.S. 015 ROBERTO CLEMENTE     3  2017     ELA           9   \n",
       "\n",
       "  % Level 3+4 Q3_1 Q3_2 Q3_3 Q3_4  \n",
       "0        33.3    0    1    0    0  "
      ]
     },
     "execution_count": 82,
     "metadata": {},
     "output_type": "execute_result"
    }
   ],
   "source": [
    "#only choose columns necessary for analysis df1 = df[['a','b']]\n",
    "cleaned_df = combined_df[[\"DBN\", \"School Name\", \"Grade\", \"Year\", \n",
    "                          \"Subject\", \"# Level 3+4\", \"% Level 3+4\", \n",
    "                          \"Q3_1\", \"Q3_2\", \"Q3_3\", \"Q3_4\"]]\n",
    "cleaned_df.head(1)"
   ]
  },
  {
   "cell_type": "code",
   "execution_count": 83,
   "metadata": {},
   "outputs": [
    {
     "data": {
      "text/html": [
       "<div>\n",
       "<style scoped>\n",
       "    .dataframe tbody tr th:only-of-type {\n",
       "        vertical-align: middle;\n",
       "    }\n",
       "\n",
       "    .dataframe tbody tr th {\n",
       "        vertical-align: top;\n",
       "    }\n",
       "\n",
       "    .dataframe thead th {\n",
       "        text-align: right;\n",
       "    }\n",
       "</style>\n",
       "<table border=\"1\" class=\"dataframe\">\n",
       "  <thead>\n",
       "    <tr style=\"text-align: right;\">\n",
       "      <th></th>\n",
       "      <th>DBN</th>\n",
       "      <th>School Name</th>\n",
       "      <th>Grade</th>\n",
       "      <th>Year</th>\n",
       "      <th>Subject</th>\n",
       "      <th># Level 3+4</th>\n",
       "      <th>% Level 3+4</th>\n",
       "      <th>Full Time</th>\n",
       "      <th>Full Time Plus</th>\n",
       "      <th>Part Time</th>\n",
       "      <th>None</th>\n",
       "    </tr>\n",
       "  </thead>\n",
       "  <tbody>\n",
       "    <tr>\n",
       "      <td>0</td>\n",
       "      <td>01M015</td>\n",
       "      <td>P.S. 015 ROBERTO CLEMENTE</td>\n",
       "      <td>3</td>\n",
       "      <td>2017</td>\n",
       "      <td>ELA</td>\n",
       "      <td>9</td>\n",
       "      <td>33.3</td>\n",
       "      <td>0</td>\n",
       "      <td>1</td>\n",
       "      <td>0</td>\n",
       "      <td>0</td>\n",
       "    </tr>\n",
       "  </tbody>\n",
       "</table>\n",
       "</div>"
      ],
      "text/plain": [
       "      DBN                School Name Grade  Year Subject # Level 3+4  \\\n",
       "0  01M015  P.S. 015 ROBERTO CLEMENTE     3  2017     ELA           9   \n",
       "\n",
       "  % Level 3+4 Full Time Full Time Plus Part Time None  \n",
       "0        33.3         0              1         0    0  "
      ]
     },
     "execution_count": 83,
     "metadata": {},
     "output_type": "execute_result"
    }
   ],
   "source": [
    "#rename columns\n",
    "   \n",
    "col_rename_dict = {\n",
    "    \"Q3_1\": \"Full Time\",\n",
    "    \"Q3_2\": \"Full Time Plus\",\n",
    "    \"Q3_3\": \"Part Time\",\n",
    "    \"Q3_4\": \"None\",\n",
    "\n",
    "}\n",
    "renamed_df = cleaned_df.rename(columns=col_rename_dict)\n",
    "renamed_df.head(1)\n",
    "\n"
   ]
  },
  {
   "cell_type": "code",
   "execution_count": 84,
   "metadata": {},
   "outputs": [
    {
     "data": {
      "text/html": [
       "<div>\n",
       "<style scoped>\n",
       "    .dataframe tbody tr th:only-of-type {\n",
       "        vertical-align: middle;\n",
       "    }\n",
       "\n",
       "    .dataframe tbody tr th {\n",
       "        vertical-align: top;\n",
       "    }\n",
       "\n",
       "    .dataframe thead th {\n",
       "        text-align: right;\n",
       "    }\n",
       "</style>\n",
       "<table border=\"1\" class=\"dataframe\">\n",
       "  <thead>\n",
       "    <tr style=\"text-align: right;\">\n",
       "      <th></th>\n",
       "      <th>DBN</th>\n",
       "      <th>School Name</th>\n",
       "      <th>Grade</th>\n",
       "      <th>Year</th>\n",
       "      <th>Subject</th>\n",
       "      <th># Level 3+4</th>\n",
       "      <th>% Level 3+4</th>\n",
       "      <th>Full Time</th>\n",
       "      <th>Full Time Plus</th>\n",
       "      <th>Part Time</th>\n",
       "      <th>None</th>\n",
       "    </tr>\n",
       "  </thead>\n",
       "  <tbody>\n",
       "    <tr>\n",
       "      <td>0</td>\n",
       "      <td>01M015</td>\n",
       "      <td>P.S. 015 ROBERTO CLEMENTE</td>\n",
       "      <td>3</td>\n",
       "      <td>2017</td>\n",
       "      <td>ELA</td>\n",
       "      <td>9</td>\n",
       "      <td>33.3</td>\n",
       "      <td>0</td>\n",
       "      <td>1</td>\n",
       "      <td>0</td>\n",
       "      <td>0</td>\n",
       "    </tr>\n",
       "  </tbody>\n",
       "</table>\n",
       "</div>"
      ],
      "text/plain": [
       "      DBN                School Name Grade  Year Subject # Level 3+4  \\\n",
       "0  01M015  P.S. 015 ROBERTO CLEMENTE     3  2017     ELA           9   \n",
       "\n",
       "  % Level 3+4 Full Time Full Time Plus Part Time None  \n",
       "0        33.3         0              1         0    0  "
      ]
     },
     "execution_count": 84,
     "metadata": {},
     "output_type": "execute_result"
    }
   ],
   "source": [
    "#68 rows have an 's' in the % of Level 3+4 and need to be removed\n",
    "sorted_df = renamed_df.sort_values(\"% Level 3+4\", ascending = True)\n",
    "sorted_df[\"% Level 3+4\"]\n",
    "sorted_df.groupby([\"% Level 3+4\"]).count()\n",
    "\n",
    "\n",
    "# Get names of indexes for which % Level 3+4 has value 's'\n",
    "indexNames = renamed_df[renamed_df['% Level 3+4'] == 's' ].index\n",
    " \n",
    "# Delete 's' row indexes from dataFrame\n",
    "renamed_df.drop(indexNames , inplace=True)\n",
    "renamed_df.head(1)\n",
    "\n"
   ]
  },
  {
   "cell_type": "code",
   "execution_count": 85,
   "metadata": {},
   "outputs": [
    {
     "data": {
      "text/html": [
       "<div>\n",
       "<style scoped>\n",
       "    .dataframe tbody tr th:only-of-type {\n",
       "        vertical-align: middle;\n",
       "    }\n",
       "\n",
       "    .dataframe tbody tr th {\n",
       "        vertical-align: top;\n",
       "    }\n",
       "\n",
       "    .dataframe thead th {\n",
       "        text-align: right;\n",
       "    }\n",
       "</style>\n",
       "<table border=\"1\" class=\"dataframe\">\n",
       "  <thead>\n",
       "    <tr style=\"text-align: right;\">\n",
       "      <th></th>\n",
       "      <th>DBN</th>\n",
       "      <th>School Name</th>\n",
       "      <th>Grade</th>\n",
       "      <th>Year</th>\n",
       "      <th>Subject</th>\n",
       "      <th># Level 3+4</th>\n",
       "      <th>% Level 3+4</th>\n",
       "      <th>Full Time</th>\n",
       "      <th>Full Time Plus</th>\n",
       "      <th>Part Time</th>\n",
       "      <th>None</th>\n",
       "    </tr>\n",
       "  </thead>\n",
       "  <tbody>\n",
       "    <tr>\n",
       "      <td>0</td>\n",
       "      <td>01M015</td>\n",
       "      <td>P.S. 015 ROBERTO CLEMENTE</td>\n",
       "      <td>3</td>\n",
       "      <td>2017</td>\n",
       "      <td>ELA</td>\n",
       "      <td>9</td>\n",
       "      <td>33.3</td>\n",
       "      <td>0</td>\n",
       "      <td>1</td>\n",
       "      <td>0</td>\n",
       "      <td>0</td>\n",
       "    </tr>\n",
       "  </tbody>\n",
       "</table>\n",
       "</div>"
      ],
      "text/plain": [
       "      DBN                School Name Grade  Year Subject # Level 3+4  \\\n",
       "0  01M015  P.S. 015 ROBERTO CLEMENTE     3  2017     ELA           9   \n",
       "\n",
       "  % Level 3+4 Full Time Full Time Plus Part Time None  \n",
       "0        33.3         0              1         0    0  "
      ]
     },
     "execution_count": 85,
     "metadata": {},
     "output_type": "execute_result"
    }
   ],
   "source": [
    "#6275 rows have an 'All Grades' in the Grade column and need to be removed\n",
    "sorted_df = renamed_df.sort_values(\"Grade\", ascending = True)\n",
    "sorted_df[\"Grade\"]\n",
    "sorted_df.groupby([\"Grade\"]).count()\n",
    "\n",
    "# Get names of indexes for which Grade has value 'All Grades'\n",
    "indexNames = renamed_df[renamed_df['Grade'] == 'All Grades' ].index\n",
    " \n",
    "# Delete 'All Grades' row indexes from dataFrame\n",
    "renamed_df.drop(indexNames , inplace=True)\n",
    "renamed_df.head(1)"
   ]
  },
  {
   "cell_type": "code",
   "execution_count": 86,
   "metadata": {},
   "outputs": [
    {
     "data": {
      "text/plain": [
       "20832"
      ]
     },
     "execution_count": 86,
     "metadata": {},
     "output_type": "execute_result"
    }
   ],
   "source": [
    "#explore data\n",
    "total = len(renamed_df)\n",
    "total"
   ]
  },
  {
   "cell_type": "code",
   "execution_count": 87,
   "metadata": {},
   "outputs": [],
   "source": [
    "#change type\n",
    "renamed_df['Full Time'] = renamed_df['Full Time'].astype(float)\n",
    "renamed_df['Full Time Plus'] = renamed_df['Full Time Plus'].astype(float)\n",
    "renamed_df['Part Time'] = renamed_df['Part Time'].astype(float)\n",
    "renamed_df['None'] = renamed_df['None'].astype(float)\n",
    "renamed_df['% Level 3+4'] = renamed_df['% Level 3+4'].astype(float)"
   ]
  },
  {
   "cell_type": "code",
   "execution_count": 88,
   "metadata": {},
   "outputs": [],
   "source": [
    "#Write file to csv\n",
    "renamed_df.to_csv('renamed_df.csv', index=False)\n"
   ]
  },
  {
   "cell_type": "code",
   "execution_count": 89,
   "metadata": {},
   "outputs": [
    {
     "data": {
      "text/html": [
       "<div>\n",
       "<style scoped>\n",
       "    .dataframe tbody tr th:only-of-type {\n",
       "        vertical-align: middle;\n",
       "    }\n",
       "\n",
       "    .dataframe tbody tr th {\n",
       "        vertical-align: top;\n",
       "    }\n",
       "\n",
       "    .dataframe thead th {\n",
       "        text-align: right;\n",
       "    }\n",
       "</style>\n",
       "<table border=\"1\" class=\"dataframe\">\n",
       "  <thead>\n",
       "    <tr style=\"text-align: right;\">\n",
       "      <th></th>\n",
       "      <th>Full Time Only</th>\n",
       "      <th>Not Full Time Only</th>\n",
       "      <th>Total of these measures</th>\n",
       "      <th>Total</th>\n",
       "      <th>Did Not Answer</th>\n",
       "    </tr>\n",
       "  </thead>\n",
       "  <tbody>\n",
       "    <tr>\n",
       "      <td>0</td>\n",
       "      <td>553.0</td>\n",
       "      <td>20249.0</td>\n",
       "      <td>20802.0</td>\n",
       "      <td>20832</td>\n",
       "      <td>30.0</td>\n",
       "    </tr>\n",
       "  </tbody>\n",
       "</table>\n",
       "</div>"
      ],
      "text/plain": [
       "   Full Time Only  Not Full Time Only  Total of these measures  Total  \\\n",
       "0           553.0             20249.0                  20802.0  20832   \n",
       "\n",
       "   Did Not Answer  \n",
       "0            30.0  "
      ]
     },
     "execution_count": 89,
     "metadata": {},
     "output_type": "execute_result"
    }
   ],
   "source": [
    "#explore data more\n",
    "fulltime = renamed_df[\"Full Time\"].sum()\n",
    "fulltime\n",
    "fulltimeplus = renamed_df[\"Full Time Plus\"].sum()\n",
    "fulltimeplus\n",
    "parttime = renamed_df[\"Part Time\"].sum()\n",
    "parttime\n",
    "none = renamed_df[\"None\"].sum()\n",
    "none\n",
    "count_total = fulltime + fulltimeplus + parttime + none\n",
    "alltheothers = fulltimeplus + parttime + none\n",
    "unaccounted = total - count_total\n",
    "\n",
    "summary_dict = {'Full Time Only': [fulltime],\n",
    "        #  'Full Time Plus Count': [fulltimeplus],\n",
    "         # 'Part Time Count': [parttime],\n",
    "          #'None Count': [none],\n",
    "                 'Not Full Time Only': [alltheothers],\n",
    "               'Total of these measures': [count_total],\n",
    "                 'Total': [total],\n",
    "               'Did Not Answer': [unaccounted]}\n",
    "summary = pd.DataFrame.from_dict(summary_dict) #, orient='index')\n",
    "summary"
   ]
  },
  {
   "cell_type": "markdown",
   "metadata": {},
   "source": [
    "Analyze Data\n",
    "1. Math and ELA together\n",
    "2. ELA only\n",
    "3. Math only\n",
    "4. By grade"
   ]
  },
  {
   "cell_type": "code",
   "execution_count": 116,
   "metadata": {},
   "outputs": [
    {
     "data": {
      "text/plain": [
       "Full Time\n",
       "0.0    20279\n",
       "1.0      553\n",
       "Name: % Level 3+4, dtype: int64"
      ]
     },
     "execution_count": 116,
     "metadata": {},
     "output_type": "execute_result"
    }
   ],
   "source": [
    "#1. Math and ELA together frequencies\n",
    "renamed_df.groupby([\"Full Time\"])[\"% Level 3+4\"].count()"
   ]
  },
  {
   "cell_type": "code",
   "execution_count": 117,
   "metadata": {},
   "outputs": [
    {
     "data": {
      "text/plain": [
       "Full Time\n",
       "0.0    10051\n",
       "1.0      274\n",
       "Name: % Level 3+4, dtype: int64"
      ]
     },
     "execution_count": 117,
     "metadata": {},
     "output_type": "execute_result"
    }
   ],
   "source": [
    "#2. Math only frequencies\n",
    "cond1 = renamed_df['Subject'] == 'Math'\n",
    "math_renamed_df = renamed_df[cond1]\n",
    "math_renamed_df.groupby([\"Full Time\"])[\"% Level 3+4\"].count()"
   ]
  },
  {
   "cell_type": "code",
   "execution_count": 118,
   "metadata": {},
   "outputs": [
    {
     "data": {
      "text/plain": [
       "Full Time\n",
       "0.0    10228\n",
       "1.0      279\n",
       "Name: % Level 3+4, dtype: int64"
      ]
     },
     "execution_count": 118,
     "metadata": {},
     "output_type": "execute_result"
    }
   ],
   "source": [
    "#3. ELA only frequencies\n",
    "cond2 = renamed_df['Subject'] == 'ELA'\n",
    "ela_renamed_df = renamed_df[cond2]\n",
    "ela_renamed_df.groupby([\"Full Time\"])[\"% Level 3+4\"].count()"
   ]
  },
  {
   "cell_type": "code",
   "execution_count": 91,
   "metadata": {},
   "outputs": [
    {
     "data": {
      "text/plain": [
       "(array([1161., 2685., 3484., 3218., 2660., 2500., 2075., 1474.,  961.,\n",
       "         614.]),\n",
       " array([  0.,  10.,  20.,  30.,  40.,  50.,  60.,  70.,  80.,  90., 100.]),\n",
       " <a list of 10 Patch objects>)"
      ]
     },
     "execution_count": 91,
     "metadata": {},
     "output_type": "execute_result"
    },
    {
     "data": {
      "image/png": "[encoded data removed]",
      "text/plain": [
       "<Figure size 432x288 with 1 Axes>"
      ]
     },
     "metadata": {
      "needs_background": "light"
     },
     "output_type": "display_data"
    }
   ],
   "source": [
    "#1 Math and ELA together histograms\n",
    "plt.hist(renamed_df[\"% Level 3+4\"], bins=None, histtype='bar', align='mid', orientation='vertical')"
   ]
  },
  {
   "cell_type": "code",
   "execution_count": 114,
   "metadata": {},
   "outputs": [
    {
     "data": {
      "text/plain": [
       "(array([ 867., 1561., 1639., 1438., 1197., 1113.,  989.,  699.,  525.,\n",
       "         297.]),\n",
       " array([  0.,  10.,  20.,  30.,  40.,  50.,  60.,  70.,  80.,  90., 100.]),\n",
       " <a list of 10 Patch objects>)"
      ]
     },
     "execution_count": 114,
     "metadata": {},
     "output_type": "execute_result"
    },
    {
     "data": {
      "image/png": "[encoded data removed]",
      "text/plain": [
       "<Figure size 432x288 with 1 Axes>"
      ]
     },
     "metadata": {
      "needs_background": "light"
     },
     "output_type": "display_data"
    }
   ],
   "source": [
    "#2. Math histogram\n",
    "plt.hist(math_renamed_df[\"% Level 3+4\"], bins=None, histtype='bar', align='mid', orientation='vertical')\n"
   ]
  },
  {
   "cell_type": "code",
   "execution_count": 119,
   "metadata": {},
   "outputs": [
    {
     "data": {
      "text/plain": [
       "(array([ 294., 1124., 1845., 1780., 1463., 1387., 1086.,  775.,  436.,\n",
       "         317.]),\n",
       " array([  0.,  10.,  20.,  30.,  40.,  50.,  60.,  70.,  80.,  90., 100.]),\n",
       " <a list of 10 Patch objects>)"
      ]
     },
     "execution_count": 119,
     "metadata": {},
     "output_type": "execute_result"
    },
    {
     "data": {
      "image/png": "[encoded data removed]",
      "text/plain": [
       "<Figure size 432x288 with 1 Axes>"
      ]
     },
     "metadata": {
      "needs_background": "light"
     },
     "output_type": "display_data"
    }
   ],
   "source": [
    "#3. ELA histogram\n",
    "plt.hist(ela_renamed_df[\"% Level 3+4\"], bins=None, histtype='bar', align='mid', orientation='vertical')"
   ]
  },
  {
   "cell_type": "code",
   "execution_count": 108,
   "metadata": {},
   "outputs": [
    {
     "data": {
      "text/html": [
       "<div>\n",
       "<style scoped>\n",
       "    .dataframe tbody tr th:only-of-type {\n",
       "        vertical-align: middle;\n",
       "    }\n",
       "\n",
       "    .dataframe tbody tr th {\n",
       "        vertical-align: top;\n",
       "    }\n",
       "\n",
       "    .dataframe thead th {\n",
       "        text-align: right;\n",
       "    }\n",
       "</style>\n",
       "<table border=\"1\" class=\"dataframe\">\n",
       "  <thead>\n",
       "    <tr style=\"text-align: right;\">\n",
       "      <th></th>\n",
       "      <th>Mean</th>\n",
       "      <th>Median</th>\n",
       "      <th>Variance</th>\n",
       "      <th>Standard Deviation</th>\n",
       "      <th>Maximum</th>\n",
       "      <th>Minimum</th>\n",
       "    </tr>\n",
       "    <tr>\n",
       "      <th>Full Time</th>\n",
       "      <th></th>\n",
       "      <th></th>\n",
       "      <th></th>\n",
       "      <th></th>\n",
       "      <th></th>\n",
       "      <th></th>\n",
       "    </tr>\n",
       "  </thead>\n",
       "  <tbody>\n",
       "    <tr>\n",
       "      <td>0.0</td>\n",
       "      <td>42.419986</td>\n",
       "      <td>39.3</td>\n",
       "      <td>540.682462</td>\n",
       "      <td>23.252580</td>\n",
       "      <td>100.0</td>\n",
       "      <td>0.0</td>\n",
       "    </tr>\n",
       "    <tr>\n",
       "      <td>1.0</td>\n",
       "      <td>45.742857</td>\n",
       "      <td>43.3</td>\n",
       "      <td>616.359410</td>\n",
       "      <td>24.826587</td>\n",
       "      <td>100.0</td>\n",
       "      <td>0.0</td>\n",
       "    </tr>\n",
       "  </tbody>\n",
       "</table>\n",
       "</div>"
      ],
      "text/plain": [
       "                Mean  Median    Variance  Standard Deviation  Maximum  Minimum\n",
       "Full Time                                                                     \n",
       "0.0        42.419986    39.3  540.682462           23.252580    100.0      0.0\n",
       "1.0        45.742857    43.3  616.359410           24.826587    100.0      0.0"
      ]
     },
     "execution_count": 108,
     "metadata": {},
     "output_type": "execute_result"
    }
   ],
   "source": [
    "#1. Math and ELA descriptives pd.concat([s1, s2], ignore_index=True), df.columns = ['a', 'b', 'c']\n",
    "MandELA_mean = renamed_df.groupby([\"Full Time\"])[\"% Level 3+4\"].mean()\n",
    "MandELA_median = renamed_df.groupby([\"Full Time\"])[\"% Level 3+4\"].median()\n",
    "MandELA_var = renamed_df.groupby([\"Full Time\"])[\"% Level 3+4\"].var()\n",
    "MandELA_std = renamed_df.groupby([\"Full Time\"])[\"% Level 3+4\"].std()\n",
    "MandELA_max = renamed_df.groupby([\"Full Time\"])[\"% Level 3+4\"].max()\n",
    "MandELA_min = renamed_df.groupby([\"Full Time\"])[\"% Level 3+4\"].min()\n",
    "\n",
    "summary = pd.concat([MandELA_mean, MandELA_median, MandELA_var, MandELA_std, \n",
    "                     MandELA_max, MandELA_min], axis=1, join='inner')\n",
    "\n",
    "summary.columns = ['Mean', 'Median', 'Variance', \"Standard Deviation\", \"Maximum\", \"Minimum\"]\n",
    "summary"
   ]
  },
  {
   "cell_type": "code",
   "execution_count": 123,
   "metadata": {
    "scrolled": true
   },
   "outputs": [
    {
     "data": {
      "text/html": [
       "<div>\n",
       "<style scoped>\n",
       "    .dataframe tbody tr th:only-of-type {\n",
       "        vertical-align: middle;\n",
       "    }\n",
       "\n",
       "    .dataframe tbody tr th {\n",
       "        vertical-align: top;\n",
       "    }\n",
       "\n",
       "    .dataframe thead th {\n",
       "        text-align: right;\n",
       "    }\n",
       "</style>\n",
       "<table border=\"1\" class=\"dataframe\">\n",
       "  <thead>\n",
       "    <tr style=\"text-align: right;\">\n",
       "      <th></th>\n",
       "      <th>Mean</th>\n",
       "      <th>Median</th>\n",
       "      <th>Variance</th>\n",
       "      <th>Standard Deviation</th>\n",
       "      <th>Maximum</th>\n",
       "      <th>Minimum</th>\n",
       "    </tr>\n",
       "    <tr>\n",
       "      <th>Full Time</th>\n",
       "      <th></th>\n",
       "      <th></th>\n",
       "      <th></th>\n",
       "      <th></th>\n",
       "      <th></th>\n",
       "      <th></th>\n",
       "    </tr>\n",
       "  </thead>\n",
       "  <tbody>\n",
       "    <tr>\n",
       "      <td>0.0</td>\n",
       "      <td>40.78826</td>\n",
       "      <td>37.5</td>\n",
       "      <td>594.006943</td>\n",
       "      <td>24.372258</td>\n",
       "      <td>100.0</td>\n",
       "      <td>0.0</td>\n",
       "    </tr>\n",
       "    <tr>\n",
       "      <td>1.0</td>\n",
       "      <td>43.49708</td>\n",
       "      <td>39.1</td>\n",
       "      <td>658.207244</td>\n",
       "      <td>25.655550</td>\n",
       "      <td>100.0</td>\n",
       "      <td>0.0</td>\n",
       "    </tr>\n",
       "  </tbody>\n",
       "</table>\n",
       "</div>"
      ],
      "text/plain": [
       "               Mean  Median    Variance  Standard Deviation  Maximum  Minimum\n",
       "Full Time                                                                    \n",
       "0.0        40.78826    37.5  594.006943           24.372258    100.0      0.0\n",
       "1.0        43.49708    39.1  658.207244           25.655550    100.0      0.0"
      ]
     },
     "execution_count": 123,
     "metadata": {},
     "output_type": "execute_result"
    }
   ],
   "source": [
    "#2. Math descriptives pd.concat([s1, s2], ignore_index=True), df.columns = ['a', 'b', 'c']\n",
    "M_mean = math_renamed_df.groupby([\"Full Time\"])[\"% Level 3+4\"].mean()\n",
    "M_median = math_renamed_df.groupby([\"Full Time\"])[\"% Level 3+4\"].median()\n",
    "M_var = math_renamed_df.groupby([\"Full Time\"])[\"% Level 3+4\"].var()\n",
    "M_std = math_renamed_df.groupby([\"Full Time\"])[\"% Level 3+4\"].std()\n",
    "M_max = math_renamed_df.groupby([\"Full Time\"])[\"% Level 3+4\"].max()\n",
    "M_min = math_renamed_df.groupby([\"Full Time\"])[\"% Level 3+4\"].min()\n",
    "\n",
    "m_summary = pd.concat([M_mean, M_median, M_var, M_std, \n",
    "                     M_max, M_min], axis=1, join='inner')\n",
    "\n",
    "m_summary.columns = ['Mean', 'Median', 'Variance', \"Standard Deviation\", \"Maximum\", \"Minimum\"]\n",
    "m_summary"
   ]
  },
  {
   "cell_type": "code",
   "execution_count": 124,
   "metadata": {
    "scrolled": true
   },
   "outputs": [
    {
     "data": {
      "text/html": [
       "<div>\n",
       "<style scoped>\n",
       "    .dataframe tbody tr th:only-of-type {\n",
       "        vertical-align: middle;\n",
       "    }\n",
       "\n",
       "    .dataframe tbody tr th {\n",
       "        vertical-align: top;\n",
       "    }\n",
       "\n",
       "    .dataframe thead th {\n",
       "        text-align: right;\n",
       "    }\n",
       "</style>\n",
       "<table border=\"1\" class=\"dataframe\">\n",
       "  <thead>\n",
       "    <tr style=\"text-align: right;\">\n",
       "      <th></th>\n",
       "      <th>Mean</th>\n",
       "      <th>Median</th>\n",
       "      <th>Variance</th>\n",
       "      <th>Standard Deviation</th>\n",
       "      <th>Maximum</th>\n",
       "      <th>Minimum</th>\n",
       "    </tr>\n",
       "    <tr>\n",
       "      <th>Full Time</th>\n",
       "      <th></th>\n",
       "      <th></th>\n",
       "      <th></th>\n",
       "      <th></th>\n",
       "      <th></th>\n",
       "      <th></th>\n",
       "    </tr>\n",
       "  </thead>\n",
       "  <tbody>\n",
       "    <tr>\n",
       "      <td>0.0</td>\n",
       "      <td>44.023475</td>\n",
       "      <td>41.1</td>\n",
       "      <td>483.145606</td>\n",
       "      <td>21.980573</td>\n",
       "      <td>100.0</td>\n",
       "      <td>0.0</td>\n",
       "    </tr>\n",
       "    <tr>\n",
       "      <td>1.0</td>\n",
       "      <td>47.948387</td>\n",
       "      <td>46.6</td>\n",
       "      <td>567.628550</td>\n",
       "      <td>23.824956</td>\n",
       "      <td>100.0</td>\n",
       "      <td>4.1</td>\n",
       "    </tr>\n",
       "  </tbody>\n",
       "</table>\n",
       "</div>"
      ],
      "text/plain": [
       "                Mean  Median    Variance  Standard Deviation  Maximum  Minimum\n",
       "Full Time                                                                     \n",
       "0.0        44.023475    41.1  483.145606           21.980573    100.0      0.0\n",
       "1.0        47.948387    46.6  567.628550           23.824956    100.0      4.1"
      ]
     },
     "execution_count": 124,
     "metadata": {},
     "output_type": "execute_result"
    }
   ],
   "source": [
    "#3. ELA descriptives pd.concat([s1, s2], ignore_index=True), df.columns = ['a', 'b', 'c']\n",
    "ela_mean = ela_renamed_df.groupby([\"Full Time\"])[\"% Level 3+4\"].mean()\n",
    "ela_median = ela_renamed_df.groupby([\"Full Time\"])[\"% Level 3+4\"].median()\n",
    "ela_var = ela_renamed_df.groupby([\"Full Time\"])[\"% Level 3+4\"].var()\n",
    "ela_std = ela_renamed_df.groupby([\"Full Time\"])[\"% Level 3+4\"].std()\n",
    "ela_max = ela_renamed_df.groupby([\"Full Time\"])[\"% Level 3+4\"].max()\n",
    "ela_min = ela_renamed_df.groupby([\"Full Time\"])[\"% Level 3+4\"].min()\n",
    "\n",
    "ela_summary = pd.concat([ela_mean, ela_median, ela_var, ela_std, \n",
    "                     ela_max, ela_min], axis=1, join='inner')\n",
    "\n",
    "ela_summary.columns = ['Mean', 'Median', 'Variance', \"Standard Deviation\", \"Maximum\", \"Minimum\"]\n",
    "ela_summary"
   ]
  },
  {
   "cell_type": "code",
   "execution_count": 73,
   "metadata": {},
   "outputs": [
    {
     "data": {
      "text/plain": [
       "Ttest_indResult(statistic=3.1104678181853913, pvalue=0.0019598636954945635)"
      ]
     },
     "execution_count": 73,
     "metadata": {},
     "output_type": "execute_result"
    }
   ],
   "source": [
    "#1. Math and ELA together Welch's independent ttest\n",
    "\n",
    "#perform independent t-test to see if no art programs is different from 1 or more art programs group both Math and ELA\n",
    "#(Welch's t-test) equal_var = False\n",
    "fulltime_test = renamed_df[renamed_df['Full Time'] == 1]\n",
    "none_test = renamed_df[renamed_df['Full Time'] == 0]\n",
    "\n",
    "stats.ttest_ind(fulltime_test['% Level 3+4'], none_test['% Level 3+4'], equal_var=False)"
   ]
  },
  {
   "cell_type": "code",
   "execution_count": 125,
   "metadata": {},
   "outputs": [
    {
     "name": "stderr",
     "output_type": "stream",
     "text": [
      "C:\\Users\\allys\\Anaconda3\\lib\\site-packages\\ipykernel_launcher.py:5: UserWarning: Boolean Series key will be reindexed to match DataFrame index.\n",
      "  \"\"\"\n",
      "C:\\Users\\allys\\Anaconda3\\lib\\site-packages\\ipykernel_launcher.py:6: UserWarning: Boolean Series key will be reindexed to match DataFrame index.\n",
      "  \n"
     ]
    },
    {
     "data": {
      "text/plain": [
       "Ttest_indResult(statistic=1.7266192169256538, pvalue=0.0853136551958103)"
      ]
     },
     "execution_count": 125,
     "metadata": {},
     "output_type": "execute_result"
    }
   ],
   "source": [
    "#2. Math Welch's independent ttest\n",
    "\n",
    "#perform independent t-test to see if no art programs is different from 1 or more art programs group both Math and ELA\n",
    "#(Welch's t-test) equal_var = False\n",
    "fulltime_test = math_renamed_df[renamed_df['Full Time'] == 1]\n",
    "none_test = math_renamed_df[renamed_df['Full Time'] == 0]\n",
    "\n",
    "stats.ttest_ind(fulltime_test['% Level 3+4'], none_test['% Level 3+4'], equal_var=False)"
   ]
  },
  {
   "cell_type": "code",
   "execution_count": 126,
   "metadata": {},
   "outputs": [
    {
     "name": "stderr",
     "output_type": "stream",
     "text": [
      "C:\\Users\\allys\\Anaconda3\\lib\\site-packages\\ipykernel_launcher.py:5: UserWarning: Boolean Series key will be reindexed to match DataFrame index.\n",
      "  \"\"\"\n",
      "C:\\Users\\allys\\Anaconda3\\lib\\site-packages\\ipykernel_launcher.py:6: UserWarning: Boolean Series key will be reindexed to match DataFrame index.\n",
      "  \n"
     ]
    },
    {
     "data": {
      "text/plain": [
       "Ttest_indResult(statistic=2.7202939268002924, pvalue=0.006914770235549835)"
      ]
     },
     "execution_count": 126,
     "metadata": {},
     "output_type": "execute_result"
    }
   ],
   "source": [
    "#3. ELA Welch's independent ttest\n",
    "\n",
    "#perform independent t-test to see if no art programs is different from 1 or more art programs group both Math and ELA\n",
    "#(Welch's t-test) equal_var = False\n",
    "fulltime_test = ela_renamed_df[renamed_df['Full Time'] == 1]\n",
    "none_test = ela_renamed_df[renamed_df['Full Time'] == 0]\n",
    "\n",
    "stats.ttest_ind(fulltime_test['% Level 3+4'], none_test['% Level 3+4'], equal_var=False)"
   ]
  },
  {
   "cell_type": "code",
   "execution_count": null,
   "metadata": {},
   "outputs": [],
   "source": []
  }
 ],
 "metadata": {
  "kernelspec": {
   "display_name": "Python 3",
   "language": "python",
   "name": "python3"
  },
  "language_info": {
   "codemirror_mode": {
    "name": "ipython",
    "version": 3
   },
   "file_extension": ".py",
   "mimetype": "text/x-python",
   "name": "python",
   "nbconvert_exporter": "python",
   "pygments_lexer": "ipython3",
   "version": "3.7.4"
  }
 },
 "nbformat": 4,
 "nbformat_minor": 2
}
