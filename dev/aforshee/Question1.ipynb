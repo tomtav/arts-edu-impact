{
 "cells": [
  {
   "cell_type": "markdown",
   "metadata": {},
   "source": [
    "# Question 1: Performance of schools with art programs versus no art programs\n",
    "\n",
    "Question 1: How do art programs affect state test results (ELA) in New York City schools?\n",
    "\n",
    "Hypothesis: IF art programs have an affect on state test results THEN there will be a statistically significant difference in state test scores between schools with a full time arts supervisor and schools without a full time arts supervisor.\n",
    "    \n",
    "Null Hypothesis: IF art programs do not have an affect on state test results THEN there will be no statistically significant difference in state test scores between schools with a full time arts supervisor and schools without a full time arts supervisor.\n"
   ]
  },
  {
   "cell_type": "markdown",
   "metadata": {},
   "source": [
    "GET AND MERGE DATA"
   ]
  },
  {
   "cell_type": "code",
   "execution_count": 177,
   "metadata": {},
   "outputs": [],
   "source": [
    "import warnings\n",
    "warnings.filterwarnings('ignore')"
   ]
  },
  {
   "cell_type": "code",
   "execution_count": 178,
   "metadata": {},
   "outputs": [],
   "source": [
    "#import dependencies\n",
    "import matplotlib.pyplot as plt\n",
    "import pandas as pd\n",
    "import numpy as np\n",
    "import scipy.stats as stats\n"
   ]
  },
  {
   "cell_type": "code",
   "execution_count": 147,
   "metadata": {},
   "outputs": [],
   "source": [
    "#load data \n",
    "#resource for converting:https://medium.com/better-programming/using-python-to-convert-worksheets-in-an-excel-file-to-separate-csv-files-7dd406b652d7\n",
    "\n",
    "#survey_2014_2015 = \"2014-2015_Arts_Survey_Data.csv\"\n",
    "#survey_2015_2016 = \"2015-2016_Arts_Survey_Data.csv\"\n",
    "survey_2016_2017 = \"2016_-_2017_Arts_Survey_data.csv\"\n",
    "survey_2017_2018 = \"2017-2018_Arts_Data_Report (1).csv\"\n",
    "survey_2018_2019 = \"Copy of 2018 -2019 Arts Data Report.csv\"\n",
    "ELA_2013_2019 = \"2013-2019 ELA State Test Results.csv\"\n",
    "Math_2013_2019 = \"2013-2019 Math State Test Results.csv\"\n",
    "\n",
    "#survey_2014_2015_df = pd.read_csv(survey_2014_2015, encoding='utf-8', dtype = 'unicode')\n",
    "#survey_2015_2016_df = pd.read_csv(survey_2015_2016, encoding='utf-8', dtype = 'unicode')\n",
    "survey_2016_2017_df = pd.read_csv(survey_2016_2017, encoding='utf-8', dtype = 'unicode')\n",
    "survey_2017_2018_df = pd.read_csv(survey_2017_2018, encoding='utf-8', dtype = 'unicode')\n",
    "survey_2018_2019_df = pd.read_csv(survey_2018_2019, encoding='utf-8', dtype = 'unicode')\n",
    "ELA_2013_2019_df = pd.read_csv(ELA_2013_2019, encoding='utf-8', dtype = 'unicode')\n",
    "Math_2013_2019_df = pd.read_csv(Math_2013_2019, encoding='utf-8', dtype = 'unicode')"
   ]
  },
  {
   "cell_type": "code",
   "execution_count": 148,
   "metadata": {},
   "outputs": [],
   "source": [
    "#Merge data by DBN and SchoolYear\n",
    "\n",
    "\n",
    "#Add SchoolYear columns and SchoolYear to each survey file\n",
    "survey_2016_2017_df[\"Year\"] = '2017'\n",
    "survey_2017_2018_df[\"Year\"] = '2018'\n",
    "survey_2018_2019_df[\"Year\"] = '2019'\n",
    "\n",
    "#Add subject to state test score files\n",
    "ELA_2013_2019_df[\"Subject\"] = 'ELA'\n",
    "Math_2013_2019_df[\"Subject\"] = 'Math'\n",
    "\n",
    "#Change Q0_DBN column to just DBN in survey data\n",
    "survey_2016_2017_dbn = survey_2016_2017_df.rename(columns = {'Q0_DBN':'DBN'})\n",
    "survey_2016_2017_dbn\n",
    "survey_2017_2018_dbn = survey_2017_2018_df.rename(columns = {'Q0_DBN':'DBN'})\n",
    "survey_2017_2018_dbn\n",
    "survey_2018_2019_dbn = survey_2018_2019_df.rename(columns = {'Q0_DBN':'DBN'})\n",
    "survey_2018_2019_dbn\n",
    "\n",
    "#Append survey results\n",
    "survey_2016_2018 = survey_2016_2017_dbn.append(survey_2017_2018_dbn)\n",
    "survey_2016_2019 = survey_2016_2018.append(survey_2018_2019_dbn)\n",
    "survey_2016_2019\n",
    "#append state test files\n",
    "TestResults_2013_2019 = ELA_2013_2019_df.append(Math_2013_2019_df)\n",
    "TestResults_2013_2019\n",
    "\n",
    "#Merge survey and state test results files on Year and DBN\n",
    "combined_df = pd.merge(TestResults_2013_2019, survey_2016_2019, how='inner', on=['Year', 'DBN'])\n",
    "#combined_df.head(1)\n"
   ]
  },
  {
   "cell_type": "markdown",
   "metadata": {},
   "source": [
    "EXPLORE AND CLEAN DATA"
   ]
  },
  {
   "cell_type": "code",
   "execution_count": 149,
   "metadata": {},
   "outputs": [
    {
     "data": {
      "text/plain": [
       "(27175, 1840)"
      ]
     },
     "execution_count": 149,
     "metadata": {},
     "output_type": "execute_result"
    }
   ],
   "source": [
    "#explore combined_df should have 27175 rows and 1840 columns\n",
    "combined_df.shape"
   ]
  },
  {
   "cell_type": "code",
   "execution_count": 150,
   "metadata": {},
   "outputs": [
    {
     "data": {
      "text/plain": [
       "['DBN',\n",
       " 'School Name',\n",
       " 'Grade',\n",
       " 'Year',\n",
       " 'Subject',\n",
       " '# Level 3+4',\n",
       " '% Level 3+4',\n",
       " 'Full Time',\n",
       " 'Full Time Plus',\n",
       " 'Part Time',\n",
       " 'None']"
      ]
     },
     "execution_count": 150,
     "metadata": {},
     "output_type": "execute_result"
    }
   ],
   "source": [
    "#explore column headers\n",
    "list(renamed_df.columns)"
   ]
  },
  {
   "cell_type": "code",
   "execution_count": 151,
   "metadata": {},
   "outputs": [
    {
     "data": {
      "text/html": [
       "<div>\n",
       "<style scoped>\n",
       "    .dataframe tbody tr th:only-of-type {\n",
       "        vertical-align: middle;\n",
       "    }\n",
       "\n",
       "    .dataframe tbody tr th {\n",
       "        vertical-align: top;\n",
       "    }\n",
       "\n",
       "    .dataframe thead th {\n",
       "        text-align: right;\n",
       "    }\n",
       "</style>\n",
       "<table border=\"1\" class=\"dataframe\">\n",
       "  <thead>\n",
       "    <tr style=\"text-align: right;\">\n",
       "      <th></th>\n",
       "      <th>DBN</th>\n",
       "      <th>School Name</th>\n",
       "      <th>Grade</th>\n",
       "      <th>Year</th>\n",
       "      <th>Subject</th>\n",
       "      <th># Level 3+4</th>\n",
       "      <th>% Level 3+4</th>\n",
       "      <th>Q3_1</th>\n",
       "      <th>Q3_2</th>\n",
       "      <th>Q3_3</th>\n",
       "      <th>Q3_4</th>\n",
       "    </tr>\n",
       "  </thead>\n",
       "  <tbody>\n",
       "    <tr>\n",
       "      <td>0</td>\n",
       "      <td>01M015</td>\n",
       "      <td>P.S. 015 ROBERTO CLEMENTE</td>\n",
       "      <td>3</td>\n",
       "      <td>2017</td>\n",
       "      <td>ELA</td>\n",
       "      <td>9</td>\n",
       "      <td>33.3</td>\n",
       "      <td>0</td>\n",
       "      <td>1</td>\n",
       "      <td>0</td>\n",
       "      <td>0</td>\n",
       "    </tr>\n",
       "  </tbody>\n",
       "</table>\n",
       "</div>"
      ],
      "text/plain": [
       "      DBN                School Name Grade  Year Subject # Level 3+4  \\\n",
       "0  01M015  P.S. 015 ROBERTO CLEMENTE     3  2017     ELA           9   \n",
       "\n",
       "  % Level 3+4 Q3_1 Q3_2 Q3_3 Q3_4  \n",
       "0        33.3    0    1    0    0  "
      ]
     },
     "execution_count": 151,
     "metadata": {},
     "output_type": "execute_result"
    }
   ],
   "source": [
    "#only choose columns necessary for analysis df1 = df[['a','b']]\n",
    "cleaned_df = combined_df[[\"DBN\", \"School Name\", \"Grade\", \"Year\", \n",
    "                          \"Subject\", \"# Level 3+4\", \"% Level 3+4\", \n",
    "                          \"Q3_1\", \"Q3_2\", \"Q3_3\", \"Q3_4\"]]\n",
    "cleaned_df.head(1)"
   ]
  },
  {
   "cell_type": "code",
   "execution_count": 152,
   "metadata": {},
   "outputs": [
    {
     "data": {
      "text/html": [
       "<div>\n",
       "<style scoped>\n",
       "    .dataframe tbody tr th:only-of-type {\n",
       "        vertical-align: middle;\n",
       "    }\n",
       "\n",
       "    .dataframe tbody tr th {\n",
       "        vertical-align: top;\n",
       "    }\n",
       "\n",
       "    .dataframe thead th {\n",
       "        text-align: right;\n",
       "    }\n",
       "</style>\n",
       "<table border=\"1\" class=\"dataframe\">\n",
       "  <thead>\n",
       "    <tr style=\"text-align: right;\">\n",
       "      <th></th>\n",
       "      <th>DBN</th>\n",
       "      <th>School Name</th>\n",
       "      <th>Grade</th>\n",
       "      <th>Year</th>\n",
       "      <th>Subject</th>\n",
       "      <th># Level 3+4</th>\n",
       "      <th>% Level 3+4</th>\n",
       "      <th>Full Time</th>\n",
       "      <th>Full Time Plus</th>\n",
       "      <th>Part Time</th>\n",
       "      <th>None</th>\n",
       "    </tr>\n",
       "  </thead>\n",
       "  <tbody>\n",
       "    <tr>\n",
       "      <td>0</td>\n",
       "      <td>01M015</td>\n",
       "      <td>P.S. 015 ROBERTO CLEMENTE</td>\n",
       "      <td>3</td>\n",
       "      <td>2017</td>\n",
       "      <td>ELA</td>\n",
       "      <td>9</td>\n",
       "      <td>33.3</td>\n",
       "      <td>0</td>\n",
       "      <td>1</td>\n",
       "      <td>0</td>\n",
       "      <td>0</td>\n",
       "    </tr>\n",
       "  </tbody>\n",
       "</table>\n",
       "</div>"
      ],
      "text/plain": [
       "      DBN                School Name Grade  Year Subject # Level 3+4  \\\n",
       "0  01M015  P.S. 015 ROBERTO CLEMENTE     3  2017     ELA           9   \n",
       "\n",
       "  % Level 3+4 Full Time Full Time Plus Part Time None  \n",
       "0        33.3         0              1         0    0  "
      ]
     },
     "execution_count": 152,
     "metadata": {},
     "output_type": "execute_result"
    }
   ],
   "source": [
    "#rename columns\n",
    "   \n",
    "col_rename_dict = {\n",
    "    \"Q3_1\": \"Full Time\",\n",
    "    \"Q3_2\": \"Full Time Plus\",\n",
    "    \"Q3_3\": \"Part Time\",\n",
    "    \"Q3_4\": \"None\",\n",
    "\n",
    "}\n",
    "renamed_df = cleaned_df.rename(columns=col_rename_dict)\n",
    "renamed_df.head(1)"
   ]
  },
  {
   "cell_type": "code",
   "execution_count": 167,
   "metadata": {},
   "outputs": [
    {
     "data": {
      "text/html": [
       "<div>\n",
       "<style scoped>\n",
       "    .dataframe tbody tr th:only-of-type {\n",
       "        vertical-align: middle;\n",
       "    }\n",
       "\n",
       "    .dataframe tbody tr th {\n",
       "        vertical-align: top;\n",
       "    }\n",
       "\n",
       "    .dataframe thead th {\n",
       "        text-align: right;\n",
       "    }\n",
       "</style>\n",
       "<table border=\"1\" class=\"dataframe\">\n",
       "  <thead>\n",
       "    <tr style=\"text-align: right;\">\n",
       "      <th></th>\n",
       "      <th>DBN</th>\n",
       "      <th>School Name</th>\n",
       "      <th>Grade</th>\n",
       "      <th>Year</th>\n",
       "      <th>Subject</th>\n",
       "      <th># Level 3+4</th>\n",
       "      <th>% Level 3+4</th>\n",
       "      <th>Full Time</th>\n",
       "      <th>Full Time Plus</th>\n",
       "      <th>Part Time</th>\n",
       "      <th>None</th>\n",
       "    </tr>\n",
       "  </thead>\n",
       "  <tbody>\n",
       "    <tr>\n",
       "      <td>0</td>\n",
       "      <td>01M015</td>\n",
       "      <td>P.S. 015 ROBERTO CLEMENTE</td>\n",
       "      <td>3</td>\n",
       "      <td>2017</td>\n",
       "      <td>ELA</td>\n",
       "      <td>9</td>\n",
       "      <td>33.3</td>\n",
       "      <td>0.0</td>\n",
       "      <td>1.0</td>\n",
       "      <td>0.0</td>\n",
       "      <td>0.0</td>\n",
       "    </tr>\n",
       "  </tbody>\n",
       "</table>\n",
       "</div>"
      ],
      "text/plain": [
       "      DBN                School Name Grade  Year Subject # Level 3+4  \\\n",
       "0  01M015  P.S. 015 ROBERTO CLEMENTE     3  2017     ELA           9   \n",
       "\n",
       "   % Level 3+4  Full Time  Full Time Plus  Part Time  None  \n",
       "0         33.3        0.0             1.0        0.0   0.0  "
      ]
     },
     "execution_count": 167,
     "metadata": {},
     "output_type": "execute_result"
    }
   ],
   "source": [
    "#68 rows have an 's' in the % of Level 3+4 and need to be removed\n",
    "sorted_df = renamed_df.sort_values(\"% Level 3+4\", ascending = True)\n",
    "sorted_df[\"% Level 3+4\"]\n",
    "sorted_df.groupby([\"% Level 3+4\"]).count()\n",
    "\n",
    "\n",
    "# Get names of indexes for which % Level 3+4 has value 's'\n",
    "indexNames = renamed_df[renamed_df['% Level 3+4'] == 's' ].index\n",
    " \n",
    "# Delete 's' row indexes from dataFrame\n",
    "renamed_df.drop(indexNames , inplace=True)\n",
    "renamed_df.head(1)"
   ]
  },
  {
   "cell_type": "code",
   "execution_count": 168,
   "metadata": {},
   "outputs": [
    {
     "data": {
      "text/html": [
       "<div>\n",
       "<style scoped>\n",
       "    .dataframe tbody tr th:only-of-type {\n",
       "        vertical-align: middle;\n",
       "    }\n",
       "\n",
       "    .dataframe tbody tr th {\n",
       "        vertical-align: top;\n",
       "    }\n",
       "\n",
       "    .dataframe thead th {\n",
       "        text-align: right;\n",
       "    }\n",
       "</style>\n",
       "<table border=\"1\" class=\"dataframe\">\n",
       "  <thead>\n",
       "    <tr style=\"text-align: right;\">\n",
       "      <th></th>\n",
       "      <th>DBN</th>\n",
       "      <th>School Name</th>\n",
       "      <th>Grade</th>\n",
       "      <th>Year</th>\n",
       "      <th>Subject</th>\n",
       "      <th># Level 3+4</th>\n",
       "      <th>% Level 3+4</th>\n",
       "      <th>Full Time</th>\n",
       "      <th>Full Time Plus</th>\n",
       "      <th>Part Time</th>\n",
       "      <th>None</th>\n",
       "    </tr>\n",
       "  </thead>\n",
       "  <tbody>\n",
       "    <tr>\n",
       "      <td>0</td>\n",
       "      <td>01M015</td>\n",
       "      <td>P.S. 015 ROBERTO CLEMENTE</td>\n",
       "      <td>3</td>\n",
       "      <td>2017</td>\n",
       "      <td>ELA</td>\n",
       "      <td>9</td>\n",
       "      <td>33.3</td>\n",
       "      <td>0.0</td>\n",
       "      <td>1.0</td>\n",
       "      <td>0.0</td>\n",
       "      <td>0.0</td>\n",
       "    </tr>\n",
       "  </tbody>\n",
       "</table>\n",
       "</div>"
      ],
      "text/plain": [
       "      DBN                School Name Grade  Year Subject # Level 3+4  \\\n",
       "0  01M015  P.S. 015 ROBERTO CLEMENTE     3  2017     ELA           9   \n",
       "\n",
       "   % Level 3+4  Full Time  Full Time Plus  Part Time  None  \n",
       "0         33.3        0.0             1.0        0.0   0.0  "
      ]
     },
     "execution_count": 168,
     "metadata": {},
     "output_type": "execute_result"
    }
   ],
   "source": [
    "#6275 rows have an 'All Grades' in the Grade column and need to be removed\n",
    "sorted_df = renamed_df.sort_values(\"Grade\", ascending = True)\n",
    "sorted_df[\"Grade\"]\n",
    "sorted_df.groupby([\"Grade\"]).count()\n",
    "\n",
    "# Get names of indexes for which Grade has value 'All Grades'\n",
    "indexNames = renamed_df[renamed_df['Grade'] == 'All Grades' ].index\n",
    " \n",
    "# Delete 'All Grades' row indexes from dataFrame\n",
    "renamed_df.drop(indexNames , inplace=True)\n",
    "renamed_df.head(1)"
   ]
  },
  {
   "cell_type": "code",
   "execution_count": 155,
   "metadata": {},
   "outputs": [
    {
     "data": {
      "text/plain": [
       "20832"
      ]
     },
     "execution_count": 155,
     "metadata": {},
     "output_type": "execute_result"
    }
   ],
   "source": [
    "#explore data\n",
    "total = len(renamed_df)\n",
    "total"
   ]
  },
  {
   "cell_type": "code",
   "execution_count": 169,
   "metadata": {},
   "outputs": [],
   "source": [
    "#change type\n",
    "renamed_df['Full Time'] = renamed_df['Full Time'].astype(float)\n",
    "renamed_df['Full Time Plus'] = renamed_df['Full Time Plus'].astype(float)\n",
    "renamed_df['Part Time'] = renamed_df['Part Time'].astype(float)\n",
    "renamed_df['None'] = renamed_df['None'].astype(float)\n",
    "renamed_df['% Level 3+4'] = renamed_df['% Level 3+4'].astype(float)"
   ]
  },
  {
   "cell_type": "code",
   "execution_count": 171,
   "metadata": {},
   "outputs": [],
   "source": [
    "#Write file to csv\n",
    "#renamed_df.to_csv('renamed1_df.csv', index=False)\n"
   ]
  },
  {
   "cell_type": "code",
   "execution_count": 158,
   "metadata": {},
   "outputs": [
    {
     "data": {
      "text/html": [
       "<div>\n",
       "<style scoped>\n",
       "    .dataframe tbody tr th:only-of-type {\n",
       "        vertical-align: middle;\n",
       "    }\n",
       "\n",
       "    .dataframe tbody tr th {\n",
       "        vertical-align: top;\n",
       "    }\n",
       "\n",
       "    .dataframe thead th {\n",
       "        text-align: right;\n",
       "    }\n",
       "</style>\n",
       "<table border=\"1\" class=\"dataframe\">\n",
       "  <thead>\n",
       "    <tr style=\"text-align: right;\">\n",
       "      <th></th>\n",
       "      <th>Full Time Only</th>\n",
       "      <th>Not Full Time Only</th>\n",
       "      <th>Total of these measures</th>\n",
       "      <th>Total</th>\n",
       "      <th>Did Not Answer</th>\n",
       "    </tr>\n",
       "  </thead>\n",
       "  <tbody>\n",
       "    <tr>\n",
       "      <td>0</td>\n",
       "      <td>553.0</td>\n",
       "      <td>20249.0</td>\n",
       "      <td>20802.0</td>\n",
       "      <td>20832</td>\n",
       "      <td>30.0</td>\n",
       "    </tr>\n",
       "  </tbody>\n",
       "</table>\n",
       "</div>"
      ],
      "text/plain": [
       "   Full Time Only  Not Full Time Only  Total of these measures  Total  \\\n",
       "0           553.0             20249.0                  20802.0  20832   \n",
       "\n",
       "   Did Not Answer  \n",
       "0            30.0  "
      ]
     },
     "execution_count": 158,
     "metadata": {},
     "output_type": "execute_result"
    }
   ],
   "source": [
    "#Create buckets for each answer and ultimately create a full-time bucket and a non-full time bucket.\n",
    "\n",
    "fulltime = renamed_df[\"Full Time\"].sum()\n",
    "fulltime\n",
    "fulltimeplus = renamed_df[\"Full Time Plus\"].sum()\n",
    "fulltimeplus\n",
    "parttime = renamed_df[\"Part Time\"].sum()\n",
    "parttime\n",
    "none = renamed_df[\"None\"].sum()\n",
    "none\n",
    "count_total = fulltime + fulltimeplus + parttime + none\n",
    "alltheothers = fulltimeplus + parttime + none\n",
    "\n",
    "#What to do with 30 rows of unanswered data?\n",
    "unaccounted = total - count_total\n",
    "\n",
    "summary_dict = {'Full Time Only': [fulltime],\n",
    "        #  'Full Time Plus Count': [fulltimeplus],\n",
    "         # 'Part Time Count': [parttime],\n",
    "          #'None Count': [none],\n",
    "                 'Not Full Time Only': [alltheothers],\n",
    "               'Total of these measures': [count_total],\n",
    "                 'Total': [total],\n",
    "               'Did Not Answer': [unaccounted]}\n",
    "summary = pd.DataFrame.from_dict(summary_dict) #, orient='index')\n",
    "summary"
   ]
  },
  {
   "cell_type": "markdown",
   "metadata": {},
   "source": [
    "Analyze Data\n",
    "1. Math and ELA together\n",
    "2. Math only\n",
    "3. ELA only"
   ]
  },
  {
   "cell_type": "code",
   "execution_count": 159,
   "metadata": {},
   "outputs": [
    {
     "data": {
      "text/plain": [
       "Full Time\n",
       "0.0    20279\n",
       "1.0      553\n",
       "Name: % Level 3+4, dtype: int64"
      ]
     },
     "execution_count": 159,
     "metadata": {},
     "output_type": "execute_result"
    }
   ],
   "source": [
    "#1. Math and ELA together frequencies\n",
    "renamed_df.groupby([\"Full Time\"])[\"% Level 3+4\"].count()"
   ]
  },
  {
   "cell_type": "code",
   "execution_count": 160,
   "metadata": {},
   "outputs": [
    {
     "data": {
      "text/plain": [
       "Full Time\n",
       "0.0    10051\n",
       "1.0      274\n",
       "Name: % Level 3+4, dtype: int64"
      ]
     },
     "execution_count": 160,
     "metadata": {},
     "output_type": "execute_result"
    }
   ],
   "source": [
    "#2. Math only frequencies\n",
    "cond1 = renamed_df['Subject'] == 'Math'\n",
    "math_renamed_df = renamed_df[cond1]\n",
    "math_renamed_df.groupby([\"Full Time\"])[\"% Level 3+4\"].count()"
   ]
  },
  {
   "cell_type": "code",
   "execution_count": 161,
   "metadata": {},
   "outputs": [
    {
     "data": {
      "text/plain": [
       "Full Time\n",
       "0.0    10228\n",
       "1.0      279\n",
       "Name: % Level 3+4, dtype: int64"
      ]
     },
     "execution_count": 161,
     "metadata": {},
     "output_type": "execute_result"
    }
   ],
   "source": [
    "#3. ELA only frequencies\n",
    "cond2 = renamed_df['Subject'] == 'ELA'\n",
    "ela_renamed_df = renamed_df[cond2]\n",
    "ela_renamed_df.groupby([\"Full Time\"])[\"% Level 3+4\"].count()"
   ]
  },
  {
   "cell_type": "code",
   "execution_count": 162,
   "metadata": {},
   "outputs": [
    {
     "data": {
      "text/plain": [
       "(array([1161., 2685., 3484., 3218., 2660., 2500., 2075., 1474.,  961.,\n",
       "         614.]),\n",
       " array([  0.,  10.,  20.,  30.,  40.,  50.,  60.,  70.,  80.,  90., 100.]),\n",
       " <a list of 10 Patch objects>)"
      ]
     },
     "execution_count": 162,
     "metadata": {},
     "output_type": "execute_result"
    },
    {
     "data": {
      "image/png": "[encoded data removed]",
      "text/plain": [
       "<Figure size 432x288 with 1 Axes>"
      ]
     },
     "metadata": {
      "needs_background": "light"
     },
     "output_type": "display_data"
    }
   ],
   "source": [
    "#1 Math and ELA together histograms\n",
    "plt.hist(renamed_df[\"% Level 3+4\"], bins=None, histtype='bar', align='mid', orientation='vertical')"
   ]
  },
  {
   "cell_type": "code",
   "execution_count": 163,
   "metadata": {},
   "outputs": [
    {
     "data": {
      "text/plain": [
       "(array([ 867., 1561., 1639., 1438., 1197., 1113.,  989.,  699.,  525.,\n",
       "         297.]),\n",
       " array([  0.,  10.,  20.,  30.,  40.,  50.,  60.,  70.,  80.,  90., 100.]),\n",
       " <a list of 10 Patch objects>)"
      ]
     },
     "execution_count": 163,
     "metadata": {},
     "output_type": "execute_result"
    },
    {
     "data": {
      "image/png": "[encoded data removed]",
      "text/plain": [
       "<Figure size 432x288 with 1 Axes>"
      ]
     },
     "metadata": {
      "needs_background": "light"
     },
     "output_type": "display_data"
    }
   ],
   "source": [
    "#2. Math histogram\n",
    "plt.hist(math_renamed_df[\"% Level 3+4\"], bins=None, histtype='bar', align='mid', orientation='vertical')\n"
   ]
  },
  {
   "cell_type": "code",
   "execution_count": 164,
   "metadata": {},
   "outputs": [
    {
     "data": {
      "text/plain": [
       "(array([ 294., 1124., 1845., 1780., 1463., 1387., 1086.,  775.,  436.,\n",
       "         317.]),\n",
       " array([  0.,  10.,  20.,  30.,  40.,  50.,  60.,  70.,  80.,  90., 100.]),\n",
       " <a list of 10 Patch objects>)"
      ]
     },
     "execution_count": 164,
     "metadata": {},
     "output_type": "execute_result"
    },
    {
     "data": {
      "image/png": "[encoded data removed]",
      "text/plain": [
       "<Figure size 432x288 with 1 Axes>"
      ]
     },
     "metadata": {
      "needs_background": "light"
     },
     "output_type": "display_data"
    }
   ],
   "source": [
    "#3. ELA histogram\n",
    "plt.hist(ela_renamed_df[\"% Level 3+4\"], bins=None, histtype='bar', align='mid', orientation='vertical')"
   ]
  },
  {
   "cell_type": "code",
   "execution_count": 165,
   "metadata": {},
   "outputs": [
    {
     "data": {
      "text/html": [
       "<div>\n",
       "<style scoped>\n",
       "    .dataframe tbody tr th:only-of-type {\n",
       "        vertical-align: middle;\n",
       "    }\n",
       "\n",
       "    .dataframe tbody tr th {\n",
       "        vertical-align: top;\n",
       "    }\n",
       "\n",
       "    .dataframe thead th {\n",
       "        text-align: right;\n",
       "    }\n",
       "</style>\n",
       "<table border=\"1\" class=\"dataframe\">\n",
       "  <thead>\n",
       "    <tr style=\"text-align: right;\">\n",
       "      <th></th>\n",
       "      <th>Mean</th>\n",
       "      <th>Median</th>\n",
       "      <th>Variance</th>\n",
       "      <th>Standard Deviation</th>\n",
       "      <th>Maximum</th>\n",
       "      <th>Minimum</th>\n",
       "    </tr>\n",
       "    <tr>\n",
       "      <th>Full Time</th>\n",
       "      <th></th>\n",
       "      <th></th>\n",
       "      <th></th>\n",
       "      <th></th>\n",
       "      <th></th>\n",
       "      <th></th>\n",
       "    </tr>\n",
       "  </thead>\n",
       "  <tbody>\n",
       "    <tr>\n",
       "      <td>0.0</td>\n",
       "      <td>42.419986</td>\n",
       "      <td>39.3</td>\n",
       "      <td>540.682462</td>\n",
       "      <td>23.252580</td>\n",
       "      <td>100.0</td>\n",
       "      <td>0.0</td>\n",
       "    </tr>\n",
       "    <tr>\n",
       "      <td>1.0</td>\n",
       "      <td>45.742857</td>\n",
       "      <td>43.3</td>\n",
       "      <td>616.359410</td>\n",
       "      <td>24.826587</td>\n",
       "      <td>100.0</td>\n",
       "      <td>0.0</td>\n",
       "    </tr>\n",
       "  </tbody>\n",
       "</table>\n",
       "</div>"
      ],
      "text/plain": [
       "                Mean  Median    Variance  Standard Deviation  Maximum  Minimum\n",
       "Full Time                                                                     \n",
       "0.0        42.419986    39.3  540.682462           23.252580    100.0      0.0\n",
       "1.0        45.742857    43.3  616.359410           24.826587    100.0      0.0"
      ]
     },
     "execution_count": 165,
     "metadata": {},
     "output_type": "execute_result"
    }
   ],
   "source": [
    "#1. Math and ELA descriptives pd.concat([s1, s2], ignore_index=True), df.columns = ['a', 'b', 'c']\n",
    "MandELA_mean = renamed_df.groupby([\"Full Time\"])[\"% Level 3+4\"].mean()\n",
    "MandELA_median = renamed_df.groupby([\"Full Time\"])[\"% Level 3+4\"].median()\n",
    "MandELA_var = renamed_df.groupby([\"Full Time\"])[\"% Level 3+4\"].var()\n",
    "MandELA_std = renamed_df.groupby([\"Full Time\"])[\"% Level 3+4\"].std()\n",
    "MandELA_max = renamed_df.groupby([\"Full Time\"])[\"% Level 3+4\"].max()\n",
    "MandELA_min = renamed_df.groupby([\"Full Time\"])[\"% Level 3+4\"].min()\n",
    "\n",
    "summary = pd.concat([MandELA_mean, MandELA_median, MandELA_var, MandELA_std, \n",
    "                     MandELA_max, MandELA_min], axis=1, join='inner')\n",
    "\n",
    "summary.columns = ['Mean', 'Median', 'Variance', \"Standard Deviation\", \"Maximum\", \"Minimum\"]\n",
    "summary"
   ]
  },
  {
   "cell_type": "code",
   "execution_count": 166,
   "metadata": {
    "scrolled": true
   },
   "outputs": [
    {
     "data": {
      "text/html": [
       "<div>\n",
       "<style scoped>\n",
       "    .dataframe tbody tr th:only-of-type {\n",
       "        vertical-align: middle;\n",
       "    }\n",
       "\n",
       "    .dataframe tbody tr th {\n",
       "        vertical-align: top;\n",
       "    }\n",
       "\n",
       "    .dataframe thead th {\n",
       "        text-align: right;\n",
       "    }\n",
       "</style>\n",
       "<table border=\"1\" class=\"dataframe\">\n",
       "  <thead>\n",
       "    <tr style=\"text-align: right;\">\n",
       "      <th></th>\n",
       "      <th>Mean</th>\n",
       "      <th>Median</th>\n",
       "      <th>Variance</th>\n",
       "      <th>Standard Deviation</th>\n",
       "      <th>Maximum</th>\n",
       "      <th>Minimum</th>\n",
       "    </tr>\n",
       "    <tr>\n",
       "      <th>Full Time</th>\n",
       "      <th></th>\n",
       "      <th></th>\n",
       "      <th></th>\n",
       "      <th></th>\n",
       "      <th></th>\n",
       "      <th></th>\n",
       "    </tr>\n",
       "  </thead>\n",
       "  <tbody>\n",
       "    <tr>\n",
       "      <td>0.0</td>\n",
       "      <td>40.78826</td>\n",
       "      <td>37.5</td>\n",
       "      <td>594.006943</td>\n",
       "      <td>24.372258</td>\n",
       "      <td>100.0</td>\n",
       "      <td>0.0</td>\n",
       "    </tr>\n",
       "    <tr>\n",
       "      <td>1.0</td>\n",
       "      <td>43.49708</td>\n",
       "      <td>39.1</td>\n",
       "      <td>658.207244</td>\n",
       "      <td>25.655550</td>\n",
       "      <td>100.0</td>\n",
       "      <td>0.0</td>\n",
       "    </tr>\n",
       "  </tbody>\n",
       "</table>\n",
       "</div>"
      ],
      "text/plain": [
       "               Mean  Median    Variance  Standard Deviation  Maximum  Minimum\n",
       "Full Time                                                                    \n",
       "0.0        40.78826    37.5  594.006943           24.372258    100.0      0.0\n",
       "1.0        43.49708    39.1  658.207244           25.655550    100.0      0.0"
      ]
     },
     "execution_count": 166,
     "metadata": {},
     "output_type": "execute_result"
    }
   ],
   "source": [
    "#2. Math descriptives pd.concat([s1, s2], ignore_index=True), df.columns = ['a', 'b', 'c']\n",
    "M_mean = math_renamed_df.groupby([\"Full Time\"])[\"% Level 3+4\"].mean()\n",
    "M_median = math_renamed_df.groupby([\"Full Time\"])[\"% Level 3+4\"].median()\n",
    "M_var = math_renamed_df.groupby([\"Full Time\"])[\"% Level 3+4\"].var()\n",
    "M_std = math_renamed_df.groupby([\"Full Time\"])[\"% Level 3+4\"].std()\n",
    "M_max = math_renamed_df.groupby([\"Full Time\"])[\"% Level 3+4\"].max()\n",
    "M_min = math_renamed_df.groupby([\"Full Time\"])[\"% Level 3+4\"].min()\n",
    "\n",
    "m_summary = pd.concat([M_mean, M_median, M_var, M_std, \n",
    "                     M_max, M_min], axis=1, join='inner')\n",
    "\n",
    "m_summary.columns = ['Mean', 'Median', 'Variance', \"Standard Deviation\", \"Maximum\", \"Minimum\"]\n",
    "m_summary"
   ]
  },
  {
   "cell_type": "code",
   "execution_count": 124,
   "metadata": {
    "scrolled": true
   },
   "outputs": [
    {
     "data": {
      "text/html": [
       "<div>\n",
       "<style scoped>\n",
       "    .dataframe tbody tr th:only-of-type {\n",
       "        vertical-align: middle;\n",
       "    }\n",
       "\n",
       "    .dataframe tbody tr th {\n",
       "        vertical-align: top;\n",
       "    }\n",
       "\n",
       "    .dataframe thead th {\n",
       "        text-align: right;\n",
       "    }\n",
       "</style>\n",
       "<table border=\"1\" class=\"dataframe\">\n",
       "  <thead>\n",
       "    <tr style=\"text-align: right;\">\n",
       "      <th></th>\n",
       "      <th>Mean</th>\n",
       "      <th>Median</th>\n",
       "      <th>Variance</th>\n",
       "      <th>Standard Deviation</th>\n",
       "      <th>Maximum</th>\n",
       "      <th>Minimum</th>\n",
       "    </tr>\n",
       "    <tr>\n",
       "      <th>Full Time</th>\n",
       "      <th></th>\n",
       "      <th></th>\n",
       "      <th></th>\n",
       "      <th></th>\n",
       "      <th></th>\n",
       "      <th></th>\n",
       "    </tr>\n",
       "  </thead>\n",
       "  <tbody>\n",
       "    <tr>\n",
       "      <td>0.0</td>\n",
       "      <td>44.023475</td>\n",
       "      <td>41.1</td>\n",
       "      <td>483.145606</td>\n",
       "      <td>21.980573</td>\n",
       "      <td>100.0</td>\n",
       "      <td>0.0</td>\n",
       "    </tr>\n",
       "    <tr>\n",
       "      <td>1.0</td>\n",
       "      <td>47.948387</td>\n",
       "      <td>46.6</td>\n",
       "      <td>567.628550</td>\n",
       "      <td>23.824956</td>\n",
       "      <td>100.0</td>\n",
       "      <td>4.1</td>\n",
       "    </tr>\n",
       "  </tbody>\n",
       "</table>\n",
       "</div>"
      ],
      "text/plain": [
       "                Mean  Median    Variance  Standard Deviation  Maximum  Minimum\n",
       "Full Time                                                                     \n",
       "0.0        44.023475    41.1  483.145606           21.980573    100.0      0.0\n",
       "1.0        47.948387    46.6  567.628550           23.824956    100.0      4.1"
      ]
     },
     "execution_count": 124,
     "metadata": {},
     "output_type": "execute_result"
    }
   ],
   "source": [
    "#3. ELA descriptives pd.concat([s1, s2], ignore_index=True), df.columns = ['a', 'b', 'c']\n",
    "ela_mean = ela_renamed_df.groupby([\"Full Time\"])[\"% Level 3+4\"].mean()\n",
    "ela_median = ela_renamed_df.groupby([\"Full Time\"])[\"% Level 3+4\"].median()\n",
    "ela_var = ela_renamed_df.groupby([\"Full Time\"])[\"% Level 3+4\"].var()\n",
    "ela_std = ela_renamed_df.groupby([\"Full Time\"])[\"% Level 3+4\"].std()\n",
    "ela_max = ela_renamed_df.groupby([\"Full Time\"])[\"% Level 3+4\"].max()\n",
    "ela_min = ela_renamed_df.groupby([\"Full Time\"])[\"% Level 3+4\"].min()\n",
    "\n",
    "ela_summary = pd.concat([ela_mean, ela_median, ela_var, ela_std, \n",
    "                     ela_max, ela_min], axis=1, join='inner')\n",
    "\n",
    "ela_summary.columns = ['Mean', 'Median', 'Variance', \"Standard Deviation\", \"Maximum\", \"Minimum\"]\n",
    "ela_summary"
   ]
  },
  {
   "cell_type": "code",
   "execution_count": 73,
   "metadata": {},
   "outputs": [
    {
     "data": {
      "text/plain": [
       "Ttest_indResult(statistic=3.1104678181853913, pvalue=0.0019598636954945635)"
      ]
     },
     "execution_count": 73,
     "metadata": {},
     "output_type": "execute_result"
    }
   ],
   "source": [
    "#1. Math and ELA together Welch's independent ttest\n",
    "\n",
    "#perform independent t-test to see if no art programs is different from 1 or more art programs group both Math and ELA\n",
    "#(Welch's t-test) equal_var = False\n",
    "fulltime_test = renamed_df[renamed_df['Full Time'] == 1]\n",
    "none_test = renamed_df[renamed_df['Full Time'] == 0]\n",
    "\n",
    "stats.ttest_ind(fulltime_test['% Level 3+4'], none_test['% Level 3+4'], equal_var=False)"
   ]
  },
  {
   "cell_type": "code",
   "execution_count": 125,
   "metadata": {},
   "outputs": [
    {
     "name": "stderr",
     "output_type": "stream",
     "text": [
      "C:\\Users\\allys\\Anaconda3\\lib\\site-packages\\ipykernel_launcher.py:5: UserWarning: Boolean Series key will be reindexed to match DataFrame index.\n",
      "  \"\"\"\n",
      "C:\\Users\\allys\\Anaconda3\\lib\\site-packages\\ipykernel_launcher.py:6: UserWarning: Boolean Series key will be reindexed to match DataFrame index.\n",
      "  \n"
     ]
    },
    {
     "data": {
      "text/plain": [
       "Ttest_indResult(statistic=1.7266192169256538, pvalue=0.0853136551958103)"
      ]
     },
     "execution_count": 125,
     "metadata": {},
     "output_type": "execute_result"
    }
   ],
   "source": [
    "#2. Math Welch's independent ttest\n",
    "\n",
    "#perform independent t-test to see if no art programs is different from 1 or more art programs group both Math and ELA\n",
    "#(Welch's t-test) equal_var = False\n",
    "fulltime_test = math_renamed_df[renamed_df['Full Time'] == 1]\n",
    "none_test = math_renamed_df[renamed_df['Full Time'] == 0]\n",
    "\n",
    "stats.ttest_ind(fulltime_test['% Level 3+4'], none_test['% Level 3+4'], equal_var=False)"
   ]
  },
  {
   "cell_type": "code",
   "execution_count": 130,
   "metadata": {},
   "outputs": [
    {
     "name": "stderr",
     "output_type": "stream",
     "text": [
      "C:\\Users\\allys\\Anaconda3\\lib\\site-packages\\ipykernel_launcher.py:5: UserWarning: Boolean Series key will be reindexed to match DataFrame index.\n",
      "  \"\"\"\n",
      "C:\\Users\\allys\\Anaconda3\\lib\\site-packages\\ipykernel_launcher.py:6: UserWarning: Boolean Series key will be reindexed to match DataFrame index.\n",
      "  \n"
     ]
    },
    {
     "data": {
      "text/plain": [
       "Ttest_indResult(statistic=2.7202939268002924, pvalue=0.006914770235549835)"
      ]
     },
     "execution_count": 130,
     "metadata": {},
     "output_type": "execute_result"
    }
   ],
   "source": [
    "#3. ELA Welch's independent ttest\n",
    "\n",
    "#perform independent t-test to see if no art programs is different from 1 or more art programs group both Math and ELA\n",
    "#(Welch's t-test) equal_var = False\n",
    "fulltime_test = ela_renamed_df[renamed_df['Full Time'] == 1]\n",
    "none_test = ela_renamed_df[renamed_df['Full Time'] == 0]\n",
    "\n",
    "stats.ttest_ind(fulltime_test['% Level 3+4'], none_test['% Level 3+4'], equal_var=False)"
   ]
  },
  {
   "cell_type": "markdown",
   "metadata": {},
   "source": [
    "There is a statistically significant difference between schools with full time art supervisor and those without for ELA and ELA & Math combined (but not Math alone)."
   ]
  },
  {
   "cell_type": "markdown",
   "metadata": {},
   "source": [
    "Use ANOVA to check for differences by year"
   ]
  },
  {
   "cell_type": "code",
   "execution_count": 180,
   "metadata": {},
   "outputs": [],
   "source": [
    "#create conditions for each year\n",
    "cond1 = renamed_df['Year'] == '2017'\n",
    "cond2 = renamed_df['Year'] == '2018'\n",
    "cond3 = renamed_df['Year'] == '2019'\n",
    "\n",
    "#create data frame for each year\n",
    "df_2017 = renamed_df[cond1]\n",
    "df_2018 = renamed_df[cond2]\n",
    "df_2019 = renamed_df[cond3]\n",
    "\n",
    "group1 = df_2017[\"% Level 3+4\"]\n",
    "group2 = df_2018[\"% Level 3+4\"]\n",
    "group3 = df_2019[\"% Level 3+4\"]"
   ]
  },
  {
   "cell_type": "code",
   "execution_count": 183,
   "metadata": {},
   "outputs": [
    {
     "data": {
      "text/plain": [
       "<matplotlib.axes._subplots.AxesSubplot at 0x1ded9a16548>"
      ]
     },
     "execution_count": 183,
     "metadata": {},
     "output_type": "execute_result"
    },
    {
     "data": {
      "image/png": "[encoded data removed]",
      "text/plain": [
       "<Figure size 648x432 with 1 Axes>"
      ]
     },
     "metadata": {
      "needs_background": "light"
     },
     "output_type": "display_data"
    }
   ],
   "source": [
    "#boxplot\n",
    "renamed_df.boxplot(\"% Level 3+4\", by=\"Year\", figsize=(9, 6), meanline=False, showmeans=True)"
   ]
  },
  {
   "cell_type": "code",
   "execution_count": 214,
   "metadata": {},
   "outputs": [
    {
     "data": {
      "text/plain": [
       "F_onewayResult(statistic=196.03906654233265, pvalue=3.1085472354534697e-44)"
      ]
     },
     "execution_count": 214,
     "metadata": {},
     "output_type": "execute_result"
    }
   ],
   "source": [
    "#ANOVA to see if school years are significantly different\n",
    "stats.f_oneway(group1, group2, group3)\n",
    "#stats.f_oneway(group2, group3)\n",
    "#stats.f_oneway(group1, group2)"
   ]
  },
  {
   "cell_type": "markdown",
   "metadata": {},
   "source": [
    "Look for schools who went from having no full time arts supervisor to having full time supervisor"
   ]
  },
  {
   "cell_type": "code",
   "execution_count": 202,
   "metadata": {},
   "outputs": [
    {
     "data": {
      "text/html": [
       "<div>\n",
       "<style scoped>\n",
       "    .dataframe tbody tr th:only-of-type {\n",
       "        vertical-align: middle;\n",
       "    }\n",
       "\n",
       "    .dataframe tbody tr th {\n",
       "        vertical-align: top;\n",
       "    }\n",
       "\n",
       "    .dataframe thead th {\n",
       "        text-align: right;\n",
       "    }\n",
       "</style>\n",
       "<table border=\"1\" class=\"dataframe\">\n",
       "  <thead>\n",
       "    <tr style=\"text-align: right;\">\n",
       "      <th></th>\n",
       "      <th>DBN</th>\n",
       "      <th>School Name_x</th>\n",
       "      <th>Year_x</th>\n",
       "      <th>% Level 3+4_x</th>\n",
       "      <th>Full Time_x</th>\n",
       "      <th>School Name_y</th>\n",
       "      <th>Year_y</th>\n",
       "      <th>% Level 3+4_y</th>\n",
       "      <th>Full Time_y</th>\n",
       "    </tr>\n",
       "  </thead>\n",
       "  <tbody>\n",
       "    <tr>\n",
       "      <td>0</td>\n",
       "      <td>02M033</td>\n",
       "      <td>P.S. 033 CHELSEA PREP</td>\n",
       "      <td>2017</td>\n",
       "      <td>66.3</td>\n",
       "      <td>0.0</td>\n",
       "      <td>P.S. 033 CHELSEA PREP</td>\n",
       "      <td>2018</td>\n",
       "      <td>68.8</td>\n",
       "      <td>1.0</td>\n",
       "    </tr>\n",
       "    <tr>\n",
       "      <td>1</td>\n",
       "      <td>02M033</td>\n",
       "      <td>P.S. 033 CHELSEA PREP</td>\n",
       "      <td>2017</td>\n",
       "      <td>66.3</td>\n",
       "      <td>0.0</td>\n",
       "      <td>P.S. 033 CHELSEA PREP</td>\n",
       "      <td>2018</td>\n",
       "      <td>63.4</td>\n",
       "      <td>1.0</td>\n",
       "    </tr>\n",
       "    <tr>\n",
       "      <td>2</td>\n",
       "      <td>02M033</td>\n",
       "      <td>P.S. 033 CHELSEA PREP</td>\n",
       "      <td>2017</td>\n",
       "      <td>66.3</td>\n",
       "      <td>0.0</td>\n",
       "      <td>P.S. 033 CHELSEA PREP</td>\n",
       "      <td>2018</td>\n",
       "      <td>69.9</td>\n",
       "      <td>1.0</td>\n",
       "    </tr>\n",
       "    <tr>\n",
       "      <td>3</td>\n",
       "      <td>02M033</td>\n",
       "      <td>P.S. 033 CHELSEA PREP</td>\n",
       "      <td>2017</td>\n",
       "      <td>66.3</td>\n",
       "      <td>0.0</td>\n",
       "      <td>P.S. 033 CHELSEA PREP</td>\n",
       "      <td>2018</td>\n",
       "      <td>64.8</td>\n",
       "      <td>1.0</td>\n",
       "    </tr>\n",
       "    <tr>\n",
       "      <td>4</td>\n",
       "      <td>02M033</td>\n",
       "      <td>P.S. 033 CHELSEA PREP</td>\n",
       "      <td>2017</td>\n",
       "      <td>66.3</td>\n",
       "      <td>0.0</td>\n",
       "      <td>P.S. 033 CHELSEA PREP</td>\n",
       "      <td>2018</td>\n",
       "      <td>61.0</td>\n",
       "      <td>1.0</td>\n",
       "    </tr>\n",
       "    <tr>\n",
       "      <td>...</td>\n",
       "      <td>...</td>\n",
       "      <td>...</td>\n",
       "      <td>...</td>\n",
       "      <td>...</td>\n",
       "      <td>...</td>\n",
       "      <td>...</td>\n",
       "      <td>...</td>\n",
       "      <td>...</td>\n",
       "      <td>...</td>\n",
       "    </tr>\n",
       "    <tr>\n",
       "      <td>740</td>\n",
       "      <td>31R075</td>\n",
       "      <td>I.S. 075 FRANK D. PAULO</td>\n",
       "      <td>2017</td>\n",
       "      <td>33.1</td>\n",
       "      <td>0.0</td>\n",
       "      <td>I.S. 075 FRANK D. PAULO</td>\n",
       "      <td>2018</td>\n",
       "      <td>64.9</td>\n",
       "      <td>1.0</td>\n",
       "    </tr>\n",
       "    <tr>\n",
       "      <td>741</td>\n",
       "      <td>31R075</td>\n",
       "      <td>I.S. 075 FRANK D. PAULO</td>\n",
       "      <td>2017</td>\n",
       "      <td>33.1</td>\n",
       "      <td>0.0</td>\n",
       "      <td>I.S. 075 FRANK D. PAULO</td>\n",
       "      <td>2018</td>\n",
       "      <td>65.9</td>\n",
       "      <td>1.0</td>\n",
       "    </tr>\n",
       "    <tr>\n",
       "      <td>742</td>\n",
       "      <td>31R075</td>\n",
       "      <td>I.S. 075 FRANK D. PAULO</td>\n",
       "      <td>2017</td>\n",
       "      <td>33.1</td>\n",
       "      <td>0.0</td>\n",
       "      <td>I.S. 075 FRANK D. PAULO</td>\n",
       "      <td>2018</td>\n",
       "      <td>56.9</td>\n",
       "      <td>1.0</td>\n",
       "    </tr>\n",
       "    <tr>\n",
       "      <td>743</td>\n",
       "      <td>31R075</td>\n",
       "      <td>I.S. 075 FRANK D. PAULO</td>\n",
       "      <td>2017</td>\n",
       "      <td>33.1</td>\n",
       "      <td>0.0</td>\n",
       "      <td>I.S. 075 FRANK D. PAULO</td>\n",
       "      <td>2018</td>\n",
       "      <td>60.5</td>\n",
       "      <td>1.0</td>\n",
       "    </tr>\n",
       "    <tr>\n",
       "      <td>744</td>\n",
       "      <td>31R075</td>\n",
       "      <td>I.S. 075 FRANK D. PAULO</td>\n",
       "      <td>2017</td>\n",
       "      <td>33.1</td>\n",
       "      <td>0.0</td>\n",
       "      <td>I.S. 075 FRANK D. PAULO</td>\n",
       "      <td>2018</td>\n",
       "      <td>58.0</td>\n",
       "      <td>1.0</td>\n",
       "    </tr>\n",
       "  </tbody>\n",
       "</table>\n",
       "<p>745 rows × 9 columns</p>\n",
       "</div>"
      ],
      "text/plain": [
       "        DBN            School Name_x Year_x  % Level 3+4_x  Full Time_x  \\\n",
       "0    02M033    P.S. 033 CHELSEA PREP   2017           66.3          0.0   \n",
       "1    02M033    P.S. 033 CHELSEA PREP   2017           66.3          0.0   \n",
       "2    02M033    P.S. 033 CHELSEA PREP   2017           66.3          0.0   \n",
       "3    02M033    P.S. 033 CHELSEA PREP   2017           66.3          0.0   \n",
       "4    02M033    P.S. 033 CHELSEA PREP   2017           66.3          0.0   \n",
       "..      ...                      ...    ...            ...          ...   \n",
       "740  31R075  I.S. 075 FRANK D. PAULO   2017           33.1          0.0   \n",
       "741  31R075  I.S. 075 FRANK D. PAULO   2017           33.1          0.0   \n",
       "742  31R075  I.S. 075 FRANK D. PAULO   2017           33.1          0.0   \n",
       "743  31R075  I.S. 075 FRANK D. PAULO   2017           33.1          0.0   \n",
       "744  31R075  I.S. 075 FRANK D. PAULO   2017           33.1          0.0   \n",
       "\n",
       "               School Name_y Year_y  % Level 3+4_y  Full Time_y  \n",
       "0      P.S. 033 CHELSEA PREP   2018           68.8          1.0  \n",
       "1      P.S. 033 CHELSEA PREP   2018           63.4          1.0  \n",
       "2      P.S. 033 CHELSEA PREP   2018           69.9          1.0  \n",
       "3      P.S. 033 CHELSEA PREP   2018           64.8          1.0  \n",
       "4      P.S. 033 CHELSEA PREP   2018           61.0          1.0  \n",
       "..                       ...    ...            ...          ...  \n",
       "740  I.S. 075 FRANK D. PAULO   2018           64.9          1.0  \n",
       "741  I.S. 075 FRANK D. PAULO   2018           65.9          1.0  \n",
       "742  I.S. 075 FRANK D. PAULO   2018           56.9          1.0  \n",
       "743  I.S. 075 FRANK D. PAULO   2018           60.5          1.0  \n",
       "744  I.S. 075 FRANK D. PAULO   2018           58.0          1.0  \n",
       "\n",
       "[745 rows x 9 columns]"
      ]
     },
     "execution_count": 202,
     "metadata": {},
     "output_type": "execute_result"
    }
   ],
   "source": [
    "#Merge to identify schools that changed from no full time to full time\n",
    "cond1 = df_2017['Full Time'] == 0\n",
    "cond2 = df_2018['Full Time'] == 1\n",
    "cols = [\"DBN\", \"School Name\", 'Year', \"% Level 3+4\", \"Full Time\"]\n",
    "\n",
    "df_2017_noft = df_2017[cond1][cols]\n",
    "df_2018_ft = df_2018[cond2][cols]\n",
    "\n",
    "\n",
    "#merge on DBN DataFrame.merge(self, right, how='inner', on=None,\n",
    "change_table = df_2017_noft.merge(df_2018_ft, how = 'inner', on='DBN')\n",
    "change_table"
   ]
  },
  {
   "cell_type": "code",
   "execution_count": 207,
   "metadata": {},
   "outputs": [
    {
     "data": {
      "text/html": [
       "<div>\n",
       "<style scoped>\n",
       "    .dataframe tbody tr th:only-of-type {\n",
       "        vertical-align: middle;\n",
       "    }\n",
       "\n",
       "    .dataframe tbody tr th {\n",
       "        vertical-align: top;\n",
       "    }\n",
       "\n",
       "    .dataframe thead th {\n",
       "        text-align: right;\n",
       "    }\n",
       "</style>\n",
       "<table border=\"1\" class=\"dataframe\">\n",
       "  <thead>\n",
       "    <tr style=\"text-align: right;\">\n",
       "      <th></th>\n",
       "      <th>DBN</th>\n",
       "      <th>School_Name</th>\n",
       "      <th>Year</th>\n",
       "      <th>% Level 3+4</th>\n",
       "      <th>Full Time</th>\n",
       "    </tr>\n",
       "  </thead>\n",
       "  <tbody>\n",
       "    <tr>\n",
       "      <td>0</td>\n",
       "      <td>02M033</td>\n",
       "      <td>P.S. 033 CHELSEA PREP</td>\n",
       "      <td>2017</td>\n",
       "      <td>66.3</td>\n",
       "      <td>0.0</td>\n",
       "    </tr>\n",
       "    <tr>\n",
       "      <td>1</td>\n",
       "      <td>02M033</td>\n",
       "      <td>P.S. 033 CHELSEA PREP</td>\n",
       "      <td>2017</td>\n",
       "      <td>66.3</td>\n",
       "      <td>0.0</td>\n",
       "    </tr>\n",
       "    <tr>\n",
       "      <td>2</td>\n",
       "      <td>02M033</td>\n",
       "      <td>P.S. 033 CHELSEA PREP</td>\n",
       "      <td>2017</td>\n",
       "      <td>66.3</td>\n",
       "      <td>0.0</td>\n",
       "    </tr>\n",
       "    <tr>\n",
       "      <td>3</td>\n",
       "      <td>02M033</td>\n",
       "      <td>P.S. 033 CHELSEA PREP</td>\n",
       "      <td>2017</td>\n",
       "      <td>66.3</td>\n",
       "      <td>0.0</td>\n",
       "    </tr>\n",
       "    <tr>\n",
       "      <td>4</td>\n",
       "      <td>02M033</td>\n",
       "      <td>P.S. 033 CHELSEA PREP</td>\n",
       "      <td>2017</td>\n",
       "      <td>66.3</td>\n",
       "      <td>0.0</td>\n",
       "    </tr>\n",
       "    <tr>\n",
       "      <td>...</td>\n",
       "      <td>...</td>\n",
       "      <td>...</td>\n",
       "      <td>...</td>\n",
       "      <td>...</td>\n",
       "      <td>...</td>\n",
       "    </tr>\n",
       "    <tr>\n",
       "      <td>740</td>\n",
       "      <td>31R075</td>\n",
       "      <td>I.S. 075 FRANK D. PAULO</td>\n",
       "      <td>2018</td>\n",
       "      <td>64.9</td>\n",
       "      <td>1.0</td>\n",
       "    </tr>\n",
       "    <tr>\n",
       "      <td>741</td>\n",
       "      <td>31R075</td>\n",
       "      <td>I.S. 075 FRANK D. PAULO</td>\n",
       "      <td>2018</td>\n",
       "      <td>65.9</td>\n",
       "      <td>1.0</td>\n",
       "    </tr>\n",
       "    <tr>\n",
       "      <td>742</td>\n",
       "      <td>31R075</td>\n",
       "      <td>I.S. 075 FRANK D. PAULO</td>\n",
       "      <td>2018</td>\n",
       "      <td>56.9</td>\n",
       "      <td>1.0</td>\n",
       "    </tr>\n",
       "    <tr>\n",
       "      <td>743</td>\n",
       "      <td>31R075</td>\n",
       "      <td>I.S. 075 FRANK D. PAULO</td>\n",
       "      <td>2018</td>\n",
       "      <td>60.5</td>\n",
       "      <td>1.0</td>\n",
       "    </tr>\n",
       "    <tr>\n",
       "      <td>744</td>\n",
       "      <td>31R075</td>\n",
       "      <td>I.S. 075 FRANK D. PAULO</td>\n",
       "      <td>2018</td>\n",
       "      <td>58.0</td>\n",
       "      <td>1.0</td>\n",
       "    </tr>\n",
       "  </tbody>\n",
       "</table>\n",
       "<p>1490 rows × 5 columns</p>\n",
       "</div>"
      ],
      "text/plain": [
       "        DBN              School_Name  Year  % Level 3+4  Full Time\n",
       "0    02M033    P.S. 033 CHELSEA PREP  2017         66.3        0.0\n",
       "1    02M033    P.S. 033 CHELSEA PREP  2017         66.3        0.0\n",
       "2    02M033    P.S. 033 CHELSEA PREP  2017         66.3        0.0\n",
       "3    02M033    P.S. 033 CHELSEA PREP  2017         66.3        0.0\n",
       "4    02M033    P.S. 033 CHELSEA PREP  2017         66.3        0.0\n",
       "..      ...                      ...   ...          ...        ...\n",
       "740  31R075  I.S. 075 FRANK D. PAULO  2018         64.9        1.0\n",
       "741  31R075  I.S. 075 FRANK D. PAULO  2018         65.9        1.0\n",
       "742  31R075  I.S. 075 FRANK D. PAULO  2018         56.9        1.0\n",
       "743  31R075  I.S. 075 FRANK D. PAULO  2018         60.5        1.0\n",
       "744  31R075  I.S. 075 FRANK D. PAULO  2018         58.0        1.0\n",
       "\n",
       "[1490 rows x 5 columns]"
      ]
     },
     "execution_count": 207,
     "metadata": {},
     "output_type": "execute_result"
    }
   ],
   "source": [
    "#separate and append to be able to run tests and create box plot\n",
    "cols1 = [\"DBN\", \"School Name_x\", \"Year_x\", \"% Level 3+4_x\", \"Full Time_x\"]\n",
    "cols2 = [\"DBN\", \"School Name_y\", \"Year_y\", \"% Level 3+4_y\", \"Full Time_y\"]\n",
    "\n",
    "firstyear = change_table[cols1]\n",
    "secondyear = change_table[cols2]\n",
    "\n",
    "#rename columns df.rename(columns={\"A\": \"a\", \"B\": \"c\"})\n",
    "first_clean = firstyear.rename(columns={\"School Name_x\": \"School_Name\", \n",
    "                          \"Year_x\": \"Year\", \n",
    "                          \"% Level 3+4_x\": \"% Level 3+4\",\n",
    "                          \"Full Time_x\": \"Full Time\"})\n",
    "second_clean = secondyear.rename(columns={\"School Name_y\": \"School_Name\", \n",
    "                          \"Year_y\": \"Year\", \n",
    "                          \"% Level 3+4_y\": \"% Level 3+4\",\n",
    "                          \"Full Time_y\": \"Full Time\"})\n",
    "\n",
    "appended_df = first_clean.append(second_clean)\n",
    "appended_df"
   ]
  },
  {
   "cell_type": "code",
   "execution_count": 209,
   "metadata": {},
   "outputs": [
    {
     "data": {
      "text/plain": [
       "<matplotlib.axes._subplots.AxesSubplot at 0x1de9e220648>"
      ]
     },
     "execution_count": 209,
     "metadata": {},
     "output_type": "execute_result"
    },
    {
     "data": {
      "image/png": "[encoded data removed]",
      "text/plain": [
       "<Figure size 648x432 with 1 Axes>"
      ]
     },
     "metadata": {
      "needs_background": "light"
     },
     "output_type": "display_data"
    }
   ],
   "source": [
    "appended_df.boxplot(\"% Level 3+4\", by=\"Year\", figsize=(9, 6), meanline=False, showmeans=True)"
   ]
  },
  {
   "cell_type": "code",
   "execution_count": 212,
   "metadata": {},
   "outputs": [
    {
     "data": {
      "text/plain": [
       "Ttest_indResult(statistic=-5.3262134537348995, pvalue=1.1569612230757749e-07)"
      ]
     },
     "execution_count": 212,
     "metadata": {},
     "output_type": "execute_result"
    }
   ],
   "source": [
    "nofulltime_test = appended_df[appended_df['Year'] == '2017']\n",
    "fulltime_test = appended_df[appended_df['Year'] == '2018']\n",
    "\n",
    "stats.ttest_ind(nofulltime_test['% Level 3+4'], fulltime_test['% Level 3+4'], equal_var=False)"
   ]
  },
  {
   "cell_type": "code",
   "execution_count": 217,
   "metadata": {},
   "outputs": [
    {
     "data": {
      "text/plain": [
       "27Q232    144\n",
       "15K130     36\n",
       "30Q145     36\n",
       "12X314     36\n",
       "02M033     36\n",
       "03M242     36\n",
       "15K001     36\n",
       "07X161     36\n",
       "31R075     36\n",
       "26Q216     36\n",
       "03M421     36\n",
       "05M194     36\n",
       "24Q005     36\n",
       "28Q680     36\n",
       "26Q098     36\n",
       "19K409     36\n",
       "19K065     36\n",
       "30Q286     25\n",
       "Name: DBN, dtype: int64"
      ]
     },
     "execution_count": 217,
     "metadata": {},
     "output_type": "execute_result"
    }
   ],
   "source": [
    "#How many schools is this?\n",
    "change_table[\"DBN\"].value_counts()"
   ]
  },
  {
   "cell_type": "code",
   "execution_count": 223,
   "metadata": {},
   "outputs": [
    {
     "data": {
      "text/html": [
       "<div>\n",
       "<style scoped>\n",
       "    .dataframe tbody tr th:only-of-type {\n",
       "        vertical-align: middle;\n",
       "    }\n",
       "\n",
       "    .dataframe tbody tr th {\n",
       "        vertical-align: top;\n",
       "    }\n",
       "\n",
       "    .dataframe thead th {\n",
       "        text-align: right;\n",
       "    }\n",
       "</style>\n",
       "<table border=\"1\" class=\"dataframe\">\n",
       "  <thead>\n",
       "    <tr style=\"text-align: right;\">\n",
       "      <th></th>\n",
       "      <th>DBN</th>\n",
       "      <th>Year</th>\n",
       "      <th>% Level 3+4</th>\n",
       "    </tr>\n",
       "  </thead>\n",
       "  <tbody>\n",
       "    <tr>\n",
       "      <td>0</td>\n",
       "      <td>02M033</td>\n",
       "      <td>2017</td>\n",
       "      <td>68.083333</td>\n",
       "    </tr>\n",
       "    <tr>\n",
       "      <td>1</td>\n",
       "      <td>02M033</td>\n",
       "      <td>2018</td>\n",
       "      <td>66.133333</td>\n",
       "    </tr>\n",
       "    <tr>\n",
       "      <td>2</td>\n",
       "      <td>03M242</td>\n",
       "      <td>2017</td>\n",
       "      <td>21.666667</td>\n",
       "    </tr>\n",
       "    <tr>\n",
       "      <td>3</td>\n",
       "      <td>03M242</td>\n",
       "      <td>2018</td>\n",
       "      <td>25.150000</td>\n",
       "    </tr>\n",
       "    <tr>\n",
       "      <td>4</td>\n",
       "      <td>03M421</td>\n",
       "      <td>2017</td>\n",
       "      <td>21.600000</td>\n",
       "    </tr>\n",
       "  </tbody>\n",
       "</table>\n",
       "</div>"
      ],
      "text/plain": [
       "      DBN  Year  % Level 3+4\n",
       "0  02M033  2017    68.083333\n",
       "1  02M033  2018    66.133333\n",
       "2  03M242  2017    21.666667\n",
       "3  03M242  2018    25.150000\n",
       "4  03M421  2017    21.600000"
      ]
     },
     "execution_count": 223,
     "metadata": {},
     "output_type": "execute_result"
    }
   ],
   "source": [
    "grouped_append = appended_df.groupby([\"DBN\", \"Year\"], as_index=False)[\"% Level 3+4\"].mean()\n",
    "grouped_append.head(5)"
   ]
  },
  {
   "cell_type": "code",
   "execution_count": 224,
   "metadata": {},
   "outputs": [
    {
     "data": {
      "text/plain": [
       "<matplotlib.axes._subplots.AxesSubplot at 0x1de9e2c6cc8>"
      ]
     },
     "execution_count": 224,
     "metadata": {},
     "output_type": "execute_result"
    },
    {
     "data": {
      "image/png": "[encoded data removed]",
      "text/plain": [
       "<Figure size 648x432 with 1 Axes>"
      ]
     },
     "metadata": {
      "needs_background": "light"
     },
     "output_type": "display_data"
    }
   ],
   "source": [
    "grouped_append.boxplot(\"% Level 3+4\", by=\"Year\", figsize=(9, 6), meanline=False, showmeans=True)"
   ]
  },
  {
   "cell_type": "code",
   "execution_count": 225,
   "metadata": {},
   "outputs": [
    {
     "data": {
      "text/plain": [
       "Ttest_indResult(statistic=-0.7583663427736974, pvalue=0.45346055647080785)"
      ]
     },
     "execution_count": 225,
     "metadata": {},
     "output_type": "execute_result"
    }
   ],
   "source": [
    "grouped_nofulltime_test = grouped_append[grouped_append['Year'] == '2017']\n",
    "grouped_fulltime_test = grouped_append[grouped_append['Year'] == '2018']\n",
    "\n",
    "stats.ttest_ind(grouped_nofulltime_test['% Level 3+4'], grouped_fulltime_test['% Level 3+4'], equal_var=False)"
   ]
  },
  {
   "cell_type": "code",
   "execution_count": null,
   "metadata": {},
   "outputs": [],
   "source": []
  }
 ],
 "metadata": {
  "kernelspec": {
   "display_name": "Python 3",
   "language": "python",
   "name": "python3"
  },
  "language_info": {
   "codemirror_mode": {
    "name": "ipython",
    "version": 3
   },
   "file_extension": ".py",
   "mimetype": "text/x-python",
   "name": "python",
   "nbconvert_exporter": "python",
   "pygments_lexer": "ipython3",
   "version": "3.7.4"
  }
 },
 "nbformat": 4,
 "nbformat_minor": 2
}
