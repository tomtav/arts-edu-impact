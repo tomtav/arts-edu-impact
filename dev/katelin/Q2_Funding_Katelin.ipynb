{
 "cells": [
  {
   "cell_type": "markdown",
   "metadata": {},
   "source": [
    "## Question 1: Funding quality and measure per year correlation with ELA and math performance\n",
    "\n",
    "Last updated on 3/24/20\n"
   ]
  },
  {
   "cell_type": "markdown",
   "metadata": {},
   "source": [
    "**Hypothesis**: If art programs affect student performance, then schools with stronger indicators of funding will have significantly different math and ela state test scores than schools with weaker indicators of funding.\n",
    "\n",
    "**Null hypothesis**: If art programs do not affect student performance, then schools with stronger indicators of funding will not have significantly different math and ELA state test scores than schools with weaker indicators of funding.\n",
    "\n",
    "**Indicators of funding** will be: (a) number of funding sources, (b) self-report of increase or decrease in funding, and (c) self-report of adequate or inadequate funding). \n",
    "\n",
    "**Math/ELA performance** will be measured by pass rate (proportion of students earning a score of 3 or 4)."
   ]
  },
  {
   "cell_type": "markdown",
   "metadata": {},
   "source": [
    "### Data\n",
    "\n",
    "Annual Arts Education Survey: https://data.cityofnewyork.us/browse/select_dataset?Dataset-Information_Agency=Department+of+Education+%28DOE%29&nofederate=true&suppressed_facets[]=domain&utf8=✓&sortBy=relevance&q=Arts%20Data%20Survey \n",
    "\n",
    "New York State Test Results: https://infohub.nyced.org/reports/academics/test-results "
   ]
  },
  {
   "cell_type": "code",
   "execution_count": null,
   "metadata": {
    "scrolled": true
   },
   "outputs": [],
   "source": [
    "# import dependencies\n",
    "\n",
    "import pandas as pd\n",
    "import numpy as np\n",
    "import matplotlib.pyplot as plt\n",
    "import scipy.stats as stats\n",
    "import requests\n",
    "import json"
   ]
  },
  {
   "cell_type": "markdown",
   "metadata": {},
   "source": [
    "## Dataset 1: Arts Data"
   ]
  },
  {
   "cell_type": "code",
   "execution_count": null,
   "metadata": {
    "scrolled": true
   },
   "outputs": [],
   "source": [
    "# arts_2014_2015_file = \"2014-2015_Arts_Survey_Data.csv\"\n",
    "# arts_2015_2016_file = \"2015-2016_Arts_Survey_Data.csv\"\n",
    "arts_2016_2017_file = \"2016-2017_Arts_Survey_Data.csv\"\n",
    "arts_2017_2018_file = \"2017-2018_Arts_Survey_Data.csv\"\n",
    "arts_2018_2019_file = \"2018-2019_Arts_Survey_Data.csv\"\n",
    "\n",
    "# arts_2014_2015 = pd.read_csv(arts_2014_2015_file, low_memory=False)\n",
    "# arts_2015_2016 = pd.read_csv(arts_2015_2016_file, low_memory=False)\n",
    "arts_2016_2017 = pd.read_csv(arts_2016_2017_file, low_memory=False)\n",
    "arts_2017_2018 = pd.read_csv(arts_2017_2018_file, low_memory=False)\n",
    "arts_2018_2019 = pd.read_csv(arts_2018_2019_file, low_memory=False)\n",
    "\n",
    "\n",
    "arts_2016_2017['Year'] = 2017\n",
    "arts_2017_2018['Year'] = 2018\n",
    "arts_2018_2019['Year'] = 2019"
   ]
  },
  {
   "cell_type": "markdown",
   "metadata": {},
   "source": [
    "## Data  Dictionaries: "
   ]
  },
  {
   "cell_type": "markdown",
   "metadata": {},
   "source": [
    "### 2016-2017\n",
    "\n",
    "**Q34:** Did your school receive the following funding sources (non-DOE) to support arts education in this school year (*check all that apply*)?\n",
    "\n",
    "(Yes/No radio buttons)\n",
    "\n",
    "**Funding Sources**\n",
    "* Cultural organizations\n",
    "* Education association\n",
    "* Federal, state, or city grants\n",
    "* Local business or corporation\n",
    "* Private foundation\n",
    "* PTA/PA\n",
    "* State, county, local arts councils\n",
    "\n",
    "---\n",
    "\n",
    "**Q35:** Funding for the arts is generally:\n",
    "\n",
    "* Abundant\n",
    "* Sufficient\n",
    "* Insufficient\n",
    "* N/A\n",
    "\n",
    "---\n",
    "\n",
    "**Q36:** Funding over the past three years has:\n",
    "\n",
    "* Increased\n",
    "* Decreased\n",
    "* Remained the same"
   ]
  },
  {
   "cell_type": "markdown",
   "metadata": {},
   "source": [
    "### 2017-2018\n",
    "\n",
    "**Q36:** Did your school receive the following funding sources (non-DOE) to support arts education in this school year (*check all that apply*)?\n",
    "\n",
    "(Yes/No radio buttons)\n",
    "\n",
    "**Funding Sources**\n",
    "* Cultural organizations\n",
    "* Education association\n",
    "* Federal, state, or city grants\n",
    "* Local business or corporation\n",
    "* Private foundation\n",
    "* PTA/PA\n",
    "* State, county, local arts councils\n",
    "\n",
    "---\n",
    "\n",
    "**Q37:** Funding for the arts is generally:\n",
    "\n",
    "* Abundant\n",
    "* Sufficient\n",
    "* Insufficient\n",
    "* N/A\n",
    "\n",
    "---\n",
    "\n",
    "**Q38:** Funding over the past three years has:\n",
    "\n",
    "* Increased\n",
    "* Decreased\n",
    "* Remained the same"
   ]
  },
  {
   "cell_type": "markdown",
   "metadata": {},
   "source": [
    "### 2018-2019\n",
    "\n",
    "**Q32:** Did your school receive the following funding sources (non-DOE) to support arts education in this school year (*check all that apply*)?\n",
    "\n",
    "(Yes/No radio buttons)\n",
    "\n",
    "**Funding Sources**\n",
    "* Cultural organizations\n",
    "* Education association\n",
    "* Federal, state, or city grants\n",
    "* Local business or corporation\n",
    "* Private foundation\n",
    "* PTA/PA\n",
    "* State, county, local arts councils\n",
    "\n",
    "---\n",
    "\n",
    "**Q33:** Funding for the arts is generally:\n",
    "\n",
    "* Abundant\n",
    "* Sufficient\n",
    "* Insufficient\n",
    "* N/A\n",
    "\n",
    "---\n",
    "\n",
    "**Q34:** Funding over the past three years has:\n",
    "\n",
    "* Increased\n",
    "* Decreased\n",
    "* Remained the same"
   ]
  },
  {
   "cell_type": "markdown",
   "metadata": {},
   "source": [
    "## Clean/Explore Dataset 1"
   ]
  },
  {
   "cell_type": "code",
   "execution_count": null,
   "metadata": {},
   "outputs": [],
   "source": [
    "#print(str(arts_2016_2017.columns))\n",
    "\n",
    "# Q34, Q35, Q36\n",
    "# # Note: for Q34, quetions with the 'C1' and 'C2' suffixes are redundant because they are inverses of each other\n",
    "# funding_2016_2017 = arts_2016_2017[['Q0_DBN', \n",
    "#                                     'Q34_R1_C1', 'Q34_R1_C2', 'Q34_R2_C1', 'Q34_R2_C2',\n",
    "#                                     'Q34_R3_C1', 'Q34_R3_C2', 'Q34_R4_C1', 'Q34_R4_C2', \n",
    "#                                     'Q34_R5_C1','Q34_R5_C2', 'Q34_R6_C1', 'Q34_R6_C2',\n",
    "#                                     'Q34_R7_C1', 'Q34_R7_C2',\n",
    "#                                     'Q35_1', 'Q35_2', 'Q35_3', 'Q35_4', \n",
    "#                                     'Q36_1', 'Q36_2', 'Q36_3']]\n",
    "\n",
    "\n",
    "# Q34, Q35, Q36\n",
    "funding_2016_2017 = arts_2016_2017[['Q0_DBN',\n",
    "                                    'Year',\n",
    "                                    'Q34_R1_C1', \n",
    "                                    'Q34_R2_C1',\n",
    "                                    'Q34_R3_C1',\n",
    "                                    'Q34_R4_C1',\n",
    "                                    'Q34_R5_C1',\n",
    "                                    'Q34_R6_C1',\n",
    "                                    'Q34_R7_C1', \n",
    "                                    'Q35_1', 'Q35_2', 'Q35_3', 'Q35_4', \n",
    "                                    'Q36_1', 'Q36_2', 'Q36_3']]\n",
    "\n",
    "funding_2016_2017.head()"
   ]
  },
  {
   "cell_type": "code",
   "execution_count": null,
   "metadata": {},
   "outputs": [],
   "source": [
    "# print(str(arts_2017_2018.columns))\n",
    "\n",
    "# # Q36, Q37, Q38\n",
    "# # Note: for Q36, quetions with the 'C1' and 'C2' suffixes are redundant because they are  inverses of each other\n",
    "# funding_2017_2018 = arts_2017_2018[['Q0_DBN', \n",
    "#                                    'Q36_R1_C1','Q36_R1_C2',\n",
    "#                                     'Q36_R2_C1', 'Q36_R2_C2', \n",
    "#                                     'Q36_R3_C1', 'Q36_R3_C2', \n",
    "#                                     'Q36_R4_C1', 'Q36_R4_C2',\n",
    "#                                     'Q36_R5_C1', 'Q36_R5_C2', \n",
    "#                                     'Q36_R6_C1', 'Q36_R6_C2', \n",
    "#                                     'Q36_R7_C1','Q36_R7_C2', \n",
    "#                                     'Q37_1', 'Q37_2', \n",
    "#                                     'Q37_3', 'Q37_4', \n",
    "#                                     'Q38_1', 'Q38_2','Q38_3']]\n",
    "\n",
    "\n",
    "# # Q36, Q37, Q38\n",
    "funding_2017_2018 = arts_2017_2018[['Q0_DBN',\n",
    "                                    'Year',\n",
    "                                   'Q36_R1_C1',\n",
    "                                    'Q36_R2_C1', \n",
    "                                    'Q36_R3_C1',\n",
    "                                    'Q36_R4_C1',\n",
    "                                    'Q36_R5_C1',\n",
    "                                    'Q36_R6_C1',\n",
    "                                    'Q36_R7_C1',\n",
    "                                    'Q37_1', 'Q37_2', 'Q37_3', 'Q37_4', \n",
    "                                    'Q38_1', 'Q38_2','Q38_3']]\n",
    "\n",
    "funding_2017_2018.head()"
   ]
  },
  {
   "cell_type": "code",
   "execution_count": null,
   "metadata": {
    "scrolled": false
   },
   "outputs": [],
   "source": [
    "#print(str(arts_2018_2019.columns))\n",
    "\n",
    "# # Q32, Q33, Q34\n",
    "# # Note: for Q32, quetions with the 'C1' and 'C2' suffixes are redundant because they are  inverses of each other\n",
    "# funding_2018_2019 = arts_2018_2019[['Q0_DBN', \n",
    "#                                     ' Q32_R1_C1', ' Q32_R1_C2', ' Q32_R2_C1',\n",
    "#                                     ' Q32_R2_C2', ' Q32_R3_C1', ' Q32_R3_C2', \n",
    "#                                     ' Q32_R4_C1', ' Q32_R4_C2',' Q32_R5_C1', \n",
    "#                                     ' Q32_R5_C2', ' Q32_R6_C1', ' Q32_R6_C2', \n",
    "#                                     ' Q32_R7_C1',' Q32_R7_C2', \n",
    "#                                     'Q33_1', 'Q33_2', 'Q33_3', 'Q33_4', \n",
    "#                                     'Q34_1', 'Q34_2','Q34_3']]\n",
    "\n",
    "\n",
    "# Q32, Q33, Q34\n",
    "funding_2018_2019 = arts_2018_2019[['Q0_DBN',\n",
    "                                    'Year',\n",
    "                                    ' Q32_R1_C1',\n",
    "                                    ' Q32_R2_C1',\n",
    "                                    ' Q32_R3_C1', \n",
    "                                    ' Q32_R4_C1',\n",
    "                                    ' Q32_R5_C1', \n",
    "                                    ' Q32_R6_C1',\n",
    "                                    ' Q32_R7_C1', \n",
    "                                    'Q33_1', 'Q33_2', 'Q33_3', 'Q33_4', \n",
    "                                    'Q34_1', 'Q34_2','Q34_3']]\n",
    "\n",
    "\n",
    "\n",
    "funding_2018_2019.head()"
   ]
  },
  {
   "cell_type": "code",
   "execution_count": null,
   "metadata": {},
   "outputs": [],
   "source": [
    "# Rename columns\n",
    "\n",
    "funding_2016_2017 = funding_2016_2017.rename(columns={'Q0_DBN': 'DBN', \n",
    "                                    'Q34_R1_C1': 'Q1_cultural_org',\n",
    "                                    'Q34_R2_C1': 'Q1_education_assoc',\n",
    "                                    'Q34_R3_C1': 'Q1_grants', \n",
    "                                    'Q34_R4_C1': 'Q1_local_business',\n",
    "                                    'Q34_R5_C1': 'Q1_private_foundation', \n",
    "                                    'Q34_R6_C1': 'Q1_PTA_PA',\n",
    "                                    'Q34_R7_C1': 'Q1_arts_council', \n",
    "                                    'Q35_1': 'Q2_abundant', 'Q35_2': 'Q2_sufficient', \n",
    "                                    'Q35_3': 'Q2_insufficient', 'Q35_4': 'Q2_na', \n",
    "                                    'Q36_1': 'Q3_increased', 'Q36_2': 'Q3_decreased','Q36_3':'Q3_same'})\n",
    "funding_2016_2017.head()"
   ]
  },
  {
   "cell_type": "code",
   "execution_count": null,
   "metadata": {},
   "outputs": [],
   "source": [
    "# Rename columns\n",
    "\n",
    "funding_2017_2018 = funding_2017_2018.rename(columns={'Q0_DBN': 'DBN', \n",
    "                                    'Q36_R1_C1': 'Q1_cultural_org',\n",
    "                                    'Q36_R2_C1': 'Q1_education_assoc',\n",
    "                                    'Q36_R3_C1': 'Q1_grants', \n",
    "                                    'Q36_R4_C1': 'Q1_local_business',\n",
    "                                    'Q36_R5_C1': 'Q1_private_foundation', \n",
    "                                    'Q36_R6_C1': 'Q1_PTA_PA',\n",
    "                                    'Q36_R7_C1': 'Q1_arts_council', \n",
    "                                    'Q37_1': 'Q2_abundant', 'Q37_2': 'Q2_sufficient', \n",
    "                                    'Q37_3': 'Q2_insufficient', 'Q37_4': 'Q2_na', \n",
    "                                    'Q38_1': 'Q3_increased', 'Q38_2': 'Q3_decreased','Q38_3':'Q3_same'})\n",
    "funding_2016_2017.head()"
   ]
  },
  {
   "cell_type": "code",
   "execution_count": null,
   "metadata": {},
   "outputs": [],
   "source": [
    "# Rename columns\n",
    "\n",
    "funding_2018_2019 = funding_2018_2019.rename(columns={'Q0_DBN': 'DBN', \n",
    "                                    ' Q32_R1_C1': 'Q1_cultural_org',\n",
    "                                    ' Q32_R2_C1': 'Q1_education_assoc',\n",
    "                                    ' Q32_R3_C1': 'Q1_grants', \n",
    "                                    ' Q32_R4_C1': 'Q1_local_business',\n",
    "                                    ' Q32_R5_C1': 'Q1_private_foundation', \n",
    "                                    ' Q32_R6_C1': 'Q1_PTA_PA',\n",
    "                                    ' Q32_R7_C1': 'Q1_arts_council', \n",
    "                                    'Q33_1': 'Q2_abundant', 'Q33_2': 'Q2_sufficient', \n",
    "                                    'Q33_3': 'Q2_insufficient', 'Q33_4': 'Q2_na', \n",
    "                                    'Q34_1': 'Q3_increased', 'Q34_2': 'Q3_decreased','Q34_3':'Q3_same'})\n",
    "funding_2018_2019.head()"
   ]
  },
  {
   "cell_type": "code",
   "execution_count": null,
   "metadata": {},
   "outputs": [],
   "source": [
    "# Merge dataframes to continue the cleaning process\n",
    "\n",
    "funding_df = funding_2016_2017.append([funding_2017_2018, funding_2018_2019])"
   ]
  },
  {
   "cell_type": "code",
   "execution_count": null,
   "metadata": {},
   "outputs": [],
   "source": [
    "# count number of funding sources for Q1\n",
    "\n",
    "funding_df['Q1_funding_sources'] = funding_df['Q1_cultural_org'] + funding_df['Q1_education_assoc'] + funding_df['Q1_grants'] + funding_df['Q1_local_business'] + funding_df['Q1_private_foundation'] + funding_df['Q1_PTA_PA'] + funding_df['Q1_arts_council']\n",
    "\n",
    "# set labels for Q2\n",
    "q2_cond1 = (funding_df['Q2_abundant'] == 1)\n",
    "funding_df.loc[q2_cond1, 'Q2_label'] = 'abundant'\n",
    "\n",
    "q2_cond2 = (funding_df['Q2_sufficient'] == 1)\n",
    "funding_df.loc[q2_cond2, 'Q2_label'] = 'sufficient'\n",
    "\n",
    "q2_cond3 = (funding_df['Q2_insufficient'] == 1)\n",
    "funding_df.loc[q2_cond3, 'Q2_label'] = 'insufficient'\n",
    "\n",
    "q2_cond4 = (funding_df['Q2_na'] == 1)\n",
    "funding_df.loc[q2_cond4, 'Q2_label'] = 'na'\n",
    "\n",
    "\n",
    "# set labels for Q3\n",
    "q3_cond1 = (funding_df['Q3_increased'] == 1)\n",
    "funding_df.loc[q3_cond1, 'Q3_label'] = 'increased'\n",
    "\n",
    "q3_cond2 = (funding_df['Q3_decreased'] == 1)\n",
    "funding_df.loc[q3_cond2, 'Q3_label'] = 'decreased'\n",
    "\n",
    "q3_cond3 = (funding_df['Q3_same'] == 1)\n",
    "funding_df.loc[q3_cond3, 'Q3_label'] = 'same'\n",
    "\n",
    "funding_df = funding_df[['DBN', 'Year', 'Q1_funding_sources', 'Q2_label', 'Q3_label',\n",
    "        'Q1_cultural_org', 'Q1_education_assoc', 'Q1_grants',\n",
    "       'Q1_local_business', 'Q1_private_foundation', 'Q1_PTA_PA',\n",
    "       'Q1_arts_council', 'Q2_abundant', 'Q2_sufficient', 'Q2_insufficient',\n",
    "       'Q2_na', 'Q3_increased', 'Q3_decreased', 'Q3_same']]\n",
    "\n",
    "# create smaller df with columns of interest\n",
    "\n",
    "funding_analysis_df = funding_df[['DBN', 'Year', 'Q1_funding_sources', 'Q2_label', 'Q3_label']]\n",
    "\n",
    "funding_analysis_df.head()"
   ]
  },
  {
   "cell_type": "markdown",
   "metadata": {},
   "source": [
    "### Explore Data"
   ]
  },
  {
   "cell_type": "code",
   "execution_count": null,
   "metadata": {},
   "outputs": [],
   "source": [
    "# Note: we may want to use dummy coding when doing analyses like correlation and regression\n",
    "\n",
    "# Q1: Type of funding sources by DBN\n",
    "\n",
    "# Q1: Number of funding sources reported by DBN\n",
    "\n",
    "funding_analysis_df.sort_values(by='Q1_funding_sources').head(20)\n",
    "\n",
    "# Q2: Funding rating (abundant, sufficient, insufficient, N/A)\n",
    "\n",
    "funding_analysis_df.groupby(['Q2_label', 'Year']).mean().reset_index()\n",
    "\n",
    "#Q3: Increase/decrease/no change in funding\n",
    "\n",
    "funding_analysis_df.groupby(['Q3_label', 'Year']).mean().reset_index()\n",
    "\n",
    "\n",
    "# Group by all three questions to create \"types\"\n",
    "funding_analysis_df.groupby(['Q2_label', 'Q3_label', 'Year']).mean().reset_index()"
   ]
  },
  {
   "cell_type": "code",
   "execution_count": null,
   "metadata": {},
   "outputs": [],
   "source": [
    "funding_analysis_df.groupby(['DBN', 'Year', 'Q2_label', 'Q3_label']).mean()"
   ]
  },
  {
   "cell_type": "markdown",
   "metadata": {},
   "source": [
    "## Dataset 2: ELA and Math Data"
   ]
  },
  {
   "cell_type": "markdown",
   "metadata": {},
   "source": [
    "### API"
   ]
  },
  {
   "cell_type": "code",
   "execution_count": 13,
   "metadata": {
    "scrolled": true
   },
   "outputs": [],
   "source": [
    "# # define API URLs\n",
    "math_url = 'https://data.cityofnewyork.us/resource/m27t-ht3h.json'\n",
    "ela_url = 'https://data.cityofnewyork.us/resource/qkpp-pbi8.json'"
   ]
  },
  {
   "cell_type": "code",
   "execution_count": 14,
   "metadata": {
    "scrolled": true
   },
   "outputs": [
    {
     "name": "stdout",
     "output_type": "stream",
     "text": [
      "Math Results Rows: 1000\n",
      "['dbn', 'school_name', 'grade', 'year', 'category', 'number_tested', 'mean_scale_score', 'level_1', 'level_1_1', 'level_2', 'level_2_1', 'level_3', 'level_3_1', 'level_4', 'level_4_1', 'level_3_4', 'level_3_4_1']\n"
     ]
    }
   ],
   "source": [
    "# # retrieve 2013-2018 School Math Results\n",
    "math_results = requests.get(math_url).json()\n",
    "\n",
    "math_df = pd.DataFrame(math_results)\n",
    "math_df.head()\n",
    "print(f'Math Results Rows: {len(math_df)}')\n",
    "print(list(math_df.columns))"
   ]
  },
  {
   "cell_type": "code",
   "execution_count": 15,
   "metadata": {
    "scrolled": true
   },
   "outputs": [],
   "source": [
    "# # retrieve 2013-2018 School ELA Results\n",
    "# ela_results = requests.get(ela_url).json()\n",
    "\n",
    "# ela_df = pd.DataFrame(ela_results)\n",
    "# ela_df.head()\n",
    "# print(f'ELA Results Rows: {len(ela_df)}')\n",
    "# print(list(ela_df.columns))\n",
    "# print(ela_df['year'].unique())"
   ]
  },
  {
   "cell_type": "code",
   "execution_count": 16,
   "metadata": {},
   "outputs": [],
   "source": [
    "# can use .csvs\n",
    "ela_df = pd.read_csv('2013-2019_school_ela_results.csv', low_memory=False)\n",
    "math_df = pd.read_csv('2013-2019_school_math_results.csv', low_memory=False)\n",
    "\n",
    "\n",
    "#rename the columns to match the \n",
    "math_df = math_df.rename(columns = {\n",
    "                'Unnamed: 0': 'Unnamed',\n",
    "                'School Name':'school_name', \n",
    "                'Grade': 'grade', \n",
    "                'Year': 'year', \n",
    "                'Category': 'category',\n",
    "                'Number Tested': 'number_tested', \n",
    "                'Mean Scale Score': 'mean_scale_score', \n",
    "                '# Level 1': 'level_1', \n",
    "                '% Level 1': 'level_1_1',\n",
    "                '# Level 2': 'level_2',\n",
    "                '% Level 2': 'level_2_1',\n",
    "                '# Level 3': 'level_3',\n",
    "                '% Level 3': 'level_3_1',\n",
    "                '# Level 4': 'level_4',\n",
    "                '% Level 4': 'level_4_1',\n",
    "                '# Level 3+4':'level_3_4',\n",
    "                '% Level 3+4':'level_3_4_1'})\n",
    "\n",
    "ela_df = ela_df.rename(columns = {\n",
    "                'Unnamed: 0': 'Unnamed',\n",
    "                'School Name':'school_name', \n",
    "                'Grade': 'grade', \n",
    "                'Year': 'year', \n",
    "                'Category': 'category',\n",
    "                'Number Tested': 'number_tested', \n",
    "                'Mean Scale Score': 'mean_scale_score', \n",
    "                '# Level 1': 'level_1', \n",
    "                '% Level 1': 'level_1_1',\n",
    "                '# Level 2': 'level_2',\n",
    "                '% Level 2': 'level_2_1',\n",
    "                '# Level 3': 'level_3',\n",
    "                '% Level 3': 'level_3_1',\n",
    "                '# Level 4': 'level_4',\n",
    "                '% Level 4': 'level_4_1',\n",
    "                '# Level 3+4':'level_3_4',\n",
    "                '% Level 3+4':'level_3_4_1'})"
   ]
  },
  {
   "cell_type": "markdown",
   "metadata": {},
   "source": [
    "## Clean/Explore Dataset 2"
   ]
  },
  {
   "cell_type": "code",
   "execution_count": 17,
   "metadata": {},
   "outputs": [],
   "source": [
    "# convert columns to numeric\n",
    "cols = ['number_tested', 'mean_scale_score', 'level_1', 'level_1_1', 'level_2', 'level_2_1', 'level_3', 'level_3_1', 'level_4', 'level_4_1', 'level_3_4', 'level_3_4_1']\n",
    "math_df[cols] = math_df[cols].apply(pd.to_numeric, errors='coerce')\n",
    "\n",
    "# convert columns to numeric\n",
    "cols = ['number_tested', 'mean_scale_score', 'level_1', 'level_1_1', 'level_2', 'level_2_1', 'level_3', 'level_3_1', 'level_4', 'level_4_1', 'level_3_4', 'level_3_4_1']\n",
    "ela_df[cols] = ela_df[cols].apply(pd.to_numeric, errors='coerce')"
   ]
  },
  {
   "cell_type": "code",
   "execution_count": 35,
   "metadata": {
    "scrolled": true
   },
   "outputs": [],
   "source": [
    "ela_funding = pd.merge(funding_analysis_df, ela_df, on = 'DBN')\n",
    "math_funding = pd.merge(funding_analysis_df, math_df, on = 'DBN')\n",
    "\n",
    "ela_funding.to_csv('ela_funding.csv')\n",
    "math_funding.to_csv('math_funding.csv')"
   ]
  },
  {
   "cell_type": "code",
   "execution_count": 19,
   "metadata": {},
   "outputs": [],
   "source": [
    "# grab pass rate data \n",
    "ela_pass_rate_df = ela_funding[['DBN', 'Year', 'Q1_funding_sources', 'Q2_label', 'Q3_label',\n",
    "       'school_name', 'grade', 'year', 'category', 'number_tested','level_3_4',\n",
    "       'level_3_4_1']]\n",
    "math_pass_rate_df = math_funding[['DBN', 'Year', 'Q1_funding_sources', 'Q2_label', 'Q3_label',\n",
    "       'school_name', 'grade', 'year', 'category', 'number_tested','level_3_4',\n",
    "       'level_3_4_1']]"
   ]
  },
  {
   "cell_type": "markdown",
   "metadata": {},
   "source": [
    "## Analysis"
   ]
  },
  {
   "cell_type": "markdown",
   "metadata": {},
   "source": [
    "### Descriptives"
   ]
  },
  {
   "cell_type": "code",
   "execution_count": 20,
   "metadata": {},
   "outputs": [],
   "source": [
    "# number of schools in both datasets\n",
    "ela_sample_size = len(ela_pass_rate_df['DBN'].unique())\n",
    "math_sample_size = len(math_pass_rate_df['DBN'].unique())\n",
    "\n",
    "# average overall pass rate\n",
    "ela_pass_rate = ela_pass_rate_df['level_3_4_1'].mean()\n",
    "math_pass_rate = math_pass_rate_df['level_3_4_1'].mean()"
   ]
  },
  {
   "cell_type": "markdown",
   "metadata": {},
   "source": [
    "### Statistical Tests"
   ]
  },
  {
   "cell_type": "code",
   "execution_count": 87,
   "metadata": {},
   "outputs": [
    {
     "data": {
      "text/plain": [
       "100.0"
      ]
     },
     "execution_count": 87,
     "metadata": {},
     "output_type": "execute_result"
    }
   ],
   "source": [
    "# T-Test: Is there a statistically signficant difference in state test pass rates for schools that have self-reported good funding versus schools that have self-reported poor funding?\n",
    "\n",
    "# ELA\n",
    "\n",
    "# Measure 1: Sufficient/Insuffcient\n",
    "ela_good_funding = ela_pass_rate_df[(ela_pass_rate_df['Q2_label'] == 'sufficient') | (ela_pass_rate_df['Q2_label'] == 'abundant')]\n",
    "ela_poor_funding = ela_pass_rate_df[ela_pass_rate_df['Q2_label'] == 'insufficient']\n",
    "\n",
    "# mean of each group\n",
    "ela_good_mean = np.mean(ela_good_funding['level_3_4_1'])\n",
    "ela_poor_mean = np.mean(ela_poor_funding['level_3_4_1'])\n",
    "\n",
    "# sample size of each group\n",
    "ela_good_samplesize = len(ela_good_funding['DBN'].unique())\n",
    "ela_poor_samplesize = len(ela_poor_funding['DBN'].unique())\n",
    "\n",
    "# Welch's t-test (do not assume equal variance)\n",
    "stats.ttest_ind(ela_good_funding['level_3_4_1'], ela_poor_funding['level_3_4_1'], equal_var=False, nan_policy='omit')\n",
    "\n",
    "# ELA\n",
    "\n",
    "# Measure 1: Sufficient/Insuffcient\n",
    "math_good_funding = math_pass_rate_df[(math_pass_rate_df['Q2_label'] == 'sufficient') | (math_pass_rate_df['Q2_label'] == 'abundant')]\n",
    "math_poor_funding = math_pass_rate_df[math_pass_rate_df['Q2_label'] == 'insufficient']\n",
    "\n",
    "# mean of each group\n",
    "math_good_mean = np.mean(math_good_funding['level_3_4_1'])\n",
    "math_poor_mean = np.mean(math_poor_funding['level_3_4_1'])\n",
    "\n",
    "# sample size of each group\n",
    "math_good_samplesize = len(math_good_funding['DBN'].unique())\n",
    "math_poor_samplesize = len(math_poor_funding['DBN'].unique())\n",
    "\n",
    "# Welch's t-test (do not assume equal variance)\n",
    "stats.ttest_ind(math_good_funding['level_3_4_1'], math_poor_funding['level_3_4_1'], equal_var=False, nan_policy='omit')"
   ]
  },
  {
   "cell_type": "markdown",
   "metadata": {},
   "source": [
    "We compared schools who reported abundant or sufficient funding for the arts (N = 459, M = 39.53) versus those who reported insufficient funding for the arts (N = 967, M = 35.60). Schools with abundant/sufficient funding performed signficiantly better on the ELA state test than with poor funding, *t* = 22.75, *p* < .001. These results also held for the Math state test: Schools with abundant or sufficient funding (N = 459, M = 40.11) performed better than schools with poor funding (N = 967, M = 35.69), *t* = 23.63, *p* < .001. \n",
    "\n",
    "When thinking about variability, both groups had pass rates as low as 0% and as high as 100%. Below is a box plot."
   ]
  },
  {
   "cell_type": "code",
   "execution_count": 62,
   "metadata": {},
   "outputs": [
    {
     "data": {
      "text/plain": [
       "Ttest_indResult(statistic=22.754403980335855, pvalue=7.246357166153657e-114)"
      ]
     },
     "execution_count": 62,
     "metadata": {},
     "output_type": "execute_result"
    }
   ],
   "source": [
    "# Regression/Correlation: Is there linear relationship between number of funding sources and ELA/Math pass rate\n",
    "## consider a mixed model regression with a random intercept for school\n",
    "# np.mean(ela_sufficient_funding['level_3_4_1'])\n",
    "# np.mean(ela_poor_funding['level_3_4_1'])"
   ]
  },
  {
   "cell_type": "markdown",
   "metadata": {},
   "source": [
    "### Summary and Final Visualizations"
   ]
  },
  {
   "cell_type": "code",
   "execution_count": 56,
   "metadata": {},
   "outputs": [
    {
     "data": {
      "text/html": [
       "<div>\n",
       "<style scoped>\n",
       "    .dataframe tbody tr th:only-of-type {\n",
       "        vertical-align: middle;\n",
       "    }\n",
       "\n",
       "    .dataframe tbody tr th {\n",
       "        vertical-align: top;\n",
       "    }\n",
       "\n",
       "    .dataframe thead th {\n",
       "        text-align: right;\n",
       "    }\n",
       "</style>\n",
       "<table border=\"1\" class=\"dataframe\">\n",
       "  <thead>\n",
       "    <tr style=\"text-align: right;\">\n",
       "      <th></th>\n",
       "      <th>Total Schools in Sample</th>\n",
       "      <th>ELA Pass Rate</th>\n",
       "      <th>Math Pass Rate</th>\n",
       "    </tr>\n",
       "  </thead>\n",
       "  <tbody>\n",
       "    <tr>\n",
       "      <td>0</td>\n",
       "      <td>1116</td>\n",
       "      <td>36.491825</td>\n",
       "      <td>36.680775</td>\n",
       "    </tr>\n",
       "  </tbody>\n",
       "</table>\n",
       "</div>"
      ],
      "text/plain": [
       "   Total Schools in Sample  ELA Pass Rate  Math Pass Rate\n",
       "0                     1116      36.491825       36.680775"
      ]
     },
     "execution_count": 56,
     "metadata": {},
     "output_type": "execute_result"
    }
   ],
   "source": [
    "# Data Summary table:\n",
    "\n",
    "funding_summary = pd.DataFrame({\n",
    "                                'Total Schools in Sample': [ela_sample_size],  # same # in math and ELA sample\n",
    "                                'ELA Pass Rate': [ela_pass_rate],\n",
    "                                'Math Pass Rate': [math_pass_rate]})\n",
    "funding_summary"
   ]
  },
  {
   "cell_type": "markdown",
   "metadata": {},
   "source": [
    "Limitaions:\n",
    "* Used only part of the dataset and were limited to years with data dictionaries\n",
    "* self-report style\n",
    "* state tests are point values that may not represent student performance or school quality\n",
    "\n",
    "Future Directions:\n",
    "* Break down the funding types\n"
   ]
  },
  {
   "cell_type": "code",
   "execution_count": null,
   "metadata": {},
   "outputs": [],
   "source": []
  }
 ],
 "metadata": {
  "kernelspec": {
   "display_name": "Python 3",
   "language": "python",
   "name": "python3"
  },
  "language_info": {
   "codemirror_mode": {
    "name": "ipython",
    "version": 3
   },
   "file_extension": ".py",
   "mimetype": "text/x-python",
   "name": "python",
   "nbconvert_exporter": "python",
   "pygments_lexer": "ipython3",
   "version": "3.7.4"
  }
 },
 "nbformat": 4,
 "nbformat_minor": 2
}
