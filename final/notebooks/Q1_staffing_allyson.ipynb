{
 "cells": [
  {
   "cell_type": "markdown",
   "metadata": {},
   "source": [
    "# Question 1: Performance of schools with art programs versus no art programs\n",
    "\n",
    "Question 1: How does art program staffing affect state test results (ELA & Math) in New York City schools?\n",
    "\n",
    "Hypothesis: IF art programs have an affect on state test results THEN there will be a statistically significant difference in ELA and Math state test scores between schools with a full time arts supervisor and schools without a full time arts supervisor.\n",
    "    \n",
    "Null Hypothesis: IF art programs do not have an affect on state test results THEN there will be no statistically significant difference in ELA and Math state test scores between schools with a full time arts supervisor and schools without a full time arts supervisor.\n"
   ]
  },
  {
   "cell_type": "markdown",
   "metadata": {},
   "source": [
    "GET AND MERGE DATA"
   ]
  },
  {
   "cell_type": "code",
   "execution_count": 1,
   "metadata": {},
   "outputs": [],
   "source": [
    "import warnings\n",
    "warnings.filterwarnings('ignore')"
   ]
  },
  {
   "cell_type": "code",
   "execution_count": 2,
   "metadata": {},
   "outputs": [],
   "source": [
    "#import dependencies\n",
    "import matplotlib.pyplot as plt\n",
    "import pandas as pd\n",
    "import numpy as np\n",
    "import scipy.stats as stats\n"
   ]
  },
  {
   "cell_type": "code",
   "execution_count": 6,
   "metadata": {},
   "outputs": [],
   "source": [
    "#load data \n",
    "#resource for converting:https://medium.com/better-programming/using-python-to-convert-worksheets-in-an-excel-file-to-separate-csv-files-7dd406b652d7\n",
    "\n",
    "#survey_2014_2015 = \"2014-2015_Arts_Survey_Data.csv\"\n",
    "#survey_2015_2016 = \"2015-2016_Arts_Survey_Data.csv\"\n",
    "survey_2016_2017 = \"../data/2016-2017_Arts_Survey_Data.csv\"\n",
    "survey_2017_2018 = \"../data/2017-2018_Arts_Survey_Data.csv\"\n",
    "survey_2018_2019 = \"../data/2018-2019_Arts_Survey_Data.csv\"\n",
    "ELA_2013_2019 = \"../data/2013-2019_school_ela_results.csv\"\n",
    "Math_2013_2019 = \"../data/2013-2019_school_ela_results.csv\"\n",
    "\n",
    "#survey_2014_2015_df = pd.read_csv(survey_2014_2015, encoding='utf-8', dtype = 'unicode')\n",
    "#survey_2015_2016_df = pd.read_csv(survey_2015_2016, encoding='utf-8', dtype = 'unicode')\n",
    "survey_2016_2017_df = pd.read_csv(survey_2016_2017, encoding='utf-8', dtype = 'unicode')\n",
    "survey_2017_2018_df = pd.read_csv(survey_2017_2018, encoding='utf-8', dtype = 'unicode')\n",
    "survey_2018_2019_df = pd.read_csv(survey_2018_2019, encoding='utf-8', dtype = 'unicode')\n",
    "ELA_2013_2019_df = pd.read_csv(ELA_2013_2019, encoding='utf-8', dtype = 'unicode')\n",
    "Math_2013_2019_df = pd.read_csv(Math_2013_2019, encoding='utf-8', dtype = 'unicode')"
   ]
  },
  {
   "cell_type": "code",
   "execution_count": 7,
   "metadata": {},
   "outputs": [],
   "source": [
    "#Merge data by DBN and SchoolYear\n",
    "\n",
    "#Add SchoolYear columns and SchoolYear to each survey file\n",
    "survey_2016_2017_df[\"Year\"] = '2017'\n",
    "survey_2017_2018_df[\"Year\"] = '2018'\n",
    "survey_2018_2019_df[\"Year\"] = '2019'\n",
    "\n",
    "#Add subject to state test score files\n",
    "ELA_2013_2019_df[\"Subject\"] = 'ELA'\n",
    "Math_2013_2019_df[\"Subject\"] = 'Math'\n",
    "\n",
    "#Change Q0_DBN column to just DBN in survey data\n",
    "survey_2016_2017_dbn = survey_2016_2017_df.rename(columns = {'Q0_DBN':'DBN'})\n",
    "survey_2016_2017_dbn\n",
    "survey_2017_2018_dbn = survey_2017_2018_df.rename(columns = {'Q0_DBN':'DBN'})\n",
    "survey_2017_2018_dbn\n",
    "survey_2018_2019_dbn = survey_2018_2019_df.rename(columns = {'Q0_DBN':'DBN'})\n",
    "survey_2018_2019_dbn\n",
    "\n",
    "#Append survey results\n",
    "survey_2016_2018 = survey_2016_2017_dbn.append(survey_2017_2018_dbn)\n",
    "survey_2016_2019 = survey_2016_2018.append(survey_2018_2019_dbn)\n",
    "survey_2016_2019\n",
    "#append state test files\n",
    "TestResults_2013_2019 = ELA_2013_2019_df.append(Math_2013_2019_df)\n",
    "TestResults_2013_2019\n",
    "\n",
    "#Merge survey and state test results files on Year and DBN\n",
    "combined_df = pd.merge(TestResults_2013_2019, survey_2016_2019, how='inner', on=['Year', 'DBN'])\n",
    "#combined_df.head(1)"
   ]
  },
  {
   "cell_type": "markdown",
   "metadata": {},
   "source": [
    "EXPLORE AND CLEAN DATA"
   ]
  },
  {
   "cell_type": "code",
   "execution_count": 8,
   "metadata": {},
   "outputs": [
    {
     "data": {
      "text/plain": [
       "(27336, 1840)"
      ]
     },
     "execution_count": 8,
     "metadata": {},
     "output_type": "execute_result"
    }
   ],
   "source": [
    "#explore combined_df should have 27175 rows and 1840 columns\n",
    "combined_df.shape"
   ]
  },
  {
   "cell_type": "code",
   "execution_count": 9,
   "metadata": {},
   "outputs": [],
   "source": [
    "#explore column headers\n",
    "#list(combined_df.columns)"
   ]
  },
  {
   "cell_type": "code",
   "execution_count": 10,
   "metadata": {},
   "outputs": [
    {
     "data": {
      "text/html": [
       "<div>\n",
       "<style scoped>\n",
       "    .dataframe tbody tr th:only-of-type {\n",
       "        vertical-align: middle;\n",
       "    }\n",
       "\n",
       "    .dataframe tbody tr th {\n",
       "        vertical-align: top;\n",
       "    }\n",
       "\n",
       "    .dataframe thead th {\n",
       "        text-align: right;\n",
       "    }\n",
       "</style>\n",
       "<table border=\"1\" class=\"dataframe\">\n",
       "  <thead>\n",
       "    <tr style=\"text-align: right;\">\n",
       "      <th></th>\n",
       "      <th>DBN</th>\n",
       "      <th>School Name</th>\n",
       "      <th>Grade</th>\n",
       "      <th>Year</th>\n",
       "      <th>Subject</th>\n",
       "      <th># Level 3+4</th>\n",
       "      <th>% Level 3+4</th>\n",
       "      <th>Q3_1</th>\n",
       "      <th>Q3_2</th>\n",
       "      <th>Q3_3</th>\n",
       "      <th>Q3_4</th>\n",
       "    </tr>\n",
       "  </thead>\n",
       "  <tbody>\n",
       "    <tr>\n",
       "      <td>0</td>\n",
       "      <td>01M015</td>\n",
       "      <td>P.S. 015 ROBERTO CLEMENTE</td>\n",
       "      <td>3</td>\n",
       "      <td>2017</td>\n",
       "      <td>ELA</td>\n",
       "      <td>9</td>\n",
       "      <td>33.33333206</td>\n",
       "      <td>0</td>\n",
       "      <td>1</td>\n",
       "      <td>0</td>\n",
       "      <td>0</td>\n",
       "    </tr>\n",
       "  </tbody>\n",
       "</table>\n",
       "</div>"
      ],
      "text/plain": [
       "      DBN                School Name Grade  Year Subject # Level 3+4  \\\n",
       "0  01M015  P.S. 015 ROBERTO CLEMENTE     3  2017     ELA           9   \n",
       "\n",
       "   % Level 3+4 Q3_1 Q3_2 Q3_3 Q3_4  \n",
       "0  33.33333206    0    1    0    0  "
      ]
     },
     "execution_count": 10,
     "metadata": {},
     "output_type": "execute_result"
    }
   ],
   "source": [
    "#only choose columns necessary for analysis df1 = df[['a','b']]\n",
    "cleaned_df = combined_df[[\"DBN\", \"School Name\", \"Grade\", \"Year\", \n",
    "                          \"Subject\", \"# Level 3+4\", \"% Level 3+4\", \n",
    "                          \"Q3_1\", \"Q3_2\", \"Q3_3\", \"Q3_4\"]]\n",
    "cleaned_df.head(1)"
   ]
  },
  {
   "cell_type": "code",
   "execution_count": 11,
   "metadata": {},
   "outputs": [
    {
     "data": {
      "text/html": [
       "<div>\n",
       "<style scoped>\n",
       "    .dataframe tbody tr th:only-of-type {\n",
       "        vertical-align: middle;\n",
       "    }\n",
       "\n",
       "    .dataframe tbody tr th {\n",
       "        vertical-align: top;\n",
       "    }\n",
       "\n",
       "    .dataframe thead th {\n",
       "        text-align: right;\n",
       "    }\n",
       "</style>\n",
       "<table border=\"1\" class=\"dataframe\">\n",
       "  <thead>\n",
       "    <tr style=\"text-align: right;\">\n",
       "      <th></th>\n",
       "      <th>DBN</th>\n",
       "      <th>School Name</th>\n",
       "      <th>Grade</th>\n",
       "      <th>Year</th>\n",
       "      <th>Subject</th>\n",
       "      <th># Level 3+4</th>\n",
       "      <th>% Level 3+4</th>\n",
       "      <th>Full Time</th>\n",
       "      <th>Full Time Plus</th>\n",
       "      <th>Part Time</th>\n",
       "      <th>None</th>\n",
       "    </tr>\n",
       "  </thead>\n",
       "  <tbody>\n",
       "    <tr>\n",
       "      <td>0</td>\n",
       "      <td>01M015</td>\n",
       "      <td>P.S. 015 ROBERTO CLEMENTE</td>\n",
       "      <td>3</td>\n",
       "      <td>2017</td>\n",
       "      <td>ELA</td>\n",
       "      <td>9</td>\n",
       "      <td>33.33333206</td>\n",
       "      <td>0</td>\n",
       "      <td>1</td>\n",
       "      <td>0</td>\n",
       "      <td>0</td>\n",
       "    </tr>\n",
       "  </tbody>\n",
       "</table>\n",
       "</div>"
      ],
      "text/plain": [
       "      DBN                School Name Grade  Year Subject # Level 3+4  \\\n",
       "0  01M015  P.S. 015 ROBERTO CLEMENTE     3  2017     ELA           9   \n",
       "\n",
       "   % Level 3+4 Full Time Full Time Plus Part Time None  \n",
       "0  33.33333206         0              1         0    0  "
      ]
     },
     "execution_count": 11,
     "metadata": {},
     "output_type": "execute_result"
    }
   ],
   "source": [
    "#rename columns\n",
    "   \n",
    "col_rename_dict = {\n",
    "    \"Q3_1\": \"Full Time\",\n",
    "    \"Q3_2\": \"Full Time Plus\",\n",
    "    \"Q3_3\": \"Part Time\",\n",
    "    \"Q3_4\": \"None\",\n",
    "\n",
    "}\n",
    "renamed_df = cleaned_df.rename(columns=col_rename_dict)\n",
    "renamed_df.head(1)"
   ]
  },
  {
   "cell_type": "code",
   "execution_count": 12,
   "metadata": {},
   "outputs": [
    {
     "data": {
      "text/html": [
       "<div>\n",
       "<style scoped>\n",
       "    .dataframe tbody tr th:only-of-type {\n",
       "        vertical-align: middle;\n",
       "    }\n",
       "\n",
       "    .dataframe tbody tr th {\n",
       "        vertical-align: top;\n",
       "    }\n",
       "\n",
       "    .dataframe thead th {\n",
       "        text-align: right;\n",
       "    }\n",
       "</style>\n",
       "<table border=\"1\" class=\"dataframe\">\n",
       "  <thead>\n",
       "    <tr style=\"text-align: right;\">\n",
       "      <th></th>\n",
       "      <th>DBN</th>\n",
       "      <th>School Name</th>\n",
       "      <th>Grade</th>\n",
       "      <th>Year</th>\n",
       "      <th>Subject</th>\n",
       "      <th># Level 3+4</th>\n",
       "      <th>% Level 3+4</th>\n",
       "      <th>Full Time</th>\n",
       "      <th>Full Time Plus</th>\n",
       "      <th>Part Time</th>\n",
       "      <th>None</th>\n",
       "    </tr>\n",
       "  </thead>\n",
       "  <tbody>\n",
       "    <tr>\n",
       "      <td>0</td>\n",
       "      <td>01M015</td>\n",
       "      <td>P.S. 015 ROBERTO CLEMENTE</td>\n",
       "      <td>3</td>\n",
       "      <td>2017</td>\n",
       "      <td>ELA</td>\n",
       "      <td>9</td>\n",
       "      <td>33.33333206</td>\n",
       "      <td>0</td>\n",
       "      <td>1</td>\n",
       "      <td>0</td>\n",
       "      <td>0</td>\n",
       "    </tr>\n",
       "  </tbody>\n",
       "</table>\n",
       "</div>"
      ],
      "text/plain": [
       "      DBN                School Name Grade  Year Subject # Level 3+4  \\\n",
       "0  01M015  P.S. 015 ROBERTO CLEMENTE     3  2017     ELA           9   \n",
       "\n",
       "   % Level 3+4 Full Time Full Time Plus Part Time None  \n",
       "0  33.33333206         0              1         0    0  "
      ]
     },
     "execution_count": 12,
     "metadata": {},
     "output_type": "execute_result"
    }
   ],
   "source": [
    "#68 rows have an 's' in the % of Level 3+4 and need to be removed\n",
    "sorted_df = renamed_df.sort_values(\"% Level 3+4\", ascending = True)\n",
    "sorted_df[\"% Level 3+4\"]\n",
    "sorted_df.groupby([\"% Level 3+4\"]).count()\n",
    "\n",
    "\n",
    "# Get names of indexes for which % Level 3+4 has value 's'\n",
    "indexNames = renamed_df[renamed_df['% Level 3+4'] == 's' ].index\n",
    " \n",
    "# Delete 's' row indexes from dataFrame\n",
    "renamed_df.drop(indexNames , inplace=True)\n",
    "renamed_df.head(1)"
   ]
  },
  {
   "cell_type": "code",
   "execution_count": 13,
   "metadata": {},
   "outputs": [
    {
     "data": {
      "text/html": [
       "<div>\n",
       "<style scoped>\n",
       "    .dataframe tbody tr th:only-of-type {\n",
       "        vertical-align: middle;\n",
       "    }\n",
       "\n",
       "    .dataframe tbody tr th {\n",
       "        vertical-align: top;\n",
       "    }\n",
       "\n",
       "    .dataframe thead th {\n",
       "        text-align: right;\n",
       "    }\n",
       "</style>\n",
       "<table border=\"1\" class=\"dataframe\">\n",
       "  <thead>\n",
       "    <tr style=\"text-align: right;\">\n",
       "      <th></th>\n",
       "      <th>DBN</th>\n",
       "      <th>School Name</th>\n",
       "      <th>Grade</th>\n",
       "      <th>Year</th>\n",
       "      <th>Subject</th>\n",
       "      <th># Level 3+4</th>\n",
       "      <th>% Level 3+4</th>\n",
       "      <th>Full Time</th>\n",
       "      <th>Full Time Plus</th>\n",
       "      <th>Part Time</th>\n",
       "      <th>None</th>\n",
       "    </tr>\n",
       "  </thead>\n",
       "  <tbody>\n",
       "    <tr>\n",
       "      <td>3</td>\n",
       "      <td>01M015</td>\n",
       "      <td>P.S. 015 ROBERTO CLEMENTE</td>\n",
       "      <td>All Grades</td>\n",
       "      <td>2017</td>\n",
       "      <td>ELA</td>\n",
       "      <td>24</td>\n",
       "      <td>35.82089615</td>\n",
       "      <td>0</td>\n",
       "      <td>1</td>\n",
       "      <td>0</td>\n",
       "      <td>0</td>\n",
       "    </tr>\n",
       "    <tr>\n",
       "      <td>7</td>\n",
       "      <td>01M015</td>\n",
       "      <td>P.S. 015 ROBERTO CLEMENTE</td>\n",
       "      <td>All Grades</td>\n",
       "      <td>2017</td>\n",
       "      <td>Math</td>\n",
       "      <td>24</td>\n",
       "      <td>35.82089615</td>\n",
       "      <td>0</td>\n",
       "      <td>1</td>\n",
       "      <td>0</td>\n",
       "      <td>0</td>\n",
       "    </tr>\n",
       "    <tr>\n",
       "      <td>11</td>\n",
       "      <td>01M015</td>\n",
       "      <td>P.S. 015 ROBERTO CLEMENTE</td>\n",
       "      <td>All Grades</td>\n",
       "      <td>2018</td>\n",
       "      <td>ELA</td>\n",
       "      <td>45</td>\n",
       "      <td>67.16417694</td>\n",
       "      <td>0</td>\n",
       "      <td>1</td>\n",
       "      <td>0</td>\n",
       "      <td>0</td>\n",
       "    </tr>\n",
       "    <tr>\n",
       "      <td>15</td>\n",
       "      <td>01M015</td>\n",
       "      <td>P.S. 015 ROBERTO CLEMENTE</td>\n",
       "      <td>All Grades</td>\n",
       "      <td>2018</td>\n",
       "      <td>Math</td>\n",
       "      <td>45</td>\n",
       "      <td>67.16417694</td>\n",
       "      <td>0</td>\n",
       "      <td>1</td>\n",
       "      <td>0</td>\n",
       "      <td>0</td>\n",
       "    </tr>\n",
       "    <tr>\n",
       "      <td>19</td>\n",
       "      <td>01M015</td>\n",
       "      <td>P.S. 015 ROBERTO CLEMENTE</td>\n",
       "      <td>All Grades</td>\n",
       "      <td>2019</td>\n",
       "      <td>ELA</td>\n",
       "      <td>42</td>\n",
       "      <td>60</td>\n",
       "      <td>0</td>\n",
       "      <td>1</td>\n",
       "      <td>0</td>\n",
       "      <td>0</td>\n",
       "    </tr>\n",
       "  </tbody>\n",
       "</table>\n",
       "</div>"
      ],
      "text/plain": [
       "       DBN                School Name       Grade  Year Subject # Level 3+4  \\\n",
       "3   01M015  P.S. 015 ROBERTO CLEMENTE  All Grades  2017     ELA          24   \n",
       "7   01M015  P.S. 015 ROBERTO CLEMENTE  All Grades  2017    Math          24   \n",
       "11  01M015  P.S. 015 ROBERTO CLEMENTE  All Grades  2018     ELA          45   \n",
       "15  01M015  P.S. 015 ROBERTO CLEMENTE  All Grades  2018    Math          45   \n",
       "19  01M015  P.S. 015 ROBERTO CLEMENTE  All Grades  2019     ELA          42   \n",
       "\n",
       "    % Level 3+4 Full Time Full Time Plus Part Time None  \n",
       "3   35.82089615         0              1         0    0  \n",
       "7   35.82089615         0              1         0    0  \n",
       "11  67.16417694         0              1         0    0  \n",
       "15  67.16417694         0              1         0    0  \n",
       "19           60         0              1         0    0  "
      ]
     },
     "execution_count": 13,
     "metadata": {},
     "output_type": "execute_result"
    }
   ],
   "source": [
    "#Only include ALL Grades rows to summarize data by the school level\n",
    "cond = renamed_df[\"Grade\"] == \"All Grades\"\n",
    "renamed_df =renamed_df[cond]\n",
    "renamed_df.head(5)"
   ]
  },
  {
   "cell_type": "code",
   "execution_count": 14,
   "metadata": {},
   "outputs": [
    {
     "data": {
      "text/plain": [
       "6276"
      ]
     },
     "execution_count": 14,
     "metadata": {},
     "output_type": "execute_result"
    }
   ],
   "source": [
    "#explore data- get # of rows\n",
    "total = len(renamed_df)\n",
    "total"
   ]
  },
  {
   "cell_type": "code",
   "execution_count": 15,
   "metadata": {},
   "outputs": [
    {
     "data": {
      "text/plain": [
       "1116"
      ]
     },
     "execution_count": 15,
     "metadata": {},
     "output_type": "execute_result"
    }
   ],
   "source": [
    "#Unique schools\n",
    "renamed_df[\"DBN\"].nunique()"
   ]
  },
  {
   "cell_type": "code",
   "execution_count": 16,
   "metadata": {},
   "outputs": [],
   "source": [
    "#change type to perform analyses\n",
    "renamed_df['Full Time'] = renamed_df['Full Time'].astype(float)\n",
    "renamed_df['Full Time Plus'] = renamed_df['Full Time Plus'].astype(float)\n",
    "renamed_df['Part Time'] = renamed_df['Part Time'].astype(float)\n",
    "renamed_df['None'] = renamed_df['None'].astype(float)\n",
    "renamed_df['% Level 3+4'] = renamed_df['% Level 3+4'].astype(float)"
   ]
  },
  {
   "cell_type": "code",
   "execution_count": 17,
   "metadata": {},
   "outputs": [],
   "source": [
    "#Write file to csv\n",
    "#renamed_df.to_csv('renamed1_df.csv', index=False)\n"
   ]
  },
  {
   "cell_type": "markdown",
   "metadata": {},
   "source": [
    "Analyze Data- Full Time vs. Others\n",
    "1. Math and ELA together\n",
    "2. Math only\n",
    "3. ELA only"
   ]
  },
  {
   "cell_type": "code",
   "execution_count": 18,
   "metadata": {},
   "outputs": [
    {
     "data": {
      "text/html": [
       "<div>\n",
       "<style scoped>\n",
       "    .dataframe tbody tr th:only-of-type {\n",
       "        vertical-align: middle;\n",
       "    }\n",
       "\n",
       "    .dataframe tbody tr th {\n",
       "        vertical-align: top;\n",
       "    }\n",
       "\n",
       "    .dataframe thead th {\n",
       "        text-align: right;\n",
       "    }\n",
       "</style>\n",
       "<table border=\"1\" class=\"dataframe\">\n",
       "  <thead>\n",
       "    <tr style=\"text-align: right;\">\n",
       "      <th></th>\n",
       "      <th>Full Time Only</th>\n",
       "      <th>Full Time Plus Count</th>\n",
       "      <th>Part Time Count</th>\n",
       "      <th>None Count</th>\n",
       "      <th>Not Full Time Only</th>\n",
       "      <th>Total of these measures</th>\n",
       "      <th>Total</th>\n",
       "      <th>Did Not Answer this Question</th>\n",
       "    </tr>\n",
       "  </thead>\n",
       "  <tbody>\n",
       "    <tr>\n",
       "      <td>0</td>\n",
       "      <td>170.0</td>\n",
       "      <td>4230.0</td>\n",
       "      <td>436.0</td>\n",
       "      <td>1432.0</td>\n",
       "      <td>6098.0</td>\n",
       "      <td>6268.0</td>\n",
       "      <td>6276</td>\n",
       "      <td>8.0</td>\n",
       "    </tr>\n",
       "  </tbody>\n",
       "</table>\n",
       "</div>"
      ],
      "text/plain": [
       "   Full Time Only  Full Time Plus Count  Part Time Count  None Count  \\\n",
       "0           170.0                4230.0            436.0      1432.0   \n",
       "\n",
       "   Not Full Time Only  Total of these measures  Total  \\\n",
       "0              6098.0                   6268.0   6276   \n",
       "\n",
       "   Did Not Answer this Question  \n",
       "0                           8.0  "
      ]
     },
     "execution_count": 18,
     "metadata": {},
     "output_type": "execute_result"
    }
   ],
   "source": [
    "#1. Create a summary table with frequencies of responses- ELA and Math together\n",
    "\n",
    "fulltime = renamed_df[\"Full Time\"].sum()\n",
    "fulltime\n",
    "fulltimeplus = renamed_df[\"Full Time Plus\"].sum()\n",
    "fulltimeplus\n",
    "parttime = renamed_df[\"Part Time\"].sum()\n",
    "parttime\n",
    "none = renamed_df[\"None\"].sum()\n",
    "none\n",
    "count_total = fulltime + fulltimeplus + parttime + none\n",
    "alltheothers = fulltimeplus + parttime + none\n",
    "\n",
    "#8 rows of data did not answer question.\n",
    "unaccounted = total - count_total\n",
    "\n",
    "summary_dict = {'Full Time Only': [fulltime],\n",
    "        'Full Time Plus Count': [fulltimeplus],\n",
    "          'Part Time Count': [parttime],\n",
    "          'None Count': [none],\n",
    "                 'Not Full Time Only': [alltheothers],\n",
    "               'Total of these measures': [count_total],\n",
    "                 'Total': [total],\n",
    "               'Did Not Answer this Question': [unaccounted]}\n",
    "summary = pd.DataFrame.from_dict(summary_dict) #, orient='index')\n",
    "summary"
   ]
  },
  {
   "cell_type": "code",
   "execution_count": 19,
   "metadata": {},
   "outputs": [
    {
     "ename": "NameError",
     "evalue": "name 'math_renamed_df' is not defined",
     "output_type": "error",
     "traceback": [
      "\u001b[1;31m---------------------------------------------------------------------------\u001b[0m",
      "\u001b[1;31mNameError\u001b[0m                                 Traceback (most recent call last)",
      "\u001b[1;32m<ipython-input-19-56d218130a97>\u001b[0m in \u001b[0;36m<module>\u001b[1;34m\u001b[0m\n\u001b[0;32m      1\u001b[0m \u001b[1;31m#2. Create a summary table with frequencies of responses- Math only\u001b[0m\u001b[1;33m\u001b[0m\u001b[1;33m\u001b[0m\u001b[1;33m\u001b[0m\u001b[0m\n\u001b[1;32m----> 2\u001b[1;33m \u001b[0mm_fulltime\u001b[0m \u001b[1;33m=\u001b[0m \u001b[0mmath_renamed_df\u001b[0m\u001b[1;33m[\u001b[0m\u001b[1;34m\"Full Time\"\u001b[0m\u001b[1;33m]\u001b[0m\u001b[1;33m.\u001b[0m\u001b[0msum\u001b[0m\u001b[1;33m(\u001b[0m\u001b[1;33m)\u001b[0m\u001b[1;33m\u001b[0m\u001b[1;33m\u001b[0m\u001b[0m\n\u001b[0m\u001b[0;32m      3\u001b[0m \u001b[0mm_fulltime\u001b[0m\u001b[1;33m\u001b[0m\u001b[1;33m\u001b[0m\u001b[0m\n\u001b[0;32m      4\u001b[0m \u001b[0mm_fulltimeplus\u001b[0m \u001b[1;33m=\u001b[0m \u001b[0mmath_renamed_df\u001b[0m\u001b[1;33m[\u001b[0m\u001b[1;34m\"Full Time Plus\"\u001b[0m\u001b[1;33m]\u001b[0m\u001b[1;33m.\u001b[0m\u001b[0msum\u001b[0m\u001b[1;33m(\u001b[0m\u001b[1;33m)\u001b[0m\u001b[1;33m\u001b[0m\u001b[1;33m\u001b[0m\u001b[0m\n\u001b[0;32m      5\u001b[0m \u001b[0mm_fulltimeplus\u001b[0m\u001b[1;33m\u001b[0m\u001b[1;33m\u001b[0m\u001b[0m\n",
      "\u001b[1;31mNameError\u001b[0m: name 'math_renamed_df' is not defined"
     ]
    }
   ],
   "source": [
    "#2. Create a summary table with frequencies of responses- Math only\n",
    "m_fulltime = math_renamed_df[\"Full Time\"].sum()\n",
    "m_fulltime\n",
    "m_fulltimeplus = math_renamed_df[\"Full Time Plus\"].sum()\n",
    "m_fulltimeplus\n",
    "m_parttime = math_renamed_df[\"Part Time\"].sum()\n",
    "m_parttime\n",
    "m_none = math_renamed_df[\"None\"].sum()\n",
    "m_none\n",
    "m_count_total = m_fulltime + m_fulltimeplus + m_parttime + m_none\n",
    "m_alltheothers = m_fulltimeplus + m_parttime + m_none\n",
    "\n",
    "#What to do with 8 rows of unanswered data?\n",
    "m_unaccounted = total - m_count_total\n",
    "\n",
    "summary_dict = {'Full Time Only': [m_fulltime],\n",
    "        'Full Time Plus Count': [m_fulltimeplus],\n",
    "          'Part Time Count': [m_parttime],\n",
    "          'None Count': [m_none],\n",
    "                 'Not Full Time Only': [m_alltheothers],\n",
    "               'Total of these measures': [m_count_total],\n",
    "                 'Total': [total],\n",
    "               'Did Not Answer this Question': [m_unaccounted]}\n",
    "m_summary = pd.DataFrame.from_dict(summary_dict) #, orient='index')\n",
    "m_summary"
   ]
  },
  {
   "cell_type": "code",
   "execution_count": 20,
   "metadata": {},
   "outputs": [
    {
     "ename": "NameError",
     "evalue": "name 'ela_renamed_df' is not defined",
     "output_type": "error",
     "traceback": [
      "\u001b[1;31m---------------------------------------------------------------------------\u001b[0m",
      "\u001b[1;31mNameError\u001b[0m                                 Traceback (most recent call last)",
      "\u001b[1;32m<ipython-input-20-d424f2ec24ae>\u001b[0m in \u001b[0;36m<module>\u001b[1;34m\u001b[0m\n\u001b[0;32m      1\u001b[0m \u001b[1;31m#3. Create a summary table with frequencies of responses- ELA only\u001b[0m\u001b[1;33m\u001b[0m\u001b[1;33m\u001b[0m\u001b[1;33m\u001b[0m\u001b[0m\n\u001b[1;32m----> 2\u001b[1;33m \u001b[0mela_fulltime\u001b[0m \u001b[1;33m=\u001b[0m \u001b[0mela_renamed_df\u001b[0m\u001b[1;33m[\u001b[0m\u001b[1;34m\"Full Time\"\u001b[0m\u001b[1;33m]\u001b[0m\u001b[1;33m.\u001b[0m\u001b[0msum\u001b[0m\u001b[1;33m(\u001b[0m\u001b[1;33m)\u001b[0m\u001b[1;33m\u001b[0m\u001b[1;33m\u001b[0m\u001b[0m\n\u001b[0m\u001b[0;32m      3\u001b[0m \u001b[0mela_fulltime\u001b[0m\u001b[1;33m\u001b[0m\u001b[1;33m\u001b[0m\u001b[0m\n\u001b[0;32m      4\u001b[0m \u001b[0mela_fulltimeplus\u001b[0m \u001b[1;33m=\u001b[0m \u001b[0mela_renamed_df\u001b[0m\u001b[1;33m[\u001b[0m\u001b[1;34m\"Full Time Plus\"\u001b[0m\u001b[1;33m]\u001b[0m\u001b[1;33m.\u001b[0m\u001b[0msum\u001b[0m\u001b[1;33m(\u001b[0m\u001b[1;33m)\u001b[0m\u001b[1;33m\u001b[0m\u001b[1;33m\u001b[0m\u001b[0m\n\u001b[0;32m      5\u001b[0m \u001b[0mela_fulltimeplus\u001b[0m\u001b[1;33m\u001b[0m\u001b[1;33m\u001b[0m\u001b[0m\n",
      "\u001b[1;31mNameError\u001b[0m: name 'ela_renamed_df' is not defined"
     ]
    }
   ],
   "source": [
    "#3. Create a summary table with frequencies of responses- ELA only\n",
    "ela_fulltime = ela_renamed_df[\"Full Time\"].sum()\n",
    "ela_fulltime\n",
    "ela_fulltimeplus = ela_renamed_df[\"Full Time Plus\"].sum()\n",
    "ela_fulltimeplus\n",
    "ela_parttime = ela_renamed_df[\"Part Time\"].sum()\n",
    "ela_parttime\n",
    "ela_none = ela_renamed_df[\"None\"].sum()\n",
    "ela_none\n",
    "ela_count_total = ela_fulltime + ela_fulltimeplus + ela_parttime + ela_none\n",
    "ela_alltheothers = ela_fulltimeplus + ela_parttime + ela_none\n",
    "\n",
    "#What to do with 8 rows of unanswered data?\n",
    "ela_unaccounted = total - ela_count_total\n",
    "\n",
    "summary_dict = {'Full Time Only': [ela_fulltime],\n",
    "        'Full Time Plus': [ela_fulltimeplus],\n",
    "          'Part Time': [ela_parttime],\n",
    "          'None': [ela_none],\n",
    "              #   'Not Full Time Only': [ela_alltheothers],\n",
    "               'Total': [ela_count_total]}\n",
    "ela_summary = pd.DataFrame.from_dict(summary_dict) #, orient='index')\n",
    "ela_summary"
   ]
  },
  {
   "cell_type": "code",
   "execution_count": 21,
   "metadata": {},
   "outputs": [
    {
     "data": {
      "text/plain": [
       "Full Time\n",
       "0.0    6106\n",
       "1.0     170\n",
       "Name: % Level 3+4, dtype: int64"
      ]
     },
     "execution_count": 21,
     "metadata": {},
     "output_type": "execute_result"
    }
   ],
   "source": [
    "#1. Math and ELA together frequencies\n",
    "renamed_df.groupby([\"Full Time\"])[\"% Level 3+4\"].count()"
   ]
  },
  {
   "cell_type": "code",
   "execution_count": 22,
   "metadata": {},
   "outputs": [
    {
     "data": {
      "text/plain": [
       "Full Time\n",
       "0.0    3053\n",
       "1.0      85\n",
       "Name: % Level 3+4, dtype: int64"
      ]
     },
     "execution_count": 22,
     "metadata": {},
     "output_type": "execute_result"
    }
   ],
   "source": [
    "#2. Math only frequencies\n",
    "cond1 = renamed_df['Subject'] == 'Math'\n",
    "math_renamed_df = renamed_df[cond1]\n",
    "math_renamed_df.groupby([\"Full Time\"])[\"% Level 3+4\"].count()"
   ]
  },
  {
   "cell_type": "code",
   "execution_count": 23,
   "metadata": {},
   "outputs": [
    {
     "data": {
      "text/plain": [
       "Full Time\n",
       "0.0    3053\n",
       "1.0      85\n",
       "Name: % Level 3+4, dtype: int64"
      ]
     },
     "execution_count": 23,
     "metadata": {},
     "output_type": "execute_result"
    }
   ],
   "source": [
    "#3. ELA only frequencies\n",
    "cond2 = renamed_df['Subject'] == 'ELA'\n",
    "ela_renamed_df = renamed_df[cond2]\n",
    "ela_renamed_df.groupby([\"Full Time\"])[\"% Level 3+4\"].count()"
   ]
  },
  {
   "cell_type": "code",
   "execution_count": 26,
   "metadata": {},
   "outputs": [
    {
     "data": {
      "image/png": "[encoded data removed]",
      "text/plain": [
       "<Figure size 432x288 with 1 Axes>"
      ]
     },
     "metadata": {
      "needs_background": "light"
     },
     "output_type": "display_data"
    }
   ],
   "source": [
    "#1 Math and ELA together histograms\n",
    "#plt.hist(renamed_df[\"% Level 3+4\"], bins=None, histtype='bar', align='mid', orientation='vertical')\n",
    "#plt.savefig(\"../images/MathandELAHistogram.png\")"
   ]
  },
  {
   "cell_type": "code",
   "execution_count": 139,
   "metadata": {},
   "outputs": [
    {
     "data": {
      "text/plain": [
       "Text(0.5, 0, 'Pass Rate')"
      ]
     },
     "execution_count": 139,
     "metadata": {},
     "output_type": "execute_result"
    },
    {
     "data": {
      "image/png": "[encoded data removed]",
      "text/plain": [
       "<Figure size 432x288 with 1 Axes>"
      ]
     },
     "metadata": {
      "needs_background": "light"
     },
     "output_type": "display_data"
    }
   ],
   "source": [
    "#2. Math histogram\n",
    "plt.hist(math_renamed_df[\"% Level 3+4\"], bins=None, histtype='bar', align='mid', orientation='vertical')\n",
    "plt.title(\"Math Pass Rate Histogram\")\n",
    "plt.xlabel(\"Pass Rate\")\n",
    "plt.savefig(\"../images/MathStateTestScores_Histogram.png\")"
   ]
  },
  {
   "cell_type": "code",
   "execution_count": 27,
   "metadata": {},
   "outputs": [
    {
     "data": {
      "image/png": "[encoded data removed]",
      "text/plain": [
       "<Figure size 432x288 with 1 Axes>"
      ]
     },
     "metadata": {
      "needs_background": "light"
     },
     "output_type": "display_data"
    }
   ],
   "source": [
    "#3. ELA histogram\n",
    "plt.hist(ela_renamed_df[\"% Level 3+4\"], bins=None, histtype='bar', align='mid', orientation='vertical')\n",
    "plt.title(\"ELA Pass Rate Histogram\")\n",
    "plt.xlabel(\"Pass Rate\")\n",
    "plt.savefig(\"../images/ELAStateTestScores_Histogram.png\")"
   ]
  },
  {
   "cell_type": "code",
   "execution_count": 28,
   "metadata": {},
   "outputs": [
    {
     "data": {
      "text/html": [
       "<div>\n",
       "<style scoped>\n",
       "    .dataframe tbody tr th:only-of-type {\n",
       "        vertical-align: middle;\n",
       "    }\n",
       "\n",
       "    .dataframe tbody tr th {\n",
       "        vertical-align: top;\n",
       "    }\n",
       "\n",
       "    .dataframe thead th {\n",
       "        text-align: right;\n",
       "    }\n",
       "</style>\n",
       "<table border=\"1\" class=\"dataframe\">\n",
       "  <thead>\n",
       "    <tr style=\"text-align: right;\">\n",
       "      <th></th>\n",
       "      <th>Mean</th>\n",
       "      <th>Median</th>\n",
       "      <th>Variance</th>\n",
       "      <th>Standard Deviation</th>\n",
       "      <th>Maximum</th>\n",
       "      <th>Minimum</th>\n",
       "    </tr>\n",
       "    <tr>\n",
       "      <th>Full Time</th>\n",
       "      <th></th>\n",
       "      <th></th>\n",
       "      <th></th>\n",
       "      <th></th>\n",
       "      <th></th>\n",
       "      <th></th>\n",
       "    </tr>\n",
       "  </thead>\n",
       "  <tbody>\n",
       "    <tr>\n",
       "      <td>0.0</td>\n",
       "      <td>44.026311</td>\n",
       "      <td>40.401787</td>\n",
       "      <td>409.769370</td>\n",
       "      <td>20.242761</td>\n",
       "      <td>100.000000</td>\n",
       "      <td>0.000000</td>\n",
       "    </tr>\n",
       "    <tr>\n",
       "      <td>1.0</td>\n",
       "      <td>45.974563</td>\n",
       "      <td>41.046658</td>\n",
       "      <td>476.691133</td>\n",
       "      <td>21.833257</td>\n",
       "      <td>97.530861</td>\n",
       "      <td>12.592592</td>\n",
       "    </tr>\n",
       "  </tbody>\n",
       "</table>\n",
       "</div>"
      ],
      "text/plain": [
       "                Mean     Median    Variance  Standard Deviation     Maximum  \\\n",
       "Full Time                                                                     \n",
       "0.0        44.026311  40.401787  409.769370           20.242761  100.000000   \n",
       "1.0        45.974563  41.046658  476.691133           21.833257   97.530861   \n",
       "\n",
       "             Minimum  \n",
       "Full Time             \n",
       "0.0         0.000000  \n",
       "1.0        12.592592  "
      ]
     },
     "execution_count": 28,
     "metadata": {},
     "output_type": "execute_result"
    }
   ],
   "source": [
    "#1. Math and ELA descriptives pd.concat([s1, s2], ignore_index=True), df.columns = ['a', 'b', 'c']\n",
    "MandELA_mean = renamed_df.groupby([\"Full Time\"])[\"% Level 3+4\"].mean()\n",
    "MandELA_median = renamed_df.groupby([\"Full Time\"])[\"% Level 3+4\"].median()\n",
    "MandELA_var = renamed_df.groupby([\"Full Time\"])[\"% Level 3+4\"].var()\n",
    "MandELA_std = renamed_df.groupby([\"Full Time\"])[\"% Level 3+4\"].std()\n",
    "MandELA_max = renamed_df.groupby([\"Full Time\"])[\"% Level 3+4\"].max()\n",
    "MandELA_min = renamed_df.groupby([\"Full Time\"])[\"% Level 3+4\"].min()\n",
    "\n",
    "summary = pd.concat([MandELA_mean, MandELA_median, MandELA_var, MandELA_std, \n",
    "                     MandELA_max, MandELA_min], axis=1, join='inner')\n",
    "\n",
    "summary.columns = ['Mean', 'Median', 'Variance', \"Standard Deviation\", \"Maximum\", \"Minimum\"]\n",
    "summary"
   ]
  },
  {
   "cell_type": "code",
   "execution_count": 29,
   "metadata": {
    "scrolled": true
   },
   "outputs": [
    {
     "data": {
      "text/html": [
       "<div>\n",
       "<style scoped>\n",
       "    .dataframe tbody tr th:only-of-type {\n",
       "        vertical-align: middle;\n",
       "    }\n",
       "\n",
       "    .dataframe tbody tr th {\n",
       "        vertical-align: top;\n",
       "    }\n",
       "\n",
       "    .dataframe thead th {\n",
       "        text-align: right;\n",
       "    }\n",
       "</style>\n",
       "<table border=\"1\" class=\"dataframe\">\n",
       "  <thead>\n",
       "    <tr style=\"text-align: right;\">\n",
       "      <th></th>\n",
       "      <th>Mean</th>\n",
       "      <th>Median</th>\n",
       "      <th>Variance</th>\n",
       "      <th>Standard Deviation</th>\n",
       "      <th>Maximum</th>\n",
       "      <th>Minimum</th>\n",
       "    </tr>\n",
       "    <tr>\n",
       "      <th>Full Time</th>\n",
       "      <th></th>\n",
       "      <th></th>\n",
       "      <th></th>\n",
       "      <th></th>\n",
       "      <th></th>\n",
       "      <th></th>\n",
       "    </tr>\n",
       "  </thead>\n",
       "  <tbody>\n",
       "    <tr>\n",
       "      <td>0.0</td>\n",
       "      <td>44.026311</td>\n",
       "      <td>40.401787</td>\n",
       "      <td>409.836502</td>\n",
       "      <td>20.244419</td>\n",
       "      <td>100.000000</td>\n",
       "      <td>0.000000</td>\n",
       "    </tr>\n",
       "    <tr>\n",
       "      <td>1.0</td>\n",
       "      <td>45.974563</td>\n",
       "      <td>41.046658</td>\n",
       "      <td>479.528580</td>\n",
       "      <td>21.898141</td>\n",
       "      <td>97.530861</td>\n",
       "      <td>12.592592</td>\n",
       "    </tr>\n",
       "  </tbody>\n",
       "</table>\n",
       "</div>"
      ],
      "text/plain": [
       "                Mean     Median    Variance  Standard Deviation     Maximum  \\\n",
       "Full Time                                                                     \n",
       "0.0        44.026311  40.401787  409.836502           20.244419  100.000000   \n",
       "1.0        45.974563  41.046658  479.528580           21.898141   97.530861   \n",
       "\n",
       "             Minimum  \n",
       "Full Time             \n",
       "0.0         0.000000  \n",
       "1.0        12.592592  "
      ]
     },
     "execution_count": 29,
     "metadata": {},
     "output_type": "execute_result"
    }
   ],
   "source": [
    "#2. Math descriptives pd.concat([s1, s2], ignore_index=True), df.columns = ['a', 'b', 'c']\n",
    "M_mean = math_renamed_df.groupby([\"Full Time\"])[\"% Level 3+4\"].mean()\n",
    "M_median = math_renamed_df.groupby([\"Full Time\"])[\"% Level 3+4\"].median()\n",
    "M_var = math_renamed_df.groupby([\"Full Time\"])[\"% Level 3+4\"].var()\n",
    "M_std = math_renamed_df.groupby([\"Full Time\"])[\"% Level 3+4\"].std()\n",
    "M_max = math_renamed_df.groupby([\"Full Time\"])[\"% Level 3+4\"].max()\n",
    "M_min = math_renamed_df.groupby([\"Full Time\"])[\"% Level 3+4\"].min()\n",
    "\n",
    "m_summary = pd.concat([M_mean, M_median, M_var, M_std, \n",
    "                     M_max, M_min], axis=1, join='inner')\n",
    "\n",
    "m_summary.columns = ['Mean', 'Median', 'Variance', \"Standard Deviation\", \"Maximum\", \"Minimum\"]\n",
    "m_summary"
   ]
  },
  {
   "cell_type": "code",
   "execution_count": 30,
   "metadata": {
    "scrolled": true
   },
   "outputs": [
    {
     "data": {
      "text/html": [
       "<div>\n",
       "<style scoped>\n",
       "    .dataframe tbody tr th:only-of-type {\n",
       "        vertical-align: middle;\n",
       "    }\n",
       "\n",
       "    .dataframe tbody tr th {\n",
       "        vertical-align: top;\n",
       "    }\n",
       "\n",
       "    .dataframe thead th {\n",
       "        text-align: right;\n",
       "    }\n",
       "</style>\n",
       "<table border=\"1\" class=\"dataframe\">\n",
       "  <thead>\n",
       "    <tr style=\"text-align: right;\">\n",
       "      <th></th>\n",
       "      <th>Mean</th>\n",
       "      <th>Median</th>\n",
       "      <th>Variance</th>\n",
       "      <th>Standard Deviation</th>\n",
       "      <th>Maximum</th>\n",
       "      <th>Minimum</th>\n",
       "    </tr>\n",
       "    <tr>\n",
       "      <th>Full Time</th>\n",
       "      <th></th>\n",
       "      <th></th>\n",
       "      <th></th>\n",
       "      <th></th>\n",
       "      <th></th>\n",
       "      <th></th>\n",
       "    </tr>\n",
       "  </thead>\n",
       "  <tbody>\n",
       "    <tr>\n",
       "      <td>0.0</td>\n",
       "      <td>44.026311</td>\n",
       "      <td>40.401787</td>\n",
       "      <td>409.836502</td>\n",
       "      <td>20.244419</td>\n",
       "      <td>100.000000</td>\n",
       "      <td>0.000000</td>\n",
       "    </tr>\n",
       "    <tr>\n",
       "      <td>1.0</td>\n",
       "      <td>45.974563</td>\n",
       "      <td>41.046658</td>\n",
       "      <td>479.528580</td>\n",
       "      <td>21.898141</td>\n",
       "      <td>97.530861</td>\n",
       "      <td>12.592592</td>\n",
       "    </tr>\n",
       "  </tbody>\n",
       "</table>\n",
       "</div>"
      ],
      "text/plain": [
       "                Mean     Median    Variance  Standard Deviation     Maximum  \\\n",
       "Full Time                                                                     \n",
       "0.0        44.026311  40.401787  409.836502           20.244419  100.000000   \n",
       "1.0        45.974563  41.046658  479.528580           21.898141   97.530861   \n",
       "\n",
       "             Minimum  \n",
       "Full Time             \n",
       "0.0         0.000000  \n",
       "1.0        12.592592  "
      ]
     },
     "execution_count": 30,
     "metadata": {},
     "output_type": "execute_result"
    }
   ],
   "source": [
    "#3. ELA descriptives pd.concat([s1, s2], ignore_index=True), df.columns = ['a', 'b', 'c']\n",
    "ela_mean = ela_renamed_df.groupby([\"Full Time\"])[\"% Level 3+4\"].mean()\n",
    "ela_median = ela_renamed_df.groupby([\"Full Time\"])[\"% Level 3+4\"].median()\n",
    "ela_var = ela_renamed_df.groupby([\"Full Time\"])[\"% Level 3+4\"].var()\n",
    "ela_std = ela_renamed_df.groupby([\"Full Time\"])[\"% Level 3+4\"].std()\n",
    "ela_max = ela_renamed_df.groupby([\"Full Time\"])[\"% Level 3+4\"].max()\n",
    "ela_min = ela_renamed_df.groupby([\"Full Time\"])[\"% Level 3+4\"].min()\n",
    "\n",
    "ela_summary = pd.concat([ela_mean, ela_median, ela_var, ela_std, \n",
    "                     ela_max, ela_min], axis=1, join='inner')\n",
    "\n",
    "ela_summary.columns = ['Mean', 'Median', 'Variance', \"Standard Deviation\", \"Maximum\", \"Minimum\"]\n",
    "ela_summary"
   ]
  },
  {
   "cell_type": "code",
   "execution_count": 31,
   "metadata": {},
   "outputs": [
    {
     "data": {
      "text/plain": [
       "Ttest_indResult(statistic=1.1497818446116863, pvalue=0.2517832990681651)"
      ]
     },
     "execution_count": 31,
     "metadata": {},
     "output_type": "execute_result"
    }
   ],
   "source": [
    "#1. Math and ELA together Welch's independent ttest\n",
    "\n",
    "#perform independent t-test to see if no art programs is different from 1 or more art programs group both Math and ELA\n",
    "#(Welch's t-test) equal_var = False\n",
    "fulltime_test = renamed_df[renamed_df['Full Time'] == 1]\n",
    "none_test = renamed_df[renamed_df['Full Time'] == 0]\n",
    "\n",
    "stats.ttest_ind(fulltime_test['% Level 3+4'], none_test['% Level 3+4'], equal_var=False)"
   ]
  },
  {
   "cell_type": "code",
   "execution_count": 32,
   "metadata": {},
   "outputs": [
    {
     "data": {
      "text/plain": [
       "Ttest_indResult(statistic=0.8106641082662113, pvalue=0.4197445014919684)"
      ]
     },
     "execution_count": 32,
     "metadata": {},
     "output_type": "execute_result"
    }
   ],
   "source": [
    "#2. Math Welch's independent ttest\n",
    "\n",
    "#perform independent t-test to see if no art programs is different from 1 or more art programs group both Math and ELA\n",
    "#(Welch's t-test) equal_var = False\n",
    "fulltime_test = math_renamed_df[math_renamed_df['Full Time'] == 1]\n",
    "none_test = math_renamed_df[math_renamed_df['Full Time'] == 0]\n",
    "\n",
    "stats.ttest_ind(fulltime_test['% Level 3+4'], none_test['% Level 3+4'], equal_var=False)"
   ]
  },
  {
   "cell_type": "code",
   "execution_count": 58,
   "metadata": {},
   "outputs": [
    {
     "name": "stdout",
     "output_type": "stream",
     "text": [
      "AxesSubplot(0.1,0.15;0.8x0.75)\n"
     ]
    },
    {
     "data": {
      "image/png": "[encoded data removed]",
      "text/plain": [
       "<Figure size 648x432 with 1 Axes>"
      ]
     },
     "metadata": {
      "needs_background": "light"
     },
     "output_type": "display_data"
    }
   ],
   "source": [
    "#2. Math boxplot\n",
    "boxplot = math_renamed_df.boxplot(\"% Level 3+4\", by=\"Full Time\", figsize=(9, 6), meanline=False, showmeans=True)\n",
    "boxplot.set_title(\"Math Pass Rate by Full Time Supervisor\")\n",
    "print(boxplot)\n",
    "plt.savefig(\"../images/Math_boxplot_fulltimesupervisor.png\")"
   ]
  },
  {
   "cell_type": "code",
   "execution_count": 33,
   "metadata": {},
   "outputs": [
    {
     "data": {
      "text/plain": [
       "Ttest_indResult(statistic=0.8106641082662113, pvalue=0.4197445014919684)"
      ]
     },
     "execution_count": 33,
     "metadata": {},
     "output_type": "execute_result"
    }
   ],
   "source": [
    "#3. ELA Welch's independent ttest\n",
    "\n",
    "#perform independent t-test to see if no art programs is different from 1 or more art programs group both Math and ELA\n",
    "#(Welch's t-test) equal_var = False\n",
    "fulltime_test = ela_renamed_df[ela_renamed_df['Full Time'] == 1]\n",
    "none_test = ela_renamed_df[ela_renamed_df['Full Time'] == 0]\n",
    "\n",
    "stats.ttest_ind(fulltime_test['% Level 3+4'], none_test['% Level 3+4'], equal_var=False)"
   ]
  },
  {
   "cell_type": "code",
   "execution_count": 59,
   "metadata": {},
   "outputs": [
    {
     "name": "stdout",
     "output_type": "stream",
     "text": [
      "AxesSubplot(0.1,0.15;0.8x0.75)\n"
     ]
    },
    {
     "data": {
      "image/png": "[encoded data removed]",
      "text/plain": [
       "<Figure size 648x432 with 1 Axes>"
      ]
     },
     "metadata": {
      "needs_background": "light"
     },
     "output_type": "display_data"
    }
   ],
   "source": [
    "#3. ELA boxplot\n",
    "boxplot = ela_renamed_df.boxplot(\"% Level 3+4\", by=\"Full Time\", figsize=(9, 6), meanline=False, showmeans=True)\n",
    "boxplot.set_title(\"ELA Pass Rate by Full Time Supervisor\")\n",
    "print(boxplot)\n",
    "plt.savefig(\"../images/ELA_boxplot_fulltimesupervisor.png\")"
   ]
  },
  {
   "cell_type": "markdown",
   "metadata": {},
   "source": [
    "There isn't a statistically significant difference between schools with full time art supervisor and those without for ELA and ELA & Math combined or ELA."
   ]
  },
  {
   "cell_type": "markdown",
   "metadata": {},
   "source": [
    "Use ANOVA to check for differences by year"
   ]
  },
  {
   "cell_type": "code",
   "execution_count": 34,
   "metadata": {},
   "outputs": [],
   "source": [
    "#create conditions for each year\n",
    "cond1 = renamed_df['Year'] == '2017'\n",
    "cond2 = renamed_df['Year'] == '2018'\n",
    "cond3 = renamed_df['Year'] == '2019'\n",
    "\n",
    "#create data frame for each year\n",
    "df_2017 = renamed_df[cond1]\n",
    "df_2018 = renamed_df[cond2]\n",
    "df_2019 = renamed_df[cond3]\n",
    "\n",
    "group1 = df_2017[\"% Level 3+4\"]\n",
    "group2 = df_2018[\"% Level 3+4\"]\n",
    "group3 = df_2019[\"% Level 3+4\"]"
   ]
  },
  {
   "cell_type": "code",
   "execution_count": 35,
   "metadata": {},
   "outputs": [
    {
     "data": {
      "text/plain": [
       "<matplotlib.axes._subplots.AxesSubplot at 0x21e1e58d408>"
      ]
     },
     "execution_count": 35,
     "metadata": {},
     "output_type": "execute_result"
    },
    {
     "data": {
      "image/png": "[encoded data removed]",
      "text/plain": [
       "<Figure size 648x432 with 1 Axes>"
      ]
     },
     "metadata": {
      "needs_background": "light"
     },
     "output_type": "display_data"
    }
   ],
   "source": [
    "#boxplot\n",
    "renamed_df.boxplot(\"% Level 3+4\", by=\"Year\", figsize=(9, 6), meanline=False, showmeans=True)"
   ]
  },
  {
   "cell_type": "code",
   "execution_count": 36,
   "metadata": {},
   "outputs": [
    {
     "data": {
      "text/plain": [
       "F_onewayResult(statistic=62.54268633874496, pvalue=1.274435349008814e-27)"
      ]
     },
     "execution_count": 36,
     "metadata": {},
     "output_type": "execute_result"
    }
   ],
   "source": [
    "#ANOVA to see if school years are significantly different\n",
    "stats.f_oneway(group1, group2, group3)\n",
    "#stats.f_oneway(group2, group3)\n",
    "#stats.f_oneway(group1, group2)"
   ]
  },
  {
   "cell_type": "markdown",
   "metadata": {},
   "source": [
    "Look for schools who went from having no full time arts supervisor to having full time supervisor\n",
    "\n",
    "36 schools went from having no full time art supervisor to having full time supervisor."
   ]
  },
  {
   "cell_type": "code",
   "execution_count": 37,
   "metadata": {},
   "outputs": [
    {
     "data": {
      "text/html": [
       "<div>\n",
       "<style scoped>\n",
       "    .dataframe tbody tr th:only-of-type {\n",
       "        vertical-align: middle;\n",
       "    }\n",
       "\n",
       "    .dataframe tbody tr th {\n",
       "        vertical-align: top;\n",
       "    }\n",
       "\n",
       "    .dataframe thead th {\n",
       "        text-align: right;\n",
       "    }\n",
       "</style>\n",
       "<table border=\"1\" class=\"dataframe\">\n",
       "  <thead>\n",
       "    <tr style=\"text-align: right;\">\n",
       "      <th></th>\n",
       "      <th>DBN</th>\n",
       "      <th>School Name_x</th>\n",
       "      <th>Year_x</th>\n",
       "      <th>% Level 3+4_x</th>\n",
       "      <th>Full Time_x</th>\n",
       "      <th>Subject_x</th>\n",
       "      <th>School Name_y</th>\n",
       "      <th>Year_y</th>\n",
       "      <th>% Level 3+4_y</th>\n",
       "      <th>Full Time_y</th>\n",
       "      <th>Subject_y</th>\n",
       "    </tr>\n",
       "  </thead>\n",
       "  <tbody>\n",
       "    <tr>\n",
       "      <td>0</td>\n",
       "      <td>02M033</td>\n",
       "      <td>P.S. 033 CHELSEA PREP</td>\n",
       "      <td>2017</td>\n",
       "      <td>68.661972</td>\n",
       "      <td>0.0</td>\n",
       "      <td>ELA</td>\n",
       "      <td>P.S. 033 CHELSEA PREP</td>\n",
       "      <td>2018</td>\n",
       "      <td>67.326736</td>\n",
       "      <td>1.0</td>\n",
       "      <td>ELA</td>\n",
       "    </tr>\n",
       "    <tr>\n",
       "      <td>1</td>\n",
       "      <td>02M033</td>\n",
       "      <td>P.S. 033 CHELSEA PREP</td>\n",
       "      <td>2017</td>\n",
       "      <td>68.661972</td>\n",
       "      <td>0.0</td>\n",
       "      <td>ELA</td>\n",
       "      <td>P.S. 033 CHELSEA PREP</td>\n",
       "      <td>2018</td>\n",
       "      <td>67.326736</td>\n",
       "      <td>1.0</td>\n",
       "      <td>Math</td>\n",
       "    </tr>\n",
       "    <tr>\n",
       "      <td>2</td>\n",
       "      <td>02M033</td>\n",
       "      <td>P.S. 033 CHELSEA PREP</td>\n",
       "      <td>2017</td>\n",
       "      <td>68.661972</td>\n",
       "      <td>0.0</td>\n",
       "      <td>Math</td>\n",
       "      <td>P.S. 033 CHELSEA PREP</td>\n",
       "      <td>2018</td>\n",
       "      <td>67.326736</td>\n",
       "      <td>1.0</td>\n",
       "      <td>ELA</td>\n",
       "    </tr>\n",
       "    <tr>\n",
       "      <td>3</td>\n",
       "      <td>02M033</td>\n",
       "      <td>P.S. 033 CHELSEA PREP</td>\n",
       "      <td>2017</td>\n",
       "      <td>68.661972</td>\n",
       "      <td>0.0</td>\n",
       "      <td>Math</td>\n",
       "      <td>P.S. 033 CHELSEA PREP</td>\n",
       "      <td>2018</td>\n",
       "      <td>67.326736</td>\n",
       "      <td>1.0</td>\n",
       "      <td>Math</td>\n",
       "    </tr>\n",
       "    <tr>\n",
       "      <td>4</td>\n",
       "      <td>03M242</td>\n",
       "      <td>P.S. 242 - THE YOUNG DIPLOMATS MAGNET ACADEMY</td>\n",
       "      <td>2017</td>\n",
       "      <td>20.588236</td>\n",
       "      <td>0.0</td>\n",
       "      <td>ELA</td>\n",
       "      <td>P.S. 242 - THE YOUNG DIPLOMATS MAGNET ACADEMY</td>\n",
       "      <td>2018</td>\n",
       "      <td>30.434782</td>\n",
       "      <td>1.0</td>\n",
       "      <td>ELA</td>\n",
       "    </tr>\n",
       "    <tr>\n",
       "      <td>...</td>\n",
       "      <td>...</td>\n",
       "      <td>...</td>\n",
       "      <td>...</td>\n",
       "      <td>...</td>\n",
       "      <td>...</td>\n",
       "      <td>...</td>\n",
       "      <td>...</td>\n",
       "      <td>...</td>\n",
       "      <td>...</td>\n",
       "      <td>...</td>\n",
       "      <td>...</td>\n",
       "    </tr>\n",
       "    <tr>\n",
       "      <td>67</td>\n",
       "      <td>30Q286</td>\n",
       "      <td>YOUNG WOMEN'S LEADERSHIP SCHOOL, ASTORIA</td>\n",
       "      <td>2017</td>\n",
       "      <td>72.566368</td>\n",
       "      <td>0.0</td>\n",
       "      <td>Math</td>\n",
       "      <td>YOUNG WOMEN'S LEADERSHIP SCHOOL, ASTORIA</td>\n",
       "      <td>2018</td>\n",
       "      <td>75.423729</td>\n",
       "      <td>1.0</td>\n",
       "      <td>Math</td>\n",
       "    </tr>\n",
       "    <tr>\n",
       "      <td>68</td>\n",
       "      <td>31R075</td>\n",
       "      <td>I.S. 075 FRANK D. PAULO</td>\n",
       "      <td>2017</td>\n",
       "      <td>59.264931</td>\n",
       "      <td>0.0</td>\n",
       "      <td>ELA</td>\n",
       "      <td>I.S. 075 FRANK D. PAULO</td>\n",
       "      <td>2018</td>\n",
       "      <td>66.236725</td>\n",
       "      <td>1.0</td>\n",
       "      <td>ELA</td>\n",
       "    </tr>\n",
       "    <tr>\n",
       "      <td>69</td>\n",
       "      <td>31R075</td>\n",
       "      <td>I.S. 075 FRANK D. PAULO</td>\n",
       "      <td>2017</td>\n",
       "      <td>59.264931</td>\n",
       "      <td>0.0</td>\n",
       "      <td>ELA</td>\n",
       "      <td>I.S. 075 FRANK D. PAULO</td>\n",
       "      <td>2018</td>\n",
       "      <td>66.236725</td>\n",
       "      <td>1.0</td>\n",
       "      <td>Math</td>\n",
       "    </tr>\n",
       "    <tr>\n",
       "      <td>70</td>\n",
       "      <td>31R075</td>\n",
       "      <td>I.S. 075 FRANK D. PAULO</td>\n",
       "      <td>2017</td>\n",
       "      <td>59.264931</td>\n",
       "      <td>0.0</td>\n",
       "      <td>Math</td>\n",
       "      <td>I.S. 075 FRANK D. PAULO</td>\n",
       "      <td>2018</td>\n",
       "      <td>66.236725</td>\n",
       "      <td>1.0</td>\n",
       "      <td>ELA</td>\n",
       "    </tr>\n",
       "    <tr>\n",
       "      <td>71</td>\n",
       "      <td>31R075</td>\n",
       "      <td>I.S. 075 FRANK D. PAULO</td>\n",
       "      <td>2017</td>\n",
       "      <td>59.264931</td>\n",
       "      <td>0.0</td>\n",
       "      <td>Math</td>\n",
       "      <td>I.S. 075 FRANK D. PAULO</td>\n",
       "      <td>2018</td>\n",
       "      <td>66.236725</td>\n",
       "      <td>1.0</td>\n",
       "      <td>Math</td>\n",
       "    </tr>\n",
       "  </tbody>\n",
       "</table>\n",
       "<p>72 rows × 11 columns</p>\n",
       "</div>"
      ],
      "text/plain": [
       "       DBN                                  School Name_x Year_x  \\\n",
       "0   02M033                          P.S. 033 CHELSEA PREP   2017   \n",
       "1   02M033                          P.S. 033 CHELSEA PREP   2017   \n",
       "2   02M033                          P.S. 033 CHELSEA PREP   2017   \n",
       "3   02M033                          P.S. 033 CHELSEA PREP   2017   \n",
       "4   03M242  P.S. 242 - THE YOUNG DIPLOMATS MAGNET ACADEMY   2017   \n",
       "..     ...                                            ...    ...   \n",
       "67  30Q286       YOUNG WOMEN'S LEADERSHIP SCHOOL, ASTORIA   2017   \n",
       "68  31R075                        I.S. 075 FRANK D. PAULO   2017   \n",
       "69  31R075                        I.S. 075 FRANK D. PAULO   2017   \n",
       "70  31R075                        I.S. 075 FRANK D. PAULO   2017   \n",
       "71  31R075                        I.S. 075 FRANK D. PAULO   2017   \n",
       "\n",
       "    % Level 3+4_x  Full Time_x Subject_x  \\\n",
       "0       68.661972          0.0       ELA   \n",
       "1       68.661972          0.0       ELA   \n",
       "2       68.661972          0.0      Math   \n",
       "3       68.661972          0.0      Math   \n",
       "4       20.588236          0.0       ELA   \n",
       "..            ...          ...       ...   \n",
       "67      72.566368          0.0      Math   \n",
       "68      59.264931          0.0       ELA   \n",
       "69      59.264931          0.0       ELA   \n",
       "70      59.264931          0.0      Math   \n",
       "71      59.264931          0.0      Math   \n",
       "\n",
       "                                    School Name_y Year_y  % Level 3+4_y  \\\n",
       "0                           P.S. 033 CHELSEA PREP   2018      67.326736   \n",
       "1                           P.S. 033 CHELSEA PREP   2018      67.326736   \n",
       "2                           P.S. 033 CHELSEA PREP   2018      67.326736   \n",
       "3                           P.S. 033 CHELSEA PREP   2018      67.326736   \n",
       "4   P.S. 242 - THE YOUNG DIPLOMATS MAGNET ACADEMY   2018      30.434782   \n",
       "..                                            ...    ...            ...   \n",
       "67       YOUNG WOMEN'S LEADERSHIP SCHOOL, ASTORIA   2018      75.423729   \n",
       "68                        I.S. 075 FRANK D. PAULO   2018      66.236725   \n",
       "69                        I.S. 075 FRANK D. PAULO   2018      66.236725   \n",
       "70                        I.S. 075 FRANK D. PAULO   2018      66.236725   \n",
       "71                        I.S. 075 FRANK D. PAULO   2018      66.236725   \n",
       "\n",
       "    Full Time_y Subject_y  \n",
       "0           1.0       ELA  \n",
       "1           1.0      Math  \n",
       "2           1.0       ELA  \n",
       "3           1.0      Math  \n",
       "4           1.0       ELA  \n",
       "..          ...       ...  \n",
       "67          1.0      Math  \n",
       "68          1.0       ELA  \n",
       "69          1.0      Math  \n",
       "70          1.0       ELA  \n",
       "71          1.0      Math  \n",
       "\n",
       "[72 rows x 11 columns]"
      ]
     },
     "execution_count": 37,
     "metadata": {},
     "output_type": "execute_result"
    }
   ],
   "source": [
    "#Merge to identify schools that changed from no full time to full time\n",
    "cond1 = df_2017['Full Time'] == 0\n",
    "cond2 = df_2018['Full Time'] == 1\n",
    "cols = [\"DBN\", \"School Name\", 'Year', \"% Level 3+4\", \"Full Time\", \"Subject\"]\n",
    "\n",
    "df_2017_noft = df_2017[cond1][cols]\n",
    "df_2018_ft = df_2018[cond2][cols]\n",
    "\n",
    "\n",
    "#merge on DBN DataFrame.merge(self, right, how='inner', on=None,\n",
    "change_table = df_2017_noft.merge(df_2018_ft, how = 'inner', on='DBN')\n",
    "change_table"
   ]
  },
  {
   "cell_type": "code",
   "execution_count": 38,
   "metadata": {},
   "outputs": [],
   "source": [
    "#Write file to csv to check that table merged correctly\n",
    "#change_table.to_csv('tableofchange.csv', index=False)"
   ]
  },
  {
   "cell_type": "code",
   "execution_count": 39,
   "metadata": {},
   "outputs": [
    {
     "data": {
      "text/plain": [
       "05M194    4\n",
       "12X314    4\n",
       "30Q286    4\n",
       "26Q216    4\n",
       "24Q005    4\n",
       "26Q098    4\n",
       "02M033    4\n",
       "19K065    4\n",
       "31R075    4\n",
       "30Q145    4\n",
       "03M242    4\n",
       "03M421    4\n",
       "15K001    4\n",
       "07X161    4\n",
       "27Q232    4\n",
       "19K409    4\n",
       "28Q680    4\n",
       "15K130    4\n",
       "Name: DBN, dtype: int64"
      ]
     },
     "execution_count": 39,
     "metadata": {},
     "output_type": "execute_result"
    }
   ],
   "source": [
    "#How many schools is this? 2 years * 2 subjects = 4 rows per school\n",
    "change_table[\"DBN\"].value_counts()"
   ]
  },
  {
   "cell_type": "code",
   "execution_count": 40,
   "metadata": {},
   "outputs": [
    {
     "data": {
      "text/html": [
       "<div>\n",
       "<style scoped>\n",
       "    .dataframe tbody tr th:only-of-type {\n",
       "        vertical-align: middle;\n",
       "    }\n",
       "\n",
       "    .dataframe tbody tr th {\n",
       "        vertical-align: top;\n",
       "    }\n",
       "\n",
       "    .dataframe thead th {\n",
       "        text-align: right;\n",
       "    }\n",
       "</style>\n",
       "<table border=\"1\" class=\"dataframe\">\n",
       "  <thead>\n",
       "    <tr style=\"text-align: right;\">\n",
       "      <th></th>\n",
       "      <th>DBN</th>\n",
       "      <th>School_Name</th>\n",
       "      <th>Year</th>\n",
       "      <th>% Level 3+4</th>\n",
       "      <th>Full Time</th>\n",
       "      <th>Subject</th>\n",
       "    </tr>\n",
       "  </thead>\n",
       "  <tbody>\n",
       "    <tr>\n",
       "      <td>0</td>\n",
       "      <td>02M033</td>\n",
       "      <td>P.S. 033 CHELSEA PREP</td>\n",
       "      <td>2017</td>\n",
       "      <td>68.661972</td>\n",
       "      <td>0.0</td>\n",
       "      <td>ELA</td>\n",
       "    </tr>\n",
       "    <tr>\n",
       "      <td>1</td>\n",
       "      <td>02M033</td>\n",
       "      <td>P.S. 033 CHELSEA PREP</td>\n",
       "      <td>2017</td>\n",
       "      <td>68.661972</td>\n",
       "      <td>0.0</td>\n",
       "      <td>ELA</td>\n",
       "    </tr>\n",
       "    <tr>\n",
       "      <td>2</td>\n",
       "      <td>02M033</td>\n",
       "      <td>P.S. 033 CHELSEA PREP</td>\n",
       "      <td>2017</td>\n",
       "      <td>68.661972</td>\n",
       "      <td>0.0</td>\n",
       "      <td>Math</td>\n",
       "    </tr>\n",
       "    <tr>\n",
       "      <td>3</td>\n",
       "      <td>02M033</td>\n",
       "      <td>P.S. 033 CHELSEA PREP</td>\n",
       "      <td>2017</td>\n",
       "      <td>68.661972</td>\n",
       "      <td>0.0</td>\n",
       "      <td>Math</td>\n",
       "    </tr>\n",
       "    <tr>\n",
       "      <td>4</td>\n",
       "      <td>03M242</td>\n",
       "      <td>P.S. 242 - THE YOUNG DIPLOMATS MAGNET ACADEMY</td>\n",
       "      <td>2017</td>\n",
       "      <td>20.588236</td>\n",
       "      <td>0.0</td>\n",
       "      <td>ELA</td>\n",
       "    </tr>\n",
       "    <tr>\n",
       "      <td>...</td>\n",
       "      <td>...</td>\n",
       "      <td>...</td>\n",
       "      <td>...</td>\n",
       "      <td>...</td>\n",
       "      <td>...</td>\n",
       "      <td>...</td>\n",
       "    </tr>\n",
       "    <tr>\n",
       "      <td>67</td>\n",
       "      <td>30Q286</td>\n",
       "      <td>YOUNG WOMEN'S LEADERSHIP SCHOOL, ASTORIA</td>\n",
       "      <td>2018</td>\n",
       "      <td>75.423729</td>\n",
       "      <td>1.0</td>\n",
       "      <td>Math</td>\n",
       "    </tr>\n",
       "    <tr>\n",
       "      <td>68</td>\n",
       "      <td>31R075</td>\n",
       "      <td>I.S. 075 FRANK D. PAULO</td>\n",
       "      <td>2018</td>\n",
       "      <td>66.236725</td>\n",
       "      <td>1.0</td>\n",
       "      <td>ELA</td>\n",
       "    </tr>\n",
       "    <tr>\n",
       "      <td>69</td>\n",
       "      <td>31R075</td>\n",
       "      <td>I.S. 075 FRANK D. PAULO</td>\n",
       "      <td>2018</td>\n",
       "      <td>66.236725</td>\n",
       "      <td>1.0</td>\n",
       "      <td>Math</td>\n",
       "    </tr>\n",
       "    <tr>\n",
       "      <td>70</td>\n",
       "      <td>31R075</td>\n",
       "      <td>I.S. 075 FRANK D. PAULO</td>\n",
       "      <td>2018</td>\n",
       "      <td>66.236725</td>\n",
       "      <td>1.0</td>\n",
       "      <td>ELA</td>\n",
       "    </tr>\n",
       "    <tr>\n",
       "      <td>71</td>\n",
       "      <td>31R075</td>\n",
       "      <td>I.S. 075 FRANK D. PAULO</td>\n",
       "      <td>2018</td>\n",
       "      <td>66.236725</td>\n",
       "      <td>1.0</td>\n",
       "      <td>Math</td>\n",
       "    </tr>\n",
       "  </tbody>\n",
       "</table>\n",
       "<p>144 rows × 6 columns</p>\n",
       "</div>"
      ],
      "text/plain": [
       "       DBN                                    School_Name  Year  % Level 3+4  \\\n",
       "0   02M033                          P.S. 033 CHELSEA PREP  2017    68.661972   \n",
       "1   02M033                          P.S. 033 CHELSEA PREP  2017    68.661972   \n",
       "2   02M033                          P.S. 033 CHELSEA PREP  2017    68.661972   \n",
       "3   02M033                          P.S. 033 CHELSEA PREP  2017    68.661972   \n",
       "4   03M242  P.S. 242 - THE YOUNG DIPLOMATS MAGNET ACADEMY  2017    20.588236   \n",
       "..     ...                                            ...   ...          ...   \n",
       "67  30Q286       YOUNG WOMEN'S LEADERSHIP SCHOOL, ASTORIA  2018    75.423729   \n",
       "68  31R075                        I.S. 075 FRANK D. PAULO  2018    66.236725   \n",
       "69  31R075                        I.S. 075 FRANK D. PAULO  2018    66.236725   \n",
       "70  31R075                        I.S. 075 FRANK D. PAULO  2018    66.236725   \n",
       "71  31R075                        I.S. 075 FRANK D. PAULO  2018    66.236725   \n",
       "\n",
       "    Full Time Subject  \n",
       "0         0.0     ELA  \n",
       "1         0.0     ELA  \n",
       "2         0.0    Math  \n",
       "3         0.0    Math  \n",
       "4         0.0     ELA  \n",
       "..        ...     ...  \n",
       "67        1.0    Math  \n",
       "68        1.0     ELA  \n",
       "69        1.0    Math  \n",
       "70        1.0     ELA  \n",
       "71        1.0    Math  \n",
       "\n",
       "[144 rows x 6 columns]"
      ]
     },
     "execution_count": 40,
     "metadata": {},
     "output_type": "execute_result"
    }
   ],
   "source": [
    "#separate and append to be able to run tests and create box plot\n",
    "cols1 = [\"DBN\", \"School Name_x\", \"Year_x\", \"% Level 3+4_x\", \"Full Time_x\", \"Subject_x\"]\n",
    "cols2 = [\"DBN\", \"School Name_y\", \"Year_y\", \"% Level 3+4_y\", \"Full Time_y\", \"Subject_y\"]\n",
    "\n",
    "firstyear = change_table[cols1]\n",
    "secondyear = change_table[cols2]\n",
    "\n",
    "#rename columns df.rename(columns={\"A\": \"a\", \"B\": \"c\"})\n",
    "first_clean = firstyear.rename(columns={\"School Name_x\": \"School_Name\", \n",
    "                          \"Year_x\": \"Year\", \n",
    "                          \"% Level 3+4_x\": \"% Level 3+4\",\n",
    "                        \"Subject_x\": \"Subject\",\n",
    "                          \"Full Time_x\": \"Full Time\"})\n",
    "second_clean = secondyear.rename(columns={\"School Name_y\": \"School_Name\", \n",
    "                          \"Year_y\": \"Year\", \n",
    "                          \"% Level 3+4_y\": \"% Level 3+4\",\n",
    "                        \"Subject_y\": \"Subject\",\n",
    "                          \"Full Time_y\": \"Full Time\"})\n",
    "\n",
    "appended_df = first_clean.append(second_clean)\n",
    "appended_df"
   ]
  },
  {
   "cell_type": "code",
   "execution_count": 41,
   "metadata": {},
   "outputs": [
    {
     "data": {
      "text/plain": [
       "Year  Subject\n",
       "2017  ELA        47.471504\n",
       "      Math       47.471504\n",
       "2018  ELA        53.647879\n",
       "      Math       53.647879\n",
       "Name: % Level 3+4, dtype: float64"
      ]
     },
     "execution_count": 41,
     "metadata": {},
     "output_type": "execute_result"
    }
   ],
   "source": [
    "#there is an increase is average for schools who hired a full time arts supervisor\n",
    "appended_df.groupby([\"Year\", \"Subject\"])[\"% Level 3+4\"].mean()"
   ]
  },
  {
   "cell_type": "code",
   "execution_count": 42,
   "metadata": {},
   "outputs": [
    {
     "data": {
      "text/plain": [
       "<matplotlib.axes._subplots.AxesSubplot at 0x21e1f75f8c8>"
      ]
     },
     "execution_count": 42,
     "metadata": {},
     "output_type": "execute_result"
    },
    {
     "data": {
      "image/png": "[encoded data removed]",
      "text/plain": [
       "<Figure size 648x432 with 1 Axes>"
      ]
     },
     "metadata": {
      "needs_background": "light"
     },
     "output_type": "display_data"
    }
   ],
   "source": [
    "appended_df.boxplot(\"% Level 3+4\", by=\"Year\", figsize=(9, 6), meanline=False, showmeans=True)"
   ]
  },
  {
   "cell_type": "code",
   "execution_count": 43,
   "metadata": {},
   "outputs": [
    {
     "data": {
      "text/html": [
       "<div>\n",
       "<style scoped>\n",
       "    .dataframe tbody tr th:only-of-type {\n",
       "        vertical-align: middle;\n",
       "    }\n",
       "\n",
       "    .dataframe tbody tr th {\n",
       "        vertical-align: top;\n",
       "    }\n",
       "\n",
       "    .dataframe thead th {\n",
       "        text-align: right;\n",
       "    }\n",
       "</style>\n",
       "<table border=\"1\" class=\"dataframe\">\n",
       "  <thead>\n",
       "    <tr style=\"text-align: right;\">\n",
       "      <th></th>\n",
       "      <th>DBN</th>\n",
       "      <th>Year</th>\n",
       "      <th>% Level 3+4</th>\n",
       "    </tr>\n",
       "  </thead>\n",
       "  <tbody>\n",
       "    <tr>\n",
       "      <td>0</td>\n",
       "      <td>02M033</td>\n",
       "      <td>2017</td>\n",
       "      <td>68.661972</td>\n",
       "    </tr>\n",
       "    <tr>\n",
       "      <td>1</td>\n",
       "      <td>02M033</td>\n",
       "      <td>2018</td>\n",
       "      <td>67.326736</td>\n",
       "    </tr>\n",
       "    <tr>\n",
       "      <td>2</td>\n",
       "      <td>03M242</td>\n",
       "      <td>2017</td>\n",
       "      <td>20.588236</td>\n",
       "    </tr>\n",
       "    <tr>\n",
       "      <td>3</td>\n",
       "      <td>03M242</td>\n",
       "      <td>2018</td>\n",
       "      <td>30.434782</td>\n",
       "    </tr>\n",
       "    <tr>\n",
       "      <td>4</td>\n",
       "      <td>03M421</td>\n",
       "      <td>2017</td>\n",
       "      <td>31.666666</td>\n",
       "    </tr>\n",
       "  </tbody>\n",
       "</table>\n",
       "</div>"
      ],
      "text/plain": [
       "      DBN  Year  % Level 3+4\n",
       "0  02M033  2017    68.661972\n",
       "1  02M033  2018    67.326736\n",
       "2  03M242  2017    20.588236\n",
       "3  03M242  2018    30.434782\n",
       "4  03M421  2017    31.666666"
      ]
     },
     "execution_count": 43,
     "metadata": {},
     "output_type": "execute_result"
    }
   ],
   "source": [
    "grouped_append = appended_df.groupby([\"DBN\", \"Year\"], as_index=False)[\"% Level 3+4\"].mean()\n",
    "grouped_append.head(5)"
   ]
  },
  {
   "cell_type": "code",
   "execution_count": 44,
   "metadata": {},
   "outputs": [
    {
     "data": {
      "text/plain": [
       "Ttest_indResult(statistic=-1.6664552937402797, pvalue=0.09783091673389491)"
      ]
     },
     "execution_count": 44,
     "metadata": {},
     "output_type": "execute_result"
    }
   ],
   "source": [
    "nofulltime_test = appended_df[appended_df['Year'] == '2017']\n",
    "fulltime_test = appended_df[appended_df['Year'] == '2018']\n",
    "\n",
    "stats.ttest_ind(nofulltime_test['% Level 3+4'], fulltime_test['% Level 3+4'], equal_var=False)"
   ]
  },
  {
   "cell_type": "markdown",
   "metadata": {},
   "source": [
    "Analyze Data- Full Time + Full Time Plus vs. Part Time/ None\n",
    "1. Math and ELA together\n",
    "2. Math only\n",
    "3. ELA only"
   ]
  },
  {
   "cell_type": "code",
   "execution_count": 45,
   "metadata": {},
   "outputs": [
    {
     "data": {
      "text/html": [
       "<div>\n",
       "<style scoped>\n",
       "    .dataframe tbody tr th:only-of-type {\n",
       "        vertical-align: middle;\n",
       "    }\n",
       "\n",
       "    .dataframe tbody tr th {\n",
       "        vertical-align: top;\n",
       "    }\n",
       "\n",
       "    .dataframe thead th {\n",
       "        text-align: right;\n",
       "    }\n",
       "</style>\n",
       "<table border=\"1\" class=\"dataframe\">\n",
       "  <thead>\n",
       "    <tr style=\"text-align: right;\">\n",
       "      <th></th>\n",
       "      <th>DBN</th>\n",
       "      <th>School Name</th>\n",
       "      <th>Grade</th>\n",
       "      <th>Year</th>\n",
       "      <th>Subject</th>\n",
       "      <th># Level 3+4</th>\n",
       "      <th>% Level 3+4</th>\n",
       "      <th>Full Time</th>\n",
       "      <th>Full Time Plus</th>\n",
       "      <th>Part Time</th>\n",
       "      <th>None</th>\n",
       "      <th>Any Full Time</th>\n",
       "    </tr>\n",
       "  </thead>\n",
       "  <tbody>\n",
       "    <tr>\n",
       "      <td>3</td>\n",
       "      <td>01M015</td>\n",
       "      <td>P.S. 015 ROBERTO CLEMENTE</td>\n",
       "      <td>All Grades</td>\n",
       "      <td>2017</td>\n",
       "      <td>ELA</td>\n",
       "      <td>24</td>\n",
       "      <td>35.820896</td>\n",
       "      <td>0.0</td>\n",
       "      <td>1.0</td>\n",
       "      <td>0.0</td>\n",
       "      <td>0.0</td>\n",
       "      <td>1.0</td>\n",
       "    </tr>\n",
       "    <tr>\n",
       "      <td>7</td>\n",
       "      <td>01M015</td>\n",
       "      <td>P.S. 015 ROBERTO CLEMENTE</td>\n",
       "      <td>All Grades</td>\n",
       "      <td>2017</td>\n",
       "      <td>Math</td>\n",
       "      <td>24</td>\n",
       "      <td>35.820896</td>\n",
       "      <td>0.0</td>\n",
       "      <td>1.0</td>\n",
       "      <td>0.0</td>\n",
       "      <td>0.0</td>\n",
       "      <td>1.0</td>\n",
       "    </tr>\n",
       "    <tr>\n",
       "      <td>11</td>\n",
       "      <td>01M015</td>\n",
       "      <td>P.S. 015 ROBERTO CLEMENTE</td>\n",
       "      <td>All Grades</td>\n",
       "      <td>2018</td>\n",
       "      <td>ELA</td>\n",
       "      <td>45</td>\n",
       "      <td>67.164177</td>\n",
       "      <td>0.0</td>\n",
       "      <td>1.0</td>\n",
       "      <td>0.0</td>\n",
       "      <td>0.0</td>\n",
       "      <td>1.0</td>\n",
       "    </tr>\n",
       "    <tr>\n",
       "      <td>15</td>\n",
       "      <td>01M015</td>\n",
       "      <td>P.S. 015 ROBERTO CLEMENTE</td>\n",
       "      <td>All Grades</td>\n",
       "      <td>2018</td>\n",
       "      <td>Math</td>\n",
       "      <td>45</td>\n",
       "      <td>67.164177</td>\n",
       "      <td>0.0</td>\n",
       "      <td>1.0</td>\n",
       "      <td>0.0</td>\n",
       "      <td>0.0</td>\n",
       "      <td>1.0</td>\n",
       "    </tr>\n",
       "    <tr>\n",
       "      <td>19</td>\n",
       "      <td>01M015</td>\n",
       "      <td>P.S. 015 ROBERTO CLEMENTE</td>\n",
       "      <td>All Grades</td>\n",
       "      <td>2019</td>\n",
       "      <td>ELA</td>\n",
       "      <td>42</td>\n",
       "      <td>60.000000</td>\n",
       "      <td>0.0</td>\n",
       "      <td>1.0</td>\n",
       "      <td>0.0</td>\n",
       "      <td>0.0</td>\n",
       "      <td>1.0</td>\n",
       "    </tr>\n",
       "  </tbody>\n",
       "</table>\n",
       "</div>"
      ],
      "text/plain": [
       "       DBN                School Name       Grade  Year Subject # Level 3+4  \\\n",
       "3   01M015  P.S. 015 ROBERTO CLEMENTE  All Grades  2017     ELA          24   \n",
       "7   01M015  P.S. 015 ROBERTO CLEMENTE  All Grades  2017    Math          24   \n",
       "11  01M015  P.S. 015 ROBERTO CLEMENTE  All Grades  2018     ELA          45   \n",
       "15  01M015  P.S. 015 ROBERTO CLEMENTE  All Grades  2018    Math          45   \n",
       "19  01M015  P.S. 015 ROBERTO CLEMENTE  All Grades  2019     ELA          42   \n",
       "\n",
       "    % Level 3+4  Full Time  Full Time Plus  Part Time  None  Any Full Time  \n",
       "3     35.820896        0.0             1.0        0.0   0.0            1.0  \n",
       "7     35.820896        0.0             1.0        0.0   0.0            1.0  \n",
       "11    67.164177        0.0             1.0        0.0   0.0            1.0  \n",
       "15    67.164177        0.0             1.0        0.0   0.0            1.0  \n",
       "19    60.000000        0.0             1.0        0.0   0.0            1.0  "
      ]
     },
     "execution_count": 45,
     "metadata": {},
     "output_type": "execute_result"
    }
   ],
   "source": [
    "#Create a column that combines the Full Time and Full Time Plus columns\n",
    "renamed_df['Any Full Time'] = renamed_df[\"Full Time\"] + renamed_df[\"Full Time Plus\"]\n",
    "anyfulltime_df = renamed_df\n",
    "anyfulltime_df.head()"
   ]
  },
  {
   "cell_type": "code",
   "execution_count": 46,
   "metadata": {},
   "outputs": [
    {
     "data": {
      "text/plain": [
       "Any Full Time\n",
       "0.0    1876\n",
       "1.0    4400\n",
       "Name: % Level 3+4, dtype: int64"
      ]
     },
     "execution_count": 46,
     "metadata": {},
     "output_type": "execute_result"
    }
   ],
   "source": [
    "#1. Math and ELA together frequencies\n",
    "anyfulltime_df.groupby([\"Any Full Time\"])[\"% Level 3+4\"].count()"
   ]
  },
  {
   "cell_type": "code",
   "execution_count": 47,
   "metadata": {},
   "outputs": [
    {
     "data": {
      "text/plain": [
       "Any Full Time\n",
       "0.0     938\n",
       "1.0    2200\n",
       "Name: % Level 3+4, dtype: int64"
      ]
     },
     "execution_count": 47,
     "metadata": {},
     "output_type": "execute_result"
    }
   ],
   "source": [
    "#2. Math only frequencies\n",
    "cond1 = anyfulltime_df['Subject'] == 'Math'\n",
    "math_anyfulltime_renamed_df = anyfulltime_df[cond1]\n",
    "math_anyfulltime_renamed_df.groupby([\"Any Full Time\"])[\"% Level 3+4\"].count()"
   ]
  },
  {
   "cell_type": "code",
   "execution_count": 48,
   "metadata": {},
   "outputs": [
    {
     "data": {
      "text/plain": [
       "Any Full Time\n",
       "0.0     938\n",
       "1.0    2200\n",
       "Name: % Level 3+4, dtype: int64"
      ]
     },
     "execution_count": 48,
     "metadata": {},
     "output_type": "execute_result"
    }
   ],
   "source": [
    "#3. ELA only frequencies\n",
    "cond1 = anyfulltime_df['Subject'] == 'ELA'\n",
    "ela_anyfulltime_renamed_df = anyfulltime_df[cond1]\n",
    "ela_anyfulltime_renamed_df.groupby([\"Any Full Time\"])[\"% Level 3+4\"].count()"
   ]
  },
  {
   "cell_type": "code",
   "execution_count": 49,
   "metadata": {},
   "outputs": [
    {
     "data": {
      "text/html": [
       "<div>\n",
       "<style scoped>\n",
       "    .dataframe tbody tr th:only-of-type {\n",
       "        vertical-align: middle;\n",
       "    }\n",
       "\n",
       "    .dataframe tbody tr th {\n",
       "        vertical-align: top;\n",
       "    }\n",
       "\n",
       "    .dataframe thead th {\n",
       "        text-align: right;\n",
       "    }\n",
       "</style>\n",
       "<table border=\"1\" class=\"dataframe\">\n",
       "  <thead>\n",
       "    <tr style=\"text-align: right;\">\n",
       "      <th></th>\n",
       "      <th>Mean</th>\n",
       "      <th>Median</th>\n",
       "      <th>Variance</th>\n",
       "      <th>Standard Deviation</th>\n",
       "      <th>Maximum</th>\n",
       "      <th>Minimum</th>\n",
       "    </tr>\n",
       "    <tr>\n",
       "      <th>Any Full Time</th>\n",
       "      <th></th>\n",
       "      <th></th>\n",
       "      <th></th>\n",
       "      <th></th>\n",
       "      <th></th>\n",
       "      <th></th>\n",
       "    </tr>\n",
       "  </thead>\n",
       "  <tbody>\n",
       "    <tr>\n",
       "      <td>0.0</td>\n",
       "      <td>43.715832</td>\n",
       "      <td>39.627464</td>\n",
       "      <td>439.067056</td>\n",
       "      <td>20.953927</td>\n",
       "      <td>100.0</td>\n",
       "      <td>0.000000</td>\n",
       "    </tr>\n",
       "    <tr>\n",
       "      <td>1.0</td>\n",
       "      <td>44.233961</td>\n",
       "      <td>40.758720</td>\n",
       "      <td>399.915158</td>\n",
       "      <td>19.997879</td>\n",
       "      <td>100.0</td>\n",
       "      <td>2.380952</td>\n",
       "    </tr>\n",
       "  </tbody>\n",
       "</table>\n",
       "</div>"
      ],
      "text/plain": [
       "                    Mean     Median    Variance  Standard Deviation  Maximum  \\\n",
       "Any Full Time                                                                  \n",
       "0.0            43.715832  39.627464  439.067056           20.953927    100.0   \n",
       "1.0            44.233961  40.758720  399.915158           19.997879    100.0   \n",
       "\n",
       "                Minimum  \n",
       "Any Full Time            \n",
       "0.0            0.000000  \n",
       "1.0            2.380952  "
      ]
     },
     "execution_count": 49,
     "metadata": {},
     "output_type": "execute_result"
    }
   ],
   "source": [
    "#1. Math and ELA descriptives pd.concat([s1, s2], ignore_index=True), df.columns = ['a', 'b', 'c']\n",
    "MandELA_mean = anyfulltime_df.groupby([\"Any Full Time\"])[\"% Level 3+4\"].mean()\n",
    "MandELA_median = anyfulltime_df.groupby([\"Any Full Time\"])[\"% Level 3+4\"].median()\n",
    "MandELA_var = anyfulltime_df.groupby([\"Any Full Time\"])[\"% Level 3+4\"].var()\n",
    "MandELA_std = anyfulltime_df.groupby([\"Any Full Time\"])[\"% Level 3+4\"].std()\n",
    "MandELA_max = anyfulltime_df.groupby([\"Any Full Time\"])[\"% Level 3+4\"].max()\n",
    "MandELA_min = anyfulltime_df.groupby([\"Any Full Time\"])[\"% Level 3+4\"].min()\n",
    "\n",
    "summary = pd.concat([MandELA_mean, MandELA_median, MandELA_var, MandELA_std, \n",
    "                     MandELA_max, MandELA_min], axis=1, join='inner')\n",
    "\n",
    "summary.columns = ['Mean', 'Median', 'Variance', \"Standard Deviation\", \"Maximum\", \"Minimum\"]\n",
    "summary"
   ]
  },
  {
   "cell_type": "code",
   "execution_count": 50,
   "metadata": {},
   "outputs": [
    {
     "data": {
      "text/html": [
       "<div>\n",
       "<style scoped>\n",
       "    .dataframe tbody tr th:only-of-type {\n",
       "        vertical-align: middle;\n",
       "    }\n",
       "\n",
       "    .dataframe tbody tr th {\n",
       "        vertical-align: top;\n",
       "    }\n",
       "\n",
       "    .dataframe thead th {\n",
       "        text-align: right;\n",
       "    }\n",
       "</style>\n",
       "<table border=\"1\" class=\"dataframe\">\n",
       "  <thead>\n",
       "    <tr style=\"text-align: right;\">\n",
       "      <th></th>\n",
       "      <th>Mean</th>\n",
       "      <th>Median</th>\n",
       "      <th>Variance</th>\n",
       "      <th>Standard Deviation</th>\n",
       "      <th>Maximum</th>\n",
       "      <th>Minimum</th>\n",
       "    </tr>\n",
       "    <tr>\n",
       "      <th>Any Full Time</th>\n",
       "      <th></th>\n",
       "      <th></th>\n",
       "      <th></th>\n",
       "      <th></th>\n",
       "      <th></th>\n",
       "      <th></th>\n",
       "    </tr>\n",
       "  </thead>\n",
       "  <tbody>\n",
       "    <tr>\n",
       "      <td>0.0</td>\n",
       "      <td>43.715832</td>\n",
       "      <td>39.627464</td>\n",
       "      <td>439.301350</td>\n",
       "      <td>20.959517</td>\n",
       "      <td>100.0</td>\n",
       "      <td>0.000000</td>\n",
       "    </tr>\n",
       "    <tr>\n",
       "      <td>1.0</td>\n",
       "      <td>44.233961</td>\n",
       "      <td>40.758720</td>\n",
       "      <td>400.006089</td>\n",
       "      <td>20.000152</td>\n",
       "      <td>100.0</td>\n",
       "      <td>2.380952</td>\n",
       "    </tr>\n",
       "  </tbody>\n",
       "</table>\n",
       "</div>"
      ],
      "text/plain": [
       "                    Mean     Median    Variance  Standard Deviation  Maximum  \\\n",
       "Any Full Time                                                                  \n",
       "0.0            43.715832  39.627464  439.301350           20.959517    100.0   \n",
       "1.0            44.233961  40.758720  400.006089           20.000152    100.0   \n",
       "\n",
       "                Minimum  \n",
       "Any Full Time            \n",
       "0.0            0.000000  \n",
       "1.0            2.380952  "
      ]
     },
     "execution_count": 50,
     "metadata": {},
     "output_type": "execute_result"
    }
   ],
   "source": [
    "#2. Math descriptives pd.concat([s1, s2], ignore_index=True), df.columns = ['a', 'b', 'c']\n",
    "M_mean = math_anyfulltime_renamed_df.groupby([\"Any Full Time\"])[\"% Level 3+4\"].mean()\n",
    "M_median = math_anyfulltime_renamed_df.groupby([\"Any Full Time\"])[\"% Level 3+4\"].median()\n",
    "M_var = math_anyfulltime_renamed_df.groupby([\"Any Full Time\"])[\"% Level 3+4\"].var()\n",
    "M_std = math_anyfulltime_renamed_df.groupby([\"Any Full Time\"])[\"% Level 3+4\"].std()\n",
    "M_max = math_anyfulltime_renamed_df.groupby([\"Any Full Time\"])[\"% Level 3+4\"].max()\n",
    "M_min = math_anyfulltime_renamed_df.groupby([\"Any Full Time\"])[\"% Level 3+4\"].min()\n",
    "\n",
    "m_summary = pd.concat([M_mean, M_median, M_var, M_std, \n",
    "                     M_max, M_min], axis=1, join='inner')\n",
    "\n",
    "m_summary.columns = ['Mean', 'Median', 'Variance', \"Standard Deviation\", \"Maximum\", \"Minimum\"]\n",
    "m_summary"
   ]
  },
  {
   "cell_type": "code",
   "execution_count": 51,
   "metadata": {},
   "outputs": [
    {
     "data": {
      "text/html": [
       "<div>\n",
       "<style scoped>\n",
       "    .dataframe tbody tr th:only-of-type {\n",
       "        vertical-align: middle;\n",
       "    }\n",
       "\n",
       "    .dataframe tbody tr th {\n",
       "        vertical-align: top;\n",
       "    }\n",
       "\n",
       "    .dataframe thead th {\n",
       "        text-align: right;\n",
       "    }\n",
       "</style>\n",
       "<table border=\"1\" class=\"dataframe\">\n",
       "  <thead>\n",
       "    <tr style=\"text-align: right;\">\n",
       "      <th></th>\n",
       "      <th>Mean</th>\n",
       "      <th>Median</th>\n",
       "      <th>Variance</th>\n",
       "      <th>Standard Deviation</th>\n",
       "      <th>Maximum</th>\n",
       "      <th>Minimum</th>\n",
       "    </tr>\n",
       "    <tr>\n",
       "      <th>Any Full Time</th>\n",
       "      <th></th>\n",
       "      <th></th>\n",
       "      <th></th>\n",
       "      <th></th>\n",
       "      <th></th>\n",
       "      <th></th>\n",
       "    </tr>\n",
       "  </thead>\n",
       "  <tbody>\n",
       "    <tr>\n",
       "      <td>0.0</td>\n",
       "      <td>43.715832</td>\n",
       "      <td>39.627464</td>\n",
       "      <td>439.301350</td>\n",
       "      <td>20.959517</td>\n",
       "      <td>100.0</td>\n",
       "      <td>0.000000</td>\n",
       "    </tr>\n",
       "    <tr>\n",
       "      <td>1.0</td>\n",
       "      <td>44.233961</td>\n",
       "      <td>40.758720</td>\n",
       "      <td>400.006089</td>\n",
       "      <td>20.000152</td>\n",
       "      <td>100.0</td>\n",
       "      <td>2.380952</td>\n",
       "    </tr>\n",
       "  </tbody>\n",
       "</table>\n",
       "</div>"
      ],
      "text/plain": [
       "                    Mean     Median    Variance  Standard Deviation  Maximum  \\\n",
       "Any Full Time                                                                  \n",
       "0.0            43.715832  39.627464  439.301350           20.959517    100.0   \n",
       "1.0            44.233961  40.758720  400.006089           20.000152    100.0   \n",
       "\n",
       "                Minimum  \n",
       "Any Full Time            \n",
       "0.0            0.000000  \n",
       "1.0            2.380952  "
      ]
     },
     "execution_count": 51,
     "metadata": {},
     "output_type": "execute_result"
    }
   ],
   "source": [
    "#3. ELA descriptives pd.concat([s1, s2], ignore_index=True), df.columns = ['a', 'b', 'c']\n",
    "ela_mean = ela_anyfulltime_renamed_df.groupby([\"Any Full Time\"])[\"% Level 3+4\"].mean()\n",
    "ela_median = ela_anyfulltime_renamed_df.groupby([\"Any Full Time\"])[\"% Level 3+4\"].median()\n",
    "ela_var = ela_anyfulltime_renamed_df.groupby([\"Any Full Time\"])[\"% Level 3+4\"].var()\n",
    "ela_std = ela_anyfulltime_renamed_df.groupby([\"Any Full Time\"])[\"% Level 3+4\"].std()\n",
    "ela_max = ela_anyfulltime_renamed_df.groupby([\"Any Full Time\"])[\"% Level 3+4\"].max()\n",
    "ela_min = ela_anyfulltime_renamed_df.groupby([\"Any Full Time\"])[\"% Level 3+4\"].min()\n",
    "\n",
    "ela_summary = pd.concat([ela_mean, ela_median, ela_var, ela_std, \n",
    "                     ela_max, ela_min], axis=1, join='inner')\n",
    "\n",
    "ela_summary.columns = ['Mean', 'Median', 'Variance', \"Standard Deviation\", \"Maximum\", \"Minimum\"]\n",
    "ela_summary"
   ]
  },
  {
   "cell_type": "code",
   "execution_count": 52,
   "metadata": {},
   "outputs": [
    {
     "data": {
      "text/plain": [
       "Ttest_indResult(statistic=0.9089500467066883, pvalue=0.36344099932157725)"
      ]
     },
     "execution_count": 52,
     "metadata": {},
     "output_type": "execute_result"
    }
   ],
   "source": [
    "#1. Math and ELA together Welch's independent ttest\n",
    "\n",
    "#perform independent t-test to see if any full time supervisor is different from 1 not in both Math and ELA\n",
    "#(Welch's t-test) equal_var = False\n",
    "fulltime_test = anyfulltime_df[anyfulltime_df['Any Full Time'] == 1]\n",
    "none_test = anyfulltime_df[anyfulltime_df['Any Full Time'] == 0]\n",
    "\n",
    "stats.ttest_ind(fulltime_test['% Level 3+4'], none_test['% Level 3+4'], equal_var=False)"
   ]
  },
  {
   "cell_type": "code",
   "execution_count": 53,
   "metadata": {},
   "outputs": [
    {
     "data": {
      "text/plain": [
       "Ttest_indResult(statistic=0.8106641082662113, pvalue=0.4197445014919684)"
      ]
     },
     "execution_count": 53,
     "metadata": {},
     "output_type": "execute_result"
    }
   ],
   "source": [
    "#2. Math Welch's independent ttest\n",
    "\n",
    "#perform independent t-test to see if no art programs is different from 1 or more art programs group both Math and ELA\n",
    "#(Welch's t-test) equal_var = False\n",
    "fulltime_test = math_anyfulltime_renamed_df[math_anyfulltime_renamed_df['Full Time'] == 1]\n",
    "none_test = math_anyfulltime_renamed_df[math_anyfulltime_renamed_df['Full Time'] == 0]\n",
    "\n",
    "stats.ttest_ind(fulltime_test['% Level 3+4'], none_test['% Level 3+4'], equal_var=False)"
   ]
  },
  {
   "cell_type": "code",
   "execution_count": 54,
   "metadata": {},
   "outputs": [
    {
     "name": "stdout",
     "output_type": "stream",
     "text": [
      "AxesSubplot(0.1,0.15;0.8x0.75)\n"
     ]
    },
    {
     "data": {
      "image/png": "[encoded data removed]",
      "text/plain": [
       "<Figure size 648x432 with 1 Axes>"
      ]
     },
     "metadata": {
      "needs_background": "light"
     },
     "output_type": "display_data"
    }
   ],
   "source": [
    "#2. Math boxplot\n",
    "boxplot = math_anyfulltime_renamed_df.boxplot(\"% Level 3+4\", by=\"Full Time\", figsize=(9, 6), meanline=False, showmeans=True)\n",
    "boxplot.set_title(\"Math Pass Rate by Full Time Supervisor\")\n",
    "print(boxplot)"
   ]
  },
  {
   "cell_type": "code",
   "execution_count": 55,
   "metadata": {},
   "outputs": [
    {
     "data": {
      "text/plain": [
       "Ttest_indResult(statistic=0.8106641082662113, pvalue=0.4197445014919684)"
      ]
     },
     "execution_count": 55,
     "metadata": {},
     "output_type": "execute_result"
    }
   ],
   "source": [
    "#3. ELA Welch's independent ttest\n",
    "\n",
    "#perform independent t-test to see if no art programs is different from 1 or more art programs group both Math and ELA\n",
    "#(Welch's t-test) equal_var = False\n",
    "fulltime_test = ela_anyfulltime_renamed_df[ela_anyfulltime_renamed_df['Full Time'] == 1]\n",
    "none_test = ela_anyfulltime_renamed_df[ela_anyfulltime_renamed_df['Full Time'] == 0]\n",
    "\n",
    "stats.ttest_ind(fulltime_test['% Level 3+4'], none_test['% Level 3+4'], equal_var=False)"
   ]
  },
  {
   "cell_type": "code",
   "execution_count": 56,
   "metadata": {},
   "outputs": [
    {
     "name": "stdout",
     "output_type": "stream",
     "text": [
      "AxesSubplot(0.1,0.15;0.8x0.75)\n"
     ]
    },
    {
     "data": {
      "image/png": "[encoded data removed]",
      "text/plain": [
       "<Figure size 648x432 with 1 Axes>"
      ]
     },
     "metadata": {
      "needs_background": "light"
     },
     "output_type": "display_data"
    }
   ],
   "source": [
    "#3. ELA boxplot\n",
    "boxplot = ela_anyfulltime_renamed_df.boxplot(\"% Level 3+4\", by=\"Full Time\", figsize=(9, 6), meanline=False, showmeans=True)\n",
    "boxplot.set_title(\"ELA Pass Rate by Full Time Supervisor\")\n",
    "print(boxplot)"
   ]
  },
  {
   "cell_type": "code",
   "execution_count": 2,
   "metadata": {},
   "outputs": [
    {
     "ename": "SyntaxError",
     "evalue": "invalid syntax (<ipython-input-2-344036168d7f>, line 1)",
     "output_type": "error",
     "traceback": [
      "\u001b[1;36m  File \u001b[1;32m\"<ipython-input-2-344036168d7f>\"\u001b[1;36m, line \u001b[1;32m1\u001b[0m\n\u001b[1;33m    jupyter nbconvert --to script [aforshee_question1].ipynb\u001b[0m\n\u001b[1;37m                    ^\u001b[0m\n\u001b[1;31mSyntaxError\u001b[0m\u001b[1;31m:\u001b[0m invalid syntax\n"
     ]
    }
   ],
   "source": [
    "jupyter nbconvert --to script [aforshee_question1].ipynb"
   ]
  }
 ],
 "metadata": {
  "kernelspec": {
   "display_name": "Python 3",
   "language": "python",
   "name": "python3"
  },
  "language_info": {
   "codemirror_mode": {
    "name": "ipython",
    "version": 3
   },
   "file_extension": ".py",
   "mimetype": "text/x-python",
   "name": "python",
   "nbconvert_exporter": "python",
   "pygments_lexer": "ipython3",
   "version": "3.7.4"
  }
 },
 "nbformat": 4,
 "nbformat_minor": 2
}
