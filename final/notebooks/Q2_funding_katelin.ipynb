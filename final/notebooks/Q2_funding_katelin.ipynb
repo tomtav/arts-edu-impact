{
 "cells": [
  {
   "cell_type": "markdown",
   "metadata": {},
   "source": [
    "## Question 1: Funding quality and measure per year correlation with ELA and math performance\n",
    "\n",
    "Last updated on 3/26/20\n"
   ]
  },
  {
   "cell_type": "markdown",
   "metadata": {},
   "source": [
    "**Hypothesis**: If art programs affect student performance, then schools with stronger indicators of funding will have significantly different math and ela state test scores than schools with weaker indicators of funding.\n",
    "\n",
    "**Null hypothesis**: If art programs do not affect student performance, then schools with stronger indicators of funding will not have significantly different math and ELA state test scores than schools with weaker indicators of funding.\n",
    "\n",
    "**Indicators of funding** will be: (a) number of funding sources, (b) self-report of increase or decrease in funding, and (c) self-report of adequate or inadequate funding). \n",
    "\n",
    "**Math/ELA performance** will be measured by pass rate (proportion of students earning a score of 3 or 4)."
   ]
  },
  {
   "cell_type": "markdown",
   "metadata": {},
   "source": [
    "### Data\n",
    "\n",
    "Annual Arts Education Survey: https://data.cityofnewyork.us/browse/select_dataset?Dataset-Information_Agency=Department+of+Education+%28DOE%29&nofederate=true&suppressed_facets[]=domain&utf8=✓&sortBy=relevance&q=Arts%20Data%20Survey \n",
    "\n",
    "New York State Test Results: https://infohub.nyced.org/reports/academics/test-results "
   ]
  },
  {
   "cell_type": "code",
   "execution_count": 7,
   "metadata": {
    "scrolled": true
   },
   "outputs": [],
   "source": [
    "# import dependencies\n",
    "\n",
    "import pandas as pd\n",
    "import numpy as np\n",
    "import matplotlib.pyplot as plt\n",
    "import scipy.stats as stats\n",
    "import requests\n",
    "import json"
   ]
  },
  {
   "cell_type": "markdown",
   "metadata": {},
   "source": [
    "## Dataset 1: Arts Data"
   ]
  },
  {
   "cell_type": "code",
   "execution_count": 8,
   "metadata": {
    "scrolled": true
   },
   "outputs": [
    {
     "ename": "FileNotFoundError",
     "evalue": "[Errno 2] File b'2016-2017_Arts_Survey_Data.csv' does not exist: b'2016-2017_Arts_Survey_Data.csv'",
     "output_type": "error",
     "traceback": [
      "\u001b[0;31m---------------------------------------------------------------------------\u001b[0m",
      "\u001b[0;31mFileNotFoundError\u001b[0m                         Traceback (most recent call last)",
      "\u001b[0;32m<ipython-input-8-fde5f4b6ecfd>\u001b[0m in \u001b[0;36m<module>\u001b[0;34m\u001b[0m\n\u001b[1;32m      7\u001b[0m \u001b[0;31m# arts_2014_2015 = pd.read_csv(arts_2014_2015_file, low_memory=False)\u001b[0m\u001b[0;34m\u001b[0m\u001b[0;34m\u001b[0m\u001b[0;34m\u001b[0m\u001b[0m\n\u001b[1;32m      8\u001b[0m \u001b[0;31m# arts_2015_2016 = pd.read_csv(arts_2015_2016_file, low_memory=False)\u001b[0m\u001b[0;34m\u001b[0m\u001b[0;34m\u001b[0m\u001b[0;34m\u001b[0m\u001b[0m\n\u001b[0;32m----> 9\u001b[0;31m \u001b[0marts_2016_2017\u001b[0m \u001b[0;34m=\u001b[0m \u001b[0mpd\u001b[0m\u001b[0;34m.\u001b[0m\u001b[0mread_csv\u001b[0m\u001b[0;34m(\u001b[0m\u001b[0marts_2016_2017_file\u001b[0m\u001b[0;34m,\u001b[0m \u001b[0mlow_memory\u001b[0m\u001b[0;34m=\u001b[0m\u001b[0;32mFalse\u001b[0m\u001b[0;34m)\u001b[0m\u001b[0;34m\u001b[0m\u001b[0;34m\u001b[0m\u001b[0m\n\u001b[0m\u001b[1;32m     10\u001b[0m \u001b[0marts_2017_2018\u001b[0m \u001b[0;34m=\u001b[0m \u001b[0mpd\u001b[0m\u001b[0;34m.\u001b[0m\u001b[0mread_csv\u001b[0m\u001b[0;34m(\u001b[0m\u001b[0marts_2017_2018_file\u001b[0m\u001b[0;34m,\u001b[0m \u001b[0mlow_memory\u001b[0m\u001b[0;34m=\u001b[0m\u001b[0;32mFalse\u001b[0m\u001b[0;34m)\u001b[0m\u001b[0;34m\u001b[0m\u001b[0;34m\u001b[0m\u001b[0m\n\u001b[1;32m     11\u001b[0m \u001b[0marts_2018_2019\u001b[0m \u001b[0;34m=\u001b[0m \u001b[0mpd\u001b[0m\u001b[0;34m.\u001b[0m\u001b[0mread_csv\u001b[0m\u001b[0;34m(\u001b[0m\u001b[0marts_2018_2019_file\u001b[0m\u001b[0;34m,\u001b[0m \u001b[0mlow_memory\u001b[0m\u001b[0;34m=\u001b[0m\u001b[0;32mFalse\u001b[0m\u001b[0;34m)\u001b[0m\u001b[0;34m\u001b[0m\u001b[0;34m\u001b[0m\u001b[0m\n",
      "\u001b[0;32m~/opt/anaconda3/lib/python3.7/site-packages/pandas/io/parsers.py\u001b[0m in \u001b[0;36mparser_f\u001b[0;34m(filepath_or_buffer, sep, delimiter, header, names, index_col, usecols, squeeze, prefix, mangle_dupe_cols, dtype, engine, converters, true_values, false_values, skipinitialspace, skiprows, skipfooter, nrows, na_values, keep_default_na, na_filter, verbose, skip_blank_lines, parse_dates, infer_datetime_format, keep_date_col, date_parser, dayfirst, cache_dates, iterator, chunksize, compression, thousands, decimal, lineterminator, quotechar, quoting, doublequote, escapechar, comment, encoding, dialect, error_bad_lines, warn_bad_lines, delim_whitespace, low_memory, memory_map, float_precision)\u001b[0m\n\u001b[1;32m    683\u001b[0m         )\n\u001b[1;32m    684\u001b[0m \u001b[0;34m\u001b[0m\u001b[0m\n\u001b[0;32m--> 685\u001b[0;31m         \u001b[0;32mreturn\u001b[0m \u001b[0m_read\u001b[0m\u001b[0;34m(\u001b[0m\u001b[0mfilepath_or_buffer\u001b[0m\u001b[0;34m,\u001b[0m \u001b[0mkwds\u001b[0m\u001b[0;34m)\u001b[0m\u001b[0;34m\u001b[0m\u001b[0;34m\u001b[0m\u001b[0m\n\u001b[0m\u001b[1;32m    686\u001b[0m \u001b[0;34m\u001b[0m\u001b[0m\n\u001b[1;32m    687\u001b[0m     \u001b[0mparser_f\u001b[0m\u001b[0;34m.\u001b[0m\u001b[0m__name__\u001b[0m \u001b[0;34m=\u001b[0m \u001b[0mname\u001b[0m\u001b[0;34m\u001b[0m\u001b[0;34m\u001b[0m\u001b[0m\n",
      "\u001b[0;32m~/opt/anaconda3/lib/python3.7/site-packages/pandas/io/parsers.py\u001b[0m in \u001b[0;36m_read\u001b[0;34m(filepath_or_buffer, kwds)\u001b[0m\n\u001b[1;32m    455\u001b[0m \u001b[0;34m\u001b[0m\u001b[0m\n\u001b[1;32m    456\u001b[0m     \u001b[0;31m# Create the parser.\u001b[0m\u001b[0;34m\u001b[0m\u001b[0;34m\u001b[0m\u001b[0;34m\u001b[0m\u001b[0m\n\u001b[0;32m--> 457\u001b[0;31m     \u001b[0mparser\u001b[0m \u001b[0;34m=\u001b[0m \u001b[0mTextFileReader\u001b[0m\u001b[0;34m(\u001b[0m\u001b[0mfp_or_buf\u001b[0m\u001b[0;34m,\u001b[0m \u001b[0;34m**\u001b[0m\u001b[0mkwds\u001b[0m\u001b[0;34m)\u001b[0m\u001b[0;34m\u001b[0m\u001b[0;34m\u001b[0m\u001b[0m\n\u001b[0m\u001b[1;32m    458\u001b[0m \u001b[0;34m\u001b[0m\u001b[0m\n\u001b[1;32m    459\u001b[0m     \u001b[0;32mif\u001b[0m \u001b[0mchunksize\u001b[0m \u001b[0;32mor\u001b[0m \u001b[0miterator\u001b[0m\u001b[0;34m:\u001b[0m\u001b[0;34m\u001b[0m\u001b[0;34m\u001b[0m\u001b[0m\n",
      "\u001b[0;32m~/opt/anaconda3/lib/python3.7/site-packages/pandas/io/parsers.py\u001b[0m in \u001b[0;36m__init__\u001b[0;34m(self, f, engine, **kwds)\u001b[0m\n\u001b[1;32m    893\u001b[0m             \u001b[0mself\u001b[0m\u001b[0;34m.\u001b[0m\u001b[0moptions\u001b[0m\u001b[0;34m[\u001b[0m\u001b[0;34m\"has_index_names\"\u001b[0m\u001b[0;34m]\u001b[0m \u001b[0;34m=\u001b[0m \u001b[0mkwds\u001b[0m\u001b[0;34m[\u001b[0m\u001b[0;34m\"has_index_names\"\u001b[0m\u001b[0;34m]\u001b[0m\u001b[0;34m\u001b[0m\u001b[0;34m\u001b[0m\u001b[0m\n\u001b[1;32m    894\u001b[0m \u001b[0;34m\u001b[0m\u001b[0m\n\u001b[0;32m--> 895\u001b[0;31m         \u001b[0mself\u001b[0m\u001b[0;34m.\u001b[0m\u001b[0m_make_engine\u001b[0m\u001b[0;34m(\u001b[0m\u001b[0mself\u001b[0m\u001b[0;34m.\u001b[0m\u001b[0mengine\u001b[0m\u001b[0;34m)\u001b[0m\u001b[0;34m\u001b[0m\u001b[0;34m\u001b[0m\u001b[0m\n\u001b[0m\u001b[1;32m    896\u001b[0m \u001b[0;34m\u001b[0m\u001b[0m\n\u001b[1;32m    897\u001b[0m     \u001b[0;32mdef\u001b[0m \u001b[0mclose\u001b[0m\u001b[0;34m(\u001b[0m\u001b[0mself\u001b[0m\u001b[0;34m)\u001b[0m\u001b[0;34m:\u001b[0m\u001b[0;34m\u001b[0m\u001b[0;34m\u001b[0m\u001b[0m\n",
      "\u001b[0;32m~/opt/anaconda3/lib/python3.7/site-packages/pandas/io/parsers.py\u001b[0m in \u001b[0;36m_make_engine\u001b[0;34m(self, engine)\u001b[0m\n\u001b[1;32m   1133\u001b[0m     \u001b[0;32mdef\u001b[0m \u001b[0m_make_engine\u001b[0m\u001b[0;34m(\u001b[0m\u001b[0mself\u001b[0m\u001b[0;34m,\u001b[0m \u001b[0mengine\u001b[0m\u001b[0;34m=\u001b[0m\u001b[0;34m\"c\"\u001b[0m\u001b[0;34m)\u001b[0m\u001b[0;34m:\u001b[0m\u001b[0;34m\u001b[0m\u001b[0;34m\u001b[0m\u001b[0m\n\u001b[1;32m   1134\u001b[0m         \u001b[0;32mif\u001b[0m \u001b[0mengine\u001b[0m \u001b[0;34m==\u001b[0m \u001b[0;34m\"c\"\u001b[0m\u001b[0;34m:\u001b[0m\u001b[0;34m\u001b[0m\u001b[0;34m\u001b[0m\u001b[0m\n\u001b[0;32m-> 1135\u001b[0;31m             \u001b[0mself\u001b[0m\u001b[0;34m.\u001b[0m\u001b[0m_engine\u001b[0m \u001b[0;34m=\u001b[0m \u001b[0mCParserWrapper\u001b[0m\u001b[0;34m(\u001b[0m\u001b[0mself\u001b[0m\u001b[0;34m.\u001b[0m\u001b[0mf\u001b[0m\u001b[0;34m,\u001b[0m \u001b[0;34m**\u001b[0m\u001b[0mself\u001b[0m\u001b[0;34m.\u001b[0m\u001b[0moptions\u001b[0m\u001b[0;34m)\u001b[0m\u001b[0;34m\u001b[0m\u001b[0;34m\u001b[0m\u001b[0m\n\u001b[0m\u001b[1;32m   1136\u001b[0m         \u001b[0;32melse\u001b[0m\u001b[0;34m:\u001b[0m\u001b[0;34m\u001b[0m\u001b[0;34m\u001b[0m\u001b[0m\n\u001b[1;32m   1137\u001b[0m             \u001b[0;32mif\u001b[0m \u001b[0mengine\u001b[0m \u001b[0;34m==\u001b[0m \u001b[0;34m\"python\"\u001b[0m\u001b[0;34m:\u001b[0m\u001b[0;34m\u001b[0m\u001b[0;34m\u001b[0m\u001b[0m\n",
      "\u001b[0;32m~/opt/anaconda3/lib/python3.7/site-packages/pandas/io/parsers.py\u001b[0m in \u001b[0;36m__init__\u001b[0;34m(self, src, **kwds)\u001b[0m\n\u001b[1;32m   1915\u001b[0m         \u001b[0mkwds\u001b[0m\u001b[0;34m[\u001b[0m\u001b[0;34m\"usecols\"\u001b[0m\u001b[0;34m]\u001b[0m \u001b[0;34m=\u001b[0m \u001b[0mself\u001b[0m\u001b[0;34m.\u001b[0m\u001b[0musecols\u001b[0m\u001b[0;34m\u001b[0m\u001b[0;34m\u001b[0m\u001b[0m\n\u001b[1;32m   1916\u001b[0m \u001b[0;34m\u001b[0m\u001b[0m\n\u001b[0;32m-> 1917\u001b[0;31m         \u001b[0mself\u001b[0m\u001b[0;34m.\u001b[0m\u001b[0m_reader\u001b[0m \u001b[0;34m=\u001b[0m \u001b[0mparsers\u001b[0m\u001b[0;34m.\u001b[0m\u001b[0mTextReader\u001b[0m\u001b[0;34m(\u001b[0m\u001b[0msrc\u001b[0m\u001b[0;34m,\u001b[0m \u001b[0;34m**\u001b[0m\u001b[0mkwds\u001b[0m\u001b[0;34m)\u001b[0m\u001b[0;34m\u001b[0m\u001b[0;34m\u001b[0m\u001b[0m\n\u001b[0m\u001b[1;32m   1918\u001b[0m         \u001b[0mself\u001b[0m\u001b[0;34m.\u001b[0m\u001b[0munnamed_cols\u001b[0m \u001b[0;34m=\u001b[0m \u001b[0mself\u001b[0m\u001b[0;34m.\u001b[0m\u001b[0m_reader\u001b[0m\u001b[0;34m.\u001b[0m\u001b[0munnamed_cols\u001b[0m\u001b[0;34m\u001b[0m\u001b[0;34m\u001b[0m\u001b[0m\n\u001b[1;32m   1919\u001b[0m \u001b[0;34m\u001b[0m\u001b[0m\n",
      "\u001b[0;32mpandas/_libs/parsers.pyx\u001b[0m in \u001b[0;36mpandas._libs.parsers.TextReader.__cinit__\u001b[0;34m()\u001b[0m\n",
      "\u001b[0;32mpandas/_libs/parsers.pyx\u001b[0m in \u001b[0;36mpandas._libs.parsers.TextReader._setup_parser_source\u001b[0;34m()\u001b[0m\n",
      "\u001b[0;31mFileNotFoundError\u001b[0m: [Errno 2] File b'2016-2017_Arts_Survey_Data.csv' does not exist: b'2016-2017_Arts_Survey_Data.csv'"
     ]
    }
   ],
   "source": [
    "# arts_2014_2015_file = \"2014-2015_Arts_Survey_Data.csv\"\n",
    "# arts_2015_2016_file = \"2015-2016_Arts_Survey_Data.csv\"\n",
    "arts_2016_2017_file = \"2016-2017_Arts_Survey_Data.csv\"\n",
    "arts_2017_2018_file = \"2017-2018_Arts_Survey_Data.csv\"\n",
    "arts_2018_2019_file = \"2018-2019_Arts_Survey_Data.csv\"\n",
    "\n",
    "# arts_2014_2015 = pd.read_csv(arts_2014_2015_file, low_memory=False)\n",
    "# arts_2015_2016 = pd.read_csv(arts_2015_2016_file, low_memory=False)\n",
    "arts_2016_2017 = pd.read_csv(arts_2016_2017_file, low_memory=False)\n",
    "arts_2017_2018 = pd.read_csv(arts_2017_2018_file, low_memory=False)\n",
    "arts_2018_2019 = pd.read_csv(arts_2018_2019_file, low_memory=False)\n",
    "\n",
    "\n",
    "arts_2016_2017['Year'] = 2017\n",
    "arts_2017_2018['Year'] = 2018\n",
    "arts_2018_2019['Year'] = 2019"
   ]
  },
  {
   "cell_type": "markdown",
   "metadata": {},
   "source": [
    "## Data  Dictionaries: "
   ]
  },
  {
   "cell_type": "markdown",
   "metadata": {},
   "source": [
    "### 2016-2017\n",
    "\n",
    "**Q34:** Did your school receive the following funding sources (non-DOE) to support arts education in this school year (*check all that apply*)?\n",
    "\n",
    "(Yes/No radio buttons)\n",
    "\n",
    "**Funding Sources**\n",
    "* Cultural organizations\n",
    "* Education association\n",
    "* Federal, state, or city grants\n",
    "* Local business or corporation\n",
    "* Private foundation\n",
    "* PTA/PA\n",
    "* State, county, local arts councils\n",
    "\n",
    "---\n",
    "\n",
    "**Q35:** Funding for the arts is generally:\n",
    "\n",
    "* Abundant\n",
    "* Sufficient\n",
    "* Insufficient\n",
    "* N/A\n",
    "\n",
    "---\n",
    "\n",
    "**Q36:** \n",
    "\n",
    "* Increased\n",
    "* Decreased\n",
    "* Remained the same"
   ]
  },
  {
   "cell_type": "markdown",
   "metadata": {},
   "source": [
    "### 2017-2018\n",
    "\n",
    "**Q36:** Did your school receive the following funding sources (non-DOE) to support arts education in this school year (*check all that apply*)?\n",
    "\n",
    "(Yes/No radio buttons)\n",
    "\n",
    "**Funding Sources**\n",
    "* Cultural organizations\n",
    "* Education association\n",
    "* Federal, state, or city grants\n",
    "* Local business or corporation\n",
    "* Private foundation\n",
    "* PTA/PA\n",
    "* State, county, local arts councils\n",
    "\n",
    "---\n",
    "\n",
    "**Q37:** Funding for the arts is generally:\n",
    "\n",
    "* Abundant\n",
    "* Sufficient\n",
    "* Insufficient\n",
    "* N/A\n",
    "\n",
    "---\n",
    "\n",
    "**Q38:** Funding over the past three years has:\n",
    "\n",
    "* Increased\n",
    "* Decreased\n",
    "* Remained the same"
   ]
  },
  {
   "cell_type": "markdown",
   "metadata": {},
   "source": [
    "### 2018-2019\n",
    "\n",
    "**Q32:** Did your school receive the following funding sources (non-DOE) to support arts education in this school year (*check all that apply*)?\n",
    "\n",
    "(Yes/No radio buttons)\n",
    "\n",
    "**Funding Sources**\n",
    "* Cultural organizations\n",
    "* Education association\n",
    "* Federal, state, or city grants\n",
    "* Local business or corporation\n",
    "* Private foundation\n",
    "* PTA/PA\n",
    "* State, county, local arts councils\n",
    "\n",
    "---\n",
    "\n",
    "**Q33:** Funding for the arts is generally:\n",
    "\n",
    "* Abundant\n",
    "* Sufficient\n",
    "* Insufficient\n",
    "* N/A\n",
    "\n",
    "---\n",
    "\n",
    "**Q34:** Funding over the past three years has:\n",
    "\n",
    "* Increased\n",
    "* Decreased\n",
    "* Remained the same"
   ]
  },
  {
   "cell_type": "markdown",
   "metadata": {},
   "source": [
    "## Clean/Explore Dataset 1"
   ]
  },
  {
   "cell_type": "code",
   "execution_count": 3,
   "metadata": {},
   "outputs": [
    {
     "ename": "NameError",
     "evalue": "name 'arts_2016_2017' is not defined",
     "output_type": "error",
     "traceback": [
      "\u001b[0;31m---------------------------------------------------------------------------\u001b[0m",
      "\u001b[0;31mNameError\u001b[0m                                 Traceback (most recent call last)",
      "\u001b[0;32m<ipython-input-3-469790709b4a>\u001b[0m in \u001b[0;36m<module>\u001b[0;34m\u001b[0m\n\u001b[1;32m     13\u001b[0m \u001b[0;34m\u001b[0m\u001b[0m\n\u001b[1;32m     14\u001b[0m \u001b[0;31m# Q34, Q35, Q36\u001b[0m\u001b[0;34m\u001b[0m\u001b[0;34m\u001b[0m\u001b[0;34m\u001b[0m\u001b[0m\n\u001b[0;32m---> 15\u001b[0;31m funding_2016_2017 = arts_2016_2017[['Q0_DBN',\n\u001b[0m\u001b[1;32m     16\u001b[0m                                     \u001b[0;34m'Year'\u001b[0m\u001b[0;34m,\u001b[0m\u001b[0;34m\u001b[0m\u001b[0;34m\u001b[0m\u001b[0m\n\u001b[1;32m     17\u001b[0m                                     \u001b[0;34m'Q34_R1_C1'\u001b[0m\u001b[0;34m,\u001b[0m\u001b[0;34m\u001b[0m\u001b[0;34m\u001b[0m\u001b[0m\n",
      "\u001b[0;31mNameError\u001b[0m: name 'arts_2016_2017' is not defined"
     ]
    }
   ],
   "source": [
    "#print(str(arts_2016_2017.columns))\n",
    "\n",
    "# Q34, Q35, Q36\n",
    "# # Note: for Q34, quetions with the 'C1' and 'C2' suffixes are redundant because they are inverses of each other\n",
    "# funding_2016_2017 = arts_2016_2017[['Q0_DBN', \n",
    "#                                     'Q34_R1_C1', 'Q34_R1_C2', 'Q34_R2_C1', 'Q34_R2_C2',\n",
    "#                                     'Q34_R3_C1', 'Q34_R3_C2', 'Q34_R4_C1', 'Q34_R4_C2', \n",
    "#                                     'Q34_R5_C1','Q34_R5_C2', 'Q34_R6_C1', 'Q34_R6_C2',\n",
    "#                                     'Q34_R7_C1', 'Q34_R7_C2',\n",
    "#                                     'Q35_1', 'Q35_2', 'Q35_3', 'Q35_4', \n",
    "#                                     'Q36_1', 'Q36_2', 'Q36_3']]\n",
    "\n",
    "\n",
    "# Q34, Q35, Q36\n",
    "funding_2016_2017 = arts_2016_2017[['Q0_DBN',\n",
    "                                    'Year',\n",
    "                                    'Q34_R1_C1', \n",
    "                                    'Q34_R2_C1',\n",
    "                                    'Q34_R3_C1',\n",
    "                                    'Q34_R4_C1',\n",
    "                                    'Q34_R5_C1',\n",
    "                                    'Q34_R6_C1',\n",
    "                                    'Q34_R7_C1', \n",
    "                                    'Q35_1', 'Q35_2', 'Q35_3', 'Q35_4', \n",
    "                                    'Q36_1', 'Q36_2', 'Q36_3']]\n",
    "\n",
    "funding_2016_2017.head()"
   ]
  },
  {
   "cell_type": "code",
   "execution_count": 4,
   "metadata": {},
   "outputs": [
    {
     "ename": "NameError",
     "evalue": "name 'arts_2017_2018' is not defined",
     "output_type": "error",
     "traceback": [
      "\u001b[0;31m---------------------------------------------------------------------------\u001b[0m",
      "\u001b[0;31mNameError\u001b[0m                                 Traceback (most recent call last)",
      "\u001b[0;32m<ipython-input-4-37aecdd9873f>\u001b[0m in \u001b[0;36m<module>\u001b[0;34m\u001b[0m\n\u001b[1;32m     17\u001b[0m \u001b[0;34m\u001b[0m\u001b[0m\n\u001b[1;32m     18\u001b[0m \u001b[0;31m# # Q36, Q37, Q38\u001b[0m\u001b[0;34m\u001b[0m\u001b[0;34m\u001b[0m\u001b[0;34m\u001b[0m\u001b[0m\n\u001b[0;32m---> 19\u001b[0;31m funding_2017_2018 = arts_2017_2018[['Q0_DBN',\n\u001b[0m\u001b[1;32m     20\u001b[0m                                     \u001b[0;34m'Year'\u001b[0m\u001b[0;34m,\u001b[0m\u001b[0;34m\u001b[0m\u001b[0;34m\u001b[0m\u001b[0m\n\u001b[1;32m     21\u001b[0m                                    \u001b[0;34m'Q36_R1_C1'\u001b[0m\u001b[0;34m,\u001b[0m\u001b[0;34m\u001b[0m\u001b[0;34m\u001b[0m\u001b[0m\n",
      "\u001b[0;31mNameError\u001b[0m: name 'arts_2017_2018' is not defined"
     ]
    }
   ],
   "source": [
    "# print(str(arts_2017_2018.columns))\n",
    "\n",
    "# # Q36, Q37, Q38\n",
    "# # Note: for Q36, quetions with the 'C1' and 'C2' suffixes are redundant because they are  inverses of each other\n",
    "# funding_2017_2018 = arts_2017_2018[['Q0_DBN', \n",
    "#                                    'Q36_R1_C1','Q36_R1_C2',\n",
    "#                                     'Q36_R2_C1', 'Q36_R2_C2', \n",
    "#                                     'Q36_R3_C1', 'Q36_R3_C2', \n",
    "#                                     'Q36_R4_C1', 'Q36_R4_C2',\n",
    "#                                     'Q36_R5_C1', 'Q36_R5_C2', \n",
    "#                                     'Q36_R6_C1', 'Q36_R6_C2', \n",
    "#                                     'Q36_R7_C1','Q36_R7_C2', \n",
    "#                                     'Q37_1', 'Q37_2', \n",
    "#                                     'Q37_3', 'Q37_4', \n",
    "#                                     'Q38_1', 'Q38_2','Q38_3']]\n",
    "\n",
    "\n",
    "# # Q36, Q37, Q38\n",
    "funding_2017_2018 = arts_2017_2018[['Q0_DBN',\n",
    "                                    'Year',\n",
    "                                   'Q36_R1_C1',\n",
    "                                    'Q36_R2_C1', \n",
    "                                    'Q36_R3_C1',\n",
    "                                    'Q36_R4_C1',\n",
    "                                    'Q36_R5_C1',\n",
    "                                    'Q36_R6_C1',\n",
    "                                    'Q36_R7_C1',\n",
    "                                    'Q37_1', 'Q37_2', 'Q37_3', 'Q37_4', \n",
    "                                    'Q38_1', 'Q38_2','Q38_3']]\n",
    "\n",
    "funding_2017_2018.head()"
   ]
  },
  {
   "cell_type": "code",
   "execution_count": 5,
   "metadata": {
    "scrolled": false
   },
   "outputs": [
    {
     "ename": "NameError",
     "evalue": "name 'arts_2018_2019' is not defined",
     "output_type": "error",
     "traceback": [
      "\u001b[0;31m---------------------------------------------------------------------------\u001b[0m",
      "\u001b[0;31mNameError\u001b[0m                                 Traceback (most recent call last)",
      "\u001b[0;32m<ipython-input-5-fa9422c1088d>\u001b[0m in \u001b[0;36m<module>\u001b[0;34m\u001b[0m\n\u001b[1;32m     14\u001b[0m \u001b[0;34m\u001b[0m\u001b[0m\n\u001b[1;32m     15\u001b[0m \u001b[0;31m# Q32, Q33, Q34\u001b[0m\u001b[0;34m\u001b[0m\u001b[0;34m\u001b[0m\u001b[0;34m\u001b[0m\u001b[0m\n\u001b[0;32m---> 16\u001b[0;31m funding_2018_2019 = arts_2018_2019[['Q0_DBN',\n\u001b[0m\u001b[1;32m     17\u001b[0m                                     \u001b[0;34m'Year'\u001b[0m\u001b[0;34m,\u001b[0m\u001b[0;34m\u001b[0m\u001b[0;34m\u001b[0m\u001b[0m\n\u001b[1;32m     18\u001b[0m                                     \u001b[0;34m' Q32_R1_C1'\u001b[0m\u001b[0;34m,\u001b[0m\u001b[0;34m\u001b[0m\u001b[0;34m\u001b[0m\u001b[0m\n",
      "\u001b[0;31mNameError\u001b[0m: name 'arts_2018_2019' is not defined"
     ]
    }
   ],
   "source": [
    "#print(str(arts_2018_2019.columns))\n",
    "\n",
    "# # Q32, Q33, Q34\n",
    "# # Note: for Q32, quetions with the 'C1' and 'C2' suffixes are redundant because they are  inverses of each other\n",
    "# funding_2018_2019 = arts_2018_2019[['Q0_DBN', \n",
    "#                                     ' Q32_R1_C1', ' Q32_R1_C2', ' Q32_R2_C1',\n",
    "#                                     ' Q32_R2_C2', ' Q32_R3_C1', ' Q32_R3_C2', \n",
    "#                                     ' Q32_R4_C1', ' Q32_R4_C2',' Q32_R5_C1', \n",
    "#                                     ' Q32_R5_C2', ' Q32_R6_C1', ' Q32_R6_C2', \n",
    "#                                     ' Q32_R7_C1',' Q32_R7_C2', \n",
    "#                                     'Q33_1', 'Q33_2', 'Q33_3', 'Q33_4', \n",
    "#                                     'Q34_1', 'Q34_2','Q34_3']]\n",
    "\n",
    "\n",
    "# Q32, Q33, Q34\n",
    "funding_2018_2019 = arts_2018_2019[['Q0_DBN',\n",
    "                                    'Year',\n",
    "                                    ' Q32_R1_C1',\n",
    "                                    ' Q32_R2_C1',\n",
    "                                    ' Q32_R3_C1', \n",
    "                                    ' Q32_R4_C1',\n",
    "                                    ' Q32_R5_C1', \n",
    "                                    ' Q32_R6_C1',\n",
    "                                    ' Q32_R7_C1', \n",
    "                                    'Q33_1', 'Q33_2', 'Q33_3', 'Q33_4', \n",
    "                                    'Q34_1', 'Q34_2','Q34_3']]\n",
    "\n",
    "\n",
    "\n",
    "funding_2018_2019.head()"
   ]
  },
  {
   "cell_type": "code",
   "execution_count": 6,
   "metadata": {},
   "outputs": [
    {
     "ename": "NameError",
     "evalue": "name 'funding_2016_2017' is not defined",
     "output_type": "error",
     "traceback": [
      "\u001b[0;31m---------------------------------------------------------------------------\u001b[0m",
      "\u001b[0;31mNameError\u001b[0m                                 Traceback (most recent call last)",
      "\u001b[0;32m<ipython-input-6-3796eddcaccf>\u001b[0m in \u001b[0;36m<module>\u001b[0;34m\u001b[0m\n\u001b[1;32m      1\u001b[0m \u001b[0;31m# Rename columns\u001b[0m\u001b[0;34m\u001b[0m\u001b[0;34m\u001b[0m\u001b[0;34m\u001b[0m\u001b[0m\n\u001b[1;32m      2\u001b[0m \u001b[0;34m\u001b[0m\u001b[0m\n\u001b[0;32m----> 3\u001b[0;31m funding_2016_2017 = funding_2016_2017.rename(columns={'Q0_DBN': 'DBN',\n\u001b[0m\u001b[1;32m      4\u001b[0m                                                       \u001b[0;34m'Year'\u001b[0m\u001b[0;34m:\u001b[0m \u001b[0;34m'year'\u001b[0m\u001b[0;34m,\u001b[0m\u001b[0;34m\u001b[0m\u001b[0;34m\u001b[0m\u001b[0m\n\u001b[1;32m      5\u001b[0m                                     \u001b[0;34m'Q34_R1_C1'\u001b[0m\u001b[0;34m:\u001b[0m \u001b[0;34m'Q1_cultural_org'\u001b[0m\u001b[0;34m,\u001b[0m\u001b[0;34m\u001b[0m\u001b[0;34m\u001b[0m\u001b[0m\n",
      "\u001b[0;31mNameError\u001b[0m: name 'funding_2016_2017' is not defined"
     ]
    }
   ],
   "source": [
    "# Rename columns\n",
    "\n",
    "funding_2016_2017 = funding_2016_2017.rename(columns={'Q0_DBN': 'DBN',\n",
    "                                                      'Year': 'year',\n",
    "                                    'Q34_R1_C1': 'Q1_cultural_org',\n",
    "                                    'Q34_R2_C1': 'Q1_education_assoc',\n",
    "                                    'Q34_R3_C1': 'Q1_grants', \n",
    "                                    'Q34_R4_C1': 'Q1_local_business',\n",
    "                                    'Q34_R5_C1': 'Q1_private_foundation', \n",
    "                                    'Q34_R6_C1': 'Q1_PTA_PA',\n",
    "                                    'Q34_R7_C1': 'Q1_arts_council', \n",
    "                                    'Q35_1': 'Q2_abundant', 'Q35_2': 'Q2_sufficient', \n",
    "                                    'Q35_3': 'Q2_insufficient', 'Q35_4': 'Q2_na', \n",
    "                                    'Q36_1': 'Q3_increased', 'Q36_2': 'Q3_decreased','Q36_3':'Q3_same'})\n",
    "funding_2016_2017.head()"
   ]
  },
  {
   "cell_type": "code",
   "execution_count": 135,
   "metadata": {},
   "outputs": [
    {
     "data": {
      "text/html": [
       "<div>\n",
       "<style scoped>\n",
       "    .dataframe tbody tr th:only-of-type {\n",
       "        vertical-align: middle;\n",
       "    }\n",
       "\n",
       "    .dataframe tbody tr th {\n",
       "        vertical-align: top;\n",
       "    }\n",
       "\n",
       "    .dataframe thead th {\n",
       "        text-align: right;\n",
       "    }\n",
       "</style>\n",
       "<table border=\"1\" class=\"dataframe\">\n",
       "  <thead>\n",
       "    <tr style=\"text-align: right;\">\n",
       "      <th></th>\n",
       "      <th>DBN</th>\n",
       "      <th>year</th>\n",
       "      <th>Q1_cultural_org</th>\n",
       "      <th>Q1_education_assoc</th>\n",
       "      <th>Q1_grants</th>\n",
       "      <th>Q1_local_business</th>\n",
       "      <th>Q1_private_foundation</th>\n",
       "      <th>Q1_PTA_PA</th>\n",
       "      <th>Q1_arts_council</th>\n",
       "      <th>Q2_abundant</th>\n",
       "      <th>Q2_sufficient</th>\n",
       "      <th>Q2_insufficient</th>\n",
       "      <th>Q2_na</th>\n",
       "      <th>Q3_increased</th>\n",
       "      <th>Q3_decreased</th>\n",
       "      <th>Q3_same</th>\n",
       "    </tr>\n",
       "  </thead>\n",
       "  <tbody>\n",
       "    <tr>\n",
       "      <td>0</td>\n",
       "      <td>01M015</td>\n",
       "      <td>2017</td>\n",
       "      <td>1</td>\n",
       "      <td>0</td>\n",
       "      <td>1</td>\n",
       "      <td>1</td>\n",
       "      <td>1</td>\n",
       "      <td>0</td>\n",
       "      <td>1</td>\n",
       "      <td>0</td>\n",
       "      <td>0</td>\n",
       "      <td>1</td>\n",
       "      <td>0</td>\n",
       "      <td>0</td>\n",
       "      <td>0</td>\n",
       "      <td>1</td>\n",
       "    </tr>\n",
       "    <tr>\n",
       "      <td>1</td>\n",
       "      <td>01M019</td>\n",
       "      <td>2017</td>\n",
       "      <td>0</td>\n",
       "      <td>0</td>\n",
       "      <td>0</td>\n",
       "      <td>0</td>\n",
       "      <td>0</td>\n",
       "      <td>0</td>\n",
       "      <td>0</td>\n",
       "      <td>0</td>\n",
       "      <td>0</td>\n",
       "      <td>1</td>\n",
       "      <td>0</td>\n",
       "      <td>0</td>\n",
       "      <td>0</td>\n",
       "      <td>1</td>\n",
       "    </tr>\n",
       "    <tr>\n",
       "      <td>2</td>\n",
       "      <td>01M020</td>\n",
       "      <td>2017</td>\n",
       "      <td>0</td>\n",
       "      <td>0</td>\n",
       "      <td>1</td>\n",
       "      <td>0</td>\n",
       "      <td>0</td>\n",
       "      <td>1</td>\n",
       "      <td>0</td>\n",
       "      <td>0</td>\n",
       "      <td>0</td>\n",
       "      <td>1</td>\n",
       "      <td>0</td>\n",
       "      <td>0</td>\n",
       "      <td>1</td>\n",
       "      <td>0</td>\n",
       "    </tr>\n",
       "    <tr>\n",
       "      <td>3</td>\n",
       "      <td>01M034</td>\n",
       "      <td>2017</td>\n",
       "      <td>0</td>\n",
       "      <td>0</td>\n",
       "      <td>0</td>\n",
       "      <td>0</td>\n",
       "      <td>0</td>\n",
       "      <td>0</td>\n",
       "      <td>0</td>\n",
       "      <td>0</td>\n",
       "      <td>0</td>\n",
       "      <td>1</td>\n",
       "      <td>0</td>\n",
       "      <td>0</td>\n",
       "      <td>1</td>\n",
       "      <td>0</td>\n",
       "    </tr>\n",
       "    <tr>\n",
       "      <td>4</td>\n",
       "      <td>01M515</td>\n",
       "      <td>2017</td>\n",
       "      <td>1</td>\n",
       "      <td>0</td>\n",
       "      <td>1</td>\n",
       "      <td>0</td>\n",
       "      <td>0</td>\n",
       "      <td>0</td>\n",
       "      <td>0</td>\n",
       "      <td>0</td>\n",
       "      <td>0</td>\n",
       "      <td>1</td>\n",
       "      <td>0</td>\n",
       "      <td>0</td>\n",
       "      <td>1</td>\n",
       "      <td>0</td>\n",
       "    </tr>\n",
       "  </tbody>\n",
       "</table>\n",
       "</div>"
      ],
      "text/plain": [
       "      DBN  year  Q1_cultural_org  Q1_education_assoc  Q1_grants  \\\n",
       "0  01M015  2017                1                   0          1   \n",
       "1  01M019  2017                0                   0          0   \n",
       "2  01M020  2017                0                   0          1   \n",
       "3  01M034  2017                0                   0          0   \n",
       "4  01M515  2017                1                   0          1   \n",
       "\n",
       "   Q1_local_business  Q1_private_foundation  Q1_PTA_PA  Q1_arts_council  \\\n",
       "0                  1                      1          0                1   \n",
       "1                  0                      0          0                0   \n",
       "2                  0                      0          1                0   \n",
       "3                  0                      0          0                0   \n",
       "4                  0                      0          0                0   \n",
       "\n",
       "   Q2_abundant  Q2_sufficient  Q2_insufficient  Q2_na  Q3_increased  \\\n",
       "0            0              0                1      0             0   \n",
       "1            0              0                1      0             0   \n",
       "2            0              0                1      0             0   \n",
       "3            0              0                1      0             0   \n",
       "4            0              0                1      0             0   \n",
       "\n",
       "   Q3_decreased  Q3_same  \n",
       "0             0        1  \n",
       "1             0        1  \n",
       "2             1        0  \n",
       "3             1        0  \n",
       "4             1        0  "
      ]
     },
     "execution_count": 135,
     "metadata": {},
     "output_type": "execute_result"
    }
   ],
   "source": [
    "# Rename columns\n",
    "\n",
    "funding_2017_2018 = funding_2017_2018.rename(columns={'Q0_DBN': 'DBN',\n",
    "                                                      'Year': 'year',\n",
    "                                    'Q36_R1_C1': 'Q1_cultural_org',\n",
    "                                    'Q36_R2_C1': 'Q1_education_assoc',\n",
    "                                    'Q36_R3_C1': 'Q1_grants', \n",
    "                                    'Q36_R4_C1': 'Q1_local_business',\n",
    "                                    'Q36_R5_C1': 'Q1_private_foundation', \n",
    "                                    'Q36_R6_C1': 'Q1_PTA_PA',\n",
    "                                    'Q36_R7_C1': 'Q1_arts_council', \n",
    "                                    'Q37_1': 'Q2_abundant', 'Q37_2': 'Q2_sufficient', \n",
    "                                    'Q37_3': 'Q2_insufficient', 'Q37_4': 'Q2_na', \n",
    "                                    'Q38_1': 'Q3_increased', 'Q38_2': 'Q3_decreased','Q38_3':'Q3_same'})\n",
    "funding_2016_2017.head()"
   ]
  },
  {
   "cell_type": "code",
   "execution_count": 136,
   "metadata": {},
   "outputs": [
    {
     "data": {
      "text/html": [
       "<div>\n",
       "<style scoped>\n",
       "    .dataframe tbody tr th:only-of-type {\n",
       "        vertical-align: middle;\n",
       "    }\n",
       "\n",
       "    .dataframe tbody tr th {\n",
       "        vertical-align: top;\n",
       "    }\n",
       "\n",
       "    .dataframe thead th {\n",
       "        text-align: right;\n",
       "    }\n",
       "</style>\n",
       "<table border=\"1\" class=\"dataframe\">\n",
       "  <thead>\n",
       "    <tr style=\"text-align: right;\">\n",
       "      <th></th>\n",
       "      <th>DBN</th>\n",
       "      <th>year</th>\n",
       "      <th>Q1_cultural_org</th>\n",
       "      <th>Q1_education_assoc</th>\n",
       "      <th>Q1_grants</th>\n",
       "      <th>Q1_local_business</th>\n",
       "      <th>Q1_private_foundation</th>\n",
       "      <th>Q1_PTA_PA</th>\n",
       "      <th>Q1_arts_council</th>\n",
       "      <th>Q2_abundant</th>\n",
       "      <th>Q2_sufficient</th>\n",
       "      <th>Q2_insufficient</th>\n",
       "      <th>Q2_na</th>\n",
       "      <th>Q3_increased</th>\n",
       "      <th>Q3_decreased</th>\n",
       "      <th>Q3_same</th>\n",
       "    </tr>\n",
       "  </thead>\n",
       "  <tbody>\n",
       "    <tr>\n",
       "      <td>0</td>\n",
       "      <td>01M015</td>\n",
       "      <td>2019</td>\n",
       "      <td>1</td>\n",
       "      <td>0</td>\n",
       "      <td>0</td>\n",
       "      <td>1</td>\n",
       "      <td>1</td>\n",
       "      <td>0</td>\n",
       "      <td>0</td>\n",
       "      <td>0</td>\n",
       "      <td>0</td>\n",
       "      <td>1</td>\n",
       "      <td>0</td>\n",
       "      <td>0</td>\n",
       "      <td>1</td>\n",
       "      <td>0</td>\n",
       "    </tr>\n",
       "    <tr>\n",
       "      <td>1</td>\n",
       "      <td>01M019</td>\n",
       "      <td>2019</td>\n",
       "      <td>1</td>\n",
       "      <td>0</td>\n",
       "      <td>0</td>\n",
       "      <td>0</td>\n",
       "      <td>0</td>\n",
       "      <td>0</td>\n",
       "      <td>0</td>\n",
       "      <td>0</td>\n",
       "      <td>0</td>\n",
       "      <td>1</td>\n",
       "      <td>0</td>\n",
       "      <td>0</td>\n",
       "      <td>0</td>\n",
       "      <td>1</td>\n",
       "    </tr>\n",
       "    <tr>\n",
       "      <td>2</td>\n",
       "      <td>01M020</td>\n",
       "      <td>2019</td>\n",
       "      <td>0</td>\n",
       "      <td>0</td>\n",
       "      <td>0</td>\n",
       "      <td>0</td>\n",
       "      <td>1</td>\n",
       "      <td>1</td>\n",
       "      <td>0</td>\n",
       "      <td>0</td>\n",
       "      <td>0</td>\n",
       "      <td>1</td>\n",
       "      <td>0</td>\n",
       "      <td>0</td>\n",
       "      <td>1</td>\n",
       "      <td>0</td>\n",
       "    </tr>\n",
       "    <tr>\n",
       "      <td>3</td>\n",
       "      <td>01M034</td>\n",
       "      <td>2019</td>\n",
       "      <td>1</td>\n",
       "      <td>0</td>\n",
       "      <td>0</td>\n",
       "      <td>0</td>\n",
       "      <td>0</td>\n",
       "      <td>0</td>\n",
       "      <td>0</td>\n",
       "      <td>0</td>\n",
       "      <td>0</td>\n",
       "      <td>1</td>\n",
       "      <td>0</td>\n",
       "      <td>0</td>\n",
       "      <td>1</td>\n",
       "      <td>0</td>\n",
       "    </tr>\n",
       "    <tr>\n",
       "      <td>4</td>\n",
       "      <td>01M063</td>\n",
       "      <td>2019</td>\n",
       "      <td>0</td>\n",
       "      <td>0</td>\n",
       "      <td>1</td>\n",
       "      <td>0</td>\n",
       "      <td>0</td>\n",
       "      <td>1</td>\n",
       "      <td>0</td>\n",
       "      <td>0</td>\n",
       "      <td>0</td>\n",
       "      <td>1</td>\n",
       "      <td>0</td>\n",
       "      <td>0</td>\n",
       "      <td>1</td>\n",
       "      <td>0</td>\n",
       "    </tr>\n",
       "  </tbody>\n",
       "</table>\n",
       "</div>"
      ],
      "text/plain": [
       "      DBN  year  Q1_cultural_org  Q1_education_assoc  Q1_grants  \\\n",
       "0  01M015  2019                1                   0          0   \n",
       "1  01M019  2019                1                   0          0   \n",
       "2  01M020  2019                0                   0          0   \n",
       "3  01M034  2019                1                   0          0   \n",
       "4  01M063  2019                0                   0          1   \n",
       "\n",
       "   Q1_local_business  Q1_private_foundation  Q1_PTA_PA  Q1_arts_council  \\\n",
       "0                  1                      1          0                0   \n",
       "1                  0                      0          0                0   \n",
       "2                  0                      1          1                0   \n",
       "3                  0                      0          0                0   \n",
       "4                  0                      0          1                0   \n",
       "\n",
       "   Q2_abundant  Q2_sufficient  Q2_insufficient  Q2_na  Q3_increased  \\\n",
       "0            0              0                1      0             0   \n",
       "1            0              0                1      0             0   \n",
       "2            0              0                1      0             0   \n",
       "3            0              0                1      0             0   \n",
       "4            0              0                1      0             0   \n",
       "\n",
       "   Q3_decreased  Q3_same  \n",
       "0             1        0  \n",
       "1             0        1  \n",
       "2             1        0  \n",
       "3             1        0  \n",
       "4             1        0  "
      ]
     },
     "execution_count": 136,
     "metadata": {},
     "output_type": "execute_result"
    }
   ],
   "source": [
    "# Rename columns\n",
    "\n",
    "funding_2018_2019 = funding_2018_2019.rename(columns={'Q0_DBN': 'DBN',\n",
    "                                                      'Year': 'year',\n",
    "                                    ' Q32_R1_C1': 'Q1_cultural_org',\n",
    "                                    ' Q32_R2_C1': 'Q1_education_assoc',\n",
    "                                    ' Q32_R3_C1': 'Q1_grants', \n",
    "                                    ' Q32_R4_C1': 'Q1_local_business',\n",
    "                                    ' Q32_R5_C1': 'Q1_private_foundation', \n",
    "                                    ' Q32_R6_C1': 'Q1_PTA_PA',\n",
    "                                    ' Q32_R7_C1': 'Q1_arts_council', \n",
    "                                    'Q33_1': 'Q2_abundant', 'Q33_2': 'Q2_sufficient', \n",
    "                                    'Q33_3': 'Q2_insufficient', 'Q33_4': 'Q2_na', \n",
    "                                    'Q34_1': 'Q3_increased', 'Q34_2': 'Q3_decreased','Q34_3':'Q3_same'})\n",
    "funding_2018_2019.head()"
   ]
  },
  {
   "cell_type": "code",
   "execution_count": 137,
   "metadata": {},
   "outputs": [],
   "source": [
    "# Merge dataframes to continue the cleaning process\n",
    "\n",
    "funding_df = funding_2016_2017.append([funding_2017_2018, funding_2018_2019])"
   ]
  },
  {
   "cell_type": "code",
   "execution_count": 138,
   "metadata": {},
   "outputs": [
    {
     "data": {
      "text/html": [
       "<div>\n",
       "<style scoped>\n",
       "    .dataframe tbody tr th:only-of-type {\n",
       "        vertical-align: middle;\n",
       "    }\n",
       "\n",
       "    .dataframe tbody tr th {\n",
       "        vertical-align: top;\n",
       "    }\n",
       "\n",
       "    .dataframe thead th {\n",
       "        text-align: right;\n",
       "    }\n",
       "</style>\n",
       "<table border=\"1\" class=\"dataframe\">\n",
       "  <thead>\n",
       "    <tr style=\"text-align: right;\">\n",
       "      <th></th>\n",
       "      <th>DBN</th>\n",
       "      <th>year</th>\n",
       "      <th>Q1_funding_sources</th>\n",
       "      <th>Q2_label</th>\n",
       "      <th>Q3_label</th>\n",
       "    </tr>\n",
       "  </thead>\n",
       "  <tbody>\n",
       "    <tr>\n",
       "      <td>0</td>\n",
       "      <td>01M015</td>\n",
       "      <td>2017</td>\n",
       "      <td>5</td>\n",
       "      <td>insufficient</td>\n",
       "      <td>same</td>\n",
       "    </tr>\n",
       "    <tr>\n",
       "      <td>1</td>\n",
       "      <td>01M019</td>\n",
       "      <td>2017</td>\n",
       "      <td>0</td>\n",
       "      <td>insufficient</td>\n",
       "      <td>same</td>\n",
       "    </tr>\n",
       "    <tr>\n",
       "      <td>2</td>\n",
       "      <td>01M020</td>\n",
       "      <td>2017</td>\n",
       "      <td>2</td>\n",
       "      <td>insufficient</td>\n",
       "      <td>decreased</td>\n",
       "    </tr>\n",
       "    <tr>\n",
       "      <td>3</td>\n",
       "      <td>01M034</td>\n",
       "      <td>2017</td>\n",
       "      <td>0</td>\n",
       "      <td>insufficient</td>\n",
       "      <td>decreased</td>\n",
       "    </tr>\n",
       "    <tr>\n",
       "      <td>4</td>\n",
       "      <td>01M515</td>\n",
       "      <td>2017</td>\n",
       "      <td>2</td>\n",
       "      <td>insufficient</td>\n",
       "      <td>decreased</td>\n",
       "    </tr>\n",
       "  </tbody>\n",
       "</table>\n",
       "</div>"
      ],
      "text/plain": [
       "      DBN  year  Q1_funding_sources      Q2_label   Q3_label\n",
       "0  01M015  2017                   5  insufficient       same\n",
       "1  01M019  2017                   0  insufficient       same\n",
       "2  01M020  2017                   2  insufficient  decreased\n",
       "3  01M034  2017                   0  insufficient  decreased\n",
       "4  01M515  2017                   2  insufficient  decreased"
      ]
     },
     "execution_count": 138,
     "metadata": {},
     "output_type": "execute_result"
    }
   ],
   "source": [
    "# count number of funding sources for Q1\n",
    "\n",
    "funding_df['Q1_funding_sources'] = funding_df['Q1_cultural_org'] + funding_df['Q1_education_assoc'] + funding_df['Q1_grants'] + funding_df['Q1_local_business'] + funding_df['Q1_private_foundation'] + funding_df['Q1_PTA_PA'] + funding_df['Q1_arts_council']\n",
    "\n",
    "# set labels for Q2\n",
    "q2_cond1 = (funding_df['Q2_abundant'] == 1)\n",
    "funding_df.loc[q2_cond1, 'Q2_label'] = 'abundant'\n",
    "\n",
    "q2_cond2 = (funding_df['Q2_sufficient'] == 1)\n",
    "funding_df.loc[q2_cond2, 'Q2_label'] = 'sufficient'\n",
    "\n",
    "q2_cond3 = (funding_df['Q2_insufficient'] == 1)\n",
    "funding_df.loc[q2_cond3, 'Q2_label'] = 'insufficient'\n",
    "\n",
    "q2_cond4 = (funding_df['Q2_na'] == 1)\n",
    "funding_df.loc[q2_cond4, 'Q2_label'] = 'na'\n",
    "\n",
    "\n",
    "# set labels for Q3\n",
    "q3_cond1 = (funding_df['Q3_increased'] == 1)\n",
    "funding_df.loc[q3_cond1, 'Q3_label'] = 'increased'\n",
    "\n",
    "q3_cond2 = (funding_df['Q3_decreased'] == 1)\n",
    "funding_df.loc[q3_cond2, 'Q3_label'] = 'decreased'\n",
    "\n",
    "q3_cond3 = (funding_df['Q3_same'] == 1)\n",
    "funding_df.loc[q3_cond3, 'Q3_label'] = 'same'\n",
    "\n",
    "funding_df = funding_df[['DBN', 'year', 'Q1_funding_sources', 'Q2_label', 'Q3_label',\n",
    "        'Q1_cultural_org', 'Q1_education_assoc', 'Q1_grants',\n",
    "       'Q1_local_business', 'Q1_private_foundation', 'Q1_PTA_PA',\n",
    "       'Q1_arts_council', 'Q2_abundant', 'Q2_sufficient', 'Q2_insufficient',\n",
    "       'Q2_na', 'Q3_increased', 'Q3_decreased', 'Q3_same']]\n",
    "\n",
    "# create smaller df with columns of interest\n",
    "\n",
    "funding_analysis_df = funding_df[['DBN', 'year', 'Q1_funding_sources', 'Q2_label', 'Q3_label']]\n",
    "\n",
    "funding_analysis_df.head()"
   ]
  },
  {
   "cell_type": "markdown",
   "metadata": {},
   "source": [
    "### Explore Data"
   ]
  },
  {
   "cell_type": "code",
   "execution_count": 139,
   "metadata": {},
   "outputs": [
    {
     "data": {
      "text/html": [
       "<div>\n",
       "<style scoped>\n",
       "    .dataframe tbody tr th:only-of-type {\n",
       "        vertical-align: middle;\n",
       "    }\n",
       "\n",
       "    .dataframe tbody tr th {\n",
       "        vertical-align: top;\n",
       "    }\n",
       "\n",
       "    .dataframe thead th {\n",
       "        text-align: right;\n",
       "    }\n",
       "</style>\n",
       "<table border=\"1\" class=\"dataframe\">\n",
       "  <thead>\n",
       "    <tr style=\"text-align: right;\">\n",
       "      <th></th>\n",
       "      <th>Q2_label</th>\n",
       "      <th>Q3_label</th>\n",
       "      <th>year</th>\n",
       "      <th>Q1_funding_sources</th>\n",
       "    </tr>\n",
       "  </thead>\n",
       "  <tbody>\n",
       "    <tr>\n",
       "      <td>0</td>\n",
       "      <td>abundant</td>\n",
       "      <td>decreased</td>\n",
       "      <td>2017</td>\n",
       "      <td>2.000000</td>\n",
       "    </tr>\n",
       "    <tr>\n",
       "      <td>1</td>\n",
       "      <td>abundant</td>\n",
       "      <td>increased</td>\n",
       "      <td>2017</td>\n",
       "      <td>2.266667</td>\n",
       "    </tr>\n",
       "    <tr>\n",
       "      <td>2</td>\n",
       "      <td>abundant</td>\n",
       "      <td>increased</td>\n",
       "      <td>2018</td>\n",
       "      <td>2.052632</td>\n",
       "    </tr>\n",
       "    <tr>\n",
       "      <td>3</td>\n",
       "      <td>abundant</td>\n",
       "      <td>increased</td>\n",
       "      <td>2019</td>\n",
       "      <td>2.285714</td>\n",
       "    </tr>\n",
       "    <tr>\n",
       "      <td>4</td>\n",
       "      <td>abundant</td>\n",
       "      <td>same</td>\n",
       "      <td>2017</td>\n",
       "      <td>1.818182</td>\n",
       "    </tr>\n",
       "    <tr>\n",
       "      <td>5</td>\n",
       "      <td>abundant</td>\n",
       "      <td>same</td>\n",
       "      <td>2018</td>\n",
       "      <td>1.444444</td>\n",
       "    </tr>\n",
       "    <tr>\n",
       "      <td>6</td>\n",
       "      <td>abundant</td>\n",
       "      <td>same</td>\n",
       "      <td>2019</td>\n",
       "      <td>1.235294</td>\n",
       "    </tr>\n",
       "    <tr>\n",
       "      <td>7</td>\n",
       "      <td>insufficient</td>\n",
       "      <td>decreased</td>\n",
       "      <td>2017</td>\n",
       "      <td>1.428994</td>\n",
       "    </tr>\n",
       "    <tr>\n",
       "      <td>8</td>\n",
       "      <td>insufficient</td>\n",
       "      <td>decreased</td>\n",
       "      <td>2018</td>\n",
       "      <td>1.481481</td>\n",
       "    </tr>\n",
       "    <tr>\n",
       "      <td>9</td>\n",
       "      <td>insufficient</td>\n",
       "      <td>decreased</td>\n",
       "      <td>2019</td>\n",
       "      <td>1.464819</td>\n",
       "    </tr>\n",
       "    <tr>\n",
       "      <td>10</td>\n",
       "      <td>insufficient</td>\n",
       "      <td>increased</td>\n",
       "      <td>2017</td>\n",
       "      <td>1.766129</td>\n",
       "    </tr>\n",
       "    <tr>\n",
       "      <td>11</td>\n",
       "      <td>insufficient</td>\n",
       "      <td>increased</td>\n",
       "      <td>2018</td>\n",
       "      <td>1.736364</td>\n",
       "    </tr>\n",
       "    <tr>\n",
       "      <td>12</td>\n",
       "      <td>insufficient</td>\n",
       "      <td>increased</td>\n",
       "      <td>2019</td>\n",
       "      <td>1.924731</td>\n",
       "    </tr>\n",
       "    <tr>\n",
       "      <td>13</td>\n",
       "      <td>insufficient</td>\n",
       "      <td>same</td>\n",
       "      <td>2017</td>\n",
       "      <td>1.379747</td>\n",
       "    </tr>\n",
       "    <tr>\n",
       "      <td>14</td>\n",
       "      <td>insufficient</td>\n",
       "      <td>same</td>\n",
       "      <td>2018</td>\n",
       "      <td>1.429856</td>\n",
       "    </tr>\n",
       "    <tr>\n",
       "      <td>15</td>\n",
       "      <td>insufficient</td>\n",
       "      <td>same</td>\n",
       "      <td>2019</td>\n",
       "      <td>1.427984</td>\n",
       "    </tr>\n",
       "    <tr>\n",
       "      <td>16</td>\n",
       "      <td>na</td>\n",
       "      <td>decreased</td>\n",
       "      <td>2017</td>\n",
       "      <td>0.333333</td>\n",
       "    </tr>\n",
       "    <tr>\n",
       "      <td>17</td>\n",
       "      <td>na</td>\n",
       "      <td>decreased</td>\n",
       "      <td>2018</td>\n",
       "      <td>0.000000</td>\n",
       "    </tr>\n",
       "    <tr>\n",
       "      <td>18</td>\n",
       "      <td>na</td>\n",
       "      <td>decreased</td>\n",
       "      <td>2019</td>\n",
       "      <td>0.000000</td>\n",
       "    </tr>\n",
       "    <tr>\n",
       "      <td>19</td>\n",
       "      <td>na</td>\n",
       "      <td>increased</td>\n",
       "      <td>2017</td>\n",
       "      <td>1.500000</td>\n",
       "    </tr>\n",
       "    <tr>\n",
       "      <td>20</td>\n",
       "      <td>na</td>\n",
       "      <td>increased</td>\n",
       "      <td>2018</td>\n",
       "      <td>7.000000</td>\n",
       "    </tr>\n",
       "    <tr>\n",
       "      <td>21</td>\n",
       "      <td>na</td>\n",
       "      <td>increased</td>\n",
       "      <td>2019</td>\n",
       "      <td>1.000000</td>\n",
       "    </tr>\n",
       "    <tr>\n",
       "      <td>22</td>\n",
       "      <td>na</td>\n",
       "      <td>same</td>\n",
       "      <td>2017</td>\n",
       "      <td>0.782609</td>\n",
       "    </tr>\n",
       "    <tr>\n",
       "      <td>23</td>\n",
       "      <td>na</td>\n",
       "      <td>same</td>\n",
       "      <td>2018</td>\n",
       "      <td>0.380952</td>\n",
       "    </tr>\n",
       "    <tr>\n",
       "      <td>24</td>\n",
       "      <td>na</td>\n",
       "      <td>same</td>\n",
       "      <td>2019</td>\n",
       "      <td>0.473684</td>\n",
       "    </tr>\n",
       "    <tr>\n",
       "      <td>25</td>\n",
       "      <td>sufficient</td>\n",
       "      <td>decreased</td>\n",
       "      <td>2017</td>\n",
       "      <td>1.000000</td>\n",
       "    </tr>\n",
       "    <tr>\n",
       "      <td>26</td>\n",
       "      <td>sufficient</td>\n",
       "      <td>decreased</td>\n",
       "      <td>2018</td>\n",
       "      <td>2.205128</td>\n",
       "    </tr>\n",
       "    <tr>\n",
       "      <td>27</td>\n",
       "      <td>sufficient</td>\n",
       "      <td>decreased</td>\n",
       "      <td>2019</td>\n",
       "      <td>1.875000</td>\n",
       "    </tr>\n",
       "    <tr>\n",
       "      <td>28</td>\n",
       "      <td>sufficient</td>\n",
       "      <td>increased</td>\n",
       "      <td>2017</td>\n",
       "      <td>2.025000</td>\n",
       "    </tr>\n",
       "    <tr>\n",
       "      <td>29</td>\n",
       "      <td>sufficient</td>\n",
       "      <td>increased</td>\n",
       "      <td>2018</td>\n",
       "      <td>1.947826</td>\n",
       "    </tr>\n",
       "    <tr>\n",
       "      <td>30</td>\n",
       "      <td>sufficient</td>\n",
       "      <td>increased</td>\n",
       "      <td>2019</td>\n",
       "      <td>2.048780</td>\n",
       "    </tr>\n",
       "    <tr>\n",
       "      <td>31</td>\n",
       "      <td>sufficient</td>\n",
       "      <td>same</td>\n",
       "      <td>2017</td>\n",
       "      <td>1.371901</td>\n",
       "    </tr>\n",
       "    <tr>\n",
       "      <td>32</td>\n",
       "      <td>sufficient</td>\n",
       "      <td>same</td>\n",
       "      <td>2018</td>\n",
       "      <td>1.476562</td>\n",
       "    </tr>\n",
       "    <tr>\n",
       "      <td>33</td>\n",
       "      <td>sufficient</td>\n",
       "      <td>same</td>\n",
       "      <td>2019</td>\n",
       "      <td>1.506993</td>\n",
       "    </tr>\n",
       "  </tbody>\n",
       "</table>\n",
       "</div>"
      ],
      "text/plain": [
       "        Q2_label   Q3_label  year  Q1_funding_sources\n",
       "0       abundant  decreased  2017            2.000000\n",
       "1       abundant  increased  2017            2.266667\n",
       "2       abundant  increased  2018            2.052632\n",
       "3       abundant  increased  2019            2.285714\n",
       "4       abundant       same  2017            1.818182\n",
       "5       abundant       same  2018            1.444444\n",
       "6       abundant       same  2019            1.235294\n",
       "7   insufficient  decreased  2017            1.428994\n",
       "8   insufficient  decreased  2018            1.481481\n",
       "9   insufficient  decreased  2019            1.464819\n",
       "10  insufficient  increased  2017            1.766129\n",
       "11  insufficient  increased  2018            1.736364\n",
       "12  insufficient  increased  2019            1.924731\n",
       "13  insufficient       same  2017            1.379747\n",
       "14  insufficient       same  2018            1.429856\n",
       "15  insufficient       same  2019            1.427984\n",
       "16            na  decreased  2017            0.333333\n",
       "17            na  decreased  2018            0.000000\n",
       "18            na  decreased  2019            0.000000\n",
       "19            na  increased  2017            1.500000\n",
       "20            na  increased  2018            7.000000\n",
       "21            na  increased  2019            1.000000\n",
       "22            na       same  2017            0.782609\n",
       "23            na       same  2018            0.380952\n",
       "24            na       same  2019            0.473684\n",
       "25    sufficient  decreased  2017            1.000000\n",
       "26    sufficient  decreased  2018            2.205128\n",
       "27    sufficient  decreased  2019            1.875000\n",
       "28    sufficient  increased  2017            2.025000\n",
       "29    sufficient  increased  2018            1.947826\n",
       "30    sufficient  increased  2019            2.048780\n",
       "31    sufficient       same  2017            1.371901\n",
       "32    sufficient       same  2018            1.476562\n",
       "33    sufficient       same  2019            1.506993"
      ]
     },
     "execution_count": 139,
     "metadata": {},
     "output_type": "execute_result"
    }
   ],
   "source": [
    "# Note: we may want to use dummy coding when doing analyses like correlation and regression\n",
    "\n",
    "# Q1: Type of funding sources by DBN\n",
    "# Q1: Number of funding sources reported by DBN\n",
    "\n",
    "funding_analysis_df.sort_values(by='Q1_funding_sources').head(20)\n",
    "\n",
    "# Q2: Funding rating (abundant, sufficient, insufficient, N/A)\n",
    "\n",
    "funding_analysis_df.groupby(['Q2_label', 'year']).mean().reset_index()\n",
    "\n",
    "#Q3: Increase/decrease/no change in funding\n",
    "\n",
    "funding_analysis_df.groupby(['Q3_label', 'year']).mean().reset_index()\n",
    "\n",
    "\n",
    "# Group by all three questions to create \"types\"\n",
    "funding_analysis_df.groupby(['Q2_label', 'Q3_label', 'year']).mean().reset_index()"
   ]
  },
  {
   "cell_type": "code",
   "execution_count": 140,
   "metadata": {},
   "outputs": [],
   "source": [
    "# funding_analysis_df.groupby(['DBN', 'year', 'Q2_label', 'Q3_label']).mean()"
   ]
  },
  {
   "cell_type": "markdown",
   "metadata": {},
   "source": [
    "## Dataset 2: ELA and Math Data"
   ]
  },
  {
   "cell_type": "markdown",
   "metadata": {},
   "source": [
    "### API"
   ]
  },
  {
   "cell_type": "code",
   "execution_count": 141,
   "metadata": {
    "scrolled": true
   },
   "outputs": [],
   "source": [
    "# # define API URLs\n",
    "# math_url = 'https://data.cityofnewyork.us/resource/m27t-ht3h.json'\n",
    "# ela_url = 'https://data.cityofnewyork.us/resource/qkpp-pbi8.json'"
   ]
  },
  {
   "cell_type": "code",
   "execution_count": 142,
   "metadata": {
    "scrolled": true
   },
   "outputs": [],
   "source": [
    "# # retrieve 2013-2018 School Math Results\n",
    "# math_results = requests.get(math_url).json()\n",
    "\n",
    "# math_df = pd.DataFrame(math_results)\n",
    "# math_df.head()\n",
    "# print(f'Math Results Rows: {len(math_df)}')\n",
    "# print(list(math_df.columns))"
   ]
  },
  {
   "cell_type": "code",
   "execution_count": 143,
   "metadata": {
    "scrolled": true
   },
   "outputs": [],
   "source": [
    "# # retrieve 2013-2018 School ELA Results\n",
    "# ela_results = requests.get(ela_url).json()\n",
    "\n",
    "# ela_df = pd.DataFrame(ela_results)\n",
    "# ela_df.head()\n",
    "# print(f'ELA Results Rows: {len(ela_df)}')\n",
    "# print(list(ela_df.columns))\n",
    "# print(ela_df['year'].unique())"
   ]
  },
  {
   "cell_type": "code",
   "execution_count": 63,
   "metadata": {},
   "outputs": [],
   "source": [
    "# can use .csvs because API is not up-to-date\n",
    "ela_df = pd.read_csv('2013-2019_school_ela_results.csv', low_memory=False)\n",
    "math_df = pd.read_csv('2013-2019_school_math_results.csv', low_memory=False)\n",
    "\n",
    "\n",
    "#rename the columns to match the API data\n",
    "math_df = math_df.rename(columns = {\n",
    "                'Unnamed: 0': 'Unnamed',\n",
    "                'School Name':'school_name', \n",
    "                'Grade': 'grade', \n",
    "                'Year': 'year', \n",
    "                'Category': 'category',\n",
    "                'Number Tested': 'number_tested', \n",
    "                'Mean Scale Score': 'mean_scale_score', \n",
    "                '# Level 1': 'level_1', \n",
    "                '% Level 1': 'level_1_1',\n",
    "                '# Level 2': 'level_2',\n",
    "                '% Level 2': 'level_2_1',\n",
    "                '# Level 3': 'level_3',\n",
    "                '% Level 3': 'level_3_1',\n",
    "                '# Level 4': 'level_4',\n",
    "                '% Level 4': 'level_4_1',\n",
    "                '# Level 3+4':'level_3_4',\n",
    "                '% Level 3+4':'level_3_4_1'})\n",
    "\n",
    "ela_df = ela_df.rename(columns = {\n",
    "                'Unnamed: 0': 'Unnamed',\n",
    "                'School Name':'school_name', \n",
    "                'Grade': 'grade', \n",
    "                'Year': 'year', \n",
    "                'Category': 'category',\n",
    "                'Number Tested': 'number_tested', \n",
    "                'Mean Scale Score': 'mean_scale_score', \n",
    "                '# Level 1': 'level_1', \n",
    "                '% Level 1': 'level_1_1',\n",
    "                '# Level 2': 'level_2',\n",
    "                '% Level 2': 'level_2_1',\n",
    "                '# Level 3': 'level_3',\n",
    "                '% Level 3': 'level_3_1',\n",
    "                '# Level 4': 'level_4',\n",
    "                '% Level 4': 'level_4_1',\n",
    "                '# Level 3+4':'level_3_4',\n",
    "                '% Level 3+4':'level_3_4_1'})"
   ]
  },
  {
   "cell_type": "markdown",
   "metadata": {},
   "source": [
    "## Clean/Explore Dataset 2"
   ]
  },
  {
   "cell_type": "code",
   "execution_count": 64,
   "metadata": {},
   "outputs": [],
   "source": [
    "# Get rid of 'All Grades' rows as they aggreate the other rows\n",
    "math_df = math_df[math_df['grade'] == 'All Grades']\n",
    "ela_df = ela_df[ela_df['grade'] == 'All Grades']\n",
    "\n",
    "# convert columns to numeric\n",
    "cols = ['number_tested', 'mean_scale_score', 'level_1', 'level_1_1', 'level_2', 'level_2_1', 'level_3', 'level_3_1', 'level_4', 'level_4_1', 'level_3_4', 'level_3_4_1']\n",
    "math_df[cols] = math_df[cols].apply(pd.to_numeric, errors='coerce')\n",
    "\n",
    "# convert columns to numeric\n",
    "cols = ['number_tested', 'mean_scale_score', 'level_1', 'level_1_1', 'level_2', 'level_2_1', 'level_3', 'level_3_1', 'level_4', 'level_4_1', 'level_3_4', 'level_3_4_1']\n",
    "ela_df[cols] = ela_df[cols].apply(pd.to_numeric, errors='coerce')"
   ]
  },
  {
   "cell_type": "code",
   "execution_count": 65,
   "metadata": {
    "scrolled": true
   },
   "outputs": [],
   "source": [
    "# ela_funding = pd.merge(funding_analysis_df, ela_df, on = 'DBN')\n",
    "# math_funding = pd.merge(funding_analysis_df, math_df, on = 'DBN')\n",
    "\n",
    "ela_funding = funding_analysis_df.merge(ela_df, how='inner', left_on=[\"DBN\", \"year\"], right_on=[\"DBN\", \"year\"])\n",
    "math_funding = funding_analysis_df.merge(math_df, how='inner', left_on=[\"DBN\", \"year\"], right_on=[\"DBN\", \"year\"])\n",
    "\n",
    "# need to drop the NAs in order to run the tests\n",
    "ela_funding = ela_funding.dropna()\n",
    "math_funding = math_funding.dropna()\n",
    "\n",
    "ela_funding.to_csv('ela_funding.csv')\n",
    "math_funding.to_csv('math_funding.csv')"
   ]
  },
  {
   "cell_type": "code",
   "execution_count": 66,
   "metadata": {},
   "outputs": [],
   "source": [
    "# grab pass rate data \n",
    "ela_pass_rate_df = ela_funding[['DBN', 'year', 'Q1_funding_sources', 'Q2_label', 'Q3_label',\n",
    "       'school_name', 'grade', 'category', 'number_tested','level_3_4',\n",
    "       'level_3_4_1']]\n",
    "math_pass_rate_df = math_funding[['DBN', 'year', 'Q1_funding_sources', 'Q2_label', 'Q3_label',\n",
    "       'school_name', 'grade','category', 'number_tested','level_3_4',\n",
    "       'level_3_4_1']]"
   ]
  },
  {
   "cell_type": "code",
   "execution_count": 67,
   "metadata": {},
   "outputs": [],
   "source": [
    "ela_pass_rate_df.to_csv('ela_pass_rate_df.csv')\n",
    "math_pass_rate_df.to_csv('math_pass_rate_df.csv')"
   ]
  },
  {
   "cell_type": "markdown",
   "metadata": {},
   "source": [
    "## Analysis\n",
    "\n",
    "**Note:** I performed all calculations for each year separately and got similar results, so I will collapse over the three years."
   ]
  },
  {
   "cell_type": "markdown",
   "metadata": {},
   "source": [
    "### Descriptives"
   ]
  },
  {
   "cell_type": "code",
   "execution_count": 68,
   "metadata": {},
   "outputs": [],
   "source": [
    "# number of schools in both datasets\n",
    "ela_sample_size = len(ela_pass_rate_df['DBN'].unique())\n",
    "math_sample_size = len(math_pass_rate_df['DBN'].unique())\n",
    "\n",
    "# # average overall pass rate\n",
    "ela_pass_rate = ela_pass_rate_df['level_3_4_1'].mean()\n",
    "math_pass_rate = math_pass_rate_df['level_3_4_1'].mean()"
   ]
  },
  {
   "cell_type": "code",
   "execution_count": 69,
   "metadata": {},
   "outputs": [
    {
     "data": {
      "text/html": [
       "<div>\n",
       "<style scoped>\n",
       "    .dataframe tbody tr th:only-of-type {\n",
       "        vertical-align: middle;\n",
       "    }\n",
       "\n",
       "    .dataframe tbody tr th {\n",
       "        vertical-align: top;\n",
       "    }\n",
       "\n",
       "    .dataframe thead th {\n",
       "        text-align: right;\n",
       "    }\n",
       "</style>\n",
       "<table border=\"1\" class=\"dataframe\">\n",
       "  <thead>\n",
       "    <tr style=\"text-align: right;\">\n",
       "      <th></th>\n",
       "      <th>Total Schools in Sample</th>\n",
       "      <th>ELA Pass Rate</th>\n",
       "      <th>Math Pass Rate</th>\n",
       "    </tr>\n",
       "  </thead>\n",
       "  <tbody>\n",
       "    <tr>\n",
       "      <td>0</td>\n",
       "      <td>1114</td>\n",
       "      <td>44.12</td>\n",
       "      <td>41.55</td>\n",
       "    </tr>\n",
       "  </tbody>\n",
       "</table>\n",
       "</div>"
      ],
      "text/plain": [
       "   Total Schools in Sample  ELA Pass Rate  Math Pass Rate\n",
       "0                     1114          44.12           41.55"
      ]
     },
     "execution_count": 69,
     "metadata": {},
     "output_type": "execute_result"
    }
   ],
   "source": [
    "# Data Summary table:\n",
    "funding_summary = pd.DataFrame({\n",
    "                                'Total Schools in Sample': [ela_sample_size],  # same # in math and ELA sample\n",
    "                                'ELA Pass Rate': [round(ela_pass_rate, 2)],\n",
    "                                'Math Pass Rate': [round(math_pass_rate, 2)]})\n",
    "funding_summary"
   ]
  },
  {
   "cell_type": "code",
   "execution_count": 100,
   "metadata": {},
   "outputs": [
    {
     "name": "stdout",
     "output_type": "stream",
     "text": [
      "The r-squared value is: 0.85\n"
     ]
    },
    {
     "data": {
      "image/png": "[encoded data removed]",
      "text/plain": [
       "<Figure size 432x288 with 1 Axes>"
      ]
     },
     "metadata": {
      "needs_background": "light"
     },
     "output_type": "display_data"
    }
   ],
   "source": [
    "# Association between math and ELA scores\n",
    "\n",
    "ela_math_scores = ela_df.merge(math_df, how='inner', left_on=[\"DBN\", \"year\"], right_on=[\"DBN\", \"year\"])\n",
    "ela_math_scores = ela_math_scores.dropna()\n",
    "\n",
    "regression = stats.linregress(ela_math_scores['level_3_4_1_x'], ela_math_scores['level_3_4_1_y'])\n",
    "slope = regression[0]\n",
    "intercept = regression[1]\n",
    "x = ela_math_scores['level_3_4_1_x']\n",
    "y = slope * x + intercept\n",
    "rsq_value = round(regression[2]**2,2)\n",
    "\n",
    "plt.scatter(ela_math_scores['level_3_4_1_x'], ela_math_scores['level_3_4_1_y'], alpha = .2)\n",
    "plt.title('ELA and Math Performace: 2013-2019')\n",
    "plt.xlabel('ELA Pass Rate')\n",
    "plt.ylabel('Mah Pass Rate')\n",
    "plt.plot(x, y, color = 'r')\n",
    "line_eq = \"y = \" + str(round(slope,2)) + \"x + \" + str(round(intercept,2))\n",
    "plt.annotate(line_eq, (0,80), fontsize = 15, color = \"r\")\n",
    "print(f\"The r-squared value is: {rsq_value}\")\n",
    "plt.show()"
   ]
  },
  {
   "cell_type": "code",
   "execution_count": 99,
   "metadata": {
    "scrolled": true
   },
   "outputs": [
    {
     "data": {
      "text/html": [
       "<div>\n",
       "<style scoped>\n",
       "    .dataframe tbody tr th:only-of-type {\n",
       "        vertical-align: middle;\n",
       "    }\n",
       "\n",
       "    .dataframe tbody tr th {\n",
       "        vertical-align: top;\n",
       "    }\n",
       "\n",
       "    .dataframe thead th {\n",
       "        text-align: right;\n",
       "    }\n",
       "</style>\n",
       "<table border=\"1\" class=\"dataframe\">\n",
       "  <thead>\n",
       "    <tr style=\"text-align: right;\">\n",
       "      <th>Q3_label</th>\n",
       "      <th>decreased</th>\n",
       "      <th>increased</th>\n",
       "      <th>same</th>\n",
       "    </tr>\n",
       "    <tr>\n",
       "      <th>Q2_label</th>\n",
       "      <th></th>\n",
       "      <th></th>\n",
       "      <th></th>\n",
       "    </tr>\n",
       "  </thead>\n",
       "  <tbody>\n",
       "    <tr>\n",
       "      <td>abundant</td>\n",
       "      <td>1</td>\n",
       "      <td>17</td>\n",
       "      <td>19</td>\n",
       "    </tr>\n",
       "    <tr>\n",
       "      <td>insufficient</td>\n",
       "      <td>539</td>\n",
       "      <td>194</td>\n",
       "      <td>695</td>\n",
       "    </tr>\n",
       "    <tr>\n",
       "      <td>na</td>\n",
       "      <td>5</td>\n",
       "      <td>2</td>\n",
       "      <td>30</td>\n",
       "    </tr>\n",
       "    <tr>\n",
       "      <td>sufficient</td>\n",
       "      <td>70</td>\n",
       "      <td>169</td>\n",
       "      <td>314</td>\n",
       "    </tr>\n",
       "  </tbody>\n",
       "</table>\n",
       "</div>"
      ],
      "text/plain": [
       "Q3_label      decreased  increased  same\n",
       "Q2_label                                \n",
       "abundant              1         17    19\n",
       "insufficient        539        194   695\n",
       "na                    5          2    30\n",
       "sufficient           70        169   314"
      ]
     },
     "execution_count": 99,
     "metadata": {},
     "output_type": "execute_result"
    }
   ],
   "source": [
    "# How did schools report funding as a whole?\n",
    "\n",
    "ela_pass_rate_df.pivot_table(values = 'DBN', \n",
    "                             index = 'Q2_label', \n",
    "                             columns = 'Q3_label', \n",
    "                             aggfunc = lambda x: len(x.unique()))  # don't want count of the rows, want unique schools"
   ]
  },
  {
   "cell_type": "markdown",
   "metadata": {},
   "source": [
    "### Statistical Tests: Sufficient Funding\n",
    "\n",
    "We compared the ELA state test scores of schools who reported abundant (*N* = 32, *M* = 56), sufficient (*N* = 445, *M* = 46), insufficient (*N* = 961, *M* = 43), and N/A (*N* = 36, *M* = 56) funding for the arts. A one-way ANOVA revealed that schools with more arts  funding performed significantly better on the ELA state test than with poor funding, *F* = 12.96, *p* < .001. These results also held for the math state test, *F* = 12.78, *p* < .001. "
   ]
  },
  {
   "cell_type": "code",
   "execution_count": 24,
   "metadata": {},
   "outputs": [
    {
     "data": {
      "text/plain": [
       "F_onewayResult(statistic=12.962491319689265, pvalue=2.0564796607598634e-08)"
      ]
     },
     "execution_count": 24,
     "metadata": {},
     "output_type": "execute_result"
    }
   ],
   "source": [
    "# ELA\n",
    "\n",
    "# Is funding sufficient?\n",
    "\n",
    "# Measure 2: Sufficient/Insuffcient Funding\n",
    "ela_funding_abund = ela_pass_rate_df[ela_pass_rate_df['Q2_label'] == 'abundant']\n",
    "ela_funding_suff = ela_pass_rate_df[ela_pass_rate_df['Q2_label'] == 'sufficient']\n",
    "ela_funding_insuff = ela_pass_rate_df[ela_pass_rate_df['Q2_label'] == 'insufficient']\n",
    "ela_funding_na = ela_pass_rate_df[ela_pass_rate_df['Q2_label'] == 'na']\n",
    "\n",
    "#mean of each group\n",
    "ela_funding_abund_mean = np.mean(ela_funding_abund['level_3_4_1'])\n",
    "ela_funding_suff_mean = np.mean(ela_funding_suff['level_3_4_1'])\n",
    "ela_funding_insuff_mean = np.mean(ela_funding_insuff['level_3_4_1'])\n",
    "ela_funding_na_mean = np.mean(ela_funding_na['level_3_4_1'])\n",
    "\n",
    "\n",
    "# sample size of each group\n",
    "ela_funding_abund_samplesize = len(ela_funding_abund['DBN'].unique())\n",
    "ela_funding_suff_samplesize = len(ela_funding_suff['DBN'].unique())\n",
    "ela_funding_insuff_samplesize = len(ela_funding_insuff['DBN'].unique())\n",
    "ela_funding_na_samplesize = len(ela_funding_na['DBN'].unique())\n",
    "\n",
    "# ANOVA\n",
    "stats.f_oneway(ela_funding_abund['level_3_4_1'], \n",
    "               ela_funding_suff['level_3_4_1'], \n",
    "               ela_funding_insuff['level_3_4_1'],\n",
    "               ela_funding_na['level_3_4_1'])"
   ]
  },
  {
   "cell_type": "code",
   "execution_count": 25,
   "metadata": {},
   "outputs": [
    {
     "data": {
      "text/plain": [
       "F_onewayResult(statistic=12.7578805828191, pvalue=2.7640781009872767e-08)"
      ]
     },
     "execution_count": 25,
     "metadata": {},
     "output_type": "execute_result"
    }
   ],
   "source": [
    "# Math\n",
    "\n",
    "# Is funding sufficient?\n",
    "\n",
    "# Measure 2: Sufficient/Insuffcient Funding\n",
    "math_funding_abund = math_pass_rate_df[math_pass_rate_df['Q2_label'] == 'abundant']\n",
    "math_funding_suff = math_pass_rate_df[math_pass_rate_df['Q2_label'] == 'sufficient']\n",
    "math_funding_insuff = math_pass_rate_df[math_pass_rate_df['Q2_label'] == 'insufficient']\n",
    "math_funding_na = math_pass_rate_df[math_pass_rate_df['Q2_label'] == 'na']\n",
    "\n",
    "#mean of each group\n",
    "math_funding_abund_mean = np.mean(math_funding_abund['level_3_4_1'])\n",
    "math_funding_suff_mean = np.mean(math_funding_suff['level_3_4_1'])\n",
    "math_funding_insuff_mean = np.mean(math_funding_insuff['level_3_4_1'])\n",
    "math_funding_na_mean = np.mean(math_funding_na['level_3_4_1'])\n",
    "\n",
    "\n",
    "# sample size of each group\n",
    "math_funding_abund_samplesize = len(math_funding_abund['DBN'].unique())\n",
    "math_funding_suff_samplesize = len(math_funding_suff['DBN'].unique())\n",
    "math_funding_insuff_samplesize = len(math_funding_insuff['DBN'].unique())\n",
    "math_funding_na_samplesize = len(math_funding_na['DBN'].unique())\n",
    "\n",
    "# ANOVA\n",
    "stats.f_oneway(math_funding_abund['level_3_4_1'], \n",
    "               math_funding_suff['level_3_4_1'], \n",
    "               math_funding_insuff['level_3_4_1'],\n",
    "               math_funding_na['level_3_4_1'])"
   ]
  },
  {
   "cell_type": "code",
   "execution_count": 26,
   "metadata": {},
   "outputs": [
    {
     "name": "stdout",
     "output_type": "stream",
     "text": [
      "56.73196928346154\n",
      "46.36545977584798\n",
      "43.21025077370429\n",
      "37.39401049809524\n",
      "32\n",
      "445\n",
      "961\n",
      "36\n"
     ]
    },
    {
     "data": {
      "text/plain": [
       "insufficient    2266\n",
       "sufficient       750\n",
       "abundant          52\n",
       "na                42\n",
       "Name: Q2_label, dtype: int64"
      ]
     },
     "execution_count": 26,
     "metadata": {},
     "output_type": "execute_result"
    }
   ],
   "source": [
    "# Look at means and sample sizes (math and ELA are similar)\n",
    "\n",
    "print(ela_funding_abund_mean)\n",
    "print(ela_funding_suff_mean)\n",
    "print(ela_funding_insuff_mean)\n",
    "print(ela_funding_na_mean)\n",
    "print(ela_funding_abund_samplesize)   # number of schools, not number of observations\n",
    "print(ela_funding_suff_samplesize)\n",
    "print(ela_funding_insuff_samplesize)\n",
    "print(ela_funding_na_samplesize)\n",
    "\n",
    "# count of data points\n",
    "ela_pass_rate_df['Q2_label'].value_counts()   # schools gave data over multiple years"
   ]
  },
  {
   "cell_type": "code",
   "execution_count": 27,
   "metadata": {},
   "outputs": [
    {
     "data": {
      "image/png": "[encoded data removed]",
      "text/plain": [
       "<Figure size 432x288 with 1 Axes>"
      ]
     },
     "metadata": {
      "needs_background": "light"
     },
     "output_type": "display_data"
    },
    {
     "data": {
      "text/plain": [
       "<Figure size 432x288 with 0 Axes>"
      ]
     },
     "metadata": {},
     "output_type": "display_data"
    }
   ],
   "source": [
    "# Plot Math and ELA \n",
    "\n",
    "labels = ['Abundant', 'Sufficient', 'Insufficient', 'N/A']\n",
    "ela_means = [ela_funding_abund_mean, \n",
    "            ela_funding_suff_mean, \n",
    "            ela_funding_insuff_mean,\n",
    "            ela_funding_na_mean]\n",
    "math_means = [math_funding_abund_mean, \n",
    "              math_funding_suff_mean, \n",
    "              math_funding_insuff_mean,\n",
    "              math_funding_na_mean]\n",
    "\n",
    "x = np.arange(len(labels))  # the label locations\n",
    "width = .4  # the width of the bars\n",
    "\n",
    "fig, ax = plt.subplots()\n",
    "rects1 = ax.bar(x-width/2, ela_means, width, label='ELA')\n",
    "rects2 = ax.bar(x+width/2, math_means, width, label='Math')\n",
    "\n",
    "ax.set_xlabel('Funding Category')\n",
    "ax.set_ylabel('Pass Rate')\n",
    "ax.set_title('ELA and Math Pass Rate by Funding')\n",
    "ax.set_xticks(x)\n",
    "ax.set_xticklabels(labels)\n",
    "ax.legend()\n",
    "plt.ylim(0, 65)\n",
    "fig.tight_layout()\n",
    "\n",
    "# label the bars\n",
    "def autolabel(rects):\n",
    "    for rect in rects:\n",
    "        height = rect.get_height()\n",
    "        ax.text(rect.get_x() + rect.get_width()/2., 1.05*height,\n",
    "                '%d' % int(height),\n",
    "                ha='center', va='bottom')\n",
    "\n",
    "autolabel(rects1)\n",
    "autolabel(rects2)\n",
    "\n",
    "plt.show()\n",
    "\n",
    "plt.savefig('funding_category.png')"
   ]
  },
  {
   "cell_type": "markdown",
   "metadata": {},
   "source": [
    "### Statistical Tests: Increase/decrease in Funding\n",
    "\n",
    "We compared the ELA state test scores of schools who reported an increase (*N* = 344, *M* = 42.92), decrease (*N* = 590, *M* = 42.98), or no change (*N* = 901, *M* = 45.01) in funding for the arts. A one-way ANOVA revealed that schools with no change in funding performed significantly better on the ELA state test than those whose funding fluctuated, *F* = 4.20, *p* = .02. These results were not statistically signficant for math (*F* = 2.97, *p* = .051) but we do see the same trend."
   ]
  },
  {
   "cell_type": "code",
   "execution_count": 28,
   "metadata": {},
   "outputs": [
    {
     "data": {
      "text/plain": [
       "F_onewayResult(statistic=4.198227784965224, pvalue=0.015107480322003562)"
      ]
     },
     "execution_count": 28,
     "metadata": {},
     "output_type": "execute_result"
    }
   ],
   "source": [
    "# ELA\n",
    "\n",
    "# Measure 3: Funding increase/decrese from prevous school year\n",
    "\n",
    "# Measure 3: Sufficient/Insuffcient Funding\n",
    "ela_funding_incr = ela_pass_rate_df[ela_pass_rate_df['Q3_label'] == 'increased']\n",
    "ela_funding_decr = ela_pass_rate_df[ela_pass_rate_df['Q3_label'] == 'decreased']\n",
    "ela_funding_same = ela_pass_rate_df[ela_pass_rate_df['Q3_label'] == 'same']\n",
    "\n",
    "#mean of each group\n",
    "ela_funding_incr_mean = np.mean(ela_funding_incr['level_3_4_1'])\n",
    "ela_funding_decr_mean = np.mean(ela_funding_decr['level_3_4_1'])\n",
    "ela_funding_same_mean = np.mean(ela_funding_same['level_3_4_1'])\n",
    "\n",
    "# sample size of each group\n",
    "ela_funding_incr_samplesize = len(ela_funding_incr['DBN'].unique())\n",
    "ela_funding_decr_samplesize = len(ela_funding_decr['DBN'].unique())\n",
    "ela_funding_same_samplesize = len(ela_funding_same['DBN'].unique())\n",
    "\n",
    "# ANOVA\n",
    "stats.f_oneway(ela_funding_incr['level_3_4_1'], \n",
    "               ela_funding_decr['level_3_4_1'], \n",
    "               ela_funding_same['level_3_4_1']\n",
    "              )"
   ]
  },
  {
   "cell_type": "code",
   "execution_count": 93,
   "metadata": {},
   "outputs": [
    {
     "data": {
      "text/plain": [
       "F_onewayResult(statistic=2.9692813665661797, pvalue=0.05148594615208013)"
      ]
     },
     "execution_count": 93,
     "metadata": {},
     "output_type": "execute_result"
    }
   ],
   "source": [
    "# Math\n",
    "\n",
    "# Measure 3: Funding increase/decrese from prevous school year\n",
    "\n",
    "# Measure 3: Sufficient/Insuffcient Funding\n",
    "math_funding_incr = math_pass_rate_df[math_pass_rate_df['Q3_label'] == 'increased']\n",
    "math_funding_decr = math_pass_rate_df[math_pass_rate_df['Q3_label'] == 'decreased']\n",
    "math_funding_same = math_pass_rate_df[math_pass_rate_df['Q3_label'] == 'same']\n",
    "\n",
    "#mean of each group\n",
    "math_funding_incr_mean = np.mean(math_funding_incr['level_3_4_1'])\n",
    "math_funding_decr_mean = np.mean(math_funding_decr['level_3_4_1'])\n",
    "math_funding_same_mean = np.mean(math_funding_same['level_3_4_1'])\n",
    "\n",
    "# sample size of each group\n",
    "math_funding_incr_samplesize = len(math_funding_incr['DBN'].unique())\n",
    "math_funding_decr_samplesize = len(math_funding_decr['DBN'].unique())\n",
    "math_funding_same_samplesize = len(math_funding_same['DBN'].unique())\n",
    "\n",
    "# ANOVA\n",
    "stats.f_oneway(math_funding_incr['level_3_4_1'], \n",
    "               math_funding_decr['level_3_4_1'], \n",
    "               math_funding_same['level_3_4_1'])"
   ]
  },
  {
   "cell_type": "code",
   "execution_count": 109,
   "metadata": {},
   "outputs": [
    {
     "name": "stdout",
     "output_type": "stream",
     "text": [
      "42.92181562583264\n",
      "45.07773273911363\n",
      "42.98282654250959\n",
      "344\n",
      "901\n",
      "590\n",
      "40.18648725828449\n",
      "42.459978154817705\n",
      "40.59532425470622\n",
      "343\n",
      "901\n",
      "590\n"
     ]
    }
   ],
   "source": [
    "# regardless of how I divide it, there is a statistically significant difference between \n",
    "# schools with abundant/sufficient funding as compared to those with poor funding \n",
    "# (either including or exclusing those who reported N/A for that question)\n",
    "\n",
    "print(ela_funding_incr_mean)\n",
    "print(ela_funding_same_mean)\n",
    "print(ela_funding_decr_mean)\n",
    "print(ela_funding_incr_samplesize)  # number of schools, not number of observations\n",
    "print(ela_funding_same_samplesize)\n",
    "print(ela_funding_decr_samplesize)\n",
    "\n",
    "# count of data points\n",
    "ela_pass_rate_df['Q3_label'].value_counts()\n",
    "\n",
    "print(math_funding_incr_mean)\n",
    "print(math_funding_same_mean)\n",
    "print(math_funding_decr_mean)\n",
    "print(math_funding_incr_samplesize)  # number of schools, not number of observations\n",
    "print(math_funding_same_samplesize)\n",
    "print(math_funding_decr_samplesize)"
   ]
  },
  {
   "cell_type": "code",
   "execution_count": 31,
   "metadata": {},
   "outputs": [
    {
     "data": {
      "image/png": "[encoded data removed]",
      "text/plain": [
       "<Figure size 432x288 with 1 Axes>"
      ]
     },
     "metadata": {
      "needs_background": "light"
     },
     "output_type": "display_data"
    },
    {
     "data": {
      "text/plain": [
       "<Figure size 432x288 with 0 Axes>"
      ]
     },
     "metadata": {},
     "output_type": "display_data"
    }
   ],
   "source": [
    "# Plot math and ELA \n",
    "\n",
    "labels = ['Increase', 'Same', 'Decrease']\n",
    "ela_incr_means = [ela_funding_incr_mean, \n",
    "              ela_funding_same_mean, \n",
    "              ela_funding_decr_mean]\n",
    "\n",
    "math_incr_means = [math_funding_incr_mean, \n",
    "              math_funding_same_mean, \n",
    "              math_funding_decr_mean]\n",
    "\n",
    "x = np.arange(len(labels))  # the label locations\n",
    "width = .4  # the width of the bars\n",
    "\n",
    "fig, ax = plt.subplots()\n",
    "rects1 = ax.bar(x-width/2, ela_incr_means, width, label='ELA')\n",
    "rects2 = ax.bar(x+width/2, math_incr_means, width, label='Math')\n",
    "\n",
    "ax.set_xlabel('Change in Funding')\n",
    "ax.set_ylabel('Pass Rate')\n",
    "ax.set_title('ELA and Math Pass Rate by Funding')\n",
    "ax.set_xticks(x)\n",
    "ax.set_xticklabels(labels)\n",
    "ax.legend()\n",
    "plt.ylim(0, 60)\n",
    "fig.tight_layout()\n",
    "\n",
    "# label the bars\n",
    "def autolabel(rects):\n",
    "    for rect in rects:\n",
    "        height = rect.get_height()\n",
    "        ax.text(rect.get_x() + rect.get_width()/2., 1.05*height,\n",
    "                '%d' % int(height),\n",
    "                ha='center', va='bottom')\n",
    "        \n",
    "autolabel(rects1)\n",
    "autolabel(rects2)\n",
    "\n",
    "plt.show()\n",
    "\n",
    "plt.savefig('change_in_funding.png')"
   ]
  },
  {
   "cell_type": "markdown",
   "metadata": {},
   "source": [
    "### Statistical Tests: Number of Funding Sources\n",
    "\n",
    "We compared the ELA state test scores of schools with between 0 and 7 self-reported outside funding sources. We compared the ELA scores of schools with 0-2 outside funders(*N* = 2149, *M* = 42.73), 3-5 funders (*N* = 670, *M* = 48.36), 6-7 outside funders (*N* = 43, *M* = 53.40). A one-way ANOVA indicated a statistically significant difference between funding types, *F* = 4.20, *p* = .02. Further, when the one-way ANOVA was performed with each funding level left separate (all eight levels), the results were also statistically significant. These results were not statistically signficant for math (*F* = 2.97, *p* < .001) but we did see the same trend."
   ]
  },
  {
   "cell_type": "code",
   "execution_count": 119,
   "metadata": {},
   "outputs": [
    {
     "data": {
      "text/plain": [
       "F_onewayResult(statistic=25.434753945444566, pvalue=1.1047872817150856e-11)"
      ]
     },
     "execution_count": 119,
     "metadata": {},
     "output_type": "execute_result"
    }
   ],
   "source": [
    "# create bins and run a one-way ANOVA\n",
    "\n",
    "ela_few_funders = ela_pass_rate_df[(ela_pass_rate_df['Q1_funding_sources'] == 0) | \n",
    "                                   (ela_pass_rate_df['Q1_funding_sources'] == 1) |\n",
    "                                   (ela_pass_rate_df['Q1_funding_sources'] == 2)]\n",
    "ela_mod_funders = ela_pass_rate_df[(ela_pass_rate_df['Q1_funding_sources'] == 3) | \n",
    "                                   (ela_pass_rate_df['Q1_funding_sources'] == 4) |\n",
    "                                   (ela_pass_rate_df['Q1_funding_sources'] == 5)]\n",
    "ela_many_funders = ela_pass_rate_df[(ela_pass_rate_df['Q1_funding_sources'] == 6) | \n",
    "                                   (ela_pass_rate_df['Q1_funding_sources'] == 7)]\n",
    "# ANOVA\n",
    "stats.f_oneway(ela_few_funders['level_3_4_1'], \n",
    "               ela_mod_funders['level_3_4_1'], \n",
    "               ela_many_funders['level_3_4_1'])"
   ]
  },
  {
   "cell_type": "code",
   "execution_count": 120,
   "metadata": {},
   "outputs": [
    {
     "name": "stdout",
     "output_type": "stream",
     "text": [
      "42.72995126154726\n",
      "48.35687276143729\n",
      "53.40244792255814\n",
      "2149\n",
      "670\n",
      "43\n"
     ]
    }
   ],
   "source": [
    "print(ela_few_funders['level_3_4_1'].mean())\n",
    "print(ela_mod_funders['level_3_4_1'].mean())\n",
    "print(ela_many_funders['level_3_4_1'].mean())\n",
    "print(len(ela_few_funders['level_3_4_1'].unique()))\n",
    "print(len(ela_mod_funders['level_3_4_1'].unique()))\n",
    "print(len(ela_many_funders['level_3_4_1'].unique()))"
   ]
  },
  {
   "cell_type": "code",
   "execution_count": 121,
   "metadata": {},
   "outputs": [
    {
     "data": {
      "text/plain": [
       "F_onewayResult(statistic=28.184371816920198, pvalue=7.403341089330552e-13)"
      ]
     },
     "execution_count": 121,
     "metadata": {},
     "output_type": "execute_result"
    }
   ],
   "source": [
    "# create bins and run a one-way ANOVA\n",
    "\n",
    "math_few_funders = math_pass_rate_df[(math_pass_rate_df['Q1_funding_sources'] == 0) | \n",
    "                                   (math_pass_rate_df['Q1_funding_sources'] == 1) |\n",
    "                                   (math_pass_rate_df['Q1_funding_sources'] == 2)]\n",
    "math_mod_funders = math_pass_rate_df[(math_pass_rate_df['Q1_funding_sources'] == 3) | \n",
    "                                   (math_pass_rate_df['Q1_funding_sources'] == 4) |\n",
    "                                   (math_pass_rate_df['Q1_funding_sources'] == 5)]\n",
    "math_many_funders = math_pass_rate_df[(math_pass_rate_df['Q1_funding_sources'] == 6) | \n",
    "                                   (math_pass_rate_df['Q1_funding_sources'] == 7)]\n",
    "# ANOVA\n",
    "stats.f_oneway(math_few_funders['level_3_4_1'], \n",
    "               math_mod_funders['level_3_4_1'], \n",
    "               math_many_funders['level_3_4_1'])"
   ]
  },
  {
   "cell_type": "code",
   "execution_count": 122,
   "metadata": {},
   "outputs": [
    {
     "name": "stdout",
     "output_type": "stream",
     "text": [
      "39.88607492749651\n",
      "46.686012955107834\n",
      "51.92440228165116\n",
      "2174\n",
      "673\n",
      "43\n"
     ]
    }
   ],
   "source": [
    "print(math_few_funders['level_3_4_1'].mean())\n",
    "print(math_mod_funders['level_3_4_1'].mean())\n",
    "print(math_many_funders['level_3_4_1'].mean())\n",
    "print(len(math_few_funders['level_3_4_1'].unique()))\n",
    "print(len(math_mod_funders['level_3_4_1'].unique()))\n",
    "print(len(math_many_funders['level_3_4_1'].unique()))"
   ]
  },
  {
   "cell_type": "code",
   "execution_count": 123,
   "metadata": {
    "scrolled": true
   },
   "outputs": [
    {
     "name": "stdout",
     "output_type": "stream",
     "text": [
      "Q1_funding_sources\n",
      "0    37.000910\n",
      "1    44.022331\n",
      "2    45.734348\n",
      "3    48.162791\n",
      "4    49.044045\n",
      "5    47.601830\n",
      "6    54.212154\n",
      "7    51.310708\n",
      "Name: level_3_4_1, dtype: float64\n",
      "Q1_funding_sources\n",
      "0    626\n",
      "1    985\n",
      "2    770\n",
      "3    440\n",
      "4    188\n",
      "5     58\n",
      "6     31\n",
      "7     12\n",
      "Name: level_3_4_1, dtype: int64\n"
     ]
    }
   ],
   "source": [
    "# what is the mean pass rate for those with 1-7 funding sources\n",
    "print(ela_pass_rate_df.groupby(['Q1_funding_sources']).mean()['level_3_4_1'])\n",
    "\n",
    "# what is the distribution of schools at each level of funding?\n",
    "print(ela_pass_rate_df.groupby(['Q1_funding_sources']).count()['level_3_4_1'])"
   ]
  },
  {
   "cell_type": "code",
   "execution_count": 124,
   "metadata": {},
   "outputs": [
    {
     "data": {
      "text/plain": [
       "F_onewayResult(statistic=18.003183370829085, pvalue=1.3431090500717878e-23)"
      ]
     },
     "execution_count": 124,
     "metadata": {},
     "output_type": "execute_result"
    }
   ],
   "source": [
    "# we get the same result when we don't use buckets\n",
    "\n",
    "ela_zero_funders = ela_pass_rate_df[ela_pass_rate_df['Q1_funding_sources'] == 0]\n",
    "ela_one_funder = ela_pass_rate_df[ela_pass_rate_df['Q1_funding_sources'] == 1]\n",
    "ela_two_funders = ela_pass_rate_df[ela_pass_rate_df['Q1_funding_sources'] == 2]\n",
    "ela_three_funders = ela_pass_rate_df[ela_pass_rate_df['Q1_funding_sources'] == 3]\n",
    "ela_four_funders = ela_pass_rate_df[ela_pass_rate_df['Q1_funding_sources'] == 4]\n",
    "ela_five_funders = ela_pass_rate_df[ela_pass_rate_df['Q1_funding_sources'] == 5]\n",
    "ela_six_funders = ela_pass_rate_df[ela_pass_rate_df['Q1_funding_sources'] == 6]\n",
    "ela_seven_funders = ela_pass_rate_df[ela_pass_rate_df['Q1_funding_sources'] == 7]\n",
    "\n",
    "\n",
    "# ANOVA\n",
    "stats.f_oneway(ela_zero_funders['level_3_4_1'],\n",
    "               ela_one_funder['level_3_4_1'], \n",
    "               ela_two_funders['level_3_4_1'], \n",
    "               ela_three_funders['level_3_4_1'],\n",
    "               ela_four_funders['level_3_4_1'],\n",
    "               ela_five_funders['level_3_4_1'],\n",
    "               ela_six_funders['level_3_4_1'],\n",
    "               ela_seven_funders['level_3_4_1'])"
   ]
  },
  {
   "cell_type": "code",
   "execution_count": 125,
   "metadata": {},
   "outputs": [
    {
     "data": {
      "image/png": "[encoded data removed]",
      "text/plain": [
       "<Figure size 432x288 with 1 Axes>"
      ]
     },
     "metadata": {
      "needs_background": "light"
     },
     "output_type": "display_data"
    },
    {
     "data": {
      "text/plain": [
       "<Figure size 432x288 with 0 Axes>"
      ]
     },
     "metadata": {},
     "output_type": "display_data"
    }
   ],
   "source": [
    "ela_funders = ela_zero_funders.append(\n",
    "               [ela_one_funder,\n",
    "                ela_two_funders, \n",
    "               ela_three_funders,\n",
    "               ela_four_funders,\n",
    "               ela_five_funders,\n",
    "               ela_six_funders,\n",
    "               ela_seven_funders])\n",
    "\n",
    "ela_funders.boxplot('level_3_4_1', by = 'Q1_funding_sources', meanline = False, showmeans = True)\n",
    "plt.suptitle('')\n",
    "plt.title('ELA Pass Rates by Arts Funding')\n",
    "plt.xlabel('Numer of Funding Sources')\n",
    "plt.ylabel('ELA Pass Rate')\n",
    "plt.show()\n",
    "\n",
    "plt.savefig('ela_boxplot.png')"
   ]
  },
  {
   "cell_type": "code",
   "execution_count": 126,
   "metadata": {
    "scrolled": false
   },
   "outputs": [
    {
     "name": "stdout",
     "output_type": "stream",
     "text": [
      "Q1_funding_sources\n",
      "0    33.170799\n",
      "1    41.548729\n",
      "2    43.209884\n",
      "3    46.349134\n",
      "4    48.021127\n",
      "5    44.914034\n",
      "6    52.344491\n",
      "7    50.839173\n",
      "Name: level_3_4_1, dtype: float64\n",
      "Q1_funding_sources\n",
      "0    625\n",
      "1    985\n",
      "2    770\n",
      "3    440\n",
      "4    188\n",
      "5     58\n",
      "6     31\n",
      "7     12\n",
      "Name: level_3_4_1, dtype: int64\n"
     ]
    }
   ],
   "source": [
    "# what is the mean pass rate for those with 1-7 funding sources\n",
    "print(math_pass_rate_df.groupby(['Q1_funding_sources']).mean()['level_3_4_1'])\n",
    "\n",
    "# what is the distribution of schools at each level of funding?\n",
    "print(math_pass_rate_df.groupby(['Q1_funding_sources']).count()['level_3_4_1'])"
   ]
  },
  {
   "cell_type": "code",
   "execution_count": 127,
   "metadata": {},
   "outputs": [
    {
     "data": {
      "text/plain": [
       "F_onewayResult(statistic=19.493506600366466, pvalue=1.087502142474371e-25)"
      ]
     },
     "execution_count": 127,
     "metadata": {},
     "output_type": "execute_result"
    }
   ],
   "source": [
    "# treat these levels as categorical and run a one-way ANOVA\n",
    "\n",
    "math_zero_funders = math_pass_rate_df[math_pass_rate_df['Q1_funding_sources'] == 0]\n",
    "math_one_funder = math_pass_rate_df[math_pass_rate_df['Q1_funding_sources'] == 1]\n",
    "math_two_funders = math_pass_rate_df[math_pass_rate_df['Q1_funding_sources'] == 2]\n",
    "math_three_funders = math_pass_rate_df[math_pass_rate_df['Q1_funding_sources'] == 3]\n",
    "math_four_funders = math_pass_rate_df[math_pass_rate_df['Q1_funding_sources'] == 4]\n",
    "math_five_funders = math_pass_rate_df[math_pass_rate_df['Q1_funding_sources'] == 5]\n",
    "math_six_funders = math_pass_rate_df[math_pass_rate_df['Q1_funding_sources'] == 6]\n",
    "math_seven_funders = math_pass_rate_df[math_pass_rate_df['Q1_funding_sources'] == 7]\n",
    "\n",
    "\n",
    "# ANOVA\n",
    "stats.f_oneway(math_zero_funders['level_3_4_1'],\n",
    "               math_one_funder['level_3_4_1'], \n",
    "               math_two_funders['level_3_4_1'], \n",
    "               math_three_funders['level_3_4_1'],\n",
    "               math_four_funders['level_3_4_1'],\n",
    "               math_five_funders['level_3_4_1'],\n",
    "               math_six_funders['level_3_4_1'],\n",
    "               math_seven_funders['level_3_4_1'])"
   ]
  },
  {
   "cell_type": "code",
   "execution_count": 128,
   "metadata": {},
   "outputs": [
    {
     "data": {
      "image/png": "[encoded data removed]",
      "text/plain": [
       "<Figure size 432x288 with 1 Axes>"
      ]
     },
     "metadata": {
      "needs_background": "light"
     },
     "output_type": "display_data"
    },
    {
     "data": {
      "text/plain": [
       "<Figure size 432x288 with 0 Axes>"
      ]
     },
     "metadata": {},
     "output_type": "display_data"
    }
   ],
   "source": [
    "math_funders = math_zero_funders.append(\n",
    "               [math_one_funder,\n",
    "               math_two_funders, \n",
    "               math_three_funders,\n",
    "               math_four_funders,\n",
    "               math_five_funders,\n",
    "               math_six_funders,\n",
    "               math_seven_funders])\n",
    "\n",
    "math_funders.boxplot('level_3_4_1', by = 'Q1_funding_sources', meanline = False, showmeans = True)\n",
    "plt.suptitle('')\n",
    "plt.title('Math Pass Rates by Arts Funding')\n",
    "plt.xlabel('Numer of Funding Sources')\n",
    "plt.ylabel('Math Pass Rate')\n",
    "plt.show()\n",
    "\n",
    "plt.savefig('math_boxplot.png')"
   ]
  },
  {
   "cell_type": "markdown",
   "metadata": {},
   "source": [
    "### Conclusions, Limitations, and Future Directions"
   ]
  },
  {
   "cell_type": "markdown",
   "metadata": {},
   "source": [
    "Conclusions: \n",
    "* Funding category: The more arts funding a school reported, the better the math and ELA scores were. \n",
    "* Changes in Funding: Schools also performed better when they reported that their funding remained consistent. \n",
    "* Number of Funding Sources: Finally, schools with 3 or more funders tended to perform better in both math and ELA than schools with fewer funders."
   ]
  },
  {
   "cell_type": "markdown",
   "metadata": {},
   "source": [
    "Limitaions:\n",
    "* Used only part of the dataset and were limited to years with data dictionaries\n",
    "* Self-report questionnaire\n",
    "* Categorical/ordinal variables, with nothing continuous like total funding\n",
    "* State tests are point values that may not represent student performance or school quality\n",
    "\n",
    "Future Directions:\n",
    "* Break down the funding types (is one more predictive than the others?)\n",
    "* Examine performance at the grade level"
   ]
  },
  {
   "cell_type": "code",
   "execution_count": null,
   "metadata": {},
   "outputs": [],
   "source": []
  }
 ],
 "metadata": {
  "kernelspec": {
   "display_name": "Python 3",
   "language": "python",
   "name": "python3"
  },
  "language_info": {
   "codemirror_mode": {
    "name": "ipython",
    "version": 3
   },
   "file_extension": ".py",
   "mimetype": "text/x-python",
   "name": "python",
   "nbconvert_exporter": "python",
   "pygments_lexer": "ipython3",
   "version": "3.7.4"
  }
 },
 "nbformat": 4,
 "nbformat_minor": 2
}
